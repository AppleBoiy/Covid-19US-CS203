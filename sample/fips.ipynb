{
 "cells": [
  {
   "cell_type": "code",
   "execution_count": 1,
   "id": "initial_id",
   "metadata": {
    "collapsed": true,
    "ExecuteTime": {
     "end_time": "2023-09-19T09:06:30.269188Z",
     "start_time": "2023-09-19T09:06:29.853437Z"
    }
   },
   "outputs": [],
   "source": [
    "import pandas as pd\n",
    "import numpy as np\n",
    "\n",
    "import geo_admin_lookup\n",
    "import get_fips"
   ]
  },
  {
   "cell_type": "code",
   "execution_count": 3,
   "outputs": [
    {
     "data": {
      "text/plain": "                               NAME  state  county\n0        Sebastian County, Arkansas      5     131\n1           Sevier County, Arkansas      5     133\n2            Sharp County, Arkansas      5     135\n3            Stone County, Arkansas      5     137\n4            Union County, Arkansas      5     139\n...                             ...    ...     ...\n3216   Eau Claire County, Wisconsin     55      35\n3217     Florence County, Wisconsin     55      37\n3218  Fond du Lac County, Wisconsin     55      39\n3219       Forest County, Wisconsin     55      41\n3220    Jefferson County, Wisconsin     55      55\n\n[3221 rows x 3 columns]",
      "text/html": "<div>\n<style scoped>\n    .dataframe tbody tr th:only-of-type {\n        vertical-align: middle;\n    }\n\n    .dataframe tbody tr th {\n        vertical-align: top;\n    }\n\n    .dataframe thead th {\n        text-align: right;\n    }\n</style>\n<table border=\"1\" class=\"dataframe\">\n  <thead>\n    <tr style=\"text-align: right;\">\n      <th></th>\n      <th>NAME</th>\n      <th>state</th>\n      <th>county</th>\n    </tr>\n  </thead>\n  <tbody>\n    <tr>\n      <th>0</th>\n      <td>Sebastian County, Arkansas</td>\n      <td>5</td>\n      <td>131</td>\n    </tr>\n    <tr>\n      <th>1</th>\n      <td>Sevier County, Arkansas</td>\n      <td>5</td>\n      <td>133</td>\n    </tr>\n    <tr>\n      <th>2</th>\n      <td>Sharp County, Arkansas</td>\n      <td>5</td>\n      <td>135</td>\n    </tr>\n    <tr>\n      <th>3</th>\n      <td>Stone County, Arkansas</td>\n      <td>5</td>\n      <td>137</td>\n    </tr>\n    <tr>\n      <th>4</th>\n      <td>Union County, Arkansas</td>\n      <td>5</td>\n      <td>139</td>\n    </tr>\n    <tr>\n      <th>...</th>\n      <td>...</td>\n      <td>...</td>\n      <td>...</td>\n    </tr>\n    <tr>\n      <th>3216</th>\n      <td>Eau Claire County, Wisconsin</td>\n      <td>55</td>\n      <td>35</td>\n    </tr>\n    <tr>\n      <th>3217</th>\n      <td>Florence County, Wisconsin</td>\n      <td>55</td>\n      <td>37</td>\n    </tr>\n    <tr>\n      <th>3218</th>\n      <td>Fond du Lac County, Wisconsin</td>\n      <td>55</td>\n      <td>39</td>\n    </tr>\n    <tr>\n      <th>3219</th>\n      <td>Forest County, Wisconsin</td>\n      <td>55</td>\n      <td>41</td>\n    </tr>\n    <tr>\n      <th>3220</th>\n      <td>Jefferson County, Wisconsin</td>\n      <td>55</td>\n      <td>55</td>\n    </tr>\n  </tbody>\n</table>\n<p>3221 rows × 3 columns</p>\n</div>"
     },
     "execution_count": 3,
     "metadata": {},
     "output_type": "execute_result"
    }
   ],
   "source": [
    "df = get_fips.get_data()\n",
    "df"
   ],
   "metadata": {
    "collapsed": false,
    "ExecuteTime": {
     "end_time": "2023-09-19T09:06:58.936215Z",
     "start_time": "2023-09-19T09:06:58.837187Z"
    }
   },
   "id": "843f806706b73ae"
  },
  {
   "cell_type": "code",
   "execution_count": 5,
   "outputs": [
    {
     "data": {
      "text/plain": "[{'address_components': [{'long_name': '3MXF+5H',\n    'short_name': '3MXF+5H',\n    'types': ['plus_code']},\n   {'long_name': 'Agingan',\n    'short_name': 'Agingan',\n    'types': ['locality', 'political']},\n   {'long_name': 'Saipan',\n    'short_name': 'Saipan',\n    'types': ['administrative_area_level_1', 'political']},\n   {'long_name': 'Northern Mariana Islands',\n    'short_name': 'MP',\n    'types': ['country', 'political']},\n   {'long_name': '96950', 'short_name': '96950', 'types': ['postal_code']}],\n  'formatted_address': '3MXF+5H Agingan, Saipan, CNMI',\n  'geometry': {'bounds': {'northeast': {'lat': 15.098, 'lng': 145.674},\n    'southwest': {'lat': 15.097875, 'lng': 145.673875}},\n   'location': {'lat': 15.0979, 'lng': 145.6739},\n   'location_type': 'GEOMETRIC_CENTER',\n   'viewport': {'northeast': {'lat': 15.0992864802915,\n     'lng': 145.6752864802915},\n    'southwest': {'lat': 15.0965885197085, 'lng': 145.6725885197085}}},\n  'place_id': 'GhIJio7k8h8yLkARyJi7lpA1YkA',\n  'plus_code': {'compound_code': '3MXF+5H Agingan, Saipan, CNMI',\n   'global_code': '7R773MXF+5H'},\n  'types': ['plus_code']},\n {'address_components': [{'long_name': 'Northern Mariana Islands',\n    'short_name': 'MP',\n    'types': ['country', 'political']}],\n  'formatted_address': 'Northern Mariana Islands',\n  'geometry': {'bounds': {'northeast': {'lat': 20.6584862, 'lng': 146.2060546},\n    'southwest': {'lat': 13.9713848, 'lng': 144.7668457}},\n   'location': {'lat': 15.0979, 'lng': 145.6739},\n   'location_type': 'APPROXIMATE',\n   'viewport': {'northeast': {'lat': 20.6584862, 'lng': 146.2060546},\n    'southwest': {'lat': 13.9713848, 'lng': 144.7668457}}},\n  'place_id': 'ChIJUVyZkDSx2GYRMg46fKvrt50',\n  'types': ['country', 'political']}]"
     },
     "execution_count": 5,
     "metadata": {},
     "output_type": "execute_result"
    }
   ],
   "source": [
    "pos = (15.0979, 145.6739)\n",
    "geo_admin_lookup.get_response(*pos)"
   ],
   "metadata": {
    "collapsed": false,
    "ExecuteTime": {
     "end_time": "2023-09-19T09:09:40.868666Z",
     "start_time": "2023-09-19T09:09:40.682444Z"
    }
   },
   "id": "378e4fcd30d0ae38"
  },
  {
   "cell_type": "markdown",
   "source": [],
   "metadata": {
    "collapsed": false
   },
   "id": "defdca4a334ab889"
  },
  {
   "cell_type": "code",
   "execution_count": null,
   "outputs": [],
   "source": [],
   "metadata": {
    "collapsed": false
   },
   "id": "10b2a91661e76194"
  }
 ],
 "metadata": {
  "kernelspec": {
   "display_name": "Python 3",
   "language": "python",
   "name": "python3"
  },
  "language_info": {
   "codemirror_mode": {
    "name": "ipython",
    "version": 2
   },
   "file_extension": ".py",
   "mimetype": "text/x-python",
   "name": "python",
   "nbconvert_exporter": "python",
   "pygments_lexer": "ipython2",
   "version": "2.7.6"
  }
 },
 "nbformat": 4,
 "nbformat_minor": 5
}
