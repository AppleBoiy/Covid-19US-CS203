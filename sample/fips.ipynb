{
 "cells": [
  {
   "cell_type": "code",
   "execution_count": 3,
   "id": "initial_id",
   "metadata": {
    "collapsed": true,
    "ExecuteTime": {
     "end_time": "2023-09-22T18:57:25.025058Z",
     "start_time": "2023-09-22T18:57:23.851926Z"
    }
   },
   "outputs": [],
   "source": [
    "from src.api import get_data, geo_admin_lookup"
   ]
  },
  {
   "cell_type": "code",
   "execution_count": 4,
   "outputs": [
    {
     "data": {
      "text/plain": "                         NAME  state  county\n0  Sebastian County, Arkansas      5     131\n1     Sevier County, Arkansas      5     133\n2      Sharp County, Arkansas      5     135\n3      Stone County, Arkansas      5     137\n4      Union County, Arkansas      5     139",
      "text/html": "<div>\n<style scoped>\n    .dataframe tbody tr th:only-of-type {\n        vertical-align: middle;\n    }\n\n    .dataframe tbody tr th {\n        vertical-align: top;\n    }\n\n    .dataframe thead th {\n        text-align: right;\n    }\n</style>\n<table border=\"1\" class=\"dataframe\">\n  <thead>\n    <tr style=\"text-align: right;\">\n      <th></th>\n      <th>NAME</th>\n      <th>state</th>\n      <th>county</th>\n    </tr>\n  </thead>\n  <tbody>\n    <tr>\n      <th>0</th>\n      <td>Sebastian County, Arkansas</td>\n      <td>5</td>\n      <td>131</td>\n    </tr>\n    <tr>\n      <th>1</th>\n      <td>Sevier County, Arkansas</td>\n      <td>5</td>\n      <td>133</td>\n    </tr>\n    <tr>\n      <th>2</th>\n      <td>Sharp County, Arkansas</td>\n      <td>5</td>\n      <td>135</td>\n    </tr>\n    <tr>\n      <th>3</th>\n      <td>Stone County, Arkansas</td>\n      <td>5</td>\n      <td>137</td>\n    </tr>\n    <tr>\n      <th>4</th>\n      <td>Union County, Arkansas</td>\n      <td>5</td>\n      <td>139</td>\n    </tr>\n  </tbody>\n</table>\n</div>"
     },
     "execution_count": 4,
     "metadata": {},
     "output_type": "execute_result"
    }
   ],
   "source": [
    "df = get_data(file='../data/country_fips.csv')\n",
    "df.head()"
   ],
   "metadata": {
    "collapsed": false,
    "ExecuteTime": {
     "end_time": "2023-09-22T18:57:25.053805Z",
     "start_time": "2023-09-22T18:57:25.029935Z"
    }
   },
   "id": "843f806706b73ae"
  },
  {
   "cell_type": "code",
   "execution_count": 6,
   "outputs": [
    {
     "name": "stdout",
     "output_type": "stream",
     "text": [
      "{'plus_code': {'compound_code': '3MXF+5H2 Agingan, Saipan, CNMI', 'global_code': '7R773MXF+5H2'}, 'results': [{'address_components': [{'long_name': '3MXF+5H', 'short_name': '3MXF+5H', 'types': ['plus_code']}, {'long_name': 'Agingan', 'short_name': 'Agingan', 'types': ['locality', 'political']}, {'long_name': 'Saipan', 'short_name': 'Saipan', 'types': ['administrative_area_level_1', 'political']}, {'long_name': 'Northern Mariana Islands', 'short_name': 'MP', 'types': ['country', 'political']}, {'long_name': '96950', 'short_name': '96950', 'types': ['postal_code']}], 'formatted_address': '3MXF+5H Agingan, Saipan, CNMI', 'geometry': {'bounds': {'northeast': {'lat': 15.098, 'lng': 145.674}, 'southwest': {'lat': 15.097875, 'lng': 145.673875}}, 'location': {'lat': 15.0979, 'lng': 145.6739}, 'location_type': 'GEOMETRIC_CENTER', 'viewport': {'northeast': {'lat': 15.0992864802915, 'lng': 145.6752864802915}, 'southwest': {'lat': 15.0965885197085, 'lng': 145.6725885197085}}}, 'place_id': 'GhIJio7k8h8yLkARyJi7lpA1YkA', 'plus_code': {'compound_code': '3MXF+5H Agingan, Saipan, CNMI', 'global_code': '7R773MXF+5H'}, 'types': ['plus_code']}, {'address_components': [{'long_name': 'Northern Mariana Islands', 'short_name': 'MP', 'types': ['country', 'political']}], 'formatted_address': 'Northern Mariana Islands', 'geometry': {'bounds': {'northeast': {'lat': 20.6584862, 'lng': 146.2060546}, 'southwest': {'lat': 13.9713848, 'lng': 144.7668457}}, 'location': {'lat': 15.0979, 'lng': 145.6739}, 'location_type': 'APPROXIMATE', 'viewport': {'northeast': {'lat': 20.6584862, 'lng': 146.2060546}, 'southwest': {'lat': 13.9713848, 'lng': 144.7668457}}}, 'place_id': 'ChIJUVyZkDSx2GYRMg46fKvrt50', 'types': ['country', 'political']}], 'status': 'OK'}\n"
     ]
    },
    {
     "data": {
      "text/plain": "[{'address_components': [{'long_name': '3MXF+5H',\n    'short_name': '3MXF+5H',\n    'types': ['plus_code']},\n   {'long_name': 'Agingan',\n    'short_name': 'Agingan',\n    'types': ['locality', 'political']},\n   {'long_name': 'Saipan',\n    'short_name': 'Saipan',\n    'types': ['administrative_area_level_1', 'political']},\n   {'long_name': 'Northern Mariana Islands',\n    'short_name': 'MP',\n    'types': ['country', 'political']},\n   {'long_name': '96950', 'short_name': '96950', 'types': ['postal_code']}],\n  'formatted_address': '3MXF+5H Agingan, Saipan, CNMI',\n  'geometry': {'bounds': {'northeast': {'lat': 15.098, 'lng': 145.674},\n    'southwest': {'lat': 15.097875, 'lng': 145.673875}},\n   'location': {'lat': 15.0979, 'lng': 145.6739},\n   'location_type': 'GEOMETRIC_CENTER',\n   'viewport': {'northeast': {'lat': 15.0992864802915,\n     'lng': 145.6752864802915},\n    'southwest': {'lat': 15.0965885197085, 'lng': 145.6725885197085}}},\n  'place_id': 'GhIJio7k8h8yLkARyJi7lpA1YkA',\n  'plus_code': {'compound_code': '3MXF+5H Agingan, Saipan, CNMI',\n   'global_code': '7R773MXF+5H'},\n  'types': ['plus_code']},\n {'address_components': [{'long_name': 'Northern Mariana Islands',\n    'short_name': 'MP',\n    'types': ['country', 'political']}],\n  'formatted_address': 'Northern Mariana Islands',\n  'geometry': {'bounds': {'northeast': {'lat': 20.6584862, 'lng': 146.2060546},\n    'southwest': {'lat': 13.9713848, 'lng': 144.7668457}},\n   'location': {'lat': 15.0979, 'lng': 145.6739},\n   'location_type': 'APPROXIMATE',\n   'viewport': {'northeast': {'lat': 20.6584862, 'lng': 146.2060546},\n    'southwest': {'lat': 13.9713848, 'lng': 144.7668457}}},\n  'place_id': 'ChIJUVyZkDSx2GYRMg46fKvrt50',\n  'types': ['country', 'political']}]"
     },
     "execution_count": 6,
     "metadata": {},
     "output_type": "execute_result"
    }
   ],
   "source": [
    "pos = (15.0979, 145.6739)\n",
    "geo_admin_lookup.get_response(*pos)"
   ],
   "metadata": {
    "collapsed": false,
    "ExecuteTime": {
     "end_time": "2023-09-22T18:58:31.685398Z",
     "start_time": "2023-09-22T18:58:30.969955Z"
    }
   },
   "id": "378e4fcd30d0ae38"
  }
 ],
 "metadata": {
  "kernelspec": {
   "display_name": "Python 3",
   "language": "python",
   "name": "python3"
  },
  "language_info": {
   "codemirror_mode": {
    "name": "ipython",
    "version": 2
   },
   "file_extension": ".py",
   "mimetype": "text/x-python",
   "name": "python",
   "nbconvert_exporter": "python",
   "pygments_lexer": "ipython2",
   "version": "2.7.6"
  }
 },
 "nbformat": 4,
 "nbformat_minor": 5
}
