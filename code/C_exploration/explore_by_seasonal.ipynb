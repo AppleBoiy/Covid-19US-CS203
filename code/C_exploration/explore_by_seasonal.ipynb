{
 "cells": [
  {
   "cell_type": "code",
   "execution_count": 20,
   "id": "initial_id",
   "metadata": {
    "collapsed": true,
    "ExecuteTime": {
     "end_time": "2023-10-10T18:47:54.728361Z",
     "start_time": "2023-10-10T18:47:51.860648Z"
    }
   },
   "outputs": [],
   "source": [
    "import pandas as pd\n",
    "\n",
    "from format_data import format_type\n",
    "\n",
    "df = pd.read_csv(\"../../data/clean_data.csv\")\n",
    "format_type(df)"
   ]
  },
  {
   "cell_type": "code",
   "execution_count": 21,
   "outputs": [
    {
     "data": {
      "text/plain": "count                          2301690\nmean     2021-02-28 12:00:00.000000512\nmin                2020-03-01 00:00:00\n25%                2020-08-30 00:00:00\n50%                2021-02-28 12:00:00\n75%                2021-08-30 00:00:00\nmax                2022-02-28 00:00:00\nName: date, dtype: object"
     },
     "execution_count": 21,
     "metadata": {},
     "output_type": "execute_result"
    }
   ],
   "source": [
    "df[\"date\"].describe()"
   ],
   "metadata": {
    "collapsed": false,
    "ExecuteTime": {
     "end_time": "2023-10-10T18:47:54.765466Z",
     "start_time": "2023-10-10T18:47:54.726838Z"
    }
   },
   "id": "6444ea25c0f3315"
  },
  {
   "cell_type": "code",
   "execution_count": 22,
   "outputs": [
    {
     "data": {
      "text/plain": "50"
     },
     "execution_count": 22,
     "metadata": {},
     "output_type": "execute_result"
    }
   ],
   "source": [
    "df[\"state\"].nunique()"
   ],
   "metadata": {
    "collapsed": false,
    "ExecuteTime": {
     "end_time": "2023-10-10T18:47:54.832372Z",
     "start_time": "2023-10-10T18:47:54.759027Z"
    }
   },
   "id": "566051e45f11316e"
  },
  {
   "cell_type": "code",
   "execution_count": 23,
   "outputs": [
    {
     "data": {
      "text/plain": "         date     FIPS      lat      lon    state     abbr  location    cases  \\\ndate                                                                            \n2020   964818   964818   964818   964818   964818   964818    964818   964818   \n2021  1150845  1150845  1150845  1150845  1150845  1150845   1150845  1150845   \n2022   186027   186027   186027   186027   186027   186027    186027   186027   \n\n        death     year  \ndate                    \n2020   964818   964818  \n2021  1150845  1150845  \n2022   186027   186027  ",
      "text/html": "<div>\n<style scoped>\n    .dataframe tbody tr th:only-of-type {\n        vertical-align: middle;\n    }\n\n    .dataframe tbody tr th {\n        vertical-align: top;\n    }\n\n    .dataframe thead th {\n        text-align: right;\n    }\n</style>\n<table border=\"1\" class=\"dataframe\">\n  <thead>\n    <tr style=\"text-align: right;\">\n      <th></th>\n      <th>date</th>\n      <th>FIPS</th>\n      <th>lat</th>\n      <th>lon</th>\n      <th>state</th>\n      <th>abbr</th>\n      <th>location</th>\n      <th>cases</th>\n      <th>death</th>\n      <th>year</th>\n    </tr>\n    <tr>\n      <th>date</th>\n      <th></th>\n      <th></th>\n      <th></th>\n      <th></th>\n      <th></th>\n      <th></th>\n      <th></th>\n      <th></th>\n      <th></th>\n      <th></th>\n    </tr>\n  </thead>\n  <tbody>\n    <tr>\n      <th>2020</th>\n      <td>964818</td>\n      <td>964818</td>\n      <td>964818</td>\n      <td>964818</td>\n      <td>964818</td>\n      <td>964818</td>\n      <td>964818</td>\n      <td>964818</td>\n      <td>964818</td>\n      <td>964818</td>\n    </tr>\n    <tr>\n      <th>2021</th>\n      <td>1150845</td>\n      <td>1150845</td>\n      <td>1150845</td>\n      <td>1150845</td>\n      <td>1150845</td>\n      <td>1150845</td>\n      <td>1150845</td>\n      <td>1150845</td>\n      <td>1150845</td>\n      <td>1150845</td>\n    </tr>\n    <tr>\n      <th>2022</th>\n      <td>186027</td>\n      <td>186027</td>\n      <td>186027</td>\n      <td>186027</td>\n      <td>186027</td>\n      <td>186027</td>\n      <td>186027</td>\n      <td>186027</td>\n      <td>186027</td>\n      <td>186027</td>\n    </tr>\n  </tbody>\n</table>\n</div>"
     },
     "execution_count": 23,
     "metadata": {},
     "output_type": "execute_result"
    }
   ],
   "source": [
    "# group data by year\n",
    "df.groupby(df[\"date\"].dt.year).count()"
   ],
   "metadata": {
    "collapsed": false,
    "ExecuteTime": {
     "end_time": "2023-10-10T18:47:55.093889Z",
     "start_time": "2023-10-10T18:47:54.831391Z"
    }
   },
   "id": "b0272b4da7279fcc"
  },
  {
   "cell_type": "markdown",
   "source": [
    "from data preparation we will group it by season, how?"
   ],
   "metadata": {
    "collapsed": false
   },
   "id": "69e601acb6eead37"
  },
  {
   "cell_type": "code",
   "execution_count": 24,
   "outputs": [],
   "source": [
    "season_cat = {\n",
    "    \"spring1\": pd.date_range(start=\"2020-03-01\", end=\"2020-05-31\"),\n",
    "    \"summer1\": pd.date_range(start=\"2020-06-01\", end=\"2020-08-31\"),\n",
    "    \"fall1\": pd.date_range(start=\"2020-09-01\", end=\"2020-11-30\"),\n",
    "    \"winter1\": pd.date_range(start=\"2020-12-01\", end=\"2021-02-28\"),\n",
    "    \"spring2\": pd.date_range(start=\"2021-03-01\", end=\"2021-05-31\"),\n",
    "    \"summer2\": pd.date_range(start=\"2021-06-01\", end=\"2021-08-31\"),\n",
    "    \"fall2\": pd.date_range(start=\"2021-09-01\", end=\"2021-11-30\"),\n",
    "    \"winter2\": pd.date_range(start=\"2021-12-01\", end=\"2022-02-28\"),\n",
    "}  # we will use this to group data by season\n",
    "\n",
    "# add season column\n",
    "df[\"season\"] = df[\"date\"].apply(\n",
    "    lambda x: [k for k, v in season_cat.items() if x in v][0]\n",
    ")"
   ],
   "metadata": {
    "collapsed": false,
    "ExecuteTime": {
     "end_time": "2023-10-10T18:49:00.390838Z",
     "start_time": "2023-10-10T18:47:55.112123Z"
    }
   },
   "id": "22a2fb4f4a5b4c36"
  },
  {
   "cell_type": "code",
   "execution_count": 25,
   "outputs": [
    {
     "data": {
      "text/plain": "           date    FIPS     lat     lon   state    abbr  location   cases  \\\nseason                                                                      \nfall1    286923  286923  286923  286923  286923  286923    286923  286923   \nfall2    286923  286923  286923  286923  286923  286923    286923  286923   \nspring1  290076  290076  290076  290076  290076  290076    290076  290076   \nspring2  290076  290076  290076  290076  290076  290076    290076  290076   \nsummer1  290076  290076  290076  290076  290076  290076    290076  290076   \nsummer2  290076  290076  290076  290076  290076  290076    290076  290076   \nwinter1  283770  283770  283770  283770  283770  283770    283770  283770   \nwinter2  283770  283770  283770  283770  283770  283770    283770  283770   \n\n          death    year  \nseason                   \nfall1    286923  286923  \nfall2    286923  286923  \nspring1  290076  290076  \nspring2  290076  290076  \nsummer1  290076  290076  \nsummer2  290076  290076  \nwinter1  283770  283770  \nwinter2  283770  283770  ",
      "text/html": "<div>\n<style scoped>\n    .dataframe tbody tr th:only-of-type {\n        vertical-align: middle;\n    }\n\n    .dataframe tbody tr th {\n        vertical-align: top;\n    }\n\n    .dataframe thead th {\n        text-align: right;\n    }\n</style>\n<table border=\"1\" class=\"dataframe\">\n  <thead>\n    <tr style=\"text-align: right;\">\n      <th></th>\n      <th>date</th>\n      <th>FIPS</th>\n      <th>lat</th>\n      <th>lon</th>\n      <th>state</th>\n      <th>abbr</th>\n      <th>location</th>\n      <th>cases</th>\n      <th>death</th>\n      <th>year</th>\n    </tr>\n    <tr>\n      <th>season</th>\n      <th></th>\n      <th></th>\n      <th></th>\n      <th></th>\n      <th></th>\n      <th></th>\n      <th></th>\n      <th></th>\n      <th></th>\n      <th></th>\n    </tr>\n  </thead>\n  <tbody>\n    <tr>\n      <th>fall1</th>\n      <td>286923</td>\n      <td>286923</td>\n      <td>286923</td>\n      <td>286923</td>\n      <td>286923</td>\n      <td>286923</td>\n      <td>286923</td>\n      <td>286923</td>\n      <td>286923</td>\n      <td>286923</td>\n    </tr>\n    <tr>\n      <th>fall2</th>\n      <td>286923</td>\n      <td>286923</td>\n      <td>286923</td>\n      <td>286923</td>\n      <td>286923</td>\n      <td>286923</td>\n      <td>286923</td>\n      <td>286923</td>\n      <td>286923</td>\n      <td>286923</td>\n    </tr>\n    <tr>\n      <th>spring1</th>\n      <td>290076</td>\n      <td>290076</td>\n      <td>290076</td>\n      <td>290076</td>\n      <td>290076</td>\n      <td>290076</td>\n      <td>290076</td>\n      <td>290076</td>\n      <td>290076</td>\n      <td>290076</td>\n    </tr>\n    <tr>\n      <th>spring2</th>\n      <td>290076</td>\n      <td>290076</td>\n      <td>290076</td>\n      <td>290076</td>\n      <td>290076</td>\n      <td>290076</td>\n      <td>290076</td>\n      <td>290076</td>\n      <td>290076</td>\n      <td>290076</td>\n    </tr>\n    <tr>\n      <th>summer1</th>\n      <td>290076</td>\n      <td>290076</td>\n      <td>290076</td>\n      <td>290076</td>\n      <td>290076</td>\n      <td>290076</td>\n      <td>290076</td>\n      <td>290076</td>\n      <td>290076</td>\n      <td>290076</td>\n    </tr>\n    <tr>\n      <th>summer2</th>\n      <td>290076</td>\n      <td>290076</td>\n      <td>290076</td>\n      <td>290076</td>\n      <td>290076</td>\n      <td>290076</td>\n      <td>290076</td>\n      <td>290076</td>\n      <td>290076</td>\n      <td>290076</td>\n    </tr>\n    <tr>\n      <th>winter1</th>\n      <td>283770</td>\n      <td>283770</td>\n      <td>283770</td>\n      <td>283770</td>\n      <td>283770</td>\n      <td>283770</td>\n      <td>283770</td>\n      <td>283770</td>\n      <td>283770</td>\n      <td>283770</td>\n    </tr>\n    <tr>\n      <th>winter2</th>\n      <td>283770</td>\n      <td>283770</td>\n      <td>283770</td>\n      <td>283770</td>\n      <td>283770</td>\n      <td>283770</td>\n      <td>283770</td>\n      <td>283770</td>\n      <td>283770</td>\n      <td>283770</td>\n    </tr>\n  </tbody>\n</table>\n</div>"
     },
     "execution_count": 25,
     "metadata": {},
     "output_type": "execute_result"
    }
   ],
   "source": [
    "df.groupby(\"season\").count()"
   ],
   "metadata": {
    "collapsed": false,
    "ExecuteTime": {
     "end_time": "2023-10-10T18:49:00.749076Z",
     "start_time": "2023-10-10T18:49:00.401937Z"
    }
   },
   "id": "b45d8fdafc8b7de"
  },
  {
   "cell_type": "markdown",
   "source": [
    "***we can see that each season almost has the same number of data, so we can use this to group data by season***"
   ],
   "metadata": {
    "collapsed": false
   },
   "id": "11e48ffdb0d32eef"
  },
  {
   "cell_type": "markdown",
   "source": [
    "### What is actually data we use?\n",
    "\n",
    "FIPS, we not use it because we already have state column\n",
    "lat, lon we not use it because it too specific and we already have state column"
   ],
   "metadata": {
    "collapsed": false
   },
   "id": "618785e84dd139f1"
  },
  {
   "cell_type": "code",
   "execution_count": 26,
   "outputs": [],
   "source": [
    "df.drop(columns=[\"year\", \"FIPS\", \"lat\", \"lon\"], inplace=True)"
   ],
   "metadata": {
    "collapsed": false,
    "ExecuteTime": {
     "end_time": "2023-10-10T18:49:26.380620Z",
     "start_time": "2023-10-10T18:49:26.172004Z"
    }
   },
   "id": "92aa6987c8689415"
  },
  {
   "cell_type": "code",
   "execution_count": 27,
   "outputs": [
    {
     "data": {
      "text/plain": "                date           state abbr  location  cases  death   season\nid                                                                        \nNY0000000 2020-06-22        New York   NY   Suffolk  41010   1965  summer1\nNY0000001 2020-06-22        New York   NY  Sullivan   1438     45  summer1\nNC0000002 2020-06-22  North Carolina   NC    Onslow    221      3  summer1\nND0000003 2020-06-22    North Dakota   ND     Adams      0      0  summer1\nOH0000004 2020-06-22            Ohio   OH   Hancock     63      5  summer1",
      "text/html": "<div>\n<style scoped>\n    .dataframe tbody tr th:only-of-type {\n        vertical-align: middle;\n    }\n\n    .dataframe tbody tr th {\n        vertical-align: top;\n    }\n\n    .dataframe thead th {\n        text-align: right;\n    }\n</style>\n<table border=\"1\" class=\"dataframe\">\n  <thead>\n    <tr style=\"text-align: right;\">\n      <th></th>\n      <th>date</th>\n      <th>state</th>\n      <th>abbr</th>\n      <th>location</th>\n      <th>cases</th>\n      <th>death</th>\n      <th>season</th>\n    </tr>\n    <tr>\n      <th>id</th>\n      <th></th>\n      <th></th>\n      <th></th>\n      <th></th>\n      <th></th>\n      <th></th>\n      <th></th>\n    </tr>\n  </thead>\n  <tbody>\n    <tr>\n      <th>NY0000000</th>\n      <td>2020-06-22</td>\n      <td>New York</td>\n      <td>NY</td>\n      <td>Suffolk</td>\n      <td>41010</td>\n      <td>1965</td>\n      <td>summer1</td>\n    </tr>\n    <tr>\n      <th>NY0000001</th>\n      <td>2020-06-22</td>\n      <td>New York</td>\n      <td>NY</td>\n      <td>Sullivan</td>\n      <td>1438</td>\n      <td>45</td>\n      <td>summer1</td>\n    </tr>\n    <tr>\n      <th>NC0000002</th>\n      <td>2020-06-22</td>\n      <td>North Carolina</td>\n      <td>NC</td>\n      <td>Onslow</td>\n      <td>221</td>\n      <td>3</td>\n      <td>summer1</td>\n    </tr>\n    <tr>\n      <th>ND0000003</th>\n      <td>2020-06-22</td>\n      <td>North Dakota</td>\n      <td>ND</td>\n      <td>Adams</td>\n      <td>0</td>\n      <td>0</td>\n      <td>summer1</td>\n    </tr>\n    <tr>\n      <th>OH0000004</th>\n      <td>2020-06-22</td>\n      <td>Ohio</td>\n      <td>OH</td>\n      <td>Hancock</td>\n      <td>63</td>\n      <td>5</td>\n      <td>summer1</td>\n    </tr>\n  </tbody>\n</table>\n</div>"
     },
     "execution_count": 27,
     "metadata": {},
     "output_type": "execute_result"
    }
   ],
   "source": [
    "df.head()"
   ],
   "metadata": {
    "collapsed": false,
    "ExecuteTime": {
     "end_time": "2023-10-10T18:49:34.154452Z",
     "start_time": "2023-10-10T18:49:34.056363Z"
    }
   },
   "id": "55ff3df7d48207f1"
  },
  {
   "cell_type": "markdown",
   "source": [
    "### Why we save it to separate file by season?\n",
    "\n",
    "classifiers will be make shorter to read and easier to understand (prevent overfitting)"
   ],
   "metadata": {
    "collapsed": false
   },
   "id": "69586a9fba0b73f8"
  },
  {
   "cell_type": "code",
   "execution_count": 29,
   "outputs": [],
   "source": [
    "# save it to separate file by season\n",
    "\n",
    "for season in season_cat.keys():\n",
    "    df[df[\"season\"] == season].to_csv(f\"data/{season}.csv\")"
   ],
   "metadata": {
    "collapsed": false,
    "ExecuteTime": {
     "end_time": "2023-10-10T18:52:26.717872Z",
     "start_time": "2023-10-10T18:52:23.144389Z"
    }
   },
   "id": "a623dd07857e3a9f"
  },
  {
   "cell_type": "code",
   "execution_count": 7,
   "outputs": [],
   "source": [],
   "metadata": {
    "collapsed": false,
    "ExecuteTime": {
     "end_time": "2023-10-10T16:29:58.273011Z",
     "start_time": "2023-10-10T16:29:58.271326Z"
    }
   },
   "id": "fdfbfe85c55a6b4c"
  }
 ],
 "metadata": {
  "kernelspec": {
   "display_name": "Python 3",
   "language": "python",
   "name": "python3"
  },
  "language_info": {
   "codemirror_mode": {
    "name": "ipython",
    "version": 2
   },
   "file_extension": ".py",
   "mimetype": "text/x-python",
   "name": "python",
   "nbconvert_exporter": "python",
   "pygments_lexer": "ipython2",
   "version": "2.7.6"
  }
 },
 "nbformat": 4,
 "nbformat_minor": 5
}
