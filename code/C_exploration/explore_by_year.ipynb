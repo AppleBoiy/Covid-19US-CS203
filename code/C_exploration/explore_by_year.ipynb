{
 "cells": [
  {
   "cell_type": "code",
   "execution_count": 1,
   "id": "initial_id",
   "metadata": {
    "collapsed": true,
    "ExecuteTime": {
     "end_time": "2023-10-10T10:09:34.022140Z",
     "start_time": "2023-10-10T10:09:32.098235Z"
    }
   },
   "outputs": [],
   "source": [
    "import pandas as pd\n",
    "\n",
    "df = pd.read_csv('../../data/clean_data.csv')"
   ]
  },
  {
   "cell_type": "code",
   "execution_count": 2,
   "outputs": [
    {
     "name": "stdout",
     "output_type": "stream",
     "text": [
      "<class 'pandas.core.frame.DataFrame'>\n",
      "RangeIndex: 2338190 entries, 0 to 2338189\n",
      "Data columns (total 10 columns):\n",
      " #   Column                      Dtype  \n",
      "---  ------                      -----  \n",
      " 0   id                          object \n",
      " 1   Date                        object \n",
      " 2   FIPS                        float64\n",
      " 3   lat                         float64\n",
      " 4   lon                         float64\n",
      " 5   State                       object \n",
      " 6   Abbr                        object \n",
      " 7   City/County/Borough/Region  object \n",
      " 8   infected total              int64  \n",
      " 9   death total                 int64  \n",
      "dtypes: float64(3), int64(2), object(5)\n",
      "memory usage: 178.4+ MB\n"
     ]
    }
   ],
   "source": [
    "df.info()"
   ],
   "metadata": {
    "collapsed": false,
    "ExecuteTime": {
     "end_time": "2023-10-10T10:09:34.035471Z",
     "start_time": "2023-10-10T10:09:34.021029Z"
    }
   },
   "id": "af0fbe6ecba07a8"
  },
  {
   "cell_type": "code",
   "execution_count": 3,
   "outputs": [
    {
     "data": {
      "text/plain": "          id        Date     FIPS        lat         lon           State Abbr  \\\n0  NY0000000  2020-06-22  36103.0  40.883201  -72.801217        New York   NY   \n1  NY0000001  2020-06-22  36105.0  41.715795  -74.763946        New York   NY   \n2  NC0000002  2020-06-22  37133.0  34.726074  -77.429082  North Carolina   NC   \n3  ND0000003  2020-06-22  38001.0  46.096869 -102.528540    North Dakota   ND   \n4  OH0000004  2020-06-22  39063.0  41.002505  -83.668389            Ohio   OH   \n\n  City/County/Borough/Region  infected total  death total  \n0                    Suffolk           41010         1965  \n1                   Sullivan            1438           45  \n2                     Onslow             221            3  \n3                      Adams               0            0  \n4                    Hancock              63            5  ",
      "text/html": "<div>\n<style scoped>\n    .dataframe tbody tr th:only-of-type {\n        vertical-align: middle;\n    }\n\n    .dataframe tbody tr th {\n        vertical-align: top;\n    }\n\n    .dataframe thead th {\n        text-align: right;\n    }\n</style>\n<table border=\"1\" class=\"dataframe\">\n  <thead>\n    <tr style=\"text-align: right;\">\n      <th></th>\n      <th>id</th>\n      <th>Date</th>\n      <th>FIPS</th>\n      <th>lat</th>\n      <th>lon</th>\n      <th>State</th>\n      <th>Abbr</th>\n      <th>City/County/Borough/Region</th>\n      <th>infected total</th>\n      <th>death total</th>\n    </tr>\n  </thead>\n  <tbody>\n    <tr>\n      <th>0</th>\n      <td>NY0000000</td>\n      <td>2020-06-22</td>\n      <td>36103.0</td>\n      <td>40.883201</td>\n      <td>-72.801217</td>\n      <td>New York</td>\n      <td>NY</td>\n      <td>Suffolk</td>\n      <td>41010</td>\n      <td>1965</td>\n    </tr>\n    <tr>\n      <th>1</th>\n      <td>NY0000001</td>\n      <td>2020-06-22</td>\n      <td>36105.0</td>\n      <td>41.715795</td>\n      <td>-74.763946</td>\n      <td>New York</td>\n      <td>NY</td>\n      <td>Sullivan</td>\n      <td>1438</td>\n      <td>45</td>\n    </tr>\n    <tr>\n      <th>2</th>\n      <td>NC0000002</td>\n      <td>2020-06-22</td>\n      <td>37133.0</td>\n      <td>34.726074</td>\n      <td>-77.429082</td>\n      <td>North Carolina</td>\n      <td>NC</td>\n      <td>Onslow</td>\n      <td>221</td>\n      <td>3</td>\n    </tr>\n    <tr>\n      <th>3</th>\n      <td>ND0000003</td>\n      <td>2020-06-22</td>\n      <td>38001.0</td>\n      <td>46.096869</td>\n      <td>-102.528540</td>\n      <td>North Dakota</td>\n      <td>ND</td>\n      <td>Adams</td>\n      <td>0</td>\n      <td>0</td>\n    </tr>\n    <tr>\n      <th>4</th>\n      <td>OH0000004</td>\n      <td>2020-06-22</td>\n      <td>39063.0</td>\n      <td>41.002505</td>\n      <td>-83.668389</td>\n      <td>Ohio</td>\n      <td>OH</td>\n      <td>Hancock</td>\n      <td>63</td>\n      <td>5</td>\n    </tr>\n  </tbody>\n</table>\n</div>"
     },
     "execution_count": 3,
     "metadata": {},
     "output_type": "execute_result"
    }
   ],
   "source": [
    "df.head()"
   ],
   "metadata": {
    "collapsed": false,
    "ExecuteTime": {
     "end_time": "2023-10-10T10:09:34.044067Z",
     "start_time": "2023-10-10T10:09:34.035814Z"
    }
   },
   "id": "cbdd9817d9bae260"
  },
  {
   "cell_type": "code",
   "execution_count": 4,
   "outputs": [],
   "source": [
    "from data_handler import format_type"
   ],
   "metadata": {
    "collapsed": false,
    "ExecuteTime": {
     "end_time": "2023-10-10T10:09:34.078480Z",
     "start_time": "2023-10-10T10:09:34.043899Z"
    }
   },
   "id": "862c1546db567a91"
  },
  {
   "cell_type": "code",
   "execution_count": 5,
   "outputs": [],
   "source": [
    "format_type(df)"
   ],
   "metadata": {
    "collapsed": false,
    "ExecuteTime": {
     "end_time": "2023-10-10T10:09:35.115860Z",
     "start_time": "2023-10-10T10:09:34.047161Z"
    }
   },
   "id": "fde917ea9887151f"
  },
  {
   "cell_type": "code",
   "execution_count": 6,
   "outputs": [
    {
     "data": {
      "text/plain": "                Date   FIPS        lat         lon           State Abbr  \\\nid                                                                        \nNY0000000 2020-06-22  36103  40.883201  -72.801217        New York   NY   \nNY0000001 2020-06-22  36105  41.715795  -74.763946        New York   NY   \nNC0000002 2020-06-22  37133  34.726074  -77.429082  North Carolina   NC   \nND0000003 2020-06-22  38001  46.096869 -102.528540    North Dakota   ND   \nOH0000004 2020-06-22  39063  41.002505  -83.668389            Ohio   OH   \n\n          City/County/Borough/Region  infected total  death total  \nid                                                                 \nNY0000000                    Suffolk           41010         1965  \nNY0000001                   Sullivan            1438           45  \nNC0000002                     Onslow             221            3  \nND0000003                      Adams               0            0  \nOH0000004                    Hancock              63            5  ",
      "text/html": "<div>\n<style scoped>\n    .dataframe tbody tr th:only-of-type {\n        vertical-align: middle;\n    }\n\n    .dataframe tbody tr th {\n        vertical-align: top;\n    }\n\n    .dataframe thead th {\n        text-align: right;\n    }\n</style>\n<table border=\"1\" class=\"dataframe\">\n  <thead>\n    <tr style=\"text-align: right;\">\n      <th></th>\n      <th>Date</th>\n      <th>FIPS</th>\n      <th>lat</th>\n      <th>lon</th>\n      <th>State</th>\n      <th>Abbr</th>\n      <th>City/County/Borough/Region</th>\n      <th>infected total</th>\n      <th>death total</th>\n    </tr>\n    <tr>\n      <th>id</th>\n      <th></th>\n      <th></th>\n      <th></th>\n      <th></th>\n      <th></th>\n      <th></th>\n      <th></th>\n      <th></th>\n      <th></th>\n    </tr>\n  </thead>\n  <tbody>\n    <tr>\n      <th>NY0000000</th>\n      <td>2020-06-22</td>\n      <td>36103</td>\n      <td>40.883201</td>\n      <td>-72.801217</td>\n      <td>New York</td>\n      <td>NY</td>\n      <td>Suffolk</td>\n      <td>41010</td>\n      <td>1965</td>\n    </tr>\n    <tr>\n      <th>NY0000001</th>\n      <td>2020-06-22</td>\n      <td>36105</td>\n      <td>41.715795</td>\n      <td>-74.763946</td>\n      <td>New York</td>\n      <td>NY</td>\n      <td>Sullivan</td>\n      <td>1438</td>\n      <td>45</td>\n    </tr>\n    <tr>\n      <th>NC0000002</th>\n      <td>2020-06-22</td>\n      <td>37133</td>\n      <td>34.726074</td>\n      <td>-77.429082</td>\n      <td>North Carolina</td>\n      <td>NC</td>\n      <td>Onslow</td>\n      <td>221</td>\n      <td>3</td>\n    </tr>\n    <tr>\n      <th>ND0000003</th>\n      <td>2020-06-22</td>\n      <td>38001</td>\n      <td>46.096869</td>\n      <td>-102.528540</td>\n      <td>North Dakota</td>\n      <td>ND</td>\n      <td>Adams</td>\n      <td>0</td>\n      <td>0</td>\n    </tr>\n    <tr>\n      <th>OH0000004</th>\n      <td>2020-06-22</td>\n      <td>39063</td>\n      <td>41.002505</td>\n      <td>-83.668389</td>\n      <td>Ohio</td>\n      <td>OH</td>\n      <td>Hancock</td>\n      <td>63</td>\n      <td>5</td>\n    </tr>\n  </tbody>\n</table>\n</div>"
     },
     "execution_count": 6,
     "metadata": {},
     "output_type": "execute_result"
    }
   ],
   "source": [
    "df.head()"
   ],
   "metadata": {
    "collapsed": false,
    "ExecuteTime": {
     "end_time": "2023-10-10T10:09:35.121253Z",
     "start_time": "2023-10-10T10:09:35.118320Z"
    }
   },
   "id": "12c08be6e89f9c1c"
  },
  {
   "cell_type": "code",
   "execution_count": 7,
   "outputs": [
    {
     "name": "stdout",
     "output_type": "stream",
     "text": [
      "<class 'pandas.core.frame.DataFrame'>\n",
      "Index: 2338190 entries, NY0000000 to VA2401699\n",
      "Data columns (total 9 columns):\n",
      " #   Column                      Dtype         \n",
      "---  ------                      -----         \n",
      " 0   Date                        datetime64[ns]\n",
      " 1   FIPS                        object        \n",
      " 2   lat                         float64       \n",
      " 3   lon                         float64       \n",
      " 4   State                       object        \n",
      " 5   Abbr                        object        \n",
      " 6   City/County/Borough/Region  object        \n",
      " 7   infected total              int64         \n",
      " 8   death total                 int64         \n",
      "dtypes: datetime64[ns](1), float64(2), int64(2), object(4)\n",
      "memory usage: 178.4+ MB\n"
     ]
    }
   ],
   "source": [
    "df.info()"
   ],
   "metadata": {
    "collapsed": false,
    "ExecuteTime": {
     "end_time": "2023-10-10T10:09:35.125690Z",
     "start_time": "2023-10-10T10:09:35.123063Z"
    }
   },
   "id": "4a5823025f02ab24"
  },
  {
   "cell_type": "code",
   "execution_count": 8,
   "outputs": [
    {
     "data": {
      "text/plain": "count                          2338190\nmean     2021-02-28 12:00:00.000000768\nmin                2020-03-01 00:00:00\n25%                2020-08-30 00:00:00\n50%                2021-02-28 12:00:00\n75%                2021-08-30 00:00:00\nmax                2022-02-28 00:00:00\nName: Date, dtype: object"
     },
     "execution_count": 8,
     "metadata": {},
     "output_type": "execute_result"
    }
   ],
   "source": [
    "df['Date'].describe()"
   ],
   "metadata": {
    "collapsed": false,
    "ExecuteTime": {
     "end_time": "2023-10-10T10:09:35.178091Z",
     "start_time": "2023-10-10T10:09:35.126706Z"
    }
   },
   "id": "6444ea25c0f3315"
  },
  {
   "cell_type": "code",
   "execution_count": 9,
   "outputs": [
    {
     "data": {
      "text/plain": "50"
     },
     "execution_count": 9,
     "metadata": {},
     "output_type": "execute_result"
    }
   ],
   "source": [
    "df['State'].nunique()"
   ],
   "metadata": {
    "collapsed": false,
    "ExecuteTime": {
     "end_time": "2023-10-10T10:09:35.262328Z",
     "start_time": "2023-10-10T10:09:35.157967Z"
    }
   },
   "id": "566051e45f11316e"
  },
  {
   "cell_type": "code",
   "execution_count": 10,
   "outputs": [
    {
     "data": {
      "text/plain": "         Date     FIPS      lat      lon    State     Abbr  \\\nDate                                                         \n2020   980118   980118   980118   980118   980118   980118   \n2021  1169095  1169095  1169095  1169095  1169095  1169095   \n2022   188977   188977   188977   188977   188977   188977   \n\n      City/County/Borough/Region  infected total  death total  \nDate                                                           \n2020                      980118          980118       980118  \n2021                     1169095         1169095      1169095  \n2022                      188977          188977       188977  ",
      "text/html": "<div>\n<style scoped>\n    .dataframe tbody tr th:only-of-type {\n        vertical-align: middle;\n    }\n\n    .dataframe tbody tr th {\n        vertical-align: top;\n    }\n\n    .dataframe thead th {\n        text-align: right;\n    }\n</style>\n<table border=\"1\" class=\"dataframe\">\n  <thead>\n    <tr style=\"text-align: right;\">\n      <th></th>\n      <th>Date</th>\n      <th>FIPS</th>\n      <th>lat</th>\n      <th>lon</th>\n      <th>State</th>\n      <th>Abbr</th>\n      <th>City/County/Borough/Region</th>\n      <th>infected total</th>\n      <th>death total</th>\n    </tr>\n    <tr>\n      <th>Date</th>\n      <th></th>\n      <th></th>\n      <th></th>\n      <th></th>\n      <th></th>\n      <th></th>\n      <th></th>\n      <th></th>\n      <th></th>\n    </tr>\n  </thead>\n  <tbody>\n    <tr>\n      <th>2020</th>\n      <td>980118</td>\n      <td>980118</td>\n      <td>980118</td>\n      <td>980118</td>\n      <td>980118</td>\n      <td>980118</td>\n      <td>980118</td>\n      <td>980118</td>\n      <td>980118</td>\n    </tr>\n    <tr>\n      <th>2021</th>\n      <td>1169095</td>\n      <td>1169095</td>\n      <td>1169095</td>\n      <td>1169095</td>\n      <td>1169095</td>\n      <td>1169095</td>\n      <td>1169095</td>\n      <td>1169095</td>\n      <td>1169095</td>\n    </tr>\n    <tr>\n      <th>2022</th>\n      <td>188977</td>\n      <td>188977</td>\n      <td>188977</td>\n      <td>188977</td>\n      <td>188977</td>\n      <td>188977</td>\n      <td>188977</td>\n      <td>188977</td>\n      <td>188977</td>\n    </tr>\n  </tbody>\n</table>\n</div>"
     },
     "execution_count": 10,
     "metadata": {},
     "output_type": "execute_result"
    }
   ],
   "source": [
    "# group data by year\n",
    "df.groupby(df['Date'].dt.year).count()"
   ],
   "metadata": {
    "collapsed": false,
    "ExecuteTime": {
     "end_time": "2023-10-10T10:09:35.546936Z",
     "start_time": "2023-10-10T10:09:35.232318Z"
    }
   },
   "id": "b0272b4da7279fcc"
  },
  {
   "cell_type": "code",
   "execution_count": 11,
   "outputs": [],
   "source": [
    "# save data separately by year\n",
    "for year in range(2020, 2023):\n",
    "    df[df['Date'].dt.year == year].to_csv(f'data/clean_data_{year}.csv', index=False)"
   ],
   "metadata": {
    "collapsed": false,
    "ExecuteTime": {
     "end_time": "2023-10-10T10:09:40.948719Z",
     "start_time": "2023-10-10T10:09:35.545912Z"
    }
   },
   "id": "b45d8fdafc8b7de"
  },
  {
   "cell_type": "code",
   "execution_count": 11,
   "outputs": [],
   "source": [],
   "metadata": {
    "collapsed": false,
    "ExecuteTime": {
     "end_time": "2023-10-10T10:09:40.950819Z",
     "start_time": "2023-10-10T10:09:40.949155Z"
    }
   },
   "id": "a623dd07857e3a9f"
  }
 ],
 "metadata": {
  "kernelspec": {
   "display_name": "Python 3",
   "language": "python",
   "name": "python3"
  },
  "language_info": {
   "codemirror_mode": {
    "name": "ipython",
    "version": 2
   },
   "file_extension": ".py",
   "mimetype": "text/x-python",
   "name": "python",
   "nbconvert_exporter": "python",
   "pygments_lexer": "ipython2",
   "version": "2.7.6"
  }
 },
 "nbformat": 4,
 "nbformat_minor": 5
}
