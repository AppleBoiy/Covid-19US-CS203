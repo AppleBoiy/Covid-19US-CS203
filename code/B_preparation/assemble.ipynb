{
 "cells": [
  {
   "cell_type": "code",
   "execution_count": 1,
   "id": "initial_id",
   "metadata": {
    "ExecuteTime": {
     "end_time": "2023-10-09T14:12:20.417981Z",
     "start_time": "2023-10-09T14:12:20.405161Z"
    },
    "collapsed": true
   },
   "outputs": [
    {
     "name": "stderr",
     "output_type": "stream",
     "text": [
      "/home/pongpop/.local/lib/python3.8/site-packages/pandas/core/computation/expressions.py:20: UserWarning: Pandas requires version '2.7.3' or newer of 'numexpr' (version '2.7.1' currently installed).\n",
      "  from pandas.core.computation.check import NUMEXPR_INSTALLED\n"
     ]
    }
   ],
   "source": [
    "# import necessary libraries\n",
    "import pandas as pd"
   ]
  },
  {
   "cell_type": "code",
   "execution_count": 2,
   "id": "b4a0aaae5e31b8f5",
   "metadata": {
    "ExecuteTime": {
     "end_time": "2023-10-09T14:12:23.669486Z",
     "start_time": "2023-10-09T14:12:20.656305Z"
    },
    "collapsed": false
   },
   "outputs": [],
   "source": [
    "raw_data = pd.read_csv('../../data/coronavirus-covid-19-pandemic-usa-counties.csv')"
   ]
  },
  {
   "cell_type": "markdown",
   "id": "4ee7055dfcc8ff09",
   "metadata": {
    "collapsed": false
   },
   "source": [
    "## Data preparation\n",
    "### Tidy data "
   ]
  },
  {
   "cell_type": "code",
   "execution_count": 3,
   "id": "a144a84a20947b66",
   "metadata": {
    "ExecuteTime": {
     "end_time": "2023-10-09T14:12:23.680971Z",
     "start_time": "2023-10-09T14:12:23.670366Z"
    },
    "collapsed": false
   },
   "outputs": [
    {
     "data": {
      "text/html": [
       "<div>\n",
       "<style scoped>\n",
       "    .dataframe tbody tr th:only-of-type {\n",
       "        vertical-align: middle;\n",
       "    }\n",
       "\n",
       "    .dataframe tbody tr th {\n",
       "        vertical-align: top;\n",
       "    }\n",
       "\n",
       "    .dataframe thead th {\n",
       "        text-align: right;\n",
       "    }\n",
       "</style>\n",
       "<table border=\"1\" class=\"dataframe\">\n",
       "  <thead>\n",
       "    <tr style=\"text-align: right;\">\n",
       "      <th></th>\n",
       "      <th>Admin 2 FIPS Code;Province/State;Admin 2 Level (City/County/Borough/Region);Date;Total Death;Total Confirmed;location</th>\n",
       "    </tr>\n",
       "  </thead>\n",
       "  <tbody>\n",
       "    <tr>\n",
       "      <th>12119;Florida;Sumter;2020-01-31;0;0;28.70181754</th>\n",
       "      <td>-82.079427</td>\n",
       "    </tr>\n",
       "    <tr>\n",
       "      <th>13153;Georgia;Houston;2020-01-31;0;0;32.45802497</th>\n",
       "      <td>-83.668791</td>\n",
       "    </tr>\n",
       "    <tr>\n",
       "      <th>13227;Georgia;Pickens;2020-01-31;0;0;34.46589159</th>\n",
       "      <td>-84.464066</td>\n",
       "    </tr>\n",
       "    <tr>\n",
       "      <th>13303;Georgia;Washington;2020-01-31;0;0;32.96711864</th>\n",
       "      <td>-82.793570</td>\n",
       "    </tr>\n",
       "    <tr>\n",
       "      <th>16003;Idaho;Adams;2020-01-31;0;0;44.89333571</th>\n",
       "      <td>-116.454525</td>\n",
       "    </tr>\n",
       "  </tbody>\n",
       "</table>\n",
       "</div>"
      ],
      "text/plain": [
       "                                                    Admin 2 FIPS Code;Province/State;Admin 2 Level (City/County/Borough/Region);Date;Total Death;Total Confirmed;location\n",
       "12119;Florida;Sumter;2020-01-31;0;0;28.70181754                                            -82.079427                                                                    \n",
       "13153;Georgia;Houston;2020-01-31;0;0;32.45802497                                           -83.668791                                                                    \n",
       "13227;Georgia;Pickens;2020-01-31;0;0;34.46589159                                           -84.464066                                                                    \n",
       "13303;Georgia;Washington;2020-01-31;0;0;32.9671...                                         -82.793570                                                                    \n",
       "16003;Idaho;Adams;2020-01-31;0;0;44.89333571                                              -116.454525                                                                    "
      ]
     },
     "execution_count": 3,
     "metadata": {},
     "output_type": "execute_result"
    }
   ],
   "source": [
    "# sample data\n",
    "raw_data.head()"
   ]
  },
  {
   "cell_type": "code",
   "execution_count": 4,
   "id": "d848f168f261ce03",
   "metadata": {
    "ExecuteTime": {
     "end_time": "2023-10-09T14:12:25.724873Z",
     "start_time": "2023-10-09T14:12:23.676648Z"
    },
    "collapsed": false
   },
   "outputs": [],
   "source": [
    "# how to make right?\n",
    "raw_data = pd.read_csv('../../data/coronavirus-covid-19-pandemic-usa-counties.csv', sep=';')"
   ]
  },
  {
   "cell_type": "code",
   "execution_count": 5,
   "id": "681d200eb0c68bd9",
   "metadata": {
    "ExecuteTime": {
     "end_time": "2023-10-09T14:12:25.732521Z",
     "start_time": "2023-10-09T14:12:25.727087Z"
    },
    "collapsed": false
   },
   "outputs": [
    {
     "data": {
      "text/html": [
       "<div>\n",
       "<style scoped>\n",
       "    .dataframe tbody tr th:only-of-type {\n",
       "        vertical-align: middle;\n",
       "    }\n",
       "\n",
       "    .dataframe tbody tr th {\n",
       "        vertical-align: top;\n",
       "    }\n",
       "\n",
       "    .dataframe thead th {\n",
       "        text-align: right;\n",
       "    }\n",
       "</style>\n",
       "<table border=\"1\" class=\"dataframe\">\n",
       "  <thead>\n",
       "    <tr style=\"text-align: right;\">\n",
       "      <th></th>\n",
       "      <th>Admin 2 FIPS Code</th>\n",
       "      <th>Province/State</th>\n",
       "      <th>Admin 2 Level (City/County/Borough/Region)</th>\n",
       "      <th>Date</th>\n",
       "      <th>Total Death</th>\n",
       "      <th>Total Confirmed</th>\n",
       "      <th>location</th>\n",
       "    </tr>\n",
       "  </thead>\n",
       "  <tbody>\n",
       "    <tr>\n",
       "      <th>0</th>\n",
       "      <td>12119.0</td>\n",
       "      <td>Florida</td>\n",
       "      <td>Sumter</td>\n",
       "      <td>2020-01-31</td>\n",
       "      <td>0</td>\n",
       "      <td>0</td>\n",
       "      <td>28.70181754,-82.0794267</td>\n",
       "    </tr>\n",
       "    <tr>\n",
       "      <th>1</th>\n",
       "      <td>13153.0</td>\n",
       "      <td>Georgia</td>\n",
       "      <td>Houston</td>\n",
       "      <td>2020-01-31</td>\n",
       "      <td>0</td>\n",
       "      <td>0</td>\n",
       "      <td>32.45802497,-83.66879087</td>\n",
       "    </tr>\n",
       "    <tr>\n",
       "      <th>2</th>\n",
       "      <td>13227.0</td>\n",
       "      <td>Georgia</td>\n",
       "      <td>Pickens</td>\n",
       "      <td>2020-01-31</td>\n",
       "      <td>0</td>\n",
       "      <td>0</td>\n",
       "      <td>34.46589159,-84.46406611</td>\n",
       "    </tr>\n",
       "    <tr>\n",
       "      <th>3</th>\n",
       "      <td>13303.0</td>\n",
       "      <td>Georgia</td>\n",
       "      <td>Washington</td>\n",
       "      <td>2020-01-31</td>\n",
       "      <td>0</td>\n",
       "      <td>0</td>\n",
       "      <td>32.96711864,-82.79357039</td>\n",
       "    </tr>\n",
       "    <tr>\n",
       "      <th>4</th>\n",
       "      <td>16003.0</td>\n",
       "      <td>Idaho</td>\n",
       "      <td>Adams</td>\n",
       "      <td>2020-01-31</td>\n",
       "      <td>0</td>\n",
       "      <td>0</td>\n",
       "      <td>44.89333571,-116.4545247</td>\n",
       "    </tr>\n",
       "  </tbody>\n",
       "</table>\n",
       "</div>"
      ],
      "text/plain": [
       "   Admin 2 FIPS Code Province/State  \\\n",
       "0            12119.0        Florida   \n",
       "1            13153.0        Georgia   \n",
       "2            13227.0        Georgia   \n",
       "3            13303.0        Georgia   \n",
       "4            16003.0          Idaho   \n",
       "\n",
       "  Admin 2 Level (City/County/Borough/Region)        Date  Total Death  \\\n",
       "0                                     Sumter  2020-01-31            0   \n",
       "1                                    Houston  2020-01-31            0   \n",
       "2                                    Pickens  2020-01-31            0   \n",
       "3                                 Washington  2020-01-31            0   \n",
       "4                                      Adams  2020-01-31            0   \n",
       "\n",
       "   Total Confirmed                  location  \n",
       "0                0   28.70181754,-82.0794267  \n",
       "1                0  32.45802497,-83.66879087  \n",
       "2                0  34.46589159,-84.46406611  \n",
       "3                0  32.96711864,-82.79357039  \n",
       "4                0  44.89333571,-116.4545247  "
      ]
     },
     "execution_count": 5,
     "metadata": {},
     "output_type": "execute_result"
    }
   ],
   "source": [
    "raw_data.head() # This is better."
   ]
  },
  {
   "cell_type": "markdown",
   "id": "30de41d51da5c582",
   "metadata": {
    "collapsed": false
   },
   "source": [
    "## Header name ?"
   ]
  },
  {
   "cell_type": "code",
   "execution_count": 6,
   "id": "560e39016fad768",
   "metadata": {
    "ExecuteTime": {
     "end_time": "2023-10-09T14:12:25.734387Z",
     "start_time": "2023-10-09T14:12:25.731228Z"
    },
    "collapsed": false
   },
   "outputs": [
    {
     "data": {
      "text/plain": [
       "Index(['Admin 2 FIPS Code', 'Province/State',\n",
       "       'Admin 2 Level (City/County/Borough/Region)', 'Date', 'Total Death',\n",
       "       'Total Confirmed', 'location'],\n",
       "      dtype='object')"
      ]
     },
     "execution_count": 6,
     "metadata": {},
     "output_type": "execute_result"
    }
   ],
   "source": [
    "raw_data.columns"
   ]
  },
  {
   "cell_type": "code",
   "execution_count": 7,
   "id": "e362305e26ffb571",
   "metadata": {
    "ExecuteTime": {
     "end_time": "2023-10-09T14:12:25.736306Z",
     "start_time": "2023-10-09T14:12:25.734269Z"
    },
    "collapsed": false
   },
   "outputs": [],
   "source": [
    "# US doesn't have a province, but states\n",
    "# FIPS code only, Admin 2 Level is not necessary\n",
    "# What is total confirmed?\n",
    "raw_data.rename(columns={\n",
    "    'Admin 2 FIPS Code': 'FIPS',\n",
    "    'Province/State': 'State',\n",
    "    'Admin 2 Level (City/County/Borough/Region)': 'City/County/Borough/Region',\n",
    "    'Total Confirmed': 'infected total',\n",
    "    'Total Death': 'death total',\n",
    "}, inplace=True)\n"
   ]
  },
  {
   "cell_type": "code",
   "execution_count": 8,
   "id": "f897a4d5fc149f4d",
   "metadata": {
    "ExecuteTime": {
     "end_time": "2023-10-09T14:12:25.744496Z",
     "start_time": "2023-10-09T14:12:25.739353Z"
    },
    "collapsed": false
   },
   "outputs": [
    {
     "data": {
      "text/html": [
       "<div>\n",
       "<style scoped>\n",
       "    .dataframe tbody tr th:only-of-type {\n",
       "        vertical-align: middle;\n",
       "    }\n",
       "\n",
       "    .dataframe tbody tr th {\n",
       "        vertical-align: top;\n",
       "    }\n",
       "\n",
       "    .dataframe thead th {\n",
       "        text-align: right;\n",
       "    }\n",
       "</style>\n",
       "<table border=\"1\" class=\"dataframe\">\n",
       "  <thead>\n",
       "    <tr style=\"text-align: right;\">\n",
       "      <th></th>\n",
       "      <th>FIPS</th>\n",
       "      <th>State</th>\n",
       "      <th>City/County/Borough/Region</th>\n",
       "      <th>Date</th>\n",
       "      <th>death total</th>\n",
       "      <th>infected total</th>\n",
       "      <th>location</th>\n",
       "    </tr>\n",
       "  </thead>\n",
       "  <tbody>\n",
       "    <tr>\n",
       "      <th>0</th>\n",
       "      <td>12119.0</td>\n",
       "      <td>Florida</td>\n",
       "      <td>Sumter</td>\n",
       "      <td>2020-01-31</td>\n",
       "      <td>0</td>\n",
       "      <td>0</td>\n",
       "      <td>28.70181754,-82.0794267</td>\n",
       "    </tr>\n",
       "    <tr>\n",
       "      <th>1</th>\n",
       "      <td>13153.0</td>\n",
       "      <td>Georgia</td>\n",
       "      <td>Houston</td>\n",
       "      <td>2020-01-31</td>\n",
       "      <td>0</td>\n",
       "      <td>0</td>\n",
       "      <td>32.45802497,-83.66879087</td>\n",
       "    </tr>\n",
       "    <tr>\n",
       "      <th>2</th>\n",
       "      <td>13227.0</td>\n",
       "      <td>Georgia</td>\n",
       "      <td>Pickens</td>\n",
       "      <td>2020-01-31</td>\n",
       "      <td>0</td>\n",
       "      <td>0</td>\n",
       "      <td>34.46589159,-84.46406611</td>\n",
       "    </tr>\n",
       "    <tr>\n",
       "      <th>3</th>\n",
       "      <td>13303.0</td>\n",
       "      <td>Georgia</td>\n",
       "      <td>Washington</td>\n",
       "      <td>2020-01-31</td>\n",
       "      <td>0</td>\n",
       "      <td>0</td>\n",
       "      <td>32.96711864,-82.79357039</td>\n",
       "    </tr>\n",
       "    <tr>\n",
       "      <th>4</th>\n",
       "      <td>16003.0</td>\n",
       "      <td>Idaho</td>\n",
       "      <td>Adams</td>\n",
       "      <td>2020-01-31</td>\n",
       "      <td>0</td>\n",
       "      <td>0</td>\n",
       "      <td>44.89333571,-116.4545247</td>\n",
       "    </tr>\n",
       "  </tbody>\n",
       "</table>\n",
       "</div>"
      ],
      "text/plain": [
       "      FIPS    State City/County/Borough/Region        Date  death total  \\\n",
       "0  12119.0  Florida                     Sumter  2020-01-31            0   \n",
       "1  13153.0  Georgia                    Houston  2020-01-31            0   \n",
       "2  13227.0  Georgia                    Pickens  2020-01-31            0   \n",
       "3  13303.0  Georgia                 Washington  2020-01-31            0   \n",
       "4  16003.0    Idaho                      Adams  2020-01-31            0   \n",
       "\n",
       "   infected total                  location  \n",
       "0               0   28.70181754,-82.0794267  \n",
       "1               0  32.45802497,-83.66879087  \n",
       "2               0  34.46589159,-84.46406611  \n",
       "3               0  32.96711864,-82.79357039  \n",
       "4               0  44.89333571,-116.4545247  "
      ]
     },
     "execution_count": 8,
     "metadata": {},
     "output_type": "execute_result"
    }
   ],
   "source": [
    "raw_data.head()"
   ]
  },
  {
   "cell_type": "markdown",
   "id": "1f2928cf0b88ea09",
   "metadata": {
    "collapsed": false
   },
   "source": [
    "### Remove duplicates "
   ]
  },
  {
   "cell_type": "code",
   "execution_count": 9,
   "id": "1cde7bd76878e4b1",
   "metadata": {
    "ExecuteTime": {
     "end_time": "2023-10-09T14:12:27.241802Z",
     "start_time": "2023-10-09T14:12:25.848080Z"
    },
    "collapsed": false
   },
   "outputs": [
    {
     "data": {
      "text/plain": [
       "0"
      ]
     },
     "execution_count": 9,
     "metadata": {},
     "output_type": "execute_result"
    }
   ],
   "source": [
    "# check duplicates\n",
    "raw_data.duplicated().sum() # no duplicates, good!"
   ]
  },
  {
   "cell_type": "markdown",
   "id": "68c208578796fee5",
   "metadata": {
    "collapsed": false
   },
   "source": [
    "### Homogeneous variables"
   ]
  },
  {
   "cell_type": "markdown",
   "id": "454e3a994a2e1b8a",
   "metadata": {
    "collapsed": false
   },
   "source": []
  },
  {
   "cell_type": "code",
   "execution_count": 10,
   "id": "7d506542dc4212c9",
   "metadata": {
    "ExecuteTime": {
     "end_time": "2023-10-09T14:12:27.830740Z",
     "start_time": "2023-10-09T14:12:27.826014Z"
    },
    "collapsed": false
   },
   "outputs": [],
   "source": [
    "import json"
   ]
  },
  {
   "cell_type": "code",
   "execution_count": 11,
   "id": "e02604e7918ad67f",
   "metadata": {
    "ExecuteTime": {
     "end_time": "2023-10-09T14:12:28.170354Z",
     "start_time": "2023-10-09T14:12:28.166355Z"
    },
    "collapsed": false
   },
   "outputs": [],
   "source": [
    "name_of_state_us = json.load(open('name_state_us.json'))"
   ]
  },
  {
   "cell_type": "code",
   "execution_count": 12,
   "id": "9ed664ac4a6eb674",
   "metadata": {
    "ExecuteTime": {
     "end_time": "2023-10-09T14:12:28.621034Z",
     "start_time": "2023-10-09T14:12:28.563338Z"
    },
    "collapsed": false
   },
   "outputs": [],
   "source": [
    "raw_data['Abbr'] = raw_data['State'].map(name_of_state_us)\n"
   ]
  },
  {
   "cell_type": "code",
   "execution_count": 13,
   "id": "1c8a595ccc10d453",
   "metadata": {
    "ExecuteTime": {
     "end_time": "2023-10-09T14:12:29.962501Z",
     "start_time": "2023-10-09T14:12:29.950143Z"
    },
    "collapsed": false
   },
   "outputs": [
    {
     "data": {
      "text/html": [
       "<div>\n",
       "<style scoped>\n",
       "    .dataframe tbody tr th:only-of-type {\n",
       "        vertical-align: middle;\n",
       "    }\n",
       "\n",
       "    .dataframe tbody tr th {\n",
       "        vertical-align: top;\n",
       "    }\n",
       "\n",
       "    .dataframe thead th {\n",
       "        text-align: right;\n",
       "    }\n",
       "</style>\n",
       "<table border=\"1\" class=\"dataframe\">\n",
       "  <thead>\n",
       "    <tr style=\"text-align: right;\">\n",
       "      <th></th>\n",
       "      <th>FIPS</th>\n",
       "      <th>State</th>\n",
       "      <th>City/County/Borough/Region</th>\n",
       "      <th>Date</th>\n",
       "      <th>death total</th>\n",
       "      <th>infected total</th>\n",
       "      <th>location</th>\n",
       "      <th>Abbr</th>\n",
       "    </tr>\n",
       "  </thead>\n",
       "  <tbody>\n",
       "    <tr>\n",
       "      <th>0</th>\n",
       "      <td>12119.0</td>\n",
       "      <td>Florida</td>\n",
       "      <td>Sumter</td>\n",
       "      <td>2020-01-31</td>\n",
       "      <td>0</td>\n",
       "      <td>0</td>\n",
       "      <td>28.70181754,-82.0794267</td>\n",
       "      <td>FL</td>\n",
       "    </tr>\n",
       "    <tr>\n",
       "      <th>1</th>\n",
       "      <td>13153.0</td>\n",
       "      <td>Georgia</td>\n",
       "      <td>Houston</td>\n",
       "      <td>2020-01-31</td>\n",
       "      <td>0</td>\n",
       "      <td>0</td>\n",
       "      <td>32.45802497,-83.66879087</td>\n",
       "      <td>GA</td>\n",
       "    </tr>\n",
       "    <tr>\n",
       "      <th>2</th>\n",
       "      <td>13227.0</td>\n",
       "      <td>Georgia</td>\n",
       "      <td>Pickens</td>\n",
       "      <td>2020-01-31</td>\n",
       "      <td>0</td>\n",
       "      <td>0</td>\n",
       "      <td>34.46589159,-84.46406611</td>\n",
       "      <td>GA</td>\n",
       "    </tr>\n",
       "    <tr>\n",
       "      <th>3</th>\n",
       "      <td>13303.0</td>\n",
       "      <td>Georgia</td>\n",
       "      <td>Washington</td>\n",
       "      <td>2020-01-31</td>\n",
       "      <td>0</td>\n",
       "      <td>0</td>\n",
       "      <td>32.96711864,-82.79357039</td>\n",
       "      <td>GA</td>\n",
       "    </tr>\n",
       "    <tr>\n",
       "      <th>4</th>\n",
       "      <td>16003.0</td>\n",
       "      <td>Idaho</td>\n",
       "      <td>Adams</td>\n",
       "      <td>2020-01-31</td>\n",
       "      <td>0</td>\n",
       "      <td>0</td>\n",
       "      <td>44.89333571,-116.4545247</td>\n",
       "      <td>ID</td>\n",
       "    </tr>\n",
       "  </tbody>\n",
       "</table>\n",
       "</div>"
      ],
      "text/plain": [
       "      FIPS    State City/County/Borough/Region        Date  death total  \\\n",
       "0  12119.0  Florida                     Sumter  2020-01-31            0   \n",
       "1  13153.0  Georgia                    Houston  2020-01-31            0   \n",
       "2  13227.0  Georgia                    Pickens  2020-01-31            0   \n",
       "3  13303.0  Georgia                 Washington  2020-01-31            0   \n",
       "4  16003.0    Idaho                      Adams  2020-01-31            0   \n",
       "\n",
       "   infected total                  location Abbr  \n",
       "0               0   28.70181754,-82.0794267   FL  \n",
       "1               0  32.45802497,-83.66879087   GA  \n",
       "2               0  34.46589159,-84.46406611   GA  \n",
       "3               0  32.96711864,-82.79357039   GA  \n",
       "4               0  44.89333571,-116.4545247   ID  "
      ]
     },
     "execution_count": 13,
     "metadata": {},
     "output_type": "execute_result"
    }
   ],
   "source": [
    "raw_data.head()"
   ]
  },
  {
   "cell_type": "code",
   "execution_count": 14,
   "id": "643740dd4fb6158e",
   "metadata": {
    "ExecuteTime": {
     "end_time": "2023-10-09T14:12:30.576106Z",
     "start_time": "2023-10-09T14:12:30.573305Z"
    },
    "collapsed": false
   },
   "outputs": [
    {
     "data": {
      "text/plain": [
       "81954"
      ]
     },
     "execution_count": 14,
     "metadata": {},
     "output_type": "execute_result"
    }
   ],
   "source": [
    "raw_data['Abbr'].isnull().sum() # something went wrong?"
   ]
  },
  {
   "cell_type": "code",
   "execution_count": 15,
   "id": "23b23613c084e3ac",
   "metadata": {
    "ExecuteTime": {
     "end_time": "2023-10-09T14:12:31.695278Z",
     "start_time": "2023-10-09T14:12:31.262414Z"
    },
    "collapsed": false
   },
   "outputs": [],
   "source": [
    "# drop missing 'Abbr' (not a US State)\n",
    "raw_data = raw_data.dropna(subset=['Abbr'])"
   ]
  },
  {
   "cell_type": "code",
   "execution_count": 16,
   "id": "1f98e4f48d2a0eda",
   "metadata": {
    "ExecuteTime": {
     "end_time": "2023-10-09T14:12:53.436747Z",
     "start_time": "2023-10-09T14:12:53.433226Z"
    },
    "collapsed": false
   },
   "outputs": [
    {
     "data": {
      "text/plain": [
       "0"
      ]
     },
     "execution_count": 16,
     "metadata": {},
     "output_type": "execute_result"
    }
   ],
   "source": [
    "raw_data['Abbr'].isnull().sum()"
   ]
  },
  {
   "cell_type": "code",
   "execution_count": 17,
   "id": "2444ccfd6f336479",
   "metadata": {
    "ExecuteTime": {
     "end_time": "2023-10-09T14:13:36.179202Z",
     "start_time": "2023-10-09T14:12:56.349200Z"
    },
    "collapsed": false
   },
   "outputs": [],
   "source": [
    "# locate must show as (lat, lon)\n",
    "raw_data[['lat', 'lon']] = raw_data['location'].str.split(',', expand=True)\n",
    "raw_data.drop('location', axis=1, inplace=True)"
   ]
  },
  {
   "cell_type": "code",
   "execution_count": 18,
   "id": "5757097d0ecef0f2",
   "metadata": {
    "ExecuteTime": {
     "end_time": "2023-10-09T14:13:36.204635Z",
     "start_time": "2023-10-09T14:13:36.184813Z"
    },
    "collapsed": false
   },
   "outputs": [
    {
     "data": {
      "text/html": [
       "<div>\n",
       "<style scoped>\n",
       "    .dataframe tbody tr th:only-of-type {\n",
       "        vertical-align: middle;\n",
       "    }\n",
       "\n",
       "    .dataframe tbody tr th {\n",
       "        vertical-align: top;\n",
       "    }\n",
       "\n",
       "    .dataframe thead th {\n",
       "        text-align: right;\n",
       "    }\n",
       "</style>\n",
       "<table border=\"1\" class=\"dataframe\">\n",
       "  <thead>\n",
       "    <tr style=\"text-align: right;\">\n",
       "      <th></th>\n",
       "      <th>FIPS</th>\n",
       "      <th>State</th>\n",
       "      <th>City/County/Borough/Region</th>\n",
       "      <th>Date</th>\n",
       "      <th>death total</th>\n",
       "      <th>infected total</th>\n",
       "      <th>Abbr</th>\n",
       "      <th>lat</th>\n",
       "      <th>lon</th>\n",
       "    </tr>\n",
       "  </thead>\n",
       "  <tbody>\n",
       "    <tr>\n",
       "      <th>0</th>\n",
       "      <td>12119.0</td>\n",
       "      <td>Florida</td>\n",
       "      <td>Sumter</td>\n",
       "      <td>2020-01-31</td>\n",
       "      <td>0</td>\n",
       "      <td>0</td>\n",
       "      <td>FL</td>\n",
       "      <td>28.70181754</td>\n",
       "      <td>-82.0794267</td>\n",
       "    </tr>\n",
       "    <tr>\n",
       "      <th>1</th>\n",
       "      <td>13153.0</td>\n",
       "      <td>Georgia</td>\n",
       "      <td>Houston</td>\n",
       "      <td>2020-01-31</td>\n",
       "      <td>0</td>\n",
       "      <td>0</td>\n",
       "      <td>GA</td>\n",
       "      <td>32.45802497</td>\n",
       "      <td>-83.66879087</td>\n",
       "    </tr>\n",
       "    <tr>\n",
       "      <th>2</th>\n",
       "      <td>13227.0</td>\n",
       "      <td>Georgia</td>\n",
       "      <td>Pickens</td>\n",
       "      <td>2020-01-31</td>\n",
       "      <td>0</td>\n",
       "      <td>0</td>\n",
       "      <td>GA</td>\n",
       "      <td>34.46589159</td>\n",
       "      <td>-84.46406611</td>\n",
       "    </tr>\n",
       "    <tr>\n",
       "      <th>3</th>\n",
       "      <td>13303.0</td>\n",
       "      <td>Georgia</td>\n",
       "      <td>Washington</td>\n",
       "      <td>2020-01-31</td>\n",
       "      <td>0</td>\n",
       "      <td>0</td>\n",
       "      <td>GA</td>\n",
       "      <td>32.96711864</td>\n",
       "      <td>-82.79357039</td>\n",
       "    </tr>\n",
       "    <tr>\n",
       "      <th>4</th>\n",
       "      <td>16003.0</td>\n",
       "      <td>Idaho</td>\n",
       "      <td>Adams</td>\n",
       "      <td>2020-01-31</td>\n",
       "      <td>0</td>\n",
       "      <td>0</td>\n",
       "      <td>ID</td>\n",
       "      <td>44.89333571</td>\n",
       "      <td>-116.4545247</td>\n",
       "    </tr>\n",
       "  </tbody>\n",
       "</table>\n",
       "</div>"
      ],
      "text/plain": [
       "      FIPS    State City/County/Borough/Region        Date  death total  \\\n",
       "0  12119.0  Florida                     Sumter  2020-01-31            0   \n",
       "1  13153.0  Georgia                    Houston  2020-01-31            0   \n",
       "2  13227.0  Georgia                    Pickens  2020-01-31            0   \n",
       "3  13303.0  Georgia                 Washington  2020-01-31            0   \n",
       "4  16003.0    Idaho                      Adams  2020-01-31            0   \n",
       "\n",
       "   infected total Abbr          lat           lon  \n",
       "0               0   FL  28.70181754   -82.0794267  \n",
       "1               0   GA  32.45802497  -83.66879087  \n",
       "2               0   GA  34.46589159  -84.46406611  \n",
       "3               0   GA  32.96711864  -82.79357039  \n",
       "4               0   ID  44.89333571  -116.4545247  "
      ]
     },
     "execution_count": 18,
     "metadata": {},
     "output_type": "execute_result"
    }
   ],
   "source": [
    "raw_data.head()"
   ]
  },
  {
   "cell_type": "markdown",
   "id": "a69eeef286d44fb2",
   "metadata": {
    "collapsed": false
   },
   "source": [
    "### Unique identifier"
   ]
  },
  {
   "cell_type": "code",
   "execution_count": 19,
   "id": "905dd3d57fa9a0e",
   "metadata": {
    "ExecuteTime": {
     "end_time": "2023-10-09T14:13:39.726663Z",
     "start_time": "2023-10-09T14:13:36.193291Z"
    },
    "collapsed": false
   },
   "outputs": [],
   "source": [
    "# unique identifier is Date + index of row\n",
    "raw_data['id'] = raw_data['Abbr'] + raw_data.index.astype(str)  "
   ]
  },
  {
   "cell_type": "code",
   "execution_count": 20,
   "id": "1f05a3ff8cdd163c",
   "metadata": {
    "ExecuteTime": {
     "end_time": "2023-10-09T14:13:39.742323Z",
     "start_time": "2023-10-09T14:13:39.729466Z"
    },
    "collapsed": false
   },
   "outputs": [
    {
     "data": {
      "text/html": [
       "<div>\n",
       "<style scoped>\n",
       "    .dataframe tbody tr th:only-of-type {\n",
       "        vertical-align: middle;\n",
       "    }\n",
       "\n",
       "    .dataframe tbody tr th {\n",
       "        vertical-align: top;\n",
       "    }\n",
       "\n",
       "    .dataframe thead th {\n",
       "        text-align: right;\n",
       "    }\n",
       "</style>\n",
       "<table border=\"1\" class=\"dataframe\">\n",
       "  <thead>\n",
       "    <tr style=\"text-align: right;\">\n",
       "      <th></th>\n",
       "      <th>FIPS</th>\n",
       "      <th>State</th>\n",
       "      <th>City/County/Borough/Region</th>\n",
       "      <th>Date</th>\n",
       "      <th>death total</th>\n",
       "      <th>infected total</th>\n",
       "      <th>Abbr</th>\n",
       "      <th>lat</th>\n",
       "      <th>lon</th>\n",
       "      <th>id</th>\n",
       "    </tr>\n",
       "  </thead>\n",
       "  <tbody>\n",
       "    <tr>\n",
       "      <th>0</th>\n",
       "      <td>12119.0</td>\n",
       "      <td>Florida</td>\n",
       "      <td>Sumter</td>\n",
       "      <td>2020-01-31</td>\n",
       "      <td>0</td>\n",
       "      <td>0</td>\n",
       "      <td>FL</td>\n",
       "      <td>28.70181754</td>\n",
       "      <td>-82.0794267</td>\n",
       "      <td>FL0</td>\n",
       "    </tr>\n",
       "    <tr>\n",
       "      <th>1</th>\n",
       "      <td>13153.0</td>\n",
       "      <td>Georgia</td>\n",
       "      <td>Houston</td>\n",
       "      <td>2020-01-31</td>\n",
       "      <td>0</td>\n",
       "      <td>0</td>\n",
       "      <td>GA</td>\n",
       "      <td>32.45802497</td>\n",
       "      <td>-83.66879087</td>\n",
       "      <td>GA1</td>\n",
       "    </tr>\n",
       "    <tr>\n",
       "      <th>2</th>\n",
       "      <td>13227.0</td>\n",
       "      <td>Georgia</td>\n",
       "      <td>Pickens</td>\n",
       "      <td>2020-01-31</td>\n",
       "      <td>0</td>\n",
       "      <td>0</td>\n",
       "      <td>GA</td>\n",
       "      <td>34.46589159</td>\n",
       "      <td>-84.46406611</td>\n",
       "      <td>GA2</td>\n",
       "    </tr>\n",
       "    <tr>\n",
       "      <th>3</th>\n",
       "      <td>13303.0</td>\n",
       "      <td>Georgia</td>\n",
       "      <td>Washington</td>\n",
       "      <td>2020-01-31</td>\n",
       "      <td>0</td>\n",
       "      <td>0</td>\n",
       "      <td>GA</td>\n",
       "      <td>32.96711864</td>\n",
       "      <td>-82.79357039</td>\n",
       "      <td>GA3</td>\n",
       "    </tr>\n",
       "    <tr>\n",
       "      <th>4</th>\n",
       "      <td>16003.0</td>\n",
       "      <td>Idaho</td>\n",
       "      <td>Adams</td>\n",
       "      <td>2020-01-31</td>\n",
       "      <td>0</td>\n",
       "      <td>0</td>\n",
       "      <td>ID</td>\n",
       "      <td>44.89333571</td>\n",
       "      <td>-116.4545247</td>\n",
       "      <td>ID4</td>\n",
       "    </tr>\n",
       "  </tbody>\n",
       "</table>\n",
       "</div>"
      ],
      "text/plain": [
       "      FIPS    State City/County/Borough/Region        Date  death total  \\\n",
       "0  12119.0  Florida                     Sumter  2020-01-31            0   \n",
       "1  13153.0  Georgia                    Houston  2020-01-31            0   \n",
       "2  13227.0  Georgia                    Pickens  2020-01-31            0   \n",
       "3  13303.0  Georgia                 Washington  2020-01-31            0   \n",
       "4  16003.0    Idaho                      Adams  2020-01-31            0   \n",
       "\n",
       "   infected total Abbr          lat           lon   id  \n",
       "0               0   FL  28.70181754   -82.0794267  FL0  \n",
       "1               0   GA  32.45802497  -83.66879087  GA1  \n",
       "2               0   GA  34.46589159  -84.46406611  GA2  \n",
       "3               0   GA  32.96711864  -82.79357039  GA3  \n",
       "4               0   ID  44.89333571  -116.4545247  ID4  "
      ]
     },
     "execution_count": 20,
     "metadata": {},
     "output_type": "execute_result"
    }
   ],
   "source": [
    "raw_data.head() # id is smell, but it's ok for now."
   ]
  },
  {
   "cell_type": "markdown",
   "id": "ed1603b3dc126831",
   "metadata": {
    "collapsed": false
   },
   "source": [
    "### Data type"
   ]
  },
  {
   "cell_type": "code",
   "execution_count": 21,
   "id": "f16df554194212f3",
   "metadata": {
    "ExecuteTime": {
     "end_time": "2023-10-09T14:13:39.743049Z",
     "start_time": "2023-10-09T14:13:39.733301Z"
    },
    "collapsed": false
   },
   "outputs": [
    {
     "data": {
      "text/plain": [
       "FIPS                          float64\n",
       "State                          object\n",
       "City/County/Borough/Region     object\n",
       "Date                           object\n",
       "death total                     int64\n",
       "infected total                  int64\n",
       "Abbr                           object\n",
       "lat                            object\n",
       "lon                            object\n",
       "id                             object\n",
       "dtype: object"
      ]
     },
     "execution_count": 21,
     "metadata": {},
     "output_type": "execute_result"
    }
   ],
   "source": [
    "raw_data.dtypes"
   ]
  },
  {
   "cell_type": "code",
   "execution_count": 22,
   "id": "2f5013bc32f63854",
   "metadata": {
    "ExecuteTime": {
     "end_time": "2023-10-09T14:13:46.447190Z",
     "start_time": "2023-10-09T14:13:39.741285Z"
    },
    "collapsed": false
   },
   "outputs": [
    {
     "name": "stderr",
     "output_type": "stream",
     "text": [
      "/tmp/ipykernel_11972/487705806.py:2: FutureWarning: The default value of regex will change from True to False in a future version.\n",
      "  raw_data['FIPS'] = raw_data['FIPS'].astype(str).str.replace('.0', '')\n"
     ]
    }
   ],
   "source": [
    "# First of all FIPS is not float, it's string\n",
    "raw_data['FIPS'] = raw_data['FIPS'].astype(str).str.replace('.0', '')\n",
    "\n",
    "# Date is not a string, it's a date\n",
    "raw_data['Date'] = pd.to_datetime(raw_data['Date'])\n",
    "\n",
    "# Lat and Lon are not string, they are floated\n",
    "raw_data['lat'] = raw_data['lat'].astype(float)\n",
    "raw_data['lon'] = raw_data['lon'].astype(float)"
   ]
  },
  {
   "cell_type": "code",
   "execution_count": 23,
   "id": "868f686b0b1df243",
   "metadata": {
    "ExecuteTime": {
     "end_time": "2023-10-09T14:13:47.327846Z",
     "start_time": "2023-10-09T14:13:46.445388Z"
    },
    "collapsed": false
   },
   "outputs": [
    {
     "data": {
      "text/html": [
       "<div>\n",
       "<style scoped>\n",
       "    .dataframe tbody tr th:only-of-type {\n",
       "        vertical-align: middle;\n",
       "    }\n",
       "\n",
       "    .dataframe tbody tr th {\n",
       "        vertical-align: top;\n",
       "    }\n",
       "\n",
       "    .dataframe thead th {\n",
       "        text-align: right;\n",
       "    }\n",
       "</style>\n",
       "<table border=\"1\" class=\"dataframe\">\n",
       "  <thead>\n",
       "    <tr style=\"text-align: right;\">\n",
       "      <th></th>\n",
       "      <th>FIPS</th>\n",
       "      <th>State</th>\n",
       "      <th>City/County/Borough/Region</th>\n",
       "      <th>Date</th>\n",
       "      <th>death total</th>\n",
       "      <th>infected total</th>\n",
       "      <th>Abbr</th>\n",
       "      <th>lat</th>\n",
       "      <th>lon</th>\n",
       "      <th>id</th>\n",
       "    </tr>\n",
       "  </thead>\n",
       "  <tbody>\n",
       "    <tr>\n",
       "      <th>0</th>\n",
       "      <td>12119</td>\n",
       "      <td>Florida</td>\n",
       "      <td>Sumter</td>\n",
       "      <td>2020-01-31</td>\n",
       "      <td>0</td>\n",
       "      <td>0</td>\n",
       "      <td>FL</td>\n",
       "      <td>28.701818</td>\n",
       "      <td>-82.079427</td>\n",
       "      <td>FL0</td>\n",
       "    </tr>\n",
       "    <tr>\n",
       "      <th>1</th>\n",
       "      <td>13153</td>\n",
       "      <td>Georgia</td>\n",
       "      <td>Houston</td>\n",
       "      <td>2020-01-31</td>\n",
       "      <td>0</td>\n",
       "      <td>0</td>\n",
       "      <td>GA</td>\n",
       "      <td>32.458025</td>\n",
       "      <td>-83.668791</td>\n",
       "      <td>GA1</td>\n",
       "    </tr>\n",
       "    <tr>\n",
       "      <th>2</th>\n",
       "      <td>13227</td>\n",
       "      <td>Georgia</td>\n",
       "      <td>Pickens</td>\n",
       "      <td>2020-01-31</td>\n",
       "      <td>0</td>\n",
       "      <td>0</td>\n",
       "      <td>GA</td>\n",
       "      <td>34.465892</td>\n",
       "      <td>-84.464066</td>\n",
       "      <td>GA2</td>\n",
       "    </tr>\n",
       "    <tr>\n",
       "      <th>3</th>\n",
       "      <td>133</td>\n",
       "      <td>Georgia</td>\n",
       "      <td>Washington</td>\n",
       "      <td>2020-01-31</td>\n",
       "      <td>0</td>\n",
       "      <td>0</td>\n",
       "      <td>GA</td>\n",
       "      <td>32.967119</td>\n",
       "      <td>-82.793570</td>\n",
       "      <td>GA3</td>\n",
       "    </tr>\n",
       "    <tr>\n",
       "      <th>4</th>\n",
       "      <td>103</td>\n",
       "      <td>Idaho</td>\n",
       "      <td>Adams</td>\n",
       "      <td>2020-01-31</td>\n",
       "      <td>0</td>\n",
       "      <td>0</td>\n",
       "      <td>ID</td>\n",
       "      <td>44.893336</td>\n",
       "      <td>-116.454525</td>\n",
       "      <td>ID4</td>\n",
       "    </tr>\n",
       "  </tbody>\n",
       "</table>\n",
       "</div>"
      ],
      "text/plain": [
       "    FIPS    State City/County/Borough/Region       Date  death total  \\\n",
       "0  12119  Florida                     Sumter 2020-01-31            0   \n",
       "1  13153  Georgia                    Houston 2020-01-31            0   \n",
       "2  13227  Georgia                    Pickens 2020-01-31            0   \n",
       "3    133  Georgia                 Washington 2020-01-31            0   \n",
       "4    103    Idaho                      Adams 2020-01-31            0   \n",
       "\n",
       "   infected total Abbr        lat         lon   id  \n",
       "0               0   FL  28.701818  -82.079427  FL0  \n",
       "1               0   GA  32.458025  -83.668791  GA1  \n",
       "2               0   GA  34.465892  -84.464066  GA2  \n",
       "3               0   GA  32.967119  -82.793570  GA3  \n",
       "4               0   ID  44.893336 -116.454525  ID4  "
      ]
     },
     "execution_count": 23,
     "metadata": {},
     "output_type": "execute_result"
    }
   ],
   "source": [
    "raw_data.head()"
   ]
  },
  {
   "cell_type": "code",
   "execution_count": 24,
   "id": "de197c1465282a92",
   "metadata": {
    "ExecuteTime": {
     "end_time": "2023-10-09T14:13:47.333008Z",
     "start_time": "2023-10-09T14:13:47.326759Z"
    },
    "collapsed": false
   },
   "outputs": [
    {
     "data": {
      "text/plain": [
       "FIPS                                  object\n",
       "State                                 object\n",
       "City/County/Borough/Region            object\n",
       "Date                          datetime64[ns]\n",
       "death total                            int64\n",
       "infected total                         int64\n",
       "Abbr                                  object\n",
       "lat                                  float64\n",
       "lon                                  float64\n",
       "id                                    object\n",
       "dtype: object"
      ]
     },
     "execution_count": 24,
     "metadata": {},
     "output_type": "execute_result"
    }
   ],
   "source": [
    "raw_data.dtypes"
   ]
  },
  {
   "cell_type": "code",
   "execution_count": 25,
   "id": "64f5dd3f",
   "metadata": {
    "ExecuteTime": {
     "end_time": "2023-10-09T14:13:47.335132Z",
     "start_time": "2023-10-09T14:13:47.331736Z"
    }
   },
   "outputs": [],
   "source": [
    "length = raw_data.shape[0]\n",
    "length = len(str(length))\n"
   ]
  },
  {
   "cell_type": "code",
   "execution_count": 26,
   "id": "d2447ec962e43bc6",
   "metadata": {
    "ExecuteTime": {
     "end_time": "2023-10-09T14:13:53.194281Z",
     "start_time": "2023-10-09T14:13:47.339856Z"
    },
    "collapsed": false
   },
   "outputs": [],
   "source": [
    "# \n",
    "raw_data['id'] = raw_data['Abbr'] + raw_data.index.astype(str).str.zfill(length)"
   ]
  },
  {
   "cell_type": "code",
   "execution_count": 27,
   "id": "6fd41fd043b5e656",
   "metadata": {
    "ExecuteTime": {
     "end_time": "2023-10-09T14:13:53.204631Z",
     "start_time": "2023-10-09T14:13:53.186597Z"
    },
    "collapsed": false
   },
   "outputs": [
    {
     "data": {
      "text/html": [
       "<div>\n",
       "<style scoped>\n",
       "    .dataframe tbody tr th:only-of-type {\n",
       "        vertical-align: middle;\n",
       "    }\n",
       "\n",
       "    .dataframe tbody tr th {\n",
       "        vertical-align: top;\n",
       "    }\n",
       "\n",
       "    .dataframe thead th {\n",
       "        text-align: right;\n",
       "    }\n",
       "</style>\n",
       "<table border=\"1\" class=\"dataframe\">\n",
       "  <thead>\n",
       "    <tr style=\"text-align: right;\">\n",
       "      <th></th>\n",
       "      <th>FIPS</th>\n",
       "      <th>State</th>\n",
       "      <th>City/County/Borough/Region</th>\n",
       "      <th>Date</th>\n",
       "      <th>death total</th>\n",
       "      <th>infected total</th>\n",
       "      <th>Abbr</th>\n",
       "      <th>lat</th>\n",
       "      <th>lon</th>\n",
       "      <th>id</th>\n",
       "    </tr>\n",
       "  </thead>\n",
       "  <tbody>\n",
       "    <tr>\n",
       "      <th>0</th>\n",
       "      <td>12119</td>\n",
       "      <td>Florida</td>\n",
       "      <td>Sumter</td>\n",
       "      <td>2020-01-31</td>\n",
       "      <td>0</td>\n",
       "      <td>0</td>\n",
       "      <td>FL</td>\n",
       "      <td>28.701818</td>\n",
       "      <td>-82.079427</td>\n",
       "      <td>FL0000000</td>\n",
       "    </tr>\n",
       "    <tr>\n",
       "      <th>1</th>\n",
       "      <td>13153</td>\n",
       "      <td>Georgia</td>\n",
       "      <td>Houston</td>\n",
       "      <td>2020-01-31</td>\n",
       "      <td>0</td>\n",
       "      <td>0</td>\n",
       "      <td>GA</td>\n",
       "      <td>32.458025</td>\n",
       "      <td>-83.668791</td>\n",
       "      <td>GA0000001</td>\n",
       "    </tr>\n",
       "    <tr>\n",
       "      <th>2</th>\n",
       "      <td>13227</td>\n",
       "      <td>Georgia</td>\n",
       "      <td>Pickens</td>\n",
       "      <td>2020-01-31</td>\n",
       "      <td>0</td>\n",
       "      <td>0</td>\n",
       "      <td>GA</td>\n",
       "      <td>34.465892</td>\n",
       "      <td>-84.464066</td>\n",
       "      <td>GA0000002</td>\n",
       "    </tr>\n",
       "    <tr>\n",
       "      <th>3</th>\n",
       "      <td>133</td>\n",
       "      <td>Georgia</td>\n",
       "      <td>Washington</td>\n",
       "      <td>2020-01-31</td>\n",
       "      <td>0</td>\n",
       "      <td>0</td>\n",
       "      <td>GA</td>\n",
       "      <td>32.967119</td>\n",
       "      <td>-82.793570</td>\n",
       "      <td>GA0000003</td>\n",
       "    </tr>\n",
       "    <tr>\n",
       "      <th>4</th>\n",
       "      <td>103</td>\n",
       "      <td>Idaho</td>\n",
       "      <td>Adams</td>\n",
       "      <td>2020-01-31</td>\n",
       "      <td>0</td>\n",
       "      <td>0</td>\n",
       "      <td>ID</td>\n",
       "      <td>44.893336</td>\n",
       "      <td>-116.454525</td>\n",
       "      <td>ID0000004</td>\n",
       "    </tr>\n",
       "  </tbody>\n",
       "</table>\n",
       "</div>"
      ],
      "text/plain": [
       "    FIPS    State City/County/Borough/Region       Date  death total  \\\n",
       "0  12119  Florida                     Sumter 2020-01-31            0   \n",
       "1  13153  Georgia                    Houston 2020-01-31            0   \n",
       "2  13227  Georgia                    Pickens 2020-01-31            0   \n",
       "3    133  Georgia                 Washington 2020-01-31            0   \n",
       "4    103    Idaho                      Adams 2020-01-31            0   \n",
       "\n",
       "   infected total Abbr        lat         lon         id  \n",
       "0               0   FL  28.701818  -82.079427  FL0000000  \n",
       "1               0   GA  32.458025  -83.668791  GA0000001  \n",
       "2               0   GA  34.465892  -84.464066  GA0000002  \n",
       "3               0   GA  32.967119  -82.793570  GA0000003  \n",
       "4               0   ID  44.893336 -116.454525  ID0000004  "
      ]
     },
     "execution_count": 27,
     "metadata": {},
     "output_type": "execute_result"
    }
   ],
   "source": [
    "raw_data.head()"
   ]
  },
  {
   "cell_type": "code",
   "execution_count": 28,
   "id": "5fa3edda94c7eb2f",
   "metadata": {
    "ExecuteTime": {
     "end_time": "2023-10-09T14:13:54.016809Z",
     "start_time": "2023-10-09T14:13:53.689908Z"
    },
    "collapsed": false
   },
   "outputs": [
    {
     "data": {
      "text/plain": [
       "FIPS                          0\n",
       "State                         0\n",
       "City/County/Borough/Region    0\n",
       "Date                          0\n",
       "death total                   0\n",
       "infected total                0\n",
       "Abbr                          0\n",
       "lat                           0\n",
       "lon                           0\n",
       "id                            0\n",
       "dtype: int64"
      ]
     },
     "execution_count": 28,
     "metadata": {},
     "output_type": "execute_result"
    }
   ],
   "source": [
    "# show missing values\n",
    "raw_data.isnull().sum()"
   ]
  },
  {
   "cell_type": "code",
   "execution_count": 29,
   "id": "71430e35600c929b",
   "metadata": {
    "ExecuteTime": {
     "end_time": "2023-10-09T14:13:54.055151Z",
     "start_time": "2023-10-09T14:13:54.022210Z"
    },
    "collapsed": false
   },
   "outputs": [
    {
     "data": {
      "text/html": [
       "<div>\n",
       "<style scoped>\n",
       "    .dataframe tbody tr th:only-of-type {\n",
       "        vertical-align: middle;\n",
       "    }\n",
       "\n",
       "    .dataframe tbody tr th {\n",
       "        vertical-align: top;\n",
       "    }\n",
       "\n",
       "    .dataframe thead th {\n",
       "        text-align: right;\n",
       "    }\n",
       "</style>\n",
       "<table border=\"1\" class=\"dataframe\">\n",
       "  <thead>\n",
       "    <tr style=\"text-align: right;\">\n",
       "      <th></th>\n",
       "      <th>FIPS</th>\n",
       "      <th>State</th>\n",
       "      <th>City/County/Borough/Region</th>\n",
       "      <th>Date</th>\n",
       "      <th>death total</th>\n",
       "      <th>infected total</th>\n",
       "      <th>Abbr</th>\n",
       "      <th>lat</th>\n",
       "      <th>lon</th>\n",
       "    </tr>\n",
       "    <tr>\n",
       "      <th>id</th>\n",
       "      <th></th>\n",
       "      <th></th>\n",
       "      <th></th>\n",
       "      <th></th>\n",
       "      <th></th>\n",
       "      <th></th>\n",
       "      <th></th>\n",
       "      <th></th>\n",
       "      <th></th>\n",
       "    </tr>\n",
       "  </thead>\n",
       "  <tbody>\n",
       "    <tr>\n",
       "      <th>FL0000000</th>\n",
       "      <td>12119</td>\n",
       "      <td>Florida</td>\n",
       "      <td>Sumter</td>\n",
       "      <td>2020-01-31</td>\n",
       "      <td>0</td>\n",
       "      <td>0</td>\n",
       "      <td>FL</td>\n",
       "      <td>28.701818</td>\n",
       "      <td>-82.079427</td>\n",
       "    </tr>\n",
       "    <tr>\n",
       "      <th>GA0000001</th>\n",
       "      <td>13153</td>\n",
       "      <td>Georgia</td>\n",
       "      <td>Houston</td>\n",
       "      <td>2020-01-31</td>\n",
       "      <td>0</td>\n",
       "      <td>0</td>\n",
       "      <td>GA</td>\n",
       "      <td>32.458025</td>\n",
       "      <td>-83.668791</td>\n",
       "    </tr>\n",
       "    <tr>\n",
       "      <th>GA0000002</th>\n",
       "      <td>13227</td>\n",
       "      <td>Georgia</td>\n",
       "      <td>Pickens</td>\n",
       "      <td>2020-01-31</td>\n",
       "      <td>0</td>\n",
       "      <td>0</td>\n",
       "      <td>GA</td>\n",
       "      <td>34.465892</td>\n",
       "      <td>-84.464066</td>\n",
       "    </tr>\n",
       "    <tr>\n",
       "      <th>GA0000003</th>\n",
       "      <td>133</td>\n",
       "      <td>Georgia</td>\n",
       "      <td>Washington</td>\n",
       "      <td>2020-01-31</td>\n",
       "      <td>0</td>\n",
       "      <td>0</td>\n",
       "      <td>GA</td>\n",
       "      <td>32.967119</td>\n",
       "      <td>-82.793570</td>\n",
       "    </tr>\n",
       "    <tr>\n",
       "      <th>ID0000004</th>\n",
       "      <td>103</td>\n",
       "      <td>Idaho</td>\n",
       "      <td>Adams</td>\n",
       "      <td>2020-01-31</td>\n",
       "      <td>0</td>\n",
       "      <td>0</td>\n",
       "      <td>ID</td>\n",
       "      <td>44.893336</td>\n",
       "      <td>-116.454525</td>\n",
       "    </tr>\n",
       "    <tr>\n",
       "      <th>...</th>\n",
       "      <td>...</td>\n",
       "      <td>...</td>\n",
       "      <td>...</td>\n",
       "      <td>...</td>\n",
       "      <td>...</td>\n",
       "      <td>...</td>\n",
       "      <td>...</td>\n",
       "      <td>...</td>\n",
       "      <td>...</td>\n",
       "    </tr>\n",
       "    <tr>\n",
       "      <th>AR3099175</th>\n",
       "      <td>83</td>\n",
       "      <td>Arkansas</td>\n",
       "      <td>Logan</td>\n",
       "      <td>2022-03-10</td>\n",
       "      <td>74</td>\n",
       "      <td>5076</td>\n",
       "      <td>AR</td>\n",
       "      <td>35.214132</td>\n",
       "      <td>-93.719510</td>\n",
       "    </tr>\n",
       "    <tr>\n",
       "      <th>CA3099176</th>\n",
       "      <td>09</td>\n",
       "      <td>California</td>\n",
       "      <td>Calaveras</td>\n",
       "      <td>2022-03-10</td>\n",
       "      <td>117</td>\n",
       "      <td>7595</td>\n",
       "      <td>CA</td>\n",
       "      <td>38.205371</td>\n",
       "      <td>-120.552913</td>\n",
       "    </tr>\n",
       "    <tr>\n",
       "      <th>CA3099177</th>\n",
       "      <td>35</td>\n",
       "      <td>California</td>\n",
       "      <td>Lassen</td>\n",
       "      <td>2022-03-10</td>\n",
       "      <td>60</td>\n",
       "      <td>9813</td>\n",
       "      <td>CA</td>\n",
       "      <td>40.673113</td>\n",
       "      <td>-120.593510</td>\n",
       "    </tr>\n",
       "    <tr>\n",
       "      <th>CA3099178</th>\n",
       "      <td>37</td>\n",
       "      <td>California</td>\n",
       "      <td>Los Angeles</td>\n",
       "      <td>2022-03-10</td>\n",
       "      <td>31178</td>\n",
       "      <td>2808409</td>\n",
       "      <td>CA</td>\n",
       "      <td>34.308284</td>\n",
       "      <td>-118.228241</td>\n",
       "    </tr>\n",
       "    <tr>\n",
       "      <th>FL3099179</th>\n",
       "      <td>105</td>\n",
       "      <td>Florida</td>\n",
       "      <td>Bay</td>\n",
       "      <td>2022-03-10</td>\n",
       "      <td>778</td>\n",
       "      <td>46333</td>\n",
       "      <td>FL</td>\n",
       "      <td>30.265487</td>\n",
       "      <td>-85.621226</td>\n",
       "    </tr>\n",
       "  </tbody>\n",
       "</table>\n",
       "<p>3017226 rows × 9 columns</p>\n",
       "</div>"
      ],
      "text/plain": [
       "            FIPS       State City/County/Borough/Region       Date  \\\n",
       "id                                                                   \n",
       "FL0000000  12119     Florida                     Sumter 2020-01-31   \n",
       "GA0000001  13153     Georgia                    Houston 2020-01-31   \n",
       "GA0000002  13227     Georgia                    Pickens 2020-01-31   \n",
       "GA0000003    133     Georgia                 Washington 2020-01-31   \n",
       "ID0000004    103       Idaho                      Adams 2020-01-31   \n",
       "...          ...         ...                        ...        ...   \n",
       "AR3099175     83    Arkansas                      Logan 2022-03-10   \n",
       "CA3099176     09  California                  Calaveras 2022-03-10   \n",
       "CA3099177     35  California                     Lassen 2022-03-10   \n",
       "CA3099178     37  California                Los Angeles 2022-03-10   \n",
       "FL3099179    105     Florida                        Bay 2022-03-10   \n",
       "\n",
       "           death total  infected total Abbr        lat         lon  \n",
       "id                                                                  \n",
       "FL0000000            0               0   FL  28.701818  -82.079427  \n",
       "GA0000001            0               0   GA  32.458025  -83.668791  \n",
       "GA0000002            0               0   GA  34.465892  -84.464066  \n",
       "GA0000003            0               0   GA  32.967119  -82.793570  \n",
       "ID0000004            0               0   ID  44.893336 -116.454525  \n",
       "...                ...             ...  ...        ...         ...  \n",
       "AR3099175           74            5076   AR  35.214132  -93.719510  \n",
       "CA3099176          117            7595   CA  38.205371 -120.552913  \n",
       "CA3099177           60            9813   CA  40.673113 -120.593510  \n",
       "CA3099178        31178         2808409   CA  34.308284 -118.228241  \n",
       "FL3099179          778           46333   FL  30.265487  -85.621226  \n",
       "\n",
       "[3017226 rows x 9 columns]"
      ]
     },
     "execution_count": 29,
     "metadata": {},
     "output_type": "execute_result"
    }
   ],
   "source": [
    "raw_data.set_index('id', inplace=True)\n",
    "raw_data"
   ]
  },
  {
   "cell_type": "code",
   "execution_count": 33,
   "id": "19590718",
   "metadata": {
    "ExecuteTime": {
     "end_time": "2023-10-09T14:13:54.383536Z",
     "start_time": "2023-10-09T14:13:54.029170Z"
    }
   },
   "outputs": [
    {
     "data": {
      "text/html": [
       "<div>\n",
       "<style scoped>\n",
       "    .dataframe tbody tr th:only-of-type {\n",
       "        vertical-align: middle;\n",
       "    }\n",
       "\n",
       "    .dataframe tbody tr th {\n",
       "        vertical-align: top;\n",
       "    }\n",
       "\n",
       "    .dataframe thead th {\n",
       "        text-align: right;\n",
       "    }\n",
       "</style>\n",
       "<table border=\"1\" class=\"dataframe\">\n",
       "  <thead>\n",
       "    <tr style=\"text-align: right;\">\n",
       "      <th></th>\n",
       "      <th>FIPS</th>\n",
       "      <th>lat</th>\n",
       "      <th>lon</th>\n",
       "      <th>State</th>\n",
       "      <th>Abbr</th>\n",
       "      <th>City/County/Borough/Region</th>\n",
       "      <th>infected total</th>\n",
       "      <th>death total</th>\n",
       "    </tr>\n",
       "    <tr>\n",
       "      <th>id</th>\n",
       "      <th></th>\n",
       "      <th></th>\n",
       "      <th></th>\n",
       "      <th></th>\n",
       "      <th></th>\n",
       "      <th></th>\n",
       "      <th></th>\n",
       "      <th></th>\n",
       "    </tr>\n",
       "  </thead>\n",
       "  <tbody>\n",
       "    <tr>\n",
       "      <th>FL0000000</th>\n",
       "      <td>12119</td>\n",
       "      <td>28.701818</td>\n",
       "      <td>-82.079427</td>\n",
       "      <td>Florida</td>\n",
       "      <td>FL</td>\n",
       "      <td>Sumter</td>\n",
       "      <td>0</td>\n",
       "      <td>0</td>\n",
       "    </tr>\n",
       "    <tr>\n",
       "      <th>GA0000001</th>\n",
       "      <td>13153</td>\n",
       "      <td>32.458025</td>\n",
       "      <td>-83.668791</td>\n",
       "      <td>Georgia</td>\n",
       "      <td>GA</td>\n",
       "      <td>Houston</td>\n",
       "      <td>0</td>\n",
       "      <td>0</td>\n",
       "    </tr>\n",
       "    <tr>\n",
       "      <th>GA0000002</th>\n",
       "      <td>13227</td>\n",
       "      <td>34.465892</td>\n",
       "      <td>-84.464066</td>\n",
       "      <td>Georgia</td>\n",
       "      <td>GA</td>\n",
       "      <td>Pickens</td>\n",
       "      <td>0</td>\n",
       "      <td>0</td>\n",
       "    </tr>\n",
       "    <tr>\n",
       "      <th>GA0000003</th>\n",
       "      <td>133</td>\n",
       "      <td>32.967119</td>\n",
       "      <td>-82.793570</td>\n",
       "      <td>Georgia</td>\n",
       "      <td>GA</td>\n",
       "      <td>Washington</td>\n",
       "      <td>0</td>\n",
       "      <td>0</td>\n",
       "    </tr>\n",
       "    <tr>\n",
       "      <th>ID0000004</th>\n",
       "      <td>103</td>\n",
       "      <td>44.893336</td>\n",
       "      <td>-116.454525</td>\n",
       "      <td>Idaho</td>\n",
       "      <td>ID</td>\n",
       "      <td>Adams</td>\n",
       "      <td>0</td>\n",
       "      <td>0</td>\n",
       "    </tr>\n",
       "    <tr>\n",
       "      <th>...</th>\n",
       "      <td>...</td>\n",
       "      <td>...</td>\n",
       "      <td>...</td>\n",
       "      <td>...</td>\n",
       "      <td>...</td>\n",
       "      <td>...</td>\n",
       "      <td>...</td>\n",
       "      <td>...</td>\n",
       "    </tr>\n",
       "    <tr>\n",
       "      <th>AR3099175</th>\n",
       "      <td>83</td>\n",
       "      <td>35.214132</td>\n",
       "      <td>-93.719510</td>\n",
       "      <td>Arkansas</td>\n",
       "      <td>AR</td>\n",
       "      <td>Logan</td>\n",
       "      <td>5076</td>\n",
       "      <td>74</td>\n",
       "    </tr>\n",
       "    <tr>\n",
       "      <th>CA3099176</th>\n",
       "      <td>09</td>\n",
       "      <td>38.205371</td>\n",
       "      <td>-120.552913</td>\n",
       "      <td>California</td>\n",
       "      <td>CA</td>\n",
       "      <td>Calaveras</td>\n",
       "      <td>7595</td>\n",
       "      <td>117</td>\n",
       "    </tr>\n",
       "    <tr>\n",
       "      <th>CA3099177</th>\n",
       "      <td>35</td>\n",
       "      <td>40.673113</td>\n",
       "      <td>-120.593510</td>\n",
       "      <td>California</td>\n",
       "      <td>CA</td>\n",
       "      <td>Lassen</td>\n",
       "      <td>9813</td>\n",
       "      <td>60</td>\n",
       "    </tr>\n",
       "    <tr>\n",
       "      <th>CA3099178</th>\n",
       "      <td>37</td>\n",
       "      <td>34.308284</td>\n",
       "      <td>-118.228241</td>\n",
       "      <td>California</td>\n",
       "      <td>CA</td>\n",
       "      <td>Los Angeles</td>\n",
       "      <td>2808409</td>\n",
       "      <td>31178</td>\n",
       "    </tr>\n",
       "    <tr>\n",
       "      <th>FL3099179</th>\n",
       "      <td>105</td>\n",
       "      <td>30.265487</td>\n",
       "      <td>-85.621226</td>\n",
       "      <td>Florida</td>\n",
       "      <td>FL</td>\n",
       "      <td>Bay</td>\n",
       "      <td>46333</td>\n",
       "      <td>778</td>\n",
       "    </tr>\n",
       "  </tbody>\n",
       "</table>\n",
       "<p>3017226 rows × 8 columns</p>\n",
       "</div>"
      ],
      "text/plain": [
       "            FIPS        lat         lon       State Abbr  \\\n",
       "id                                                         \n",
       "FL0000000  12119  28.701818  -82.079427     Florida   FL   \n",
       "GA0000001  13153  32.458025  -83.668791     Georgia   GA   \n",
       "GA0000002  13227  34.465892  -84.464066     Georgia   GA   \n",
       "GA0000003    133  32.967119  -82.793570     Georgia   GA   \n",
       "ID0000004    103  44.893336 -116.454525       Idaho   ID   \n",
       "...          ...        ...         ...         ...  ...   \n",
       "AR3099175     83  35.214132  -93.719510    Arkansas   AR   \n",
       "CA3099176     09  38.205371 -120.552913  California   CA   \n",
       "CA3099177     35  40.673113 -120.593510  California   CA   \n",
       "CA3099178     37  34.308284 -118.228241  California   CA   \n",
       "FL3099179    105  30.265487  -85.621226     Florida   FL   \n",
       "\n",
       "          City/County/Borough/Region  infected total  death total  \n",
       "id                                                                 \n",
       "FL0000000                     Sumter               0            0  \n",
       "GA0000001                    Houston               0            0  \n",
       "GA0000002                    Pickens               0            0  \n",
       "GA0000003                 Washington               0            0  \n",
       "ID0000004                      Adams               0            0  \n",
       "...                              ...             ...          ...  \n",
       "AR3099175                      Logan            5076           74  \n",
       "CA3099176                  Calaveras            7595          117  \n",
       "CA3099177                     Lassen            9813           60  \n",
       "CA3099178                Los Angeles         2808409        31178  \n",
       "FL3099179                        Bay           46333          778  \n",
       "\n",
       "[3017226 rows x 8 columns]"
      ]
     },
     "execution_count": 33,
     "metadata": {},
     "output_type": "execute_result"
    }
   ],
   "source": [
    "new_cols = [\"FIPS\",\"lat\",\"lon\",\"State\",\"Abbr\",\"City/County/Borough/Region\",\"infected total\",\"death total\"]\n",
    "raw_data=raw_data.reindex(columns=new_cols)\n",
    "raw_data"
   ]
  },
  {
   "cell_type": "markdown",
   "id": "785bf6bf185ae6a6",
   "metadata": {
    "collapsed": false
   },
   "source": [
    "# Conclusion before handling missing values"
   ]
  },
  {
   "cell_type": "code",
   "execution_count": 31,
   "id": "b47741ca1bf67f79",
   "metadata": {
    "ExecuteTime": {
     "end_time": "2023-10-09T14:14:01.001169Z",
     "start_time": "2023-10-09T14:13:54.369320Z"
    },
    "collapsed": false
   },
   "outputs": [],
   "source": [
    "# Save data\n",
    "raw_data.to_csv('../../data/covid19_usa.csv')"
   ]
  },
  {
   "cell_type": "code",
   "execution_count": null,
   "id": "6195e1c9a5708e47",
   "metadata": {
    "ExecuteTime": {
     "end_time": "2023-10-09T14:10:33.485085Z",
     "start_time": "2023-10-09T14:10:33.483565Z"
    },
    "collapsed": false
   },
   "outputs": [],
   "source": []
  }
 ],
 "metadata": {
  "kernelspec": {
   "display_name": "Python 3",
   "language": "python",
   "name": "python3"
  },
  "language_info": {
   "codemirror_mode": {
    "name": "ipython",
    "version": 3
   },
   "file_extension": ".py",
   "mimetype": "text/x-python",
   "name": "python",
   "nbconvert_exporter": "python",
   "pygments_lexer": "ipython3",
   "version": "3.8.10"
  }
 },
 "nbformat": 4,
 "nbformat_minor": 5
}
