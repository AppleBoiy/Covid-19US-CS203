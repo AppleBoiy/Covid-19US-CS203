{
 "cells": [
  {
   "cell_type": "code",
   "execution_count": 13,
   "id": "initial_id",
   "metadata": {
    "collapsed": true,
    "ExecuteTime": {
     "end_time": "2023-10-10T10:08:47.856005Z",
     "start_time": "2023-10-10T10:08:47.712582Z"
    }
   },
   "outputs": [],
   "source": [
    "# import necessary libraries\n",
    "import pandas as pd"
   ]
  },
  {
   "cell_type": "code",
   "execution_count": 14,
   "id": "b4a0aaae5e31b8f5",
   "metadata": {
    "collapsed": false,
    "ExecuteTime": {
     "end_time": "2023-10-10T10:08:49.598927Z",
     "start_time": "2023-10-10T10:08:47.722126Z"
    }
   },
   "outputs": [],
   "source": [
    "raw_data = pd.read_csv('../../data/covid19_us_counties.csv')"
   ]
  },
  {
   "cell_type": "markdown",
   "id": "4ee7055dfcc8ff09",
   "metadata": {
    "collapsed": false
   },
   "source": [
    "## Data preparation\n",
    "### Tidy data "
   ]
  },
  {
   "cell_type": "code",
   "execution_count": 15,
   "id": "a144a84a20947b66",
   "metadata": {
    "collapsed": false,
    "ExecuteTime": {
     "end_time": "2023-10-10T10:08:49.603471Z",
     "start_time": "2023-10-10T10:08:49.600059Z"
    }
   },
   "outputs": [
    {
     "data": {
      "text/plain": "                                                   Admin 2 FIPS Code;Province/State;Admin 2 Level (City/County/Borough/Region);Date;Total Death;Total Confirmed;location;Year\n36103.0;New York;Suffolk;2020-06-22;1965;41010;...                                   -72.8012172;2020                                                                        \n36105.0;New York;Sullivan;2020-06-22;45;1438;41...                                  -74.76394559;2020                                                                        \n37133.0;North Carolina;Onslow;2020-06-22;3;221;...                                  -77.42908179;2020                                                                        \n38001.0;North Dakota;Adams;2020-06-22;0;0;46.09...                                  -102.5285397;2020                                                                        \n39063.0;Ohio;Hancock;2020-06-22;5;63;41.00250487                                    -83.66838948;2020                                                                        ",
      "text/html": "<div>\n<style scoped>\n    .dataframe tbody tr th:only-of-type {\n        vertical-align: middle;\n    }\n\n    .dataframe tbody tr th {\n        vertical-align: top;\n    }\n\n    .dataframe thead th {\n        text-align: right;\n    }\n</style>\n<table border=\"1\" class=\"dataframe\">\n  <thead>\n    <tr style=\"text-align: right;\">\n      <th></th>\n      <th>Admin 2 FIPS Code;Province/State;Admin 2 Level (City/County/Borough/Region);Date;Total Death;Total Confirmed;location;Year</th>\n    </tr>\n  </thead>\n  <tbody>\n    <tr>\n      <th>36103.0;New York;Suffolk;2020-06-22;1965;41010;40.88320119</th>\n      <td>-72.8012172;2020</td>\n    </tr>\n    <tr>\n      <th>36105.0;New York;Sullivan;2020-06-22;45;1438;41.71579493</th>\n      <td>-74.76394559;2020</td>\n    </tr>\n    <tr>\n      <th>37133.0;North Carolina;Onslow;2020-06-22;3;221;34.72607366</th>\n      <td>-77.42908179;2020</td>\n    </tr>\n    <tr>\n      <th>38001.0;North Dakota;Adams;2020-06-22;0;0;46.09686891</th>\n      <td>-102.5285397;2020</td>\n    </tr>\n    <tr>\n      <th>39063.0;Ohio;Hancock;2020-06-22;5;63;41.00250487</th>\n      <td>-83.66838948;2020</td>\n    </tr>\n  </tbody>\n</table>\n</div>"
     },
     "execution_count": 15,
     "metadata": {},
     "output_type": "execute_result"
    }
   ],
   "source": [
    "# sample data\n",
    "raw_data.head()"
   ]
  },
  {
   "cell_type": "code",
   "execution_count": 16,
   "id": "d848f168f261ce03",
   "metadata": {
    "collapsed": false,
    "ExecuteTime": {
     "end_time": "2023-10-10T10:08:50.955960Z",
     "start_time": "2023-10-10T10:08:49.602969Z"
    }
   },
   "outputs": [],
   "source": [
    "# how to make right?\n",
    "raw_data = pd.read_csv('../../data/covid19_us_counties.csv', sep=';')"
   ]
  },
  {
   "cell_type": "code",
   "execution_count": 17,
   "id": "681d200eb0c68bd9",
   "metadata": {
    "collapsed": false,
    "ExecuteTime": {
     "end_time": "2023-10-10T10:08:50.966502Z",
     "start_time": "2023-10-10T10:08:50.959515Z"
    }
   },
   "outputs": [
    {
     "data": {
      "text/plain": "   Admin 2 FIPS Code  Province/State  \\\n0            36103.0        New York   \n1            36105.0        New York   \n2            37133.0  North Carolina   \n3            38001.0    North Dakota   \n4            39063.0            Ohio   \n\n  Admin 2 Level (City/County/Borough/Region)        Date  Total Death  \\\n0                                    Suffolk  2020-06-22         1965   \n1                                   Sullivan  2020-06-22           45   \n2                                     Onslow  2020-06-22            3   \n3                                      Adams  2020-06-22            0   \n4                                    Hancock  2020-06-22            5   \n\n   Total Confirmed                  location  Year  \n0            41010   40.88320119,-72.8012172  2020  \n1             1438  41.71579493,-74.76394559  2020  \n2              221  34.72607366,-77.42908179  2020  \n3                0  46.09686891,-102.5285397  2020  \n4               63  41.00250487,-83.66838948  2020  ",
      "text/html": "<div>\n<style scoped>\n    .dataframe tbody tr th:only-of-type {\n        vertical-align: middle;\n    }\n\n    .dataframe tbody tr th {\n        vertical-align: top;\n    }\n\n    .dataframe thead th {\n        text-align: right;\n    }\n</style>\n<table border=\"1\" class=\"dataframe\">\n  <thead>\n    <tr style=\"text-align: right;\">\n      <th></th>\n      <th>Admin 2 FIPS Code</th>\n      <th>Province/State</th>\n      <th>Admin 2 Level (City/County/Borough/Region)</th>\n      <th>Date</th>\n      <th>Total Death</th>\n      <th>Total Confirmed</th>\n      <th>location</th>\n      <th>Year</th>\n    </tr>\n  </thead>\n  <tbody>\n    <tr>\n      <th>0</th>\n      <td>36103.0</td>\n      <td>New York</td>\n      <td>Suffolk</td>\n      <td>2020-06-22</td>\n      <td>1965</td>\n      <td>41010</td>\n      <td>40.88320119,-72.8012172</td>\n      <td>2020</td>\n    </tr>\n    <tr>\n      <th>1</th>\n      <td>36105.0</td>\n      <td>New York</td>\n      <td>Sullivan</td>\n      <td>2020-06-22</td>\n      <td>45</td>\n      <td>1438</td>\n      <td>41.71579493,-74.76394559</td>\n      <td>2020</td>\n    </tr>\n    <tr>\n      <th>2</th>\n      <td>37133.0</td>\n      <td>North Carolina</td>\n      <td>Onslow</td>\n      <td>2020-06-22</td>\n      <td>3</td>\n      <td>221</td>\n      <td>34.72607366,-77.42908179</td>\n      <td>2020</td>\n    </tr>\n    <tr>\n      <th>3</th>\n      <td>38001.0</td>\n      <td>North Dakota</td>\n      <td>Adams</td>\n      <td>2020-06-22</td>\n      <td>0</td>\n      <td>0</td>\n      <td>46.09686891,-102.5285397</td>\n      <td>2020</td>\n    </tr>\n    <tr>\n      <th>4</th>\n      <td>39063.0</td>\n      <td>Ohio</td>\n      <td>Hancock</td>\n      <td>2020-06-22</td>\n      <td>5</td>\n      <td>63</td>\n      <td>41.00250487,-83.66838948</td>\n      <td>2020</td>\n    </tr>\n  </tbody>\n</table>\n</div>"
     },
     "execution_count": 17,
     "metadata": {},
     "output_type": "execute_result"
    }
   ],
   "source": [
    "raw_data.head() # This is better."
   ]
  },
  {
   "cell_type": "markdown",
   "id": "30de41d51da5c582",
   "metadata": {
    "collapsed": false
   },
   "source": [
    "## Header name ?"
   ]
  },
  {
   "cell_type": "code",
   "execution_count": 18,
   "id": "560e39016fad768",
   "metadata": {
    "collapsed": false,
    "ExecuteTime": {
     "end_time": "2023-10-10T10:08:50.966830Z",
     "start_time": "2023-10-10T10:08:50.962943Z"
    }
   },
   "outputs": [
    {
     "data": {
      "text/plain": "Index(['Admin 2 FIPS Code', 'Province/State',\n       'Admin 2 Level (City/County/Borough/Region)', 'Date', 'Total Death',\n       'Total Confirmed', 'location', 'Year'],\n      dtype='object')"
     },
     "execution_count": 18,
     "metadata": {},
     "output_type": "execute_result"
    }
   ],
   "source": [
    "raw_data.columns"
   ]
  },
  {
   "cell_type": "code",
   "execution_count": 19,
   "id": "e362305e26ffb571",
   "metadata": {
    "collapsed": false,
    "ExecuteTime": {
     "end_time": "2023-10-10T10:08:50.969855Z",
     "start_time": "2023-10-10T10:08:50.966143Z"
    }
   },
   "outputs": [],
   "source": [
    "# US doesn't have a province, but states\n",
    "# FIPS code only, Admin 2 Level is not necessary\n",
    "# What is total confirmed?\n",
    "raw_data.rename(columns={\n",
    "    'Admin 2 FIPS Code': 'FIPS',\n",
    "    'Province/State': 'State',\n",
    "    'Admin 2 Level (City/County/Borough/Region)': 'City/County/Borough/Region',\n",
    "    'Total Confirmed': 'infected total',\n",
    "    'Total Death': 'death total',\n",
    "}, inplace=True)\n"
   ]
  },
  {
   "cell_type": "code",
   "execution_count": 20,
   "id": "f897a4d5fc149f4d",
   "metadata": {
    "collapsed": false,
    "ExecuteTime": {
     "end_time": "2023-10-10T10:08:50.972555Z",
     "start_time": "2023-10-10T10:08:50.970239Z"
    }
   },
   "outputs": [
    {
     "data": {
      "text/plain": "      FIPS           State City/County/Borough/Region        Date  \\\n0  36103.0        New York                    Suffolk  2020-06-22   \n1  36105.0        New York                   Sullivan  2020-06-22   \n2  37133.0  North Carolina                     Onslow  2020-06-22   \n3  38001.0    North Dakota                      Adams  2020-06-22   \n4  39063.0            Ohio                    Hancock  2020-06-22   \n\n   death total  infected total                  location  Year  \n0         1965           41010   40.88320119,-72.8012172  2020  \n1           45            1438  41.71579493,-74.76394559  2020  \n2            3             221  34.72607366,-77.42908179  2020  \n3            0               0  46.09686891,-102.5285397  2020  \n4            5              63  41.00250487,-83.66838948  2020  ",
      "text/html": "<div>\n<style scoped>\n    .dataframe tbody tr th:only-of-type {\n        vertical-align: middle;\n    }\n\n    .dataframe tbody tr th {\n        vertical-align: top;\n    }\n\n    .dataframe thead th {\n        text-align: right;\n    }\n</style>\n<table border=\"1\" class=\"dataframe\">\n  <thead>\n    <tr style=\"text-align: right;\">\n      <th></th>\n      <th>FIPS</th>\n      <th>State</th>\n      <th>City/County/Borough/Region</th>\n      <th>Date</th>\n      <th>death total</th>\n      <th>infected total</th>\n      <th>location</th>\n      <th>Year</th>\n    </tr>\n  </thead>\n  <tbody>\n    <tr>\n      <th>0</th>\n      <td>36103.0</td>\n      <td>New York</td>\n      <td>Suffolk</td>\n      <td>2020-06-22</td>\n      <td>1965</td>\n      <td>41010</td>\n      <td>40.88320119,-72.8012172</td>\n      <td>2020</td>\n    </tr>\n    <tr>\n      <th>1</th>\n      <td>36105.0</td>\n      <td>New York</td>\n      <td>Sullivan</td>\n      <td>2020-06-22</td>\n      <td>45</td>\n      <td>1438</td>\n      <td>41.71579493,-74.76394559</td>\n      <td>2020</td>\n    </tr>\n    <tr>\n      <th>2</th>\n      <td>37133.0</td>\n      <td>North Carolina</td>\n      <td>Onslow</td>\n      <td>2020-06-22</td>\n      <td>3</td>\n      <td>221</td>\n      <td>34.72607366,-77.42908179</td>\n      <td>2020</td>\n    </tr>\n    <tr>\n      <th>3</th>\n      <td>38001.0</td>\n      <td>North Dakota</td>\n      <td>Adams</td>\n      <td>2020-06-22</td>\n      <td>0</td>\n      <td>0</td>\n      <td>46.09686891,-102.5285397</td>\n      <td>2020</td>\n    </tr>\n    <tr>\n      <th>4</th>\n      <td>39063.0</td>\n      <td>Ohio</td>\n      <td>Hancock</td>\n      <td>2020-06-22</td>\n      <td>5</td>\n      <td>63</td>\n      <td>41.00250487,-83.66838948</td>\n      <td>2020</td>\n    </tr>\n  </tbody>\n</table>\n</div>"
     },
     "execution_count": 20,
     "metadata": {},
     "output_type": "execute_result"
    }
   ],
   "source": [
    "raw_data.head()"
   ]
  },
  {
   "cell_type": "markdown",
   "id": "1f2928cf0b88ea09",
   "metadata": {
    "collapsed": false
   },
   "source": [
    "### Remove duplicates "
   ]
  },
  {
   "cell_type": "code",
   "execution_count": 21,
   "id": "1cde7bd76878e4b1",
   "metadata": {
    "collapsed": false,
    "ExecuteTime": {
     "end_time": "2023-10-10T10:08:51.718177Z",
     "start_time": "2023-10-10T10:08:50.974489Z"
    }
   },
   "outputs": [
    {
     "data": {
      "text/plain": "0"
     },
     "execution_count": 21,
     "metadata": {},
     "output_type": "execute_result"
    }
   ],
   "source": [
    "# check duplicates\n",
    "raw_data.duplicated().sum() # no duplicates, good!"
   ]
  },
  {
   "cell_type": "markdown",
   "id": "68c208578796fee5",
   "metadata": {
    "collapsed": false
   },
   "source": [
    "### Homogeneous variables"
   ]
  },
  {
   "cell_type": "markdown",
   "id": "454e3a994a2e1b8a",
   "metadata": {
    "collapsed": false
   },
   "source": []
  },
  {
   "cell_type": "code",
   "execution_count": 22,
   "id": "7d506542dc4212c9",
   "metadata": {
    "collapsed": false,
    "ExecuteTime": {
     "end_time": "2023-10-10T10:08:51.724722Z",
     "start_time": "2023-10-10T10:08:51.718570Z"
    }
   },
   "outputs": [],
   "source": [
    "import json"
   ]
  },
  {
   "cell_type": "code",
   "execution_count": 23,
   "id": "e02604e7918ad67f",
   "metadata": {
    "collapsed": false,
    "ExecuteTime": {
     "end_time": "2023-10-10T10:08:51.727416Z",
     "start_time": "2023-10-10T10:08:51.723257Z"
    }
   },
   "outputs": [],
   "source": [
    "name_of_state_us = json.load(open('name_state_us.json'))"
   ]
  },
  {
   "cell_type": "code",
   "execution_count": 24,
   "id": "9ed664ac4a6eb674",
   "metadata": {
    "collapsed": false,
    "ExecuteTime": {
     "end_time": "2023-10-10T10:08:51.832163Z",
     "start_time": "2023-10-10T10:08:51.744314Z"
    }
   },
   "outputs": [],
   "source": [
    "raw_data['Abbr'] = raw_data['State'].map(name_of_state_us)\n"
   ]
  },
  {
   "cell_type": "code",
   "execution_count": 25,
   "id": "1c8a595ccc10d453",
   "metadata": {
    "collapsed": false,
    "ExecuteTime": {
     "end_time": "2023-10-10T10:08:51.838565Z",
     "start_time": "2023-10-10T10:08:51.835222Z"
    }
   },
   "outputs": [
    {
     "data": {
      "text/plain": "      FIPS           State City/County/Borough/Region        Date  \\\n0  36103.0        New York                    Suffolk  2020-06-22   \n1  36105.0        New York                   Sullivan  2020-06-22   \n2  37133.0  North Carolina                     Onslow  2020-06-22   \n3  38001.0    North Dakota                      Adams  2020-06-22   \n4  39063.0            Ohio                    Hancock  2020-06-22   \n\n   death total  infected total                  location  Year Abbr  \n0         1965           41010   40.88320119,-72.8012172  2020   NY  \n1           45            1438  41.71579493,-74.76394559  2020   NY  \n2            3             221  34.72607366,-77.42908179  2020   NC  \n3            0               0  46.09686891,-102.5285397  2020   ND  \n4            5              63  41.00250487,-83.66838948  2020   OH  ",
      "text/html": "<div>\n<style scoped>\n    .dataframe tbody tr th:only-of-type {\n        vertical-align: middle;\n    }\n\n    .dataframe tbody tr th {\n        vertical-align: top;\n    }\n\n    .dataframe thead th {\n        text-align: right;\n    }\n</style>\n<table border=\"1\" class=\"dataframe\">\n  <thead>\n    <tr style=\"text-align: right;\">\n      <th></th>\n      <th>FIPS</th>\n      <th>State</th>\n      <th>City/County/Borough/Region</th>\n      <th>Date</th>\n      <th>death total</th>\n      <th>infected total</th>\n      <th>location</th>\n      <th>Year</th>\n      <th>Abbr</th>\n    </tr>\n  </thead>\n  <tbody>\n    <tr>\n      <th>0</th>\n      <td>36103.0</td>\n      <td>New York</td>\n      <td>Suffolk</td>\n      <td>2020-06-22</td>\n      <td>1965</td>\n      <td>41010</td>\n      <td>40.88320119,-72.8012172</td>\n      <td>2020</td>\n      <td>NY</td>\n    </tr>\n    <tr>\n      <th>1</th>\n      <td>36105.0</td>\n      <td>New York</td>\n      <td>Sullivan</td>\n      <td>2020-06-22</td>\n      <td>45</td>\n      <td>1438</td>\n      <td>41.71579493,-74.76394559</td>\n      <td>2020</td>\n      <td>NY</td>\n    </tr>\n    <tr>\n      <th>2</th>\n      <td>37133.0</td>\n      <td>North Carolina</td>\n      <td>Onslow</td>\n      <td>2020-06-22</td>\n      <td>3</td>\n      <td>221</td>\n      <td>34.72607366,-77.42908179</td>\n      <td>2020</td>\n      <td>NC</td>\n    </tr>\n    <tr>\n      <th>3</th>\n      <td>38001.0</td>\n      <td>North Dakota</td>\n      <td>Adams</td>\n      <td>2020-06-22</td>\n      <td>0</td>\n      <td>0</td>\n      <td>46.09686891,-102.5285397</td>\n      <td>2020</td>\n      <td>ND</td>\n    </tr>\n    <tr>\n      <th>4</th>\n      <td>39063.0</td>\n      <td>Ohio</td>\n      <td>Hancock</td>\n      <td>2020-06-22</td>\n      <td>5</td>\n      <td>63</td>\n      <td>41.00250487,-83.66838948</td>\n      <td>2020</td>\n      <td>OH</td>\n    </tr>\n  </tbody>\n</table>\n</div>"
     },
     "execution_count": 25,
     "metadata": {},
     "output_type": "execute_result"
    }
   ],
   "source": [
    "raw_data.head()"
   ]
  },
  {
   "cell_type": "code",
   "execution_count": 26,
   "id": "643740dd4fb6158e",
   "metadata": {
    "collapsed": false,
    "ExecuteTime": {
     "end_time": "2023-10-10T10:08:51.896548Z",
     "start_time": "2023-10-10T10:08:51.879919Z"
    }
   },
   "outputs": [
    {
     "data": {
      "text/plain": "63510"
     },
     "execution_count": 26,
     "metadata": {},
     "output_type": "execute_result"
    }
   ],
   "source": [
    "raw_data['Abbr'].isnull().sum() # something went wrong?"
   ]
  },
  {
   "cell_type": "code",
   "execution_count": 27,
   "id": "23b23613c084e3ac",
   "metadata": {
    "collapsed": false,
    "ExecuteTime": {
     "end_time": "2023-10-10T10:08:52.089529Z",
     "start_time": "2023-10-10T10:08:51.884693Z"
    }
   },
   "outputs": [],
   "source": [
    "# drop missing 'Abbr' (not a US State)\n",
    "raw_data = raw_data.dropna(subset=['Abbr'])"
   ]
  },
  {
   "cell_type": "code",
   "execution_count": 28,
   "id": "1f98e4f48d2a0eda",
   "metadata": {
    "collapsed": false,
    "ExecuteTime": {
     "end_time": "2023-10-10T10:08:52.130739Z",
     "start_time": "2023-10-10T10:08:52.128064Z"
    }
   },
   "outputs": [
    {
     "data": {
      "text/plain": "0"
     },
     "execution_count": 28,
     "metadata": {},
     "output_type": "execute_result"
    }
   ],
   "source": [
    "raw_data['Abbr'].isnull().sum()"
   ]
  },
  {
   "cell_type": "code",
   "execution_count": 29,
   "id": "2444ccfd6f336479",
   "metadata": {
    "collapsed": false,
    "ExecuteTime": {
     "end_time": "2023-10-10T10:08:55.006457Z",
     "start_time": "2023-10-10T10:08:52.143023Z"
    }
   },
   "outputs": [],
   "source": [
    "# locate must show as (lat, lon)\n",
    "raw_data[['lat', 'lon']] = raw_data['location'].str.split(',', expand=True)\n",
    "raw_data.drop('location', axis=1, inplace=True)"
   ]
  },
  {
   "cell_type": "code",
   "execution_count": 30,
   "id": "5757097d0ecef0f2",
   "metadata": {
    "collapsed": false,
    "ExecuteTime": {
     "end_time": "2023-10-10T10:08:55.016711Z",
     "start_time": "2023-10-10T10:08:55.009209Z"
    }
   },
   "outputs": [
    {
     "data": {
      "text/plain": "      FIPS           State City/County/Borough/Region        Date  \\\n0  36103.0        New York                    Suffolk  2020-06-22   \n1  36105.0        New York                   Sullivan  2020-06-22   \n2  37133.0  North Carolina                     Onslow  2020-06-22   \n3  38001.0    North Dakota                      Adams  2020-06-22   \n4  39063.0            Ohio                    Hancock  2020-06-22   \n\n   death total  infected total  Year Abbr          lat           lon  \n0         1965           41010  2020   NY  40.88320119   -72.8012172  \n1           45            1438  2020   NY  41.71579493  -74.76394559  \n2            3             221  2020   NC  34.72607366  -77.42908179  \n3            0               0  2020   ND  46.09686891  -102.5285397  \n4            5              63  2020   OH  41.00250487  -83.66838948  ",
      "text/html": "<div>\n<style scoped>\n    .dataframe tbody tr th:only-of-type {\n        vertical-align: middle;\n    }\n\n    .dataframe tbody tr th {\n        vertical-align: top;\n    }\n\n    .dataframe thead th {\n        text-align: right;\n    }\n</style>\n<table border=\"1\" class=\"dataframe\">\n  <thead>\n    <tr style=\"text-align: right;\">\n      <th></th>\n      <th>FIPS</th>\n      <th>State</th>\n      <th>City/County/Borough/Region</th>\n      <th>Date</th>\n      <th>death total</th>\n      <th>infected total</th>\n      <th>Year</th>\n      <th>Abbr</th>\n      <th>lat</th>\n      <th>lon</th>\n    </tr>\n  </thead>\n  <tbody>\n    <tr>\n      <th>0</th>\n      <td>36103.0</td>\n      <td>New York</td>\n      <td>Suffolk</td>\n      <td>2020-06-22</td>\n      <td>1965</td>\n      <td>41010</td>\n      <td>2020</td>\n      <td>NY</td>\n      <td>40.88320119</td>\n      <td>-72.8012172</td>\n    </tr>\n    <tr>\n      <th>1</th>\n      <td>36105.0</td>\n      <td>New York</td>\n      <td>Sullivan</td>\n      <td>2020-06-22</td>\n      <td>45</td>\n      <td>1438</td>\n      <td>2020</td>\n      <td>NY</td>\n      <td>41.71579493</td>\n      <td>-74.76394559</td>\n    </tr>\n    <tr>\n      <th>2</th>\n      <td>37133.0</td>\n      <td>North Carolina</td>\n      <td>Onslow</td>\n      <td>2020-06-22</td>\n      <td>3</td>\n      <td>221</td>\n      <td>2020</td>\n      <td>NC</td>\n      <td>34.72607366</td>\n      <td>-77.42908179</td>\n    </tr>\n    <tr>\n      <th>3</th>\n      <td>38001.0</td>\n      <td>North Dakota</td>\n      <td>Adams</td>\n      <td>2020-06-22</td>\n      <td>0</td>\n      <td>0</td>\n      <td>2020</td>\n      <td>ND</td>\n      <td>46.09686891</td>\n      <td>-102.5285397</td>\n    </tr>\n    <tr>\n      <th>4</th>\n      <td>39063.0</td>\n      <td>Ohio</td>\n      <td>Hancock</td>\n      <td>2020-06-22</td>\n      <td>5</td>\n      <td>63</td>\n      <td>2020</td>\n      <td>OH</td>\n      <td>41.00250487</td>\n      <td>-83.66838948</td>\n    </tr>\n  </tbody>\n</table>\n</div>"
     },
     "execution_count": 30,
     "metadata": {},
     "output_type": "execute_result"
    }
   ],
   "source": [
    "raw_data.head()"
   ]
  },
  {
   "cell_type": "markdown",
   "id": "a69eeef286d44fb2",
   "metadata": {
    "collapsed": false
   },
   "source": [
    "### Unique identifier"
   ]
  },
  {
   "cell_type": "code",
   "execution_count": 31,
   "id": "905dd3d57fa9a0e",
   "metadata": {
    "collapsed": false,
    "ExecuteTime": {
     "end_time": "2023-10-10T10:08:55.819258Z",
     "start_time": "2023-10-10T10:08:55.012189Z"
    }
   },
   "outputs": [],
   "source": [
    "# unique identifier is Date + index of row\n",
    "raw_data['id'] = raw_data['Abbr'] + raw_data.index.astype(str)  "
   ]
  },
  {
   "cell_type": "code",
   "execution_count": 32,
   "id": "1f05a3ff8cdd163c",
   "metadata": {
    "collapsed": false,
    "ExecuteTime": {
     "end_time": "2023-10-10T10:08:55.846037Z",
     "start_time": "2023-10-10T10:08:55.816946Z"
    }
   },
   "outputs": [
    {
     "data": {
      "text/plain": "      FIPS           State City/County/Borough/Region        Date  \\\n0  36103.0        New York                    Suffolk  2020-06-22   \n1  36105.0        New York                   Sullivan  2020-06-22   \n2  37133.0  North Carolina                     Onslow  2020-06-22   \n3  38001.0    North Dakota                      Adams  2020-06-22   \n4  39063.0            Ohio                    Hancock  2020-06-22   \n\n   death total  infected total  Year Abbr          lat           lon   id  \n0         1965           41010  2020   NY  40.88320119   -72.8012172  NY0  \n1           45            1438  2020   NY  41.71579493  -74.76394559  NY1  \n2            3             221  2020   NC  34.72607366  -77.42908179  NC2  \n3            0               0  2020   ND  46.09686891  -102.5285397  ND3  \n4            5              63  2020   OH  41.00250487  -83.66838948  OH4  ",
      "text/html": "<div>\n<style scoped>\n    .dataframe tbody tr th:only-of-type {\n        vertical-align: middle;\n    }\n\n    .dataframe tbody tr th {\n        vertical-align: top;\n    }\n\n    .dataframe thead th {\n        text-align: right;\n    }\n</style>\n<table border=\"1\" class=\"dataframe\">\n  <thead>\n    <tr style=\"text-align: right;\">\n      <th></th>\n      <th>FIPS</th>\n      <th>State</th>\n      <th>City/County/Borough/Region</th>\n      <th>Date</th>\n      <th>death total</th>\n      <th>infected total</th>\n      <th>Year</th>\n      <th>Abbr</th>\n      <th>lat</th>\n      <th>lon</th>\n      <th>id</th>\n    </tr>\n  </thead>\n  <tbody>\n    <tr>\n      <th>0</th>\n      <td>36103.0</td>\n      <td>New York</td>\n      <td>Suffolk</td>\n      <td>2020-06-22</td>\n      <td>1965</td>\n      <td>41010</td>\n      <td>2020</td>\n      <td>NY</td>\n      <td>40.88320119</td>\n      <td>-72.8012172</td>\n      <td>NY0</td>\n    </tr>\n    <tr>\n      <th>1</th>\n      <td>36105.0</td>\n      <td>New York</td>\n      <td>Sullivan</td>\n      <td>2020-06-22</td>\n      <td>45</td>\n      <td>1438</td>\n      <td>2020</td>\n      <td>NY</td>\n      <td>41.71579493</td>\n      <td>-74.76394559</td>\n      <td>NY1</td>\n    </tr>\n    <tr>\n      <th>2</th>\n      <td>37133.0</td>\n      <td>North Carolina</td>\n      <td>Onslow</td>\n      <td>2020-06-22</td>\n      <td>3</td>\n      <td>221</td>\n      <td>2020</td>\n      <td>NC</td>\n      <td>34.72607366</td>\n      <td>-77.42908179</td>\n      <td>NC2</td>\n    </tr>\n    <tr>\n      <th>3</th>\n      <td>38001.0</td>\n      <td>North Dakota</td>\n      <td>Adams</td>\n      <td>2020-06-22</td>\n      <td>0</td>\n      <td>0</td>\n      <td>2020</td>\n      <td>ND</td>\n      <td>46.09686891</td>\n      <td>-102.5285397</td>\n      <td>ND3</td>\n    </tr>\n    <tr>\n      <th>4</th>\n      <td>39063.0</td>\n      <td>Ohio</td>\n      <td>Hancock</td>\n      <td>2020-06-22</td>\n      <td>5</td>\n      <td>63</td>\n      <td>2020</td>\n      <td>OH</td>\n      <td>41.00250487</td>\n      <td>-83.66838948</td>\n      <td>OH4</td>\n    </tr>\n  </tbody>\n</table>\n</div>"
     },
     "execution_count": 32,
     "metadata": {},
     "output_type": "execute_result"
    }
   ],
   "source": [
    "raw_data.head() # id is smell, but it's ok for now."
   ]
  },
  {
   "cell_type": "markdown",
   "id": "ed1603b3dc126831",
   "metadata": {
    "collapsed": false
   },
   "source": [
    "### Data type"
   ]
  },
  {
   "cell_type": "code",
   "execution_count": 33,
   "id": "f16df554194212f3",
   "metadata": {
    "collapsed": false,
    "ExecuteTime": {
     "end_time": "2023-10-10T10:08:55.877792Z",
     "start_time": "2023-10-10T10:08:55.819786Z"
    }
   },
   "outputs": [
    {
     "data": {
      "text/plain": "FIPS                          float64\nState                          object\nCity/County/Borough/Region     object\nDate                           object\ndeath total                     int64\ninfected total                  int64\nYear                            int64\nAbbr                           object\nlat                            object\nlon                            object\nid                             object\ndtype: object"
     },
     "execution_count": 33,
     "metadata": {},
     "output_type": "execute_result"
    }
   ],
   "source": [
    "raw_data.dtypes"
   ]
  },
  {
   "cell_type": "code",
   "execution_count": 34,
   "id": "2f5013bc32f63854",
   "metadata": {
    "collapsed": false,
    "ExecuteTime": {
     "end_time": "2023-10-10T10:08:57.454414Z",
     "start_time": "2023-10-10T10:08:55.824310Z"
    }
   },
   "outputs": [],
   "source": [
    "# First of all FIPS is not float, it's string\n",
    "raw_data['FIPS'] = raw_data['FIPS'].astype(str).str.replace('.0', '')\n",
    "\n",
    "# Date is not a string, it's a date\n",
    "raw_data['Date'] = pd.to_datetime(raw_data['Date'])\n",
    "\n",
    "# Lat and Lon are not string, they are floated\n",
    "raw_data['lat'] = raw_data['lat'].astype(float)\n",
    "raw_data['lon'] = raw_data['lon'].astype(float)"
   ]
  },
  {
   "cell_type": "code",
   "execution_count": 35,
   "id": "868f686b0b1df243",
   "metadata": {
    "collapsed": false,
    "ExecuteTime": {
     "end_time": "2023-10-10T10:08:57.502778Z",
     "start_time": "2023-10-10T10:08:57.451927Z"
    }
   },
   "outputs": [
    {
     "data": {
      "text/plain": "    FIPS           State City/County/Borough/Region       Date  death total  \\\n0  36103        New York                    Suffolk 2020-06-22         1965   \n1  36105        New York                   Sullivan 2020-06-22           45   \n2  37133  North Carolina                     Onslow 2020-06-22            3   \n3  38001    North Dakota                      Adams 2020-06-22            0   \n4  39063            Ohio                    Hancock 2020-06-22            5   \n\n   infected total  Year Abbr        lat         lon   id  \n0           41010  2020   NY  40.883201  -72.801217  NY0  \n1            1438  2020   NY  41.715795  -74.763946  NY1  \n2             221  2020   NC  34.726074  -77.429082  NC2  \n3               0  2020   ND  46.096869 -102.528540  ND3  \n4              63  2020   OH  41.002505  -83.668389  OH4  ",
      "text/html": "<div>\n<style scoped>\n    .dataframe tbody tr th:only-of-type {\n        vertical-align: middle;\n    }\n\n    .dataframe tbody tr th {\n        vertical-align: top;\n    }\n\n    .dataframe thead th {\n        text-align: right;\n    }\n</style>\n<table border=\"1\" class=\"dataframe\">\n  <thead>\n    <tr style=\"text-align: right;\">\n      <th></th>\n      <th>FIPS</th>\n      <th>State</th>\n      <th>City/County/Borough/Region</th>\n      <th>Date</th>\n      <th>death total</th>\n      <th>infected total</th>\n      <th>Year</th>\n      <th>Abbr</th>\n      <th>lat</th>\n      <th>lon</th>\n      <th>id</th>\n    </tr>\n  </thead>\n  <tbody>\n    <tr>\n      <th>0</th>\n      <td>36103</td>\n      <td>New York</td>\n      <td>Suffolk</td>\n      <td>2020-06-22</td>\n      <td>1965</td>\n      <td>41010</td>\n      <td>2020</td>\n      <td>NY</td>\n      <td>40.883201</td>\n      <td>-72.801217</td>\n      <td>NY0</td>\n    </tr>\n    <tr>\n      <th>1</th>\n      <td>36105</td>\n      <td>New York</td>\n      <td>Sullivan</td>\n      <td>2020-06-22</td>\n      <td>45</td>\n      <td>1438</td>\n      <td>2020</td>\n      <td>NY</td>\n      <td>41.715795</td>\n      <td>-74.763946</td>\n      <td>NY1</td>\n    </tr>\n    <tr>\n      <th>2</th>\n      <td>37133</td>\n      <td>North Carolina</td>\n      <td>Onslow</td>\n      <td>2020-06-22</td>\n      <td>3</td>\n      <td>221</td>\n      <td>2020</td>\n      <td>NC</td>\n      <td>34.726074</td>\n      <td>-77.429082</td>\n      <td>NC2</td>\n    </tr>\n    <tr>\n      <th>3</th>\n      <td>38001</td>\n      <td>North Dakota</td>\n      <td>Adams</td>\n      <td>2020-06-22</td>\n      <td>0</td>\n      <td>0</td>\n      <td>2020</td>\n      <td>ND</td>\n      <td>46.096869</td>\n      <td>-102.528540</td>\n      <td>ND3</td>\n    </tr>\n    <tr>\n      <th>4</th>\n      <td>39063</td>\n      <td>Ohio</td>\n      <td>Hancock</td>\n      <td>2020-06-22</td>\n      <td>5</td>\n      <td>63</td>\n      <td>2020</td>\n      <td>OH</td>\n      <td>41.002505</td>\n      <td>-83.668389</td>\n      <td>OH4</td>\n    </tr>\n  </tbody>\n</table>\n</div>"
     },
     "execution_count": 35,
     "metadata": {},
     "output_type": "execute_result"
    }
   ],
   "source": [
    "raw_data.head()"
   ]
  },
  {
   "cell_type": "code",
   "execution_count": 36,
   "id": "de197c1465282a92",
   "metadata": {
    "collapsed": false,
    "ExecuteTime": {
     "end_time": "2023-10-10T10:08:57.503310Z",
     "start_time": "2023-10-10T10:08:57.497229Z"
    }
   },
   "outputs": [
    {
     "data": {
      "text/plain": "FIPS                                  object\nState                                 object\nCity/County/Borough/Region            object\nDate                          datetime64[ns]\ndeath total                            int64\ninfected total                         int64\nYear                                   int64\nAbbr                                  object\nlat                                  float64\nlon                                  float64\nid                                    object\ndtype: object"
     },
     "execution_count": 36,
     "metadata": {},
     "output_type": "execute_result"
    }
   ],
   "source": [
    "raw_data.dtypes"
   ]
  },
  {
   "cell_type": "code",
   "execution_count": 37,
   "id": "64f5dd3f",
   "metadata": {
    "ExecuteTime": {
     "end_time": "2023-10-10T10:08:57.503455Z",
     "start_time": "2023-10-10T10:08:57.500121Z"
    }
   },
   "outputs": [],
   "source": [
    "length = raw_data.shape[0]\n",
    "length = len(str(length))\n"
   ]
  },
  {
   "cell_type": "code",
   "execution_count": 38,
   "id": "d2447ec962e43bc6",
   "metadata": {
    "collapsed": false,
    "ExecuteTime": {
     "end_time": "2023-10-10T10:08:58.674375Z",
     "start_time": "2023-10-10T10:08:57.502970Z"
    }
   },
   "outputs": [],
   "source": [
    "# \n",
    "raw_data['id'] = raw_data['Abbr'] + raw_data.index.astype(str).str.zfill(length)"
   ]
  },
  {
   "cell_type": "code",
   "execution_count": 39,
   "id": "6fd41fd043b5e656",
   "metadata": {
    "collapsed": false,
    "ExecuteTime": {
     "end_time": "2023-10-10T10:08:58.686742Z",
     "start_time": "2023-10-10T10:08:58.671389Z"
    }
   },
   "outputs": [
    {
     "data": {
      "text/plain": "    FIPS           State City/County/Borough/Region       Date  death total  \\\n0  36103        New York                    Suffolk 2020-06-22         1965   \n1  36105        New York                   Sullivan 2020-06-22           45   \n2  37133  North Carolina                     Onslow 2020-06-22            3   \n3  38001    North Dakota                      Adams 2020-06-22            0   \n4  39063            Ohio                    Hancock 2020-06-22            5   \n\n   infected total  Year Abbr        lat         lon         id  \n0           41010  2020   NY  40.883201  -72.801217  NY0000000  \n1            1438  2020   NY  41.715795  -74.763946  NY0000001  \n2             221  2020   NC  34.726074  -77.429082  NC0000002  \n3               0  2020   ND  46.096869 -102.528540  ND0000003  \n4              63  2020   OH  41.002505  -83.668389  OH0000004  ",
      "text/html": "<div>\n<style scoped>\n    .dataframe tbody tr th:only-of-type {\n        vertical-align: middle;\n    }\n\n    .dataframe tbody tr th {\n        vertical-align: top;\n    }\n\n    .dataframe thead th {\n        text-align: right;\n    }\n</style>\n<table border=\"1\" class=\"dataframe\">\n  <thead>\n    <tr style=\"text-align: right;\">\n      <th></th>\n      <th>FIPS</th>\n      <th>State</th>\n      <th>City/County/Borough/Region</th>\n      <th>Date</th>\n      <th>death total</th>\n      <th>infected total</th>\n      <th>Year</th>\n      <th>Abbr</th>\n      <th>lat</th>\n      <th>lon</th>\n      <th>id</th>\n    </tr>\n  </thead>\n  <tbody>\n    <tr>\n      <th>0</th>\n      <td>36103</td>\n      <td>New York</td>\n      <td>Suffolk</td>\n      <td>2020-06-22</td>\n      <td>1965</td>\n      <td>41010</td>\n      <td>2020</td>\n      <td>NY</td>\n      <td>40.883201</td>\n      <td>-72.801217</td>\n      <td>NY0000000</td>\n    </tr>\n    <tr>\n      <th>1</th>\n      <td>36105</td>\n      <td>New York</td>\n      <td>Sullivan</td>\n      <td>2020-06-22</td>\n      <td>45</td>\n      <td>1438</td>\n      <td>2020</td>\n      <td>NY</td>\n      <td>41.715795</td>\n      <td>-74.763946</td>\n      <td>NY0000001</td>\n    </tr>\n    <tr>\n      <th>2</th>\n      <td>37133</td>\n      <td>North Carolina</td>\n      <td>Onslow</td>\n      <td>2020-06-22</td>\n      <td>3</td>\n      <td>221</td>\n      <td>2020</td>\n      <td>NC</td>\n      <td>34.726074</td>\n      <td>-77.429082</td>\n      <td>NC0000002</td>\n    </tr>\n    <tr>\n      <th>3</th>\n      <td>38001</td>\n      <td>North Dakota</td>\n      <td>Adams</td>\n      <td>2020-06-22</td>\n      <td>0</td>\n      <td>0</td>\n      <td>2020</td>\n      <td>ND</td>\n      <td>46.096869</td>\n      <td>-102.528540</td>\n      <td>ND0000003</td>\n    </tr>\n    <tr>\n      <th>4</th>\n      <td>39063</td>\n      <td>Ohio</td>\n      <td>Hancock</td>\n      <td>2020-06-22</td>\n      <td>5</td>\n      <td>63</td>\n      <td>2020</td>\n      <td>OH</td>\n      <td>41.002505</td>\n      <td>-83.668389</td>\n      <td>OH0000004</td>\n    </tr>\n  </tbody>\n</table>\n</div>"
     },
     "execution_count": 39,
     "metadata": {},
     "output_type": "execute_result"
    }
   ],
   "source": [
    "raw_data.head()"
   ]
  },
  {
   "cell_type": "code",
   "execution_count": 40,
   "id": "5fa3edda94c7eb2f",
   "metadata": {
    "collapsed": false,
    "ExecuteTime": {
     "end_time": "2023-10-10T10:08:59.048857Z",
     "start_time": "2023-10-10T10:08:58.932727Z"
    }
   },
   "outputs": [
    {
     "data": {
      "text/plain": "FIPS                          0\nState                         0\nCity/County/Borough/Region    0\nDate                          0\ndeath total                   0\ninfected total                0\nYear                          0\nAbbr                          0\nlat                           0\nlon                           0\nid                            0\ndtype: int64"
     },
     "execution_count": 40,
     "metadata": {},
     "output_type": "execute_result"
    }
   ],
   "source": [
    "# show missing values\n",
    "raw_data.isnull().sum()"
   ]
  },
  {
   "cell_type": "code",
   "execution_count": 41,
   "id": "71430e35600c929b",
   "metadata": {
    "collapsed": false,
    "ExecuteTime": {
     "end_time": "2023-10-10T10:08:59.056803Z",
     "start_time": "2023-10-10T10:08:59.049507Z"
    }
   },
   "outputs": [
    {
     "data": {
      "text/plain": "            FIPS           State City/County/Borough/Region       Date  \\\nid                                                                       \nNY0000000  36103        New York                    Suffolk 2020-06-22   \nNY0000001  36105        New York                   Sullivan 2020-06-22   \nNC0000002  37133  North Carolina                     Onslow 2020-06-22   \nND0000003  38001    North Dakota                      Adams 2020-06-22   \nOH0000004  39063            Ohio                    Hancock 2020-06-22   \n...          ...             ...                        ...        ...   \nUT2401695  49037            Utah                   San Juan 2022-02-22   \nUT2401696  49039            Utah                    Sanpete 2022-02-22   \nUT2401697    nan            Utah             Southwest Utah 2022-02-22   \nVT2401698  50023         Vermont                 Washington 2022-02-22   \nVA2401699  51580        Virginia                  Covington 2022-02-22   \n\n           death total  infected total  Year Abbr        lat         lon  \nid                                                                        \nNY0000000         1965           41010  2020   NY  40.883201  -72.801217  \nNY0000001           45            1438  2020   NY  41.715795  -74.763946  \nNC0000002            3             221  2020   NC  34.726074  -77.429082  \nND0000003            0               0  2020   ND  46.096869 -102.528540  \nOH0000004            5              63  2020   OH  41.002505  -83.668389  \n...                ...             ...   ...  ...        ...         ...  \nUT2401695           47            3916  2022   UT  37.627630 -109.803371  \nUT2401696            0               0  2022   UT  39.372319 -111.575868  \nUT2401697          585           62930  2022   UT  37.854472 -111.441876  \nVT2401698           44            8427  2022   VT  44.273432  -72.616050  \nVA2401699           23             986  2022   VA  37.782466  -79.986314  \n\n[2338190 rows x 10 columns]",
      "text/html": "<div>\n<style scoped>\n    .dataframe tbody tr th:only-of-type {\n        vertical-align: middle;\n    }\n\n    .dataframe tbody tr th {\n        vertical-align: top;\n    }\n\n    .dataframe thead th {\n        text-align: right;\n    }\n</style>\n<table border=\"1\" class=\"dataframe\">\n  <thead>\n    <tr style=\"text-align: right;\">\n      <th></th>\n      <th>FIPS</th>\n      <th>State</th>\n      <th>City/County/Borough/Region</th>\n      <th>Date</th>\n      <th>death total</th>\n      <th>infected total</th>\n      <th>Year</th>\n      <th>Abbr</th>\n      <th>lat</th>\n      <th>lon</th>\n    </tr>\n    <tr>\n      <th>id</th>\n      <th></th>\n      <th></th>\n      <th></th>\n      <th></th>\n      <th></th>\n      <th></th>\n      <th></th>\n      <th></th>\n      <th></th>\n      <th></th>\n    </tr>\n  </thead>\n  <tbody>\n    <tr>\n      <th>NY0000000</th>\n      <td>36103</td>\n      <td>New York</td>\n      <td>Suffolk</td>\n      <td>2020-06-22</td>\n      <td>1965</td>\n      <td>41010</td>\n      <td>2020</td>\n      <td>NY</td>\n      <td>40.883201</td>\n      <td>-72.801217</td>\n    </tr>\n    <tr>\n      <th>NY0000001</th>\n      <td>36105</td>\n      <td>New York</td>\n      <td>Sullivan</td>\n      <td>2020-06-22</td>\n      <td>45</td>\n      <td>1438</td>\n      <td>2020</td>\n      <td>NY</td>\n      <td>41.715795</td>\n      <td>-74.763946</td>\n    </tr>\n    <tr>\n      <th>NC0000002</th>\n      <td>37133</td>\n      <td>North Carolina</td>\n      <td>Onslow</td>\n      <td>2020-06-22</td>\n      <td>3</td>\n      <td>221</td>\n      <td>2020</td>\n      <td>NC</td>\n      <td>34.726074</td>\n      <td>-77.429082</td>\n    </tr>\n    <tr>\n      <th>ND0000003</th>\n      <td>38001</td>\n      <td>North Dakota</td>\n      <td>Adams</td>\n      <td>2020-06-22</td>\n      <td>0</td>\n      <td>0</td>\n      <td>2020</td>\n      <td>ND</td>\n      <td>46.096869</td>\n      <td>-102.528540</td>\n    </tr>\n    <tr>\n      <th>OH0000004</th>\n      <td>39063</td>\n      <td>Ohio</td>\n      <td>Hancock</td>\n      <td>2020-06-22</td>\n      <td>5</td>\n      <td>63</td>\n      <td>2020</td>\n      <td>OH</td>\n      <td>41.002505</td>\n      <td>-83.668389</td>\n    </tr>\n    <tr>\n      <th>...</th>\n      <td>...</td>\n      <td>...</td>\n      <td>...</td>\n      <td>...</td>\n      <td>...</td>\n      <td>...</td>\n      <td>...</td>\n      <td>...</td>\n      <td>...</td>\n      <td>...</td>\n    </tr>\n    <tr>\n      <th>UT2401695</th>\n      <td>49037</td>\n      <td>Utah</td>\n      <td>San Juan</td>\n      <td>2022-02-22</td>\n      <td>47</td>\n      <td>3916</td>\n      <td>2022</td>\n      <td>UT</td>\n      <td>37.627630</td>\n      <td>-109.803371</td>\n    </tr>\n    <tr>\n      <th>UT2401696</th>\n      <td>49039</td>\n      <td>Utah</td>\n      <td>Sanpete</td>\n      <td>2022-02-22</td>\n      <td>0</td>\n      <td>0</td>\n      <td>2022</td>\n      <td>UT</td>\n      <td>39.372319</td>\n      <td>-111.575868</td>\n    </tr>\n    <tr>\n      <th>UT2401697</th>\n      <td>nan</td>\n      <td>Utah</td>\n      <td>Southwest Utah</td>\n      <td>2022-02-22</td>\n      <td>585</td>\n      <td>62930</td>\n      <td>2022</td>\n      <td>UT</td>\n      <td>37.854472</td>\n      <td>-111.441876</td>\n    </tr>\n    <tr>\n      <th>VT2401698</th>\n      <td>50023</td>\n      <td>Vermont</td>\n      <td>Washington</td>\n      <td>2022-02-22</td>\n      <td>44</td>\n      <td>8427</td>\n      <td>2022</td>\n      <td>VT</td>\n      <td>44.273432</td>\n      <td>-72.616050</td>\n    </tr>\n    <tr>\n      <th>VA2401699</th>\n      <td>51580</td>\n      <td>Virginia</td>\n      <td>Covington</td>\n      <td>2022-02-22</td>\n      <td>23</td>\n      <td>986</td>\n      <td>2022</td>\n      <td>VA</td>\n      <td>37.782466</td>\n      <td>-79.986314</td>\n    </tr>\n  </tbody>\n</table>\n<p>2338190 rows × 10 columns</p>\n</div>"
     },
     "execution_count": 41,
     "metadata": {},
     "output_type": "execute_result"
    }
   ],
   "source": [
    "raw_data.set_index('id', inplace=True)\n",
    "raw_data"
   ]
  },
  {
   "cell_type": "code",
   "execution_count": 42,
   "id": "19590718",
   "metadata": {
    "ExecuteTime": {
     "end_time": "2023-10-10T10:08:59.400435Z",
     "start_time": "2023-10-10T10:08:59.058343Z"
    }
   },
   "outputs": [
    {
     "data": {
      "text/plain": "                Date   FIPS        lat         lon           State Abbr  \\\nid                                                                        \nNY0000000 2020-06-22  36103  40.883201  -72.801217        New York   NY   \nNY0000001 2020-06-22  36105  41.715795  -74.763946        New York   NY   \nNC0000002 2020-06-22  37133  34.726074  -77.429082  North Carolina   NC   \nND0000003 2020-06-22  38001  46.096869 -102.528540    North Dakota   ND   \nOH0000004 2020-06-22  39063  41.002505  -83.668389            Ohio   OH   \n...              ...    ...        ...         ...             ...  ...   \nUT2401695 2022-02-22  49037  37.627630 -109.803371            Utah   UT   \nUT2401696 2022-02-22  49039  39.372319 -111.575868            Utah   UT   \nUT2401697 2022-02-22    nan  37.854472 -111.441876            Utah   UT   \nVT2401698 2022-02-22  50023  44.273432  -72.616050         Vermont   VT   \nVA2401699 2022-02-22  51580  37.782466  -79.986314        Virginia   VA   \n\n          City/County/Borough/Region  infected total  death total  \nid                                                                 \nNY0000000                    Suffolk           41010         1965  \nNY0000001                   Sullivan            1438           45  \nNC0000002                     Onslow             221            3  \nND0000003                      Adams               0            0  \nOH0000004                    Hancock              63            5  \n...                              ...             ...          ...  \nUT2401695                   San Juan            3916           47  \nUT2401696                    Sanpete               0            0  \nUT2401697             Southwest Utah           62930          585  \nVT2401698                 Washington            8427           44  \nVA2401699                  Covington             986           23  \n\n[2338190 rows x 9 columns]",
      "text/html": "<div>\n<style scoped>\n    .dataframe tbody tr th:only-of-type {\n        vertical-align: middle;\n    }\n\n    .dataframe tbody tr th {\n        vertical-align: top;\n    }\n\n    .dataframe thead th {\n        text-align: right;\n    }\n</style>\n<table border=\"1\" class=\"dataframe\">\n  <thead>\n    <tr style=\"text-align: right;\">\n      <th></th>\n      <th>Date</th>\n      <th>FIPS</th>\n      <th>lat</th>\n      <th>lon</th>\n      <th>State</th>\n      <th>Abbr</th>\n      <th>City/County/Borough/Region</th>\n      <th>infected total</th>\n      <th>death total</th>\n    </tr>\n    <tr>\n      <th>id</th>\n      <th></th>\n      <th></th>\n      <th></th>\n      <th></th>\n      <th></th>\n      <th></th>\n      <th></th>\n      <th></th>\n      <th></th>\n    </tr>\n  </thead>\n  <tbody>\n    <tr>\n      <th>NY0000000</th>\n      <td>2020-06-22</td>\n      <td>36103</td>\n      <td>40.883201</td>\n      <td>-72.801217</td>\n      <td>New York</td>\n      <td>NY</td>\n      <td>Suffolk</td>\n      <td>41010</td>\n      <td>1965</td>\n    </tr>\n    <tr>\n      <th>NY0000001</th>\n      <td>2020-06-22</td>\n      <td>36105</td>\n      <td>41.715795</td>\n      <td>-74.763946</td>\n      <td>New York</td>\n      <td>NY</td>\n      <td>Sullivan</td>\n      <td>1438</td>\n      <td>45</td>\n    </tr>\n    <tr>\n      <th>NC0000002</th>\n      <td>2020-06-22</td>\n      <td>37133</td>\n      <td>34.726074</td>\n      <td>-77.429082</td>\n      <td>North Carolina</td>\n      <td>NC</td>\n      <td>Onslow</td>\n      <td>221</td>\n      <td>3</td>\n    </tr>\n    <tr>\n      <th>ND0000003</th>\n      <td>2020-06-22</td>\n      <td>38001</td>\n      <td>46.096869</td>\n      <td>-102.528540</td>\n      <td>North Dakota</td>\n      <td>ND</td>\n      <td>Adams</td>\n      <td>0</td>\n      <td>0</td>\n    </tr>\n    <tr>\n      <th>OH0000004</th>\n      <td>2020-06-22</td>\n      <td>39063</td>\n      <td>41.002505</td>\n      <td>-83.668389</td>\n      <td>Ohio</td>\n      <td>OH</td>\n      <td>Hancock</td>\n      <td>63</td>\n      <td>5</td>\n    </tr>\n    <tr>\n      <th>...</th>\n      <td>...</td>\n      <td>...</td>\n      <td>...</td>\n      <td>...</td>\n      <td>...</td>\n      <td>...</td>\n      <td>...</td>\n      <td>...</td>\n      <td>...</td>\n    </tr>\n    <tr>\n      <th>UT2401695</th>\n      <td>2022-02-22</td>\n      <td>49037</td>\n      <td>37.627630</td>\n      <td>-109.803371</td>\n      <td>Utah</td>\n      <td>UT</td>\n      <td>San Juan</td>\n      <td>3916</td>\n      <td>47</td>\n    </tr>\n    <tr>\n      <th>UT2401696</th>\n      <td>2022-02-22</td>\n      <td>49039</td>\n      <td>39.372319</td>\n      <td>-111.575868</td>\n      <td>Utah</td>\n      <td>UT</td>\n      <td>Sanpete</td>\n      <td>0</td>\n      <td>0</td>\n    </tr>\n    <tr>\n      <th>UT2401697</th>\n      <td>2022-02-22</td>\n      <td>nan</td>\n      <td>37.854472</td>\n      <td>-111.441876</td>\n      <td>Utah</td>\n      <td>UT</td>\n      <td>Southwest Utah</td>\n      <td>62930</td>\n      <td>585</td>\n    </tr>\n    <tr>\n      <th>VT2401698</th>\n      <td>2022-02-22</td>\n      <td>50023</td>\n      <td>44.273432</td>\n      <td>-72.616050</td>\n      <td>Vermont</td>\n      <td>VT</td>\n      <td>Washington</td>\n      <td>8427</td>\n      <td>44</td>\n    </tr>\n    <tr>\n      <th>VA2401699</th>\n      <td>2022-02-22</td>\n      <td>51580</td>\n      <td>37.782466</td>\n      <td>-79.986314</td>\n      <td>Virginia</td>\n      <td>VA</td>\n      <td>Covington</td>\n      <td>986</td>\n      <td>23</td>\n    </tr>\n  </tbody>\n</table>\n<p>2338190 rows × 9 columns</p>\n</div>"
     },
     "execution_count": 42,
     "metadata": {},
     "output_type": "execute_result"
    }
   ],
   "source": [
    "new_cols = [\"Date\", \"FIPS\",\"lat\",\"lon\",\"State\",\"Abbr\",\"City/County/Borough/Region\",\"infected total\",\"death total\"]\n",
    "raw_data=raw_data.reindex(columns=new_cols)\n",
    "raw_data"
   ]
  },
  {
   "cell_type": "markdown",
   "id": "785bf6bf185ae6a6",
   "metadata": {
    "collapsed": false
   },
   "source": [
    "# Conclusion before handling missing values"
   ]
  },
  {
   "cell_type": "code",
   "execution_count": 43,
   "id": "b47741ca1bf67f79",
   "metadata": {
    "collapsed": false,
    "ExecuteTime": {
     "end_time": "2023-10-10T10:09:04.950294Z",
     "start_time": "2023-10-10T10:08:59.398596Z"
    }
   },
   "outputs": [],
   "source": [
    "# Save data\n",
    "raw_data.to_csv('../../data/covid19_usa.csv')"
   ]
  },
  {
   "cell_type": "code",
   "execution_count": 43,
   "id": "6195e1c9a5708e47",
   "metadata": {
    "collapsed": false,
    "ExecuteTime": {
     "end_time": "2023-10-10T10:09:04.955990Z",
     "start_time": "2023-10-10T10:09:04.937561Z"
    }
   },
   "outputs": [],
   "source": []
  }
 ],
 "metadata": {
  "kernelspec": {
   "display_name": "Python 3",
   "language": "python",
   "name": "python3"
  },
  "language_info": {
   "codemirror_mode": {
    "name": "ipython",
    "version": 3
   },
   "file_extension": ".py",
   "mimetype": "text/x-python",
   "name": "python",
   "nbconvert_exporter": "python",
   "pygments_lexer": "ipython3",
   "version": "3.8.10"
  }
 },
 "nbformat": 4,
 "nbformat_minor": 5
}
