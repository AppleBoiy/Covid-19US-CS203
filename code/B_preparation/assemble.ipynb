{
 "cells": [
  {
   "cell_type": "code",
   "execution_count": 122,
   "id": "initial_id",
   "metadata": {
    "collapsed": true,
    "ExecuteTime": {
     "end_time": "2023-10-09T14:12:20.417981Z",
     "start_time": "2023-10-09T14:12:20.405161Z"
    }
   },
   "outputs": [],
   "source": [
    "# import necessary libraries\n",
    "import pandas as pd"
   ]
  },
  {
   "cell_type": "code",
   "execution_count": 123,
   "id": "b4a0aaae5e31b8f5",
   "metadata": {
    "collapsed": false,
    "ExecuteTime": {
     "end_time": "2023-10-09T14:12:23.669486Z",
     "start_time": "2023-10-09T14:12:20.656305Z"
    }
   },
   "outputs": [],
   "source": [
    "raw_data = pd.read_csv('../../data/coronavirus-covid-19-pandemic-usa-counties.csv')"
   ]
  },
  {
   "cell_type": "markdown",
   "id": "4ee7055dfcc8ff09",
   "metadata": {
    "collapsed": false
   },
   "source": [
    "## Data preparation\n",
    "### Tidy data "
   ]
  },
  {
   "cell_type": "code",
   "execution_count": 124,
   "id": "a144a84a20947b66",
   "metadata": {
    "collapsed": false,
    "ExecuteTime": {
     "end_time": "2023-10-09T14:12:23.680971Z",
     "start_time": "2023-10-09T14:12:23.670366Z"
    }
   },
   "outputs": [
    {
     "data": {
      "text/plain": "                                                    Admin 2 FIPS Code;Province/State;Admin 2 Level (City/County/Borough/Region);Date;Total Death;Total Confirmed;location\n12119;Florida;Sumter;2020-01-31;0;0;28.70181754                                            -82.079427                                                                    \n13153;Georgia;Houston;2020-01-31;0;0;32.45802497                                           -83.668791                                                                    \n13227;Georgia;Pickens;2020-01-31;0;0;34.46589159                                           -84.464066                                                                    \n13303;Georgia;Washington;2020-01-31;0;0;32.9671...                                         -82.793570                                                                    \n16003;Idaho;Adams;2020-01-31;0;0;44.89333571                                              -116.454525                                                                    ",
      "text/html": "<div>\n<style scoped>\n    .dataframe tbody tr th:only-of-type {\n        vertical-align: middle;\n    }\n\n    .dataframe tbody tr th {\n        vertical-align: top;\n    }\n\n    .dataframe thead th {\n        text-align: right;\n    }\n</style>\n<table border=\"1\" class=\"dataframe\">\n  <thead>\n    <tr style=\"text-align: right;\">\n      <th></th>\n      <th>Admin 2 FIPS Code;Province/State;Admin 2 Level (City/County/Borough/Region);Date;Total Death;Total Confirmed;location</th>\n    </tr>\n  </thead>\n  <tbody>\n    <tr>\n      <th>12119;Florida;Sumter;2020-01-31;0;0;28.70181754</th>\n      <td>-82.079427</td>\n    </tr>\n    <tr>\n      <th>13153;Georgia;Houston;2020-01-31;0;0;32.45802497</th>\n      <td>-83.668791</td>\n    </tr>\n    <tr>\n      <th>13227;Georgia;Pickens;2020-01-31;0;0;34.46589159</th>\n      <td>-84.464066</td>\n    </tr>\n    <tr>\n      <th>13303;Georgia;Washington;2020-01-31;0;0;32.96711864</th>\n      <td>-82.793570</td>\n    </tr>\n    <tr>\n      <th>16003;Idaho;Adams;2020-01-31;0;0;44.89333571</th>\n      <td>-116.454525</td>\n    </tr>\n  </tbody>\n</table>\n</div>"
     },
     "execution_count": 124,
     "metadata": {},
     "output_type": "execute_result"
    }
   ],
   "source": [
    "# sample data\n",
    "raw_data.head()"
   ]
  },
  {
   "cell_type": "code",
   "execution_count": 125,
   "id": "d848f168f261ce03",
   "metadata": {
    "collapsed": false,
    "ExecuteTime": {
     "end_time": "2023-10-09T14:12:25.724873Z",
     "start_time": "2023-10-09T14:12:23.676648Z"
    }
   },
   "outputs": [],
   "source": [
    "# how to make right?\n",
    "raw_data = pd.read_csv('../../data/coronavirus-covid-19-pandemic-usa-counties.csv', sep=';')"
   ]
  },
  {
   "cell_type": "code",
   "execution_count": 126,
   "id": "681d200eb0c68bd9",
   "metadata": {
    "collapsed": false,
    "ExecuteTime": {
     "end_time": "2023-10-09T14:12:25.732521Z",
     "start_time": "2023-10-09T14:12:25.727087Z"
    }
   },
   "outputs": [
    {
     "data": {
      "text/plain": "   Admin 2 FIPS Code Province/State  \\\n0            12119.0        Florida   \n1            13153.0        Georgia   \n2            13227.0        Georgia   \n3            13303.0        Georgia   \n4            16003.0          Idaho   \n\n  Admin 2 Level (City/County/Borough/Region)        Date  Total Death  \\\n0                                     Sumter  2020-01-31            0   \n1                                    Houston  2020-01-31            0   \n2                                    Pickens  2020-01-31            0   \n3                                 Washington  2020-01-31            0   \n4                                      Adams  2020-01-31            0   \n\n   Total Confirmed                  location  \n0                0   28.70181754,-82.0794267  \n1                0  32.45802497,-83.66879087  \n2                0  34.46589159,-84.46406611  \n3                0  32.96711864,-82.79357039  \n4                0  44.89333571,-116.4545247  ",
      "text/html": "<div>\n<style scoped>\n    .dataframe tbody tr th:only-of-type {\n        vertical-align: middle;\n    }\n\n    .dataframe tbody tr th {\n        vertical-align: top;\n    }\n\n    .dataframe thead th {\n        text-align: right;\n    }\n</style>\n<table border=\"1\" class=\"dataframe\">\n  <thead>\n    <tr style=\"text-align: right;\">\n      <th></th>\n      <th>Admin 2 FIPS Code</th>\n      <th>Province/State</th>\n      <th>Admin 2 Level (City/County/Borough/Region)</th>\n      <th>Date</th>\n      <th>Total Death</th>\n      <th>Total Confirmed</th>\n      <th>location</th>\n    </tr>\n  </thead>\n  <tbody>\n    <tr>\n      <th>0</th>\n      <td>12119.0</td>\n      <td>Florida</td>\n      <td>Sumter</td>\n      <td>2020-01-31</td>\n      <td>0</td>\n      <td>0</td>\n      <td>28.70181754,-82.0794267</td>\n    </tr>\n    <tr>\n      <th>1</th>\n      <td>13153.0</td>\n      <td>Georgia</td>\n      <td>Houston</td>\n      <td>2020-01-31</td>\n      <td>0</td>\n      <td>0</td>\n      <td>32.45802497,-83.66879087</td>\n    </tr>\n    <tr>\n      <th>2</th>\n      <td>13227.0</td>\n      <td>Georgia</td>\n      <td>Pickens</td>\n      <td>2020-01-31</td>\n      <td>0</td>\n      <td>0</td>\n      <td>34.46589159,-84.46406611</td>\n    </tr>\n    <tr>\n      <th>3</th>\n      <td>13303.0</td>\n      <td>Georgia</td>\n      <td>Washington</td>\n      <td>2020-01-31</td>\n      <td>0</td>\n      <td>0</td>\n      <td>32.96711864,-82.79357039</td>\n    </tr>\n    <tr>\n      <th>4</th>\n      <td>16003.0</td>\n      <td>Idaho</td>\n      <td>Adams</td>\n      <td>2020-01-31</td>\n      <td>0</td>\n      <td>0</td>\n      <td>44.89333571,-116.4545247</td>\n    </tr>\n  </tbody>\n</table>\n</div>"
     },
     "execution_count": 126,
     "metadata": {},
     "output_type": "execute_result"
    }
   ],
   "source": [
    "raw_data.head() # This is better."
   ]
  },
  {
   "cell_type": "markdown",
   "id": "30de41d51da5c582",
   "metadata": {
    "collapsed": false
   },
   "source": [
    "## Header name ?"
   ]
  },
  {
   "cell_type": "code",
   "execution_count": 127,
   "id": "560e39016fad768",
   "metadata": {
    "collapsed": false,
    "ExecuteTime": {
     "end_time": "2023-10-09T14:12:25.734387Z",
     "start_time": "2023-10-09T14:12:25.731228Z"
    }
   },
   "outputs": [
    {
     "data": {
      "text/plain": "Index(['Admin 2 FIPS Code', 'Province/State',\n       'Admin 2 Level (City/County/Borough/Region)', 'Date', 'Total Death',\n       'Total Confirmed', 'location'],\n      dtype='object')"
     },
     "execution_count": 127,
     "metadata": {},
     "output_type": "execute_result"
    }
   ],
   "source": [
    "raw_data.columns"
   ]
  },
  {
   "cell_type": "code",
   "execution_count": 128,
   "id": "e362305e26ffb571",
   "metadata": {
    "collapsed": false,
    "ExecuteTime": {
     "end_time": "2023-10-09T14:12:25.736306Z",
     "start_time": "2023-10-09T14:12:25.734269Z"
    }
   },
   "outputs": [],
   "source": [
    "# US doesn't have a province, but states\n",
    "# FIPS code only, Admin 2 Level is not necessary\n",
    "# What is total confirmed?\n",
    "raw_data.rename(columns={\n",
    "    'Admin 2 FIPS Code': 'FIPS',\n",
    "    'Province/State': 'State',\n",
    "    'Admin 2 Level (City/County/Borough/Region)': 'City/County/Borough/Region',\n",
    "    'Total Confirmed': 'infected total',\n",
    "    'Total Death': 'death total',\n",
    "}, inplace=True)\n"
   ]
  },
  {
   "cell_type": "code",
   "execution_count": 129,
   "id": "f897a4d5fc149f4d",
   "metadata": {
    "collapsed": false,
    "ExecuteTime": {
     "end_time": "2023-10-09T14:12:25.744496Z",
     "start_time": "2023-10-09T14:12:25.739353Z"
    }
   },
   "outputs": [
    {
     "data": {
      "text/plain": "      FIPS    State City/County/Borough/Region        Date  death total  \\\n0  12119.0  Florida                     Sumter  2020-01-31            0   \n1  13153.0  Georgia                    Houston  2020-01-31            0   \n2  13227.0  Georgia                    Pickens  2020-01-31            0   \n3  13303.0  Georgia                 Washington  2020-01-31            0   \n4  16003.0    Idaho                      Adams  2020-01-31            0   \n\n   infected total                  location  \n0               0   28.70181754,-82.0794267  \n1               0  32.45802497,-83.66879087  \n2               0  34.46589159,-84.46406611  \n3               0  32.96711864,-82.79357039  \n4               0  44.89333571,-116.4545247  ",
      "text/html": "<div>\n<style scoped>\n    .dataframe tbody tr th:only-of-type {\n        vertical-align: middle;\n    }\n\n    .dataframe tbody tr th {\n        vertical-align: top;\n    }\n\n    .dataframe thead th {\n        text-align: right;\n    }\n</style>\n<table border=\"1\" class=\"dataframe\">\n  <thead>\n    <tr style=\"text-align: right;\">\n      <th></th>\n      <th>FIPS</th>\n      <th>State</th>\n      <th>City/County/Borough/Region</th>\n      <th>Date</th>\n      <th>death total</th>\n      <th>infected total</th>\n      <th>location</th>\n    </tr>\n  </thead>\n  <tbody>\n    <tr>\n      <th>0</th>\n      <td>12119.0</td>\n      <td>Florida</td>\n      <td>Sumter</td>\n      <td>2020-01-31</td>\n      <td>0</td>\n      <td>0</td>\n      <td>28.70181754,-82.0794267</td>\n    </tr>\n    <tr>\n      <th>1</th>\n      <td>13153.0</td>\n      <td>Georgia</td>\n      <td>Houston</td>\n      <td>2020-01-31</td>\n      <td>0</td>\n      <td>0</td>\n      <td>32.45802497,-83.66879087</td>\n    </tr>\n    <tr>\n      <th>2</th>\n      <td>13227.0</td>\n      <td>Georgia</td>\n      <td>Pickens</td>\n      <td>2020-01-31</td>\n      <td>0</td>\n      <td>0</td>\n      <td>34.46589159,-84.46406611</td>\n    </tr>\n    <tr>\n      <th>3</th>\n      <td>13303.0</td>\n      <td>Georgia</td>\n      <td>Washington</td>\n      <td>2020-01-31</td>\n      <td>0</td>\n      <td>0</td>\n      <td>32.96711864,-82.79357039</td>\n    </tr>\n    <tr>\n      <th>4</th>\n      <td>16003.0</td>\n      <td>Idaho</td>\n      <td>Adams</td>\n      <td>2020-01-31</td>\n      <td>0</td>\n      <td>0</td>\n      <td>44.89333571,-116.4545247</td>\n    </tr>\n  </tbody>\n</table>\n</div>"
     },
     "execution_count": 129,
     "metadata": {},
     "output_type": "execute_result"
    }
   ],
   "source": [
    "raw_data.head()"
   ]
  },
  {
   "cell_type": "markdown",
   "id": "1f2928cf0b88ea09",
   "metadata": {
    "collapsed": false
   },
   "source": [
    "### Remove duplicates "
   ]
  },
  {
   "cell_type": "code",
   "execution_count": 130,
   "id": "1cde7bd76878e4b1",
   "metadata": {
    "collapsed": false,
    "ExecuteTime": {
     "end_time": "2023-10-09T14:12:27.241802Z",
     "start_time": "2023-10-09T14:12:25.848080Z"
    }
   },
   "outputs": [
    {
     "data": {
      "text/plain": "0"
     },
     "execution_count": 130,
     "metadata": {},
     "output_type": "execute_result"
    }
   ],
   "source": [
    "# check duplicates\n",
    "raw_data.duplicated().sum() # no duplicates, good!"
   ]
  },
  {
   "cell_type": "markdown",
   "id": "68c208578796fee5",
   "metadata": {
    "collapsed": false
   },
   "source": [
    "### Homogeneous variables"
   ]
  },
  {
   "cell_type": "markdown",
   "id": "454e3a994a2e1b8a",
   "metadata": {
    "collapsed": false
   },
   "source": []
  },
  {
   "cell_type": "code",
   "execution_count": 131,
   "id": "7d506542dc4212c9",
   "metadata": {
    "collapsed": false,
    "ExecuteTime": {
     "end_time": "2023-10-09T14:12:27.830740Z",
     "start_time": "2023-10-09T14:12:27.826014Z"
    }
   },
   "outputs": [],
   "source": [
    "import json"
   ]
  },
  {
   "cell_type": "code",
   "execution_count": 132,
   "id": "e02604e7918ad67f",
   "metadata": {
    "collapsed": false,
    "ExecuteTime": {
     "end_time": "2023-10-09T14:12:28.170354Z",
     "start_time": "2023-10-09T14:12:28.166355Z"
    }
   },
   "outputs": [],
   "source": [
    "name_of_state_us = json.load(open('name_state_us.json'))"
   ]
  },
  {
   "cell_type": "code",
   "execution_count": 133,
   "id": "9ed664ac4a6eb674",
   "metadata": {
    "collapsed": false,
    "ExecuteTime": {
     "end_time": "2023-10-09T14:12:28.621034Z",
     "start_time": "2023-10-09T14:12:28.563338Z"
    }
   },
   "outputs": [],
   "source": [
    "raw_data['Abbr'] = raw_data['State'].map(name_of_state_us)\n"
   ]
  },
  {
   "cell_type": "code",
   "execution_count": 134,
   "id": "1c8a595ccc10d453",
   "metadata": {
    "collapsed": false,
    "ExecuteTime": {
     "end_time": "2023-10-09T14:12:29.962501Z",
     "start_time": "2023-10-09T14:12:29.950143Z"
    }
   },
   "outputs": [
    {
     "data": {
      "text/plain": "      FIPS    State City/County/Borough/Region        Date  death total  \\\n0  12119.0  Florida                     Sumter  2020-01-31            0   \n1  13153.0  Georgia                    Houston  2020-01-31            0   \n2  13227.0  Georgia                    Pickens  2020-01-31            0   \n3  13303.0  Georgia                 Washington  2020-01-31            0   \n4  16003.0    Idaho                      Adams  2020-01-31            0   \n\n   infected total                  location Abbr  \n0               0   28.70181754,-82.0794267   FL  \n1               0  32.45802497,-83.66879087   GA  \n2               0  34.46589159,-84.46406611   GA  \n3               0  32.96711864,-82.79357039   GA  \n4               0  44.89333571,-116.4545247   ID  ",
      "text/html": "<div>\n<style scoped>\n    .dataframe tbody tr th:only-of-type {\n        vertical-align: middle;\n    }\n\n    .dataframe tbody tr th {\n        vertical-align: top;\n    }\n\n    .dataframe thead th {\n        text-align: right;\n    }\n</style>\n<table border=\"1\" class=\"dataframe\">\n  <thead>\n    <tr style=\"text-align: right;\">\n      <th></th>\n      <th>FIPS</th>\n      <th>State</th>\n      <th>City/County/Borough/Region</th>\n      <th>Date</th>\n      <th>death total</th>\n      <th>infected total</th>\n      <th>location</th>\n      <th>Abbr</th>\n    </tr>\n  </thead>\n  <tbody>\n    <tr>\n      <th>0</th>\n      <td>12119.0</td>\n      <td>Florida</td>\n      <td>Sumter</td>\n      <td>2020-01-31</td>\n      <td>0</td>\n      <td>0</td>\n      <td>28.70181754,-82.0794267</td>\n      <td>FL</td>\n    </tr>\n    <tr>\n      <th>1</th>\n      <td>13153.0</td>\n      <td>Georgia</td>\n      <td>Houston</td>\n      <td>2020-01-31</td>\n      <td>0</td>\n      <td>0</td>\n      <td>32.45802497,-83.66879087</td>\n      <td>GA</td>\n    </tr>\n    <tr>\n      <th>2</th>\n      <td>13227.0</td>\n      <td>Georgia</td>\n      <td>Pickens</td>\n      <td>2020-01-31</td>\n      <td>0</td>\n      <td>0</td>\n      <td>34.46589159,-84.46406611</td>\n      <td>GA</td>\n    </tr>\n    <tr>\n      <th>3</th>\n      <td>13303.0</td>\n      <td>Georgia</td>\n      <td>Washington</td>\n      <td>2020-01-31</td>\n      <td>0</td>\n      <td>0</td>\n      <td>32.96711864,-82.79357039</td>\n      <td>GA</td>\n    </tr>\n    <tr>\n      <th>4</th>\n      <td>16003.0</td>\n      <td>Idaho</td>\n      <td>Adams</td>\n      <td>2020-01-31</td>\n      <td>0</td>\n      <td>0</td>\n      <td>44.89333571,-116.4545247</td>\n      <td>ID</td>\n    </tr>\n  </tbody>\n</table>\n</div>"
     },
     "execution_count": 134,
     "metadata": {},
     "output_type": "execute_result"
    }
   ],
   "source": [
    "raw_data.head()"
   ]
  },
  {
   "cell_type": "code",
   "execution_count": 135,
   "id": "643740dd4fb6158e",
   "metadata": {
    "collapsed": false,
    "ExecuteTime": {
     "end_time": "2023-10-09T14:12:30.576106Z",
     "start_time": "2023-10-09T14:12:30.573305Z"
    }
   },
   "outputs": [
    {
     "data": {
      "text/plain": "81954"
     },
     "execution_count": 135,
     "metadata": {},
     "output_type": "execute_result"
    }
   ],
   "source": [
    "raw_data['Abbr'].isnull().sum() # something went wrong?"
   ]
  },
  {
   "cell_type": "code",
   "execution_count": 136,
   "outputs": [],
   "source": [
    "# drop missing 'Abbr' (not a US State)\n",
    "raw_data = raw_data.dropna(subset=['Abbr'])"
   ],
   "metadata": {
    "collapsed": false,
    "ExecuteTime": {
     "end_time": "2023-10-09T14:12:31.695278Z",
     "start_time": "2023-10-09T14:12:31.262414Z"
    }
   },
   "id": "23b23613c084e3ac"
  },
  {
   "cell_type": "code",
   "execution_count": 138,
   "outputs": [
    {
     "data": {
      "text/plain": "0"
     },
     "execution_count": 138,
     "metadata": {},
     "output_type": "execute_result"
    }
   ],
   "source": [
    "raw_data['Abbr'].isnull().sum()"
   ],
   "metadata": {
    "collapsed": false,
    "ExecuteTime": {
     "end_time": "2023-10-09T14:12:53.436747Z",
     "start_time": "2023-10-09T14:12:53.433226Z"
    }
   },
   "id": "1f98e4f48d2a0eda"
  },
  {
   "cell_type": "code",
   "execution_count": 139,
   "id": "2444ccfd6f336479",
   "metadata": {
    "collapsed": false,
    "ExecuteTime": {
     "end_time": "2023-10-09T14:13:36.179202Z",
     "start_time": "2023-10-09T14:12:56.349200Z"
    }
   },
   "outputs": [],
   "source": [
    "# locate must show as (lat, lon)\n",
    "raw_data[['lat', 'lon']] = raw_data['location'].str.split(',', expand=True)\n",
    "raw_data.drop('location', axis=1, inplace=True)"
   ]
  },
  {
   "cell_type": "code",
   "execution_count": 140,
   "id": "5757097d0ecef0f2",
   "metadata": {
    "collapsed": false,
    "ExecuteTime": {
     "end_time": "2023-10-09T14:13:36.204635Z",
     "start_time": "2023-10-09T14:13:36.184813Z"
    }
   },
   "outputs": [
    {
     "data": {
      "text/plain": "      FIPS    State City/County/Borough/Region        Date  death total  \\\n0  12119.0  Florida                     Sumter  2020-01-31            0   \n1  13153.0  Georgia                    Houston  2020-01-31            0   \n2  13227.0  Georgia                    Pickens  2020-01-31            0   \n3  13303.0  Georgia                 Washington  2020-01-31            0   \n4  16003.0    Idaho                      Adams  2020-01-31            0   \n\n   infected total Abbr          lat           lon  \n0               0   FL  28.70181754   -82.0794267  \n1               0   GA  32.45802497  -83.66879087  \n2               0   GA  34.46589159  -84.46406611  \n3               0   GA  32.96711864  -82.79357039  \n4               0   ID  44.89333571  -116.4545247  ",
      "text/html": "<div>\n<style scoped>\n    .dataframe tbody tr th:only-of-type {\n        vertical-align: middle;\n    }\n\n    .dataframe tbody tr th {\n        vertical-align: top;\n    }\n\n    .dataframe thead th {\n        text-align: right;\n    }\n</style>\n<table border=\"1\" class=\"dataframe\">\n  <thead>\n    <tr style=\"text-align: right;\">\n      <th></th>\n      <th>FIPS</th>\n      <th>State</th>\n      <th>City/County/Borough/Region</th>\n      <th>Date</th>\n      <th>death total</th>\n      <th>infected total</th>\n      <th>Abbr</th>\n      <th>lat</th>\n      <th>lon</th>\n    </tr>\n  </thead>\n  <tbody>\n    <tr>\n      <th>0</th>\n      <td>12119.0</td>\n      <td>Florida</td>\n      <td>Sumter</td>\n      <td>2020-01-31</td>\n      <td>0</td>\n      <td>0</td>\n      <td>FL</td>\n      <td>28.70181754</td>\n      <td>-82.0794267</td>\n    </tr>\n    <tr>\n      <th>1</th>\n      <td>13153.0</td>\n      <td>Georgia</td>\n      <td>Houston</td>\n      <td>2020-01-31</td>\n      <td>0</td>\n      <td>0</td>\n      <td>GA</td>\n      <td>32.45802497</td>\n      <td>-83.66879087</td>\n    </tr>\n    <tr>\n      <th>2</th>\n      <td>13227.0</td>\n      <td>Georgia</td>\n      <td>Pickens</td>\n      <td>2020-01-31</td>\n      <td>0</td>\n      <td>0</td>\n      <td>GA</td>\n      <td>34.46589159</td>\n      <td>-84.46406611</td>\n    </tr>\n    <tr>\n      <th>3</th>\n      <td>13303.0</td>\n      <td>Georgia</td>\n      <td>Washington</td>\n      <td>2020-01-31</td>\n      <td>0</td>\n      <td>0</td>\n      <td>GA</td>\n      <td>32.96711864</td>\n      <td>-82.79357039</td>\n    </tr>\n    <tr>\n      <th>4</th>\n      <td>16003.0</td>\n      <td>Idaho</td>\n      <td>Adams</td>\n      <td>2020-01-31</td>\n      <td>0</td>\n      <td>0</td>\n      <td>ID</td>\n      <td>44.89333571</td>\n      <td>-116.4545247</td>\n    </tr>\n  </tbody>\n</table>\n</div>"
     },
     "execution_count": 140,
     "metadata": {},
     "output_type": "execute_result"
    }
   ],
   "source": [
    "raw_data.head()"
   ]
  },
  {
   "cell_type": "markdown",
   "id": "a69eeef286d44fb2",
   "metadata": {
    "collapsed": false
   },
   "source": [
    "### Unique identifier"
   ]
  },
  {
   "cell_type": "code",
   "execution_count": 141,
   "id": "905dd3d57fa9a0e",
   "metadata": {
    "collapsed": false,
    "ExecuteTime": {
     "end_time": "2023-10-09T14:13:39.726663Z",
     "start_time": "2023-10-09T14:13:36.193291Z"
    }
   },
   "outputs": [],
   "source": [
    "# unique identifier is Date + index of row\n",
    "raw_data['id'] = raw_data['Abbr'] + raw_data.index.astype(str)  "
   ]
  },
  {
   "cell_type": "code",
   "execution_count": 142,
   "id": "1f05a3ff8cdd163c",
   "metadata": {
    "collapsed": false,
    "ExecuteTime": {
     "end_time": "2023-10-09T14:13:39.742323Z",
     "start_time": "2023-10-09T14:13:39.729466Z"
    }
   },
   "outputs": [
    {
     "data": {
      "text/plain": "      FIPS    State City/County/Borough/Region        Date  death total  \\\n0  12119.0  Florida                     Sumter  2020-01-31            0   \n1  13153.0  Georgia                    Houston  2020-01-31            0   \n2  13227.0  Georgia                    Pickens  2020-01-31            0   \n3  13303.0  Georgia                 Washington  2020-01-31            0   \n4  16003.0    Idaho                      Adams  2020-01-31            0   \n\n   infected total Abbr          lat           lon   id  \n0               0   FL  28.70181754   -82.0794267  FL0  \n1               0   GA  32.45802497  -83.66879087  GA1  \n2               0   GA  34.46589159  -84.46406611  GA2  \n3               0   GA  32.96711864  -82.79357039  GA3  \n4               0   ID  44.89333571  -116.4545247  ID4  ",
      "text/html": "<div>\n<style scoped>\n    .dataframe tbody tr th:only-of-type {\n        vertical-align: middle;\n    }\n\n    .dataframe tbody tr th {\n        vertical-align: top;\n    }\n\n    .dataframe thead th {\n        text-align: right;\n    }\n</style>\n<table border=\"1\" class=\"dataframe\">\n  <thead>\n    <tr style=\"text-align: right;\">\n      <th></th>\n      <th>FIPS</th>\n      <th>State</th>\n      <th>City/County/Borough/Region</th>\n      <th>Date</th>\n      <th>death total</th>\n      <th>infected total</th>\n      <th>Abbr</th>\n      <th>lat</th>\n      <th>lon</th>\n      <th>id</th>\n    </tr>\n  </thead>\n  <tbody>\n    <tr>\n      <th>0</th>\n      <td>12119.0</td>\n      <td>Florida</td>\n      <td>Sumter</td>\n      <td>2020-01-31</td>\n      <td>0</td>\n      <td>0</td>\n      <td>FL</td>\n      <td>28.70181754</td>\n      <td>-82.0794267</td>\n      <td>FL0</td>\n    </tr>\n    <tr>\n      <th>1</th>\n      <td>13153.0</td>\n      <td>Georgia</td>\n      <td>Houston</td>\n      <td>2020-01-31</td>\n      <td>0</td>\n      <td>0</td>\n      <td>GA</td>\n      <td>32.45802497</td>\n      <td>-83.66879087</td>\n      <td>GA1</td>\n    </tr>\n    <tr>\n      <th>2</th>\n      <td>13227.0</td>\n      <td>Georgia</td>\n      <td>Pickens</td>\n      <td>2020-01-31</td>\n      <td>0</td>\n      <td>0</td>\n      <td>GA</td>\n      <td>34.46589159</td>\n      <td>-84.46406611</td>\n      <td>GA2</td>\n    </tr>\n    <tr>\n      <th>3</th>\n      <td>13303.0</td>\n      <td>Georgia</td>\n      <td>Washington</td>\n      <td>2020-01-31</td>\n      <td>0</td>\n      <td>0</td>\n      <td>GA</td>\n      <td>32.96711864</td>\n      <td>-82.79357039</td>\n      <td>GA3</td>\n    </tr>\n    <tr>\n      <th>4</th>\n      <td>16003.0</td>\n      <td>Idaho</td>\n      <td>Adams</td>\n      <td>2020-01-31</td>\n      <td>0</td>\n      <td>0</td>\n      <td>ID</td>\n      <td>44.89333571</td>\n      <td>-116.4545247</td>\n      <td>ID4</td>\n    </tr>\n  </tbody>\n</table>\n</div>"
     },
     "execution_count": 142,
     "metadata": {},
     "output_type": "execute_result"
    }
   ],
   "source": [
    "raw_data.head() # id is smell, but it's ok for now."
   ]
  },
  {
   "cell_type": "markdown",
   "id": "ed1603b3dc126831",
   "metadata": {
    "collapsed": false
   },
   "source": [
    "### Data type"
   ]
  },
  {
   "cell_type": "code",
   "execution_count": 143,
   "id": "f16df554194212f3",
   "metadata": {
    "collapsed": false,
    "ExecuteTime": {
     "end_time": "2023-10-09T14:13:39.743049Z",
     "start_time": "2023-10-09T14:13:39.733301Z"
    }
   },
   "outputs": [
    {
     "data": {
      "text/plain": "FIPS                          float64\nState                          object\nCity/County/Borough/Region     object\nDate                           object\ndeath total                     int64\ninfected total                  int64\nAbbr                           object\nlat                            object\nlon                            object\nid                             object\ndtype: object"
     },
     "execution_count": 143,
     "metadata": {},
     "output_type": "execute_result"
    }
   ],
   "source": [
    "raw_data.dtypes"
   ]
  },
  {
   "cell_type": "code",
   "execution_count": 144,
   "id": "2f5013bc32f63854",
   "metadata": {
    "collapsed": false,
    "ExecuteTime": {
     "end_time": "2023-10-09T14:13:46.447190Z",
     "start_time": "2023-10-09T14:13:39.741285Z"
    }
   },
   "outputs": [],
   "source": [
    "# First of all FIPS is not float, it's string\n",
    "raw_data['FIPS'] = raw_data['FIPS'].astype(str).str.replace('.0', '')\n",
    "\n",
    "# Date is not a string, it's a date\n",
    "raw_data['Date'] = pd.to_datetime(raw_data['Date'])\n",
    "\n",
    "# Lat and Lon are not string, they are floated\n",
    "raw_data['lat'] = raw_data['lat'].astype(float)\n",
    "raw_data['lon'] = raw_data['lon'].astype(float)"
   ]
  },
  {
   "cell_type": "code",
   "execution_count": 145,
   "id": "868f686b0b1df243",
   "metadata": {
    "collapsed": false,
    "ExecuteTime": {
     "end_time": "2023-10-09T14:13:47.327846Z",
     "start_time": "2023-10-09T14:13:46.445388Z"
    }
   },
   "outputs": [
    {
     "data": {
      "text/plain": "    FIPS    State City/County/Borough/Region       Date  death total  \\\n0  12119  Florida                     Sumter 2020-01-31            0   \n1  13153  Georgia                    Houston 2020-01-31            0   \n2  13227  Georgia                    Pickens 2020-01-31            0   \n3  13303  Georgia                 Washington 2020-01-31            0   \n4  16003    Idaho                      Adams 2020-01-31            0   \n\n   infected total Abbr        lat         lon   id  \n0               0   FL  28.701818  -82.079427  FL0  \n1               0   GA  32.458025  -83.668791  GA1  \n2               0   GA  34.465892  -84.464066  GA2  \n3               0   GA  32.967119  -82.793570  GA3  \n4               0   ID  44.893336 -116.454525  ID4  ",
      "text/html": "<div>\n<style scoped>\n    .dataframe tbody tr th:only-of-type {\n        vertical-align: middle;\n    }\n\n    .dataframe tbody tr th {\n        vertical-align: top;\n    }\n\n    .dataframe thead th {\n        text-align: right;\n    }\n</style>\n<table border=\"1\" class=\"dataframe\">\n  <thead>\n    <tr style=\"text-align: right;\">\n      <th></th>\n      <th>FIPS</th>\n      <th>State</th>\n      <th>City/County/Borough/Region</th>\n      <th>Date</th>\n      <th>death total</th>\n      <th>infected total</th>\n      <th>Abbr</th>\n      <th>lat</th>\n      <th>lon</th>\n      <th>id</th>\n    </tr>\n  </thead>\n  <tbody>\n    <tr>\n      <th>0</th>\n      <td>12119</td>\n      <td>Florida</td>\n      <td>Sumter</td>\n      <td>2020-01-31</td>\n      <td>0</td>\n      <td>0</td>\n      <td>FL</td>\n      <td>28.701818</td>\n      <td>-82.079427</td>\n      <td>FL0</td>\n    </tr>\n    <tr>\n      <th>1</th>\n      <td>13153</td>\n      <td>Georgia</td>\n      <td>Houston</td>\n      <td>2020-01-31</td>\n      <td>0</td>\n      <td>0</td>\n      <td>GA</td>\n      <td>32.458025</td>\n      <td>-83.668791</td>\n      <td>GA1</td>\n    </tr>\n    <tr>\n      <th>2</th>\n      <td>13227</td>\n      <td>Georgia</td>\n      <td>Pickens</td>\n      <td>2020-01-31</td>\n      <td>0</td>\n      <td>0</td>\n      <td>GA</td>\n      <td>34.465892</td>\n      <td>-84.464066</td>\n      <td>GA2</td>\n    </tr>\n    <tr>\n      <th>3</th>\n      <td>13303</td>\n      <td>Georgia</td>\n      <td>Washington</td>\n      <td>2020-01-31</td>\n      <td>0</td>\n      <td>0</td>\n      <td>GA</td>\n      <td>32.967119</td>\n      <td>-82.793570</td>\n      <td>GA3</td>\n    </tr>\n    <tr>\n      <th>4</th>\n      <td>16003</td>\n      <td>Idaho</td>\n      <td>Adams</td>\n      <td>2020-01-31</td>\n      <td>0</td>\n      <td>0</td>\n      <td>ID</td>\n      <td>44.893336</td>\n      <td>-116.454525</td>\n      <td>ID4</td>\n    </tr>\n  </tbody>\n</table>\n</div>"
     },
     "execution_count": 145,
     "metadata": {},
     "output_type": "execute_result"
    }
   ],
   "source": [
    "raw_data.head()"
   ]
  },
  {
   "cell_type": "code",
   "execution_count": 146,
   "id": "de197c1465282a92",
   "metadata": {
    "collapsed": false,
    "ExecuteTime": {
     "end_time": "2023-10-09T14:13:47.333008Z",
     "start_time": "2023-10-09T14:13:47.326759Z"
    }
   },
   "outputs": [
    {
     "data": {
      "text/plain": "FIPS                                  object\nState                                 object\nCity/County/Borough/Region            object\nDate                          datetime64[ns]\ndeath total                            int64\ninfected total                         int64\nAbbr                                  object\nlat                                  float64\nlon                                  float64\nid                                    object\ndtype: object"
     },
     "execution_count": 146,
     "metadata": {},
     "output_type": "execute_result"
    }
   ],
   "source": [
    "raw_data.dtypes"
   ]
  },
  {
   "cell_type": "code",
   "execution_count": 147,
   "id": "64f5dd3f",
   "metadata": {
    "ExecuteTime": {
     "end_time": "2023-10-09T14:13:47.335132Z",
     "start_time": "2023-10-09T14:13:47.331736Z"
    }
   },
   "outputs": [],
   "source": [
    "length = raw_data.shape[0]\n",
    "length = len(str(length))\n"
   ]
  },
  {
   "cell_type": "code",
   "execution_count": 148,
   "id": "d2447ec962e43bc6",
   "metadata": {
    "collapsed": false,
    "ExecuteTime": {
     "end_time": "2023-10-09T14:13:53.194281Z",
     "start_time": "2023-10-09T14:13:47.339856Z"
    }
   },
   "outputs": [],
   "source": [
    "# \n",
    "raw_data['id'] = raw_data['Abbr'] + raw_data.index.astype(str).str.zfill(length)"
   ]
  },
  {
   "cell_type": "code",
   "execution_count": 149,
   "id": "6fd41fd043b5e656",
   "metadata": {
    "collapsed": false,
    "ExecuteTime": {
     "end_time": "2023-10-09T14:13:53.204631Z",
     "start_time": "2023-10-09T14:13:53.186597Z"
    }
   },
   "outputs": [
    {
     "data": {
      "text/plain": "    FIPS    State City/County/Borough/Region       Date  death total  \\\n0  12119  Florida                     Sumter 2020-01-31            0   \n1  13153  Georgia                    Houston 2020-01-31            0   \n2  13227  Georgia                    Pickens 2020-01-31            0   \n3  13303  Georgia                 Washington 2020-01-31            0   \n4  16003    Idaho                      Adams 2020-01-31            0   \n\n   infected total Abbr        lat         lon         id  \n0               0   FL  28.701818  -82.079427  FL0000000  \n1               0   GA  32.458025  -83.668791  GA0000001  \n2               0   GA  34.465892  -84.464066  GA0000002  \n3               0   GA  32.967119  -82.793570  GA0000003  \n4               0   ID  44.893336 -116.454525  ID0000004  ",
      "text/html": "<div>\n<style scoped>\n    .dataframe tbody tr th:only-of-type {\n        vertical-align: middle;\n    }\n\n    .dataframe tbody tr th {\n        vertical-align: top;\n    }\n\n    .dataframe thead th {\n        text-align: right;\n    }\n</style>\n<table border=\"1\" class=\"dataframe\">\n  <thead>\n    <tr style=\"text-align: right;\">\n      <th></th>\n      <th>FIPS</th>\n      <th>State</th>\n      <th>City/County/Borough/Region</th>\n      <th>Date</th>\n      <th>death total</th>\n      <th>infected total</th>\n      <th>Abbr</th>\n      <th>lat</th>\n      <th>lon</th>\n      <th>id</th>\n    </tr>\n  </thead>\n  <tbody>\n    <tr>\n      <th>0</th>\n      <td>12119</td>\n      <td>Florida</td>\n      <td>Sumter</td>\n      <td>2020-01-31</td>\n      <td>0</td>\n      <td>0</td>\n      <td>FL</td>\n      <td>28.701818</td>\n      <td>-82.079427</td>\n      <td>FL0000000</td>\n    </tr>\n    <tr>\n      <th>1</th>\n      <td>13153</td>\n      <td>Georgia</td>\n      <td>Houston</td>\n      <td>2020-01-31</td>\n      <td>0</td>\n      <td>0</td>\n      <td>GA</td>\n      <td>32.458025</td>\n      <td>-83.668791</td>\n      <td>GA0000001</td>\n    </tr>\n    <tr>\n      <th>2</th>\n      <td>13227</td>\n      <td>Georgia</td>\n      <td>Pickens</td>\n      <td>2020-01-31</td>\n      <td>0</td>\n      <td>0</td>\n      <td>GA</td>\n      <td>34.465892</td>\n      <td>-84.464066</td>\n      <td>GA0000002</td>\n    </tr>\n    <tr>\n      <th>3</th>\n      <td>13303</td>\n      <td>Georgia</td>\n      <td>Washington</td>\n      <td>2020-01-31</td>\n      <td>0</td>\n      <td>0</td>\n      <td>GA</td>\n      <td>32.967119</td>\n      <td>-82.793570</td>\n      <td>GA0000003</td>\n    </tr>\n    <tr>\n      <th>4</th>\n      <td>16003</td>\n      <td>Idaho</td>\n      <td>Adams</td>\n      <td>2020-01-31</td>\n      <td>0</td>\n      <td>0</td>\n      <td>ID</td>\n      <td>44.893336</td>\n      <td>-116.454525</td>\n      <td>ID0000004</td>\n    </tr>\n  </tbody>\n</table>\n</div>"
     },
     "execution_count": 149,
     "metadata": {},
     "output_type": "execute_result"
    }
   ],
   "source": [
    "raw_data.head()"
   ]
  },
  {
   "cell_type": "code",
   "execution_count": 150,
   "id": "5fa3edda94c7eb2f",
   "metadata": {
    "collapsed": false,
    "ExecuteTime": {
     "end_time": "2023-10-09T14:13:54.016809Z",
     "start_time": "2023-10-09T14:13:53.689908Z"
    }
   },
   "outputs": [
    {
     "data": {
      "text/plain": "FIPS                          0\nState                         0\nCity/County/Borough/Region    0\nDate                          0\ndeath total                   0\ninfected total                0\nAbbr                          0\nlat                           0\nlon                           0\nid                            0\ndtype: int64"
     },
     "execution_count": 150,
     "metadata": {},
     "output_type": "execute_result"
    }
   ],
   "source": [
    "# show missing values\n",
    "raw_data.isnull().sum()"
   ]
  },
  {
   "cell_type": "code",
   "execution_count": 151,
   "id": "71430e35600c929b",
   "metadata": {
    "collapsed": false,
    "ExecuteTime": {
     "end_time": "2023-10-09T14:13:54.055151Z",
     "start_time": "2023-10-09T14:13:54.022210Z"
    }
   },
   "outputs": [
    {
     "data": {
      "text/plain": "            FIPS       State City/County/Borough/Region       Date  \\\nid                                                                   \nFL0000000  12119     Florida                     Sumter 2020-01-31   \nGA0000001  13153     Georgia                    Houston 2020-01-31   \nGA0000002  13227     Georgia                    Pickens 2020-01-31   \nGA0000003  13303     Georgia                 Washington 2020-01-31   \nID0000004  16003       Idaho                      Adams 2020-01-31   \n...          ...         ...                        ...        ...   \nAR3099175   5083    Arkansas                      Logan 2022-03-10   \nCA3099176   6009  California                  Calaveras 2022-03-10   \nCA3099177   6035  California                     Lassen 2022-03-10   \nCA3099178   6037  California                Los Angeles 2022-03-10   \nFL3099179  12005     Florida                        Bay 2022-03-10   \n\n           death total  infected total Abbr        lat         lon  \nid                                                                  \nFL0000000            0               0   FL  28.701818  -82.079427  \nGA0000001            0               0   GA  32.458025  -83.668791  \nGA0000002            0               0   GA  34.465892  -84.464066  \nGA0000003            0               0   GA  32.967119  -82.793570  \nID0000004            0               0   ID  44.893336 -116.454525  \n...                ...             ...  ...        ...         ...  \nAR3099175           74            5076   AR  35.214132  -93.719510  \nCA3099176          117            7595   CA  38.205371 -120.552913  \nCA3099177           60            9813   CA  40.673113 -120.593510  \nCA3099178        31178         2808409   CA  34.308284 -118.228241  \nFL3099179          778           46333   FL  30.265487  -85.621226  \n\n[3017226 rows x 9 columns]",
      "text/html": "<div>\n<style scoped>\n    .dataframe tbody tr th:only-of-type {\n        vertical-align: middle;\n    }\n\n    .dataframe tbody tr th {\n        vertical-align: top;\n    }\n\n    .dataframe thead th {\n        text-align: right;\n    }\n</style>\n<table border=\"1\" class=\"dataframe\">\n  <thead>\n    <tr style=\"text-align: right;\">\n      <th></th>\n      <th>FIPS</th>\n      <th>State</th>\n      <th>City/County/Borough/Region</th>\n      <th>Date</th>\n      <th>death total</th>\n      <th>infected total</th>\n      <th>Abbr</th>\n      <th>lat</th>\n      <th>lon</th>\n    </tr>\n    <tr>\n      <th>id</th>\n      <th></th>\n      <th></th>\n      <th></th>\n      <th></th>\n      <th></th>\n      <th></th>\n      <th></th>\n      <th></th>\n      <th></th>\n    </tr>\n  </thead>\n  <tbody>\n    <tr>\n      <th>FL0000000</th>\n      <td>12119</td>\n      <td>Florida</td>\n      <td>Sumter</td>\n      <td>2020-01-31</td>\n      <td>0</td>\n      <td>0</td>\n      <td>FL</td>\n      <td>28.701818</td>\n      <td>-82.079427</td>\n    </tr>\n    <tr>\n      <th>GA0000001</th>\n      <td>13153</td>\n      <td>Georgia</td>\n      <td>Houston</td>\n      <td>2020-01-31</td>\n      <td>0</td>\n      <td>0</td>\n      <td>GA</td>\n      <td>32.458025</td>\n      <td>-83.668791</td>\n    </tr>\n    <tr>\n      <th>GA0000002</th>\n      <td>13227</td>\n      <td>Georgia</td>\n      <td>Pickens</td>\n      <td>2020-01-31</td>\n      <td>0</td>\n      <td>0</td>\n      <td>GA</td>\n      <td>34.465892</td>\n      <td>-84.464066</td>\n    </tr>\n    <tr>\n      <th>GA0000003</th>\n      <td>13303</td>\n      <td>Georgia</td>\n      <td>Washington</td>\n      <td>2020-01-31</td>\n      <td>0</td>\n      <td>0</td>\n      <td>GA</td>\n      <td>32.967119</td>\n      <td>-82.793570</td>\n    </tr>\n    <tr>\n      <th>ID0000004</th>\n      <td>16003</td>\n      <td>Idaho</td>\n      <td>Adams</td>\n      <td>2020-01-31</td>\n      <td>0</td>\n      <td>0</td>\n      <td>ID</td>\n      <td>44.893336</td>\n      <td>-116.454525</td>\n    </tr>\n    <tr>\n      <th>...</th>\n      <td>...</td>\n      <td>...</td>\n      <td>...</td>\n      <td>...</td>\n      <td>...</td>\n      <td>...</td>\n      <td>...</td>\n      <td>...</td>\n      <td>...</td>\n    </tr>\n    <tr>\n      <th>AR3099175</th>\n      <td>5083</td>\n      <td>Arkansas</td>\n      <td>Logan</td>\n      <td>2022-03-10</td>\n      <td>74</td>\n      <td>5076</td>\n      <td>AR</td>\n      <td>35.214132</td>\n      <td>-93.719510</td>\n    </tr>\n    <tr>\n      <th>CA3099176</th>\n      <td>6009</td>\n      <td>California</td>\n      <td>Calaveras</td>\n      <td>2022-03-10</td>\n      <td>117</td>\n      <td>7595</td>\n      <td>CA</td>\n      <td>38.205371</td>\n      <td>-120.552913</td>\n    </tr>\n    <tr>\n      <th>CA3099177</th>\n      <td>6035</td>\n      <td>California</td>\n      <td>Lassen</td>\n      <td>2022-03-10</td>\n      <td>60</td>\n      <td>9813</td>\n      <td>CA</td>\n      <td>40.673113</td>\n      <td>-120.593510</td>\n    </tr>\n    <tr>\n      <th>CA3099178</th>\n      <td>6037</td>\n      <td>California</td>\n      <td>Los Angeles</td>\n      <td>2022-03-10</td>\n      <td>31178</td>\n      <td>2808409</td>\n      <td>CA</td>\n      <td>34.308284</td>\n      <td>-118.228241</td>\n    </tr>\n    <tr>\n      <th>FL3099179</th>\n      <td>12005</td>\n      <td>Florida</td>\n      <td>Bay</td>\n      <td>2022-03-10</td>\n      <td>778</td>\n      <td>46333</td>\n      <td>FL</td>\n      <td>30.265487</td>\n      <td>-85.621226</td>\n    </tr>\n  </tbody>\n</table>\n<p>3017226 rows × 9 columns</p>\n</div>"
     },
     "execution_count": 151,
     "metadata": {},
     "output_type": "execute_result"
    }
   ],
   "source": [
    "raw_data.set_index('id', inplace=True)\n",
    "raw_data"
   ]
  },
  {
   "cell_type": "code",
   "execution_count": 152,
   "id": "19590718",
   "metadata": {
    "ExecuteTime": {
     "end_time": "2023-10-09T14:13:54.383536Z",
     "start_time": "2023-10-09T14:13:54.029170Z"
    }
   },
   "outputs": [
    {
     "data": {
      "text/plain": "            FIPS        lat         lon       State  \\\nid                                                    \nFL0000000  12119  28.701818  -82.079427     Florida   \nGA0000001  13153  32.458025  -83.668791     Georgia   \nGA0000002  13227  34.465892  -84.464066     Georgia   \nGA0000003  13303  32.967119  -82.793570     Georgia   \nID0000004  16003  44.893336 -116.454525       Idaho   \n...          ...        ...         ...         ...   \nAR3099175   5083  35.214132  -93.719510    Arkansas   \nCA3099176   6009  38.205371 -120.552913  California   \nCA3099177   6035  40.673113 -120.593510  California   \nCA3099178   6037  34.308284 -118.228241  California   \nFL3099179  12005  30.265487  -85.621226     Florida   \n\n          City/County/Borough/Region  infected total  death total  \nid                                                                 \nFL0000000                     Sumter               0            0  \nGA0000001                    Houston               0            0  \nGA0000002                    Pickens               0            0  \nGA0000003                 Washington               0            0  \nID0000004                      Adams               0            0  \n...                              ...             ...          ...  \nAR3099175                      Logan            5076           74  \nCA3099176                  Calaveras            7595          117  \nCA3099177                     Lassen            9813           60  \nCA3099178                Los Angeles         2808409        31178  \nFL3099179                        Bay           46333          778  \n\n[3017226 rows x 7 columns]",
      "text/html": "<div>\n<style scoped>\n    .dataframe tbody tr th:only-of-type {\n        vertical-align: middle;\n    }\n\n    .dataframe tbody tr th {\n        vertical-align: top;\n    }\n\n    .dataframe thead th {\n        text-align: right;\n    }\n</style>\n<table border=\"1\" class=\"dataframe\">\n  <thead>\n    <tr style=\"text-align: right;\">\n      <th></th>\n      <th>FIPS</th>\n      <th>lat</th>\n      <th>lon</th>\n      <th>State</th>\n      <th>City/County/Borough/Region</th>\n      <th>infected total</th>\n      <th>death total</th>\n    </tr>\n    <tr>\n      <th>id</th>\n      <th></th>\n      <th></th>\n      <th></th>\n      <th></th>\n      <th></th>\n      <th></th>\n      <th></th>\n    </tr>\n  </thead>\n  <tbody>\n    <tr>\n      <th>FL0000000</th>\n      <td>12119</td>\n      <td>28.701818</td>\n      <td>-82.079427</td>\n      <td>Florida</td>\n      <td>Sumter</td>\n      <td>0</td>\n      <td>0</td>\n    </tr>\n    <tr>\n      <th>GA0000001</th>\n      <td>13153</td>\n      <td>32.458025</td>\n      <td>-83.668791</td>\n      <td>Georgia</td>\n      <td>Houston</td>\n      <td>0</td>\n      <td>0</td>\n    </tr>\n    <tr>\n      <th>GA0000002</th>\n      <td>13227</td>\n      <td>34.465892</td>\n      <td>-84.464066</td>\n      <td>Georgia</td>\n      <td>Pickens</td>\n      <td>0</td>\n      <td>0</td>\n    </tr>\n    <tr>\n      <th>GA0000003</th>\n      <td>13303</td>\n      <td>32.967119</td>\n      <td>-82.793570</td>\n      <td>Georgia</td>\n      <td>Washington</td>\n      <td>0</td>\n      <td>0</td>\n    </tr>\n    <tr>\n      <th>ID0000004</th>\n      <td>16003</td>\n      <td>44.893336</td>\n      <td>-116.454525</td>\n      <td>Idaho</td>\n      <td>Adams</td>\n      <td>0</td>\n      <td>0</td>\n    </tr>\n    <tr>\n      <th>...</th>\n      <td>...</td>\n      <td>...</td>\n      <td>...</td>\n      <td>...</td>\n      <td>...</td>\n      <td>...</td>\n      <td>...</td>\n    </tr>\n    <tr>\n      <th>AR3099175</th>\n      <td>5083</td>\n      <td>35.214132</td>\n      <td>-93.719510</td>\n      <td>Arkansas</td>\n      <td>Logan</td>\n      <td>5076</td>\n      <td>74</td>\n    </tr>\n    <tr>\n      <th>CA3099176</th>\n      <td>6009</td>\n      <td>38.205371</td>\n      <td>-120.552913</td>\n      <td>California</td>\n      <td>Calaveras</td>\n      <td>7595</td>\n      <td>117</td>\n    </tr>\n    <tr>\n      <th>CA3099177</th>\n      <td>6035</td>\n      <td>40.673113</td>\n      <td>-120.593510</td>\n      <td>California</td>\n      <td>Lassen</td>\n      <td>9813</td>\n      <td>60</td>\n    </tr>\n    <tr>\n      <th>CA3099178</th>\n      <td>6037</td>\n      <td>34.308284</td>\n      <td>-118.228241</td>\n      <td>California</td>\n      <td>Los Angeles</td>\n      <td>2808409</td>\n      <td>31178</td>\n    </tr>\n    <tr>\n      <th>FL3099179</th>\n      <td>12005</td>\n      <td>30.265487</td>\n      <td>-85.621226</td>\n      <td>Florida</td>\n      <td>Bay</td>\n      <td>46333</td>\n      <td>778</td>\n    </tr>\n  </tbody>\n</table>\n<p>3017226 rows × 7 columns</p>\n</div>"
     },
     "execution_count": 152,
     "metadata": {},
     "output_type": "execute_result"
    }
   ],
   "source": [
    "new_cols = [\"FIPS\",\"lat\",\"lon\",\"State\",\"City/County/Borough/Region\",\"infected total\",\"death total\"]\n",
    "raw_data=raw_data.reindex(columns=new_cols)\n",
    "raw_data"
   ]
  },
  {
   "cell_type": "markdown",
   "id": "785bf6bf185ae6a6",
   "metadata": {
    "collapsed": false
   },
   "source": [
    "# Conclusion before handling missing values"
   ]
  },
  {
   "cell_type": "code",
   "execution_count": 153,
   "id": "b47741ca1bf67f79",
   "metadata": {
    "collapsed": false,
    "ExecuteTime": {
     "end_time": "2023-10-09T14:14:01.001169Z",
     "start_time": "2023-10-09T14:13:54.369320Z"
    }
   },
   "outputs": [],
   "source": [
    "# Save data\n",
    "raw_data.to_csv('../../data/covid19_usa.csv')"
   ]
  },
  {
   "cell_type": "code",
   "execution_count": 121,
   "id": "6195e1c9a5708e47",
   "metadata": {
    "collapsed": false,
    "ExecuteTime": {
     "end_time": "2023-10-09T14:10:33.485085Z",
     "start_time": "2023-10-09T14:10:33.483565Z"
    }
   },
   "outputs": [],
   "source": []
  }
 ],
 "metadata": {
  "kernelspec": {
   "display_name": "Python 3",
   "language": "python",
   "name": "python3"
  },
  "language_info": {
   "codemirror_mode": {
    "name": "ipython",
    "version": 3
   },
   "file_extension": ".py",
   "mimetype": "text/x-python",
   "name": "python",
   "nbconvert_exporter": "python",
   "pygments_lexer": "ipython3",
   "version": "3.8.10"
  }
 },
 "nbformat": 4,
 "nbformat_minor": 5
}
