{
 "cells": [
  {
   "cell_type": "code",
   "execution_count": 39,
   "id": "initial_id",
   "metadata": {
    "collapsed": true,
    "ExecuteTime": {
     "end_time": "2023-10-09T14:10:39.682445Z",
     "start_time": "2023-10-09T14:10:39.664687Z"
    }
   },
   "outputs": [],
   "source": [
    "import pandas as pd"
   ]
  },
  {
   "cell_type": "code",
   "execution_count": 40,
   "outputs": [
    {
     "data": {
      "text/plain": "          id     FIPS        lat         lon    State  \\\n0  FL0000000  12119.0  28.701818  -82.079427  Florida   \n1  GA0000001  13153.0  32.458025  -83.668791  Georgia   \n2  GA0000002  13227.0  34.465892  -84.464066  Georgia   \n3  GA0000003  13303.0  32.967119  -82.793570  Georgia   \n4  ID0000004  16003.0  44.893336 -116.454525    Idaho   \n\n  City/County/Borough/Region  infected total  death total  \n0                     Sumter               0            0  \n1                    Houston               0            0  \n2                    Pickens               0            0  \n3                 Washington               0            0  \n4                      Adams               0            0  ",
      "text/html": "<div>\n<style scoped>\n    .dataframe tbody tr th:only-of-type {\n        vertical-align: middle;\n    }\n\n    .dataframe tbody tr th {\n        vertical-align: top;\n    }\n\n    .dataframe thead th {\n        text-align: right;\n    }\n</style>\n<table border=\"1\" class=\"dataframe\">\n  <thead>\n    <tr style=\"text-align: right;\">\n      <th></th>\n      <th>id</th>\n      <th>FIPS</th>\n      <th>lat</th>\n      <th>lon</th>\n      <th>State</th>\n      <th>City/County/Borough/Region</th>\n      <th>infected total</th>\n      <th>death total</th>\n    </tr>\n  </thead>\n  <tbody>\n    <tr>\n      <th>0</th>\n      <td>FL0000000</td>\n      <td>12119.0</td>\n      <td>28.701818</td>\n      <td>-82.079427</td>\n      <td>Florida</td>\n      <td>Sumter</td>\n      <td>0</td>\n      <td>0</td>\n    </tr>\n    <tr>\n      <th>1</th>\n      <td>GA0000001</td>\n      <td>13153.0</td>\n      <td>32.458025</td>\n      <td>-83.668791</td>\n      <td>Georgia</td>\n      <td>Houston</td>\n      <td>0</td>\n      <td>0</td>\n    </tr>\n    <tr>\n      <th>2</th>\n      <td>GA0000002</td>\n      <td>13227.0</td>\n      <td>34.465892</td>\n      <td>-84.464066</td>\n      <td>Georgia</td>\n      <td>Pickens</td>\n      <td>0</td>\n      <td>0</td>\n    </tr>\n    <tr>\n      <th>3</th>\n      <td>GA0000003</td>\n      <td>13303.0</td>\n      <td>32.967119</td>\n      <td>-82.793570</td>\n      <td>Georgia</td>\n      <td>Washington</td>\n      <td>0</td>\n      <td>0</td>\n    </tr>\n    <tr>\n      <th>4</th>\n      <td>ID0000004</td>\n      <td>16003.0</td>\n      <td>44.893336</td>\n      <td>-116.454525</td>\n      <td>Idaho</td>\n      <td>Adams</td>\n      <td>0</td>\n      <td>0</td>\n    </tr>\n  </tbody>\n</table>\n</div>"
     },
     "execution_count": 40,
     "metadata": {},
     "output_type": "execute_result"
    }
   ],
   "source": [
    "data = pd.read_csv('../../data/covid19_usa.csv')\n",
    "data.head()"
   ],
   "metadata": {
    "collapsed": false,
    "ExecuteTime": {
     "end_time": "2023-10-09T14:10:41.763356Z",
     "start_time": "2023-10-09T14:10:39.666367Z"
    }
   },
   "id": "e418ec2132929d03"
  },
  {
   "cell_type": "code",
   "execution_count": 41,
   "outputs": [
    {
     "data": {
      "text/plain": "id                            81954\nFIPS                           9420\nlat                               0\nlon                               0\nState                             0\nCity/County/Borough/Region     5652\ninfected total                    0\ndeath total                       0\ndtype: int64"
     },
     "execution_count": 41,
     "metadata": {},
     "output_type": "execute_result"
    }
   ],
   "source": [
    "data.isna().sum() "
   ],
   "metadata": {
    "collapsed": false,
    "ExecuteTime": {
     "end_time": "2023-10-09T14:10:42.007402Z",
     "start_time": "2023-10-09T14:10:41.760738Z"
    }
   },
   "id": "279f50128daefd02"
  },
  {
   "cell_type": "code",
   "execution_count": 42,
   "outputs": [
    {
     "data": {
      "text/plain": "                id  FIPS        lat         lon     State  \\\n30       MI0000030   NaN   0.000000    0.000000  Michigan   \n89       UT0000089   NaN  37.854472 -111.441876      Utah   \n202      UT0000202   NaN  37.854472 -111.441876      Utah   \n256      MO0000256   NaN  39.099700  -94.578600  Missouri   \n349      MI0000349   NaN   0.000000    0.000000  Michigan   \n...            ...   ...        ...         ...       ...   \n3096406  UT3096406   NaN  38.996171 -110.701396      Utah   \n3096478  MI3096478   NaN   0.000000    0.000000  Michigan   \n3096540  UT3096540   NaN  41.271160 -111.914512      Utah   \n3097011  UT3097011   NaN  41.521068 -113.083282      Utah   \n3098476  UT3098476   NaN  37.854472 -111.441876      Utah   \n\n                        City/County/Borough/Region  infected total  \\\n30       Michigan Department of Corrections (MDOC)               0   \n89                                  Southwest Utah               0   \n202                                 Southwest Utah               0   \n256                                    Kansas City               0   \n349      Michigan Department of Corrections (MDOC)               0   \n...                                            ...             ...   \n3096406                             Southeast Utah            9957   \n3096478     Federal Correctional Institution (FCI)             324   \n3096540                               Weber-Morgan           73379   \n3097011                                 Bear River           51405   \n3098476                             Southwest Utah           62930   \n\n         death total  \n30                 0  \n89                 0  \n202                0  \n256                0  \n349                0  \n...              ...  \n3096406           73  \n3096478            5  \n3096540          416  \n3097011          236  \n3098476          585  \n\n[9420 rows x 8 columns]",
      "text/html": "<div>\n<style scoped>\n    .dataframe tbody tr th:only-of-type {\n        vertical-align: middle;\n    }\n\n    .dataframe tbody tr th {\n        vertical-align: top;\n    }\n\n    .dataframe thead th {\n        text-align: right;\n    }\n</style>\n<table border=\"1\" class=\"dataframe\">\n  <thead>\n    <tr style=\"text-align: right;\">\n      <th></th>\n      <th>id</th>\n      <th>FIPS</th>\n      <th>lat</th>\n      <th>lon</th>\n      <th>State</th>\n      <th>City/County/Borough/Region</th>\n      <th>infected total</th>\n      <th>death total</th>\n    </tr>\n  </thead>\n  <tbody>\n    <tr>\n      <th>30</th>\n      <td>MI0000030</td>\n      <td>NaN</td>\n      <td>0.000000</td>\n      <td>0.000000</td>\n      <td>Michigan</td>\n      <td>Michigan Department of Corrections (MDOC)</td>\n      <td>0</td>\n      <td>0</td>\n    </tr>\n    <tr>\n      <th>89</th>\n      <td>UT0000089</td>\n      <td>NaN</td>\n      <td>37.854472</td>\n      <td>-111.441876</td>\n      <td>Utah</td>\n      <td>Southwest Utah</td>\n      <td>0</td>\n      <td>0</td>\n    </tr>\n    <tr>\n      <th>202</th>\n      <td>UT0000202</td>\n      <td>NaN</td>\n      <td>37.854472</td>\n      <td>-111.441876</td>\n      <td>Utah</td>\n      <td>Southwest Utah</td>\n      <td>0</td>\n      <td>0</td>\n    </tr>\n    <tr>\n      <th>256</th>\n      <td>MO0000256</td>\n      <td>NaN</td>\n      <td>39.099700</td>\n      <td>-94.578600</td>\n      <td>Missouri</td>\n      <td>Kansas City</td>\n      <td>0</td>\n      <td>0</td>\n    </tr>\n    <tr>\n      <th>349</th>\n      <td>MI0000349</td>\n      <td>NaN</td>\n      <td>0.000000</td>\n      <td>0.000000</td>\n      <td>Michigan</td>\n      <td>Michigan Department of Corrections (MDOC)</td>\n      <td>0</td>\n      <td>0</td>\n    </tr>\n    <tr>\n      <th>...</th>\n      <td>...</td>\n      <td>...</td>\n      <td>...</td>\n      <td>...</td>\n      <td>...</td>\n      <td>...</td>\n      <td>...</td>\n      <td>...</td>\n    </tr>\n    <tr>\n      <th>3096406</th>\n      <td>UT3096406</td>\n      <td>NaN</td>\n      <td>38.996171</td>\n      <td>-110.701396</td>\n      <td>Utah</td>\n      <td>Southeast Utah</td>\n      <td>9957</td>\n      <td>73</td>\n    </tr>\n    <tr>\n      <th>3096478</th>\n      <td>MI3096478</td>\n      <td>NaN</td>\n      <td>0.000000</td>\n      <td>0.000000</td>\n      <td>Michigan</td>\n      <td>Federal Correctional Institution (FCI)</td>\n      <td>324</td>\n      <td>5</td>\n    </tr>\n    <tr>\n      <th>3096540</th>\n      <td>UT3096540</td>\n      <td>NaN</td>\n      <td>41.271160</td>\n      <td>-111.914512</td>\n      <td>Utah</td>\n      <td>Weber-Morgan</td>\n      <td>73379</td>\n      <td>416</td>\n    </tr>\n    <tr>\n      <th>3097011</th>\n      <td>UT3097011</td>\n      <td>NaN</td>\n      <td>41.521068</td>\n      <td>-113.083282</td>\n      <td>Utah</td>\n      <td>Bear River</td>\n      <td>51405</td>\n      <td>236</td>\n    </tr>\n    <tr>\n      <th>3098476</th>\n      <td>UT3098476</td>\n      <td>NaN</td>\n      <td>37.854472</td>\n      <td>-111.441876</td>\n      <td>Utah</td>\n      <td>Southwest Utah</td>\n      <td>62930</td>\n      <td>585</td>\n    </tr>\n  </tbody>\n</table>\n<p>9420 rows × 8 columns</p>\n</div>"
     },
     "execution_count": 42,
     "metadata": {},
     "output_type": "execute_result"
    }
   ],
   "source": [
    "# show null rows of FIPS\n",
    "data[data['FIPS'].isna()] # look a bit weird, but it's ok for now..."
   ],
   "metadata": {
    "collapsed": false,
    "ExecuteTime": {
     "end_time": "2023-10-09T14:10:42.067086Z",
     "start_time": "2023-10-09T14:10:42.008650Z"
    }
   },
   "id": "9d64032a49fbe3a5"
  },
  {
   "cell_type": "code",
   "execution_count": 43,
   "outputs": [
    {
     "data": {
      "text/plain": "          id     FIPS      lat       lon                     State  \\\n174      NaN     69.0  15.0979  145.6739  Northern Mariana Islands   \n674      NaN  99999.0   0.0000    0.0000            Grand Princess   \n1149     NaN     66.0  13.4443  144.7937                      Guam   \n1562     NaN  88888.0   0.0000    0.0000          Diamond Princess   \n1899     NaN     60.0 -14.2710 -170.1320            American Samoa   \n...      ...      ...      ...       ...                       ...   \n3095199  NaN     78.0  18.3358  -64.8963            Virgin Islands   \n3095276  NaN     69.0  15.0979  145.6739  Northern Mariana Islands   \n3095428  NaN     78.0  18.3358  -64.8963            Virgin Islands   \n3096574  NaN  88888.0   0.0000    0.0000          Diamond Princess   \n3096908  NaN     60.0 -14.2710 -170.1320            American Samoa   \n\n        City/County/Borough/Region  infected total  death total  \n174                            NaN               0            0  \n674                            NaN               0            0  \n1149                           NaN             183            5  \n1562                           NaN              49            0  \n1899                           NaN               0            0  \n...                            ...             ...          ...  \n3095199                        NaN            7490           85  \n3095276                        NaN             692            3  \n3095428                        NaN            7439           85  \n3096574                        NaN              49            0  \n3096908                        NaN             588            0  \n\n[5652 rows x 8 columns]",
      "text/html": "<div>\n<style scoped>\n    .dataframe tbody tr th:only-of-type {\n        vertical-align: middle;\n    }\n\n    .dataframe tbody tr th {\n        vertical-align: top;\n    }\n\n    .dataframe thead th {\n        text-align: right;\n    }\n</style>\n<table border=\"1\" class=\"dataframe\">\n  <thead>\n    <tr style=\"text-align: right;\">\n      <th></th>\n      <th>id</th>\n      <th>FIPS</th>\n      <th>lat</th>\n      <th>lon</th>\n      <th>State</th>\n      <th>City/County/Borough/Region</th>\n      <th>infected total</th>\n      <th>death total</th>\n    </tr>\n  </thead>\n  <tbody>\n    <tr>\n      <th>174</th>\n      <td>NaN</td>\n      <td>69.0</td>\n      <td>15.0979</td>\n      <td>145.6739</td>\n      <td>Northern Mariana Islands</td>\n      <td>NaN</td>\n      <td>0</td>\n      <td>0</td>\n    </tr>\n    <tr>\n      <th>674</th>\n      <td>NaN</td>\n      <td>99999.0</td>\n      <td>0.0000</td>\n      <td>0.0000</td>\n      <td>Grand Princess</td>\n      <td>NaN</td>\n      <td>0</td>\n      <td>0</td>\n    </tr>\n    <tr>\n      <th>1149</th>\n      <td>NaN</td>\n      <td>66.0</td>\n      <td>13.4443</td>\n      <td>144.7937</td>\n      <td>Guam</td>\n      <td>NaN</td>\n      <td>183</td>\n      <td>5</td>\n    </tr>\n    <tr>\n      <th>1562</th>\n      <td>NaN</td>\n      <td>88888.0</td>\n      <td>0.0000</td>\n      <td>0.0000</td>\n      <td>Diamond Princess</td>\n      <td>NaN</td>\n      <td>49</td>\n      <td>0</td>\n    </tr>\n    <tr>\n      <th>1899</th>\n      <td>NaN</td>\n      <td>60.0</td>\n      <td>-14.2710</td>\n      <td>-170.1320</td>\n      <td>American Samoa</td>\n      <td>NaN</td>\n      <td>0</td>\n      <td>0</td>\n    </tr>\n    <tr>\n      <th>...</th>\n      <td>...</td>\n      <td>...</td>\n      <td>...</td>\n      <td>...</td>\n      <td>...</td>\n      <td>...</td>\n      <td>...</td>\n      <td>...</td>\n    </tr>\n    <tr>\n      <th>3095199</th>\n      <td>NaN</td>\n      <td>78.0</td>\n      <td>18.3358</td>\n      <td>-64.8963</td>\n      <td>Virgin Islands</td>\n      <td>NaN</td>\n      <td>7490</td>\n      <td>85</td>\n    </tr>\n    <tr>\n      <th>3095276</th>\n      <td>NaN</td>\n      <td>69.0</td>\n      <td>15.0979</td>\n      <td>145.6739</td>\n      <td>Northern Mariana Islands</td>\n      <td>NaN</td>\n      <td>692</td>\n      <td>3</td>\n    </tr>\n    <tr>\n      <th>3095428</th>\n      <td>NaN</td>\n      <td>78.0</td>\n      <td>18.3358</td>\n      <td>-64.8963</td>\n      <td>Virgin Islands</td>\n      <td>NaN</td>\n      <td>7439</td>\n      <td>85</td>\n    </tr>\n    <tr>\n      <th>3096574</th>\n      <td>NaN</td>\n      <td>88888.0</td>\n      <td>0.0000</td>\n      <td>0.0000</td>\n      <td>Diamond Princess</td>\n      <td>NaN</td>\n      <td>49</td>\n      <td>0</td>\n    </tr>\n    <tr>\n      <th>3096908</th>\n      <td>NaN</td>\n      <td>60.0</td>\n      <td>-14.2710</td>\n      <td>-170.1320</td>\n      <td>American Samoa</td>\n      <td>NaN</td>\n      <td>588</td>\n      <td>0</td>\n    </tr>\n  </tbody>\n</table>\n<p>5652 rows × 8 columns</p>\n</div>"
     },
     "execution_count": 43,
     "metadata": {},
     "output_type": "execute_result"
    }
   ],
   "source": [
    "# show null rows of City/County/Borough/Region\n",
    "data[data['City/County/Borough/Region'].isna()] # look a bit weird, but it's ok for now..."
   ],
   "metadata": {
    "collapsed": false,
    "ExecuteTime": {
     "end_time": "2023-10-09T14:10:42.139706Z",
     "start_time": "2023-10-09T14:10:42.126591Z"
    }
   },
   "id": "3d8c177c5d666f25"
  },
  {
   "cell_type": "markdown",
   "source": [
    "***Conclusion:*** *We can see that there are some null values in the data, but it's ok for now...*"
   ],
   "metadata": {
    "collapsed": false
   },
   "id": "928c72643c684b6f"
  },
  {
   "cell_type": "markdown",
   "source": [
    "### Missing values is not a problem for now, but we will need to deal with it later."
   ],
   "metadata": {
    "collapsed": false
   },
   "id": "1fb4a8c505bcb488"
  },
  {
   "cell_type": "code",
   "execution_count": 44,
   "outputs": [],
   "source": [
    "data.to_csv('../../data/clean_data.csv')"
   ],
   "metadata": {
    "collapsed": false,
    "ExecuteTime": {
     "end_time": "2023-10-09T14:10:48.913611Z",
     "start_time": "2023-10-09T14:10:42.136250Z"
    }
   },
   "id": "7dab202628fa3875"
  },
  {
   "cell_type": "code",
   "execution_count": 44,
   "outputs": [],
   "source": [],
   "metadata": {
    "collapsed": false,
    "ExecuteTime": {
     "end_time": "2023-10-09T14:10:48.915606Z",
     "start_time": "2023-10-09T14:10:48.914281Z"
    }
   },
   "id": "b08d3414820dd67f"
  },
  {
   "cell_type": "markdown",
   "source": [],
   "metadata": {
    "collapsed": false
   },
   "id": "a11b7520c7c80743"
  }
 ],
 "metadata": {
  "kernelspec": {
   "display_name": "Python 3",
   "language": "python",
   "name": "python3"
  },
  "language_info": {
   "codemirror_mode": {
    "name": "ipython",
    "version": 2
   },
   "file_extension": ".py",
   "mimetype": "text/x-python",
   "name": "python",
   "nbconvert_exporter": "python",
   "pygments_lexer": "ipython2",
   "version": "2.7.6"
  }
 },
 "nbformat": 4,
 "nbformat_minor": 5
}
