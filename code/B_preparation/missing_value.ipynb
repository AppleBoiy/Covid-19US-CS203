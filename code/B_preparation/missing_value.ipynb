{
 "cells": [
  {
   "cell_type": "code",
   "execution_count": 1,
   "id": "initial_id",
   "metadata": {
    "collapsed": true,
    "ExecuteTime": {
     "end_time": "2023-10-10T10:09:21.869046Z",
     "start_time": "2023-10-10T10:09:21.867226Z"
    }
   },
   "outputs": [],
   "source": [
    "import pandas as pd"
   ]
  },
  {
   "cell_type": "code",
   "execution_count": 2,
   "outputs": [
    {
     "data": {
      "text/plain": "                 Date     FIPS        lat         lon           State Abbr  \\\nid                                                                           \nNY0000000  2020-06-22  36103.0  40.883201  -72.801217        New York   NY   \nNY0000001  2020-06-22  36105.0  41.715795  -74.763946        New York   NY   \nNC0000002  2020-06-22  37133.0  34.726074  -77.429082  North Carolina   NC   \nND0000003  2020-06-22  38001.0  46.096869 -102.528540    North Dakota   ND   \nOH0000004  2020-06-22  39063.0  41.002505  -83.668389            Ohio   OH   \n\n          City/County/Borough/Region  infected total  death total  \nid                                                                 \nNY0000000                    Suffolk           41010         1965  \nNY0000001                   Sullivan            1438           45  \nNC0000002                     Onslow             221            3  \nND0000003                      Adams               0            0  \nOH0000004                    Hancock              63            5  ",
      "text/html": "<div>\n<style scoped>\n    .dataframe tbody tr th:only-of-type {\n        vertical-align: middle;\n    }\n\n    .dataframe tbody tr th {\n        vertical-align: top;\n    }\n\n    .dataframe thead th {\n        text-align: right;\n    }\n</style>\n<table border=\"1\" class=\"dataframe\">\n  <thead>\n    <tr style=\"text-align: right;\">\n      <th></th>\n      <th>Date</th>\n      <th>FIPS</th>\n      <th>lat</th>\n      <th>lon</th>\n      <th>State</th>\n      <th>Abbr</th>\n      <th>City/County/Borough/Region</th>\n      <th>infected total</th>\n      <th>death total</th>\n    </tr>\n    <tr>\n      <th>id</th>\n      <th></th>\n      <th></th>\n      <th></th>\n      <th></th>\n      <th></th>\n      <th></th>\n      <th></th>\n      <th></th>\n      <th></th>\n    </tr>\n  </thead>\n  <tbody>\n    <tr>\n      <th>NY0000000</th>\n      <td>2020-06-22</td>\n      <td>36103.0</td>\n      <td>40.883201</td>\n      <td>-72.801217</td>\n      <td>New York</td>\n      <td>NY</td>\n      <td>Suffolk</td>\n      <td>41010</td>\n      <td>1965</td>\n    </tr>\n    <tr>\n      <th>NY0000001</th>\n      <td>2020-06-22</td>\n      <td>36105.0</td>\n      <td>41.715795</td>\n      <td>-74.763946</td>\n      <td>New York</td>\n      <td>NY</td>\n      <td>Sullivan</td>\n      <td>1438</td>\n      <td>45</td>\n    </tr>\n    <tr>\n      <th>NC0000002</th>\n      <td>2020-06-22</td>\n      <td>37133.0</td>\n      <td>34.726074</td>\n      <td>-77.429082</td>\n      <td>North Carolina</td>\n      <td>NC</td>\n      <td>Onslow</td>\n      <td>221</td>\n      <td>3</td>\n    </tr>\n    <tr>\n      <th>ND0000003</th>\n      <td>2020-06-22</td>\n      <td>38001.0</td>\n      <td>46.096869</td>\n      <td>-102.528540</td>\n      <td>North Dakota</td>\n      <td>ND</td>\n      <td>Adams</td>\n      <td>0</td>\n      <td>0</td>\n    </tr>\n    <tr>\n      <th>OH0000004</th>\n      <td>2020-06-22</td>\n      <td>39063.0</td>\n      <td>41.002505</td>\n      <td>-83.668389</td>\n      <td>Ohio</td>\n      <td>OH</td>\n      <td>Hancock</td>\n      <td>63</td>\n      <td>5</td>\n    </tr>\n  </tbody>\n</table>\n</div>"
     },
     "execution_count": 2,
     "metadata": {},
     "output_type": "execute_result"
    }
   ],
   "source": [
    "data = pd.read_csv('../../data/covid19_usa.csv')\n",
    "data.set_index('id', inplace=True)\n",
    "data.head()"
   ],
   "metadata": {
    "collapsed": false,
    "ExecuteTime": {
     "end_time": "2023-10-10T10:09:23.598851Z",
     "start_time": "2023-10-10T10:09:21.869363Z"
    }
   },
   "id": "e418ec2132929d03"
  },
  {
   "cell_type": "code",
   "execution_count": 3,
   "outputs": [
    {
     "data": {
      "text/plain": "Date                             0\nFIPS                          7300\nlat                              0\nlon                              0\nState                            0\nAbbr                             0\nCity/County/Borough/Region       0\ninfected total                   0\ndeath total                      0\ndtype: int64"
     },
     "execution_count": 3,
     "metadata": {},
     "output_type": "execute_result"
    }
   ],
   "source": [
    "data.isna().sum() "
   ],
   "metadata": {
    "collapsed": false,
    "ExecuteTime": {
     "end_time": "2023-10-10T10:09:23.835937Z",
     "start_time": "2023-10-10T10:09:23.640822Z"
    }
   },
   "id": "279f50128daefd02"
  },
  {
   "cell_type": "code",
   "execution_count": 4,
   "outputs": [
    {
     "data": {
      "text/plain": "                 Date  FIPS        lat         lon          State Abbr  \\\nid                                                                       \nUT0000161  2020-06-23   NaN  38.996171 -110.701396           Utah   UT   \nUT0000831  2020-06-16   NaN  41.271160 -111.914512           Utah   UT   \nUT0001232  2020-06-14   NaN  39.372319 -111.575868           Utah   UT   \nUT0001619  2021-08-10   NaN  41.521068 -113.083282           Utah   UT   \nMI0002598  2021-07-16   NaN   0.000000    0.000000       Michigan   MI   \n...               ...   ...        ...         ...            ...  ...   \nMO2399602  2021-11-26   NaN  39.099700  -94.578600       Missouri   MO   \nUT2399989  2021-11-02   NaN  39.372319 -111.575868           Utah   UT   \nUT2400217  2021-11-04   NaN  40.124915 -109.517442           Utah   UT   \nMA2400586  2022-02-19   NaN  41.406747  -70.687635  Massachusetts   MA   \nUT2401697  2022-02-22   NaN  37.854472 -111.441876           Utah   UT   \n\n                          City/County/Borough/Region  infected total  \\\nid                                                                     \nUT0000161                             Southeast Utah              31   \nUT0000831                               Weber-Morgan             539   \nUT0001232                               Central Utah              75   \nUT0001619                                 Bear River           23694   \nMI0002598  Michigan Department of Corrections (MDOC)           26760   \n...                                              ...             ...   \nMO2399602                                Kansas City           66830   \nUT2399989                               Central Utah           13863   \nUT2400217                                  TriCounty            8476   \nMA2400586                        Dukes and Nantucket            6712   \nUT2401697                             Southwest Utah           62930   \n\n           death total  \nid                      \nUT0000161            0  \nUT0000831            9  \nUT0001232            0  \nUT0001619          119  \nMI0002598          153  \n...                ...  \nMO2399602          864  \nUT2399989          110  \nUT2400217           70  \nMA2400586           14  \nUT2401697          585  \n\n[7300 rows x 9 columns]",
      "text/html": "<div>\n<style scoped>\n    .dataframe tbody tr th:only-of-type {\n        vertical-align: middle;\n    }\n\n    .dataframe tbody tr th {\n        vertical-align: top;\n    }\n\n    .dataframe thead th {\n        text-align: right;\n    }\n</style>\n<table border=\"1\" class=\"dataframe\">\n  <thead>\n    <tr style=\"text-align: right;\">\n      <th></th>\n      <th>Date</th>\n      <th>FIPS</th>\n      <th>lat</th>\n      <th>lon</th>\n      <th>State</th>\n      <th>Abbr</th>\n      <th>City/County/Borough/Region</th>\n      <th>infected total</th>\n      <th>death total</th>\n    </tr>\n    <tr>\n      <th>id</th>\n      <th></th>\n      <th></th>\n      <th></th>\n      <th></th>\n      <th></th>\n      <th></th>\n      <th></th>\n      <th></th>\n      <th></th>\n    </tr>\n  </thead>\n  <tbody>\n    <tr>\n      <th>UT0000161</th>\n      <td>2020-06-23</td>\n      <td>NaN</td>\n      <td>38.996171</td>\n      <td>-110.701396</td>\n      <td>Utah</td>\n      <td>UT</td>\n      <td>Southeast Utah</td>\n      <td>31</td>\n      <td>0</td>\n    </tr>\n    <tr>\n      <th>UT0000831</th>\n      <td>2020-06-16</td>\n      <td>NaN</td>\n      <td>41.271160</td>\n      <td>-111.914512</td>\n      <td>Utah</td>\n      <td>UT</td>\n      <td>Weber-Morgan</td>\n      <td>539</td>\n      <td>9</td>\n    </tr>\n    <tr>\n      <th>UT0001232</th>\n      <td>2020-06-14</td>\n      <td>NaN</td>\n      <td>39.372319</td>\n      <td>-111.575868</td>\n      <td>Utah</td>\n      <td>UT</td>\n      <td>Central Utah</td>\n      <td>75</td>\n      <td>0</td>\n    </tr>\n    <tr>\n      <th>UT0001619</th>\n      <td>2021-08-10</td>\n      <td>NaN</td>\n      <td>41.521068</td>\n      <td>-113.083282</td>\n      <td>Utah</td>\n      <td>UT</td>\n      <td>Bear River</td>\n      <td>23694</td>\n      <td>119</td>\n    </tr>\n    <tr>\n      <th>MI0002598</th>\n      <td>2021-07-16</td>\n      <td>NaN</td>\n      <td>0.000000</td>\n      <td>0.000000</td>\n      <td>Michigan</td>\n      <td>MI</td>\n      <td>Michigan Department of Corrections (MDOC)</td>\n      <td>26760</td>\n      <td>153</td>\n    </tr>\n    <tr>\n      <th>...</th>\n      <td>...</td>\n      <td>...</td>\n      <td>...</td>\n      <td>...</td>\n      <td>...</td>\n      <td>...</td>\n      <td>...</td>\n      <td>...</td>\n      <td>...</td>\n    </tr>\n    <tr>\n      <th>MO2399602</th>\n      <td>2021-11-26</td>\n      <td>NaN</td>\n      <td>39.099700</td>\n      <td>-94.578600</td>\n      <td>Missouri</td>\n      <td>MO</td>\n      <td>Kansas City</td>\n      <td>66830</td>\n      <td>864</td>\n    </tr>\n    <tr>\n      <th>UT2399989</th>\n      <td>2021-11-02</td>\n      <td>NaN</td>\n      <td>39.372319</td>\n      <td>-111.575868</td>\n      <td>Utah</td>\n      <td>UT</td>\n      <td>Central Utah</td>\n      <td>13863</td>\n      <td>110</td>\n    </tr>\n    <tr>\n      <th>UT2400217</th>\n      <td>2021-11-04</td>\n      <td>NaN</td>\n      <td>40.124915</td>\n      <td>-109.517442</td>\n      <td>Utah</td>\n      <td>UT</td>\n      <td>TriCounty</td>\n      <td>8476</td>\n      <td>70</td>\n    </tr>\n    <tr>\n      <th>MA2400586</th>\n      <td>2022-02-19</td>\n      <td>NaN</td>\n      <td>41.406747</td>\n      <td>-70.687635</td>\n      <td>Massachusetts</td>\n      <td>MA</td>\n      <td>Dukes and Nantucket</td>\n      <td>6712</td>\n      <td>14</td>\n    </tr>\n    <tr>\n      <th>UT2401697</th>\n      <td>2022-02-22</td>\n      <td>NaN</td>\n      <td>37.854472</td>\n      <td>-111.441876</td>\n      <td>Utah</td>\n      <td>UT</td>\n      <td>Southwest Utah</td>\n      <td>62930</td>\n      <td>585</td>\n    </tr>\n  </tbody>\n</table>\n<p>7300 rows × 9 columns</p>\n</div>"
     },
     "execution_count": 4,
     "metadata": {},
     "output_type": "execute_result"
    }
   ],
   "source": [
    "# show null rows of FIPS\n",
    "data[data['FIPS'].isna()] # look a bit weird, but it's ok for now..."
   ],
   "metadata": {
    "collapsed": false,
    "ExecuteTime": {
     "end_time": "2023-10-10T10:09:23.880720Z",
     "start_time": "2023-10-10T10:09:23.836346Z"
    }
   },
   "id": "9d64032a49fbe3a5"
  },
  {
   "cell_type": "code",
   "execution_count": 5,
   "outputs": [
    {
     "data": {
      "text/plain": "Empty DataFrame\nColumns: [Date, FIPS, lat, lon, State, Abbr, City/County/Borough/Region, infected total, death total]\nIndex: []",
      "text/html": "<div>\n<style scoped>\n    .dataframe tbody tr th:only-of-type {\n        vertical-align: middle;\n    }\n\n    .dataframe tbody tr th {\n        vertical-align: top;\n    }\n\n    .dataframe thead th {\n        text-align: right;\n    }\n</style>\n<table border=\"1\" class=\"dataframe\">\n  <thead>\n    <tr style=\"text-align: right;\">\n      <th></th>\n      <th>Date</th>\n      <th>FIPS</th>\n      <th>lat</th>\n      <th>lon</th>\n      <th>State</th>\n      <th>Abbr</th>\n      <th>City/County/Borough/Region</th>\n      <th>infected total</th>\n      <th>death total</th>\n    </tr>\n    <tr>\n      <th>id</th>\n      <th></th>\n      <th></th>\n      <th></th>\n      <th></th>\n      <th></th>\n      <th></th>\n      <th></th>\n      <th></th>\n      <th></th>\n    </tr>\n  </thead>\n  <tbody>\n  </tbody>\n</table>\n</div>"
     },
     "execution_count": 5,
     "metadata": {},
     "output_type": "execute_result"
    }
   ],
   "source": [
    "# show null rows of City/County/Borough/Region\n",
    "data[data['City/County/Borough/Region'].isna()] # look a bit weird, but it's ok for now..."
   ],
   "metadata": {
    "collapsed": false,
    "ExecuteTime": {
     "end_time": "2023-10-10T10:09:24.017139Z",
     "start_time": "2023-10-10T10:09:23.916923Z"
    }
   },
   "id": "3d8c177c5d666f25"
  },
  {
   "cell_type": "markdown",
   "source": [
    "***Conclusion:*** *We can see that there are some null values in the data, but it's ok for now...*"
   ],
   "metadata": {
    "collapsed": false
   },
   "id": "928c72643c684b6f"
  },
  {
   "cell_type": "markdown",
   "source": [
    "### Missing values is not a problem for now, but we will need to deal with it later."
   ],
   "metadata": {
    "collapsed": false
   },
   "id": "1fb4a8c505bcb488"
  },
  {
   "cell_type": "code",
   "execution_count": 6,
   "outputs": [],
   "source": [
    "data.to_csv('../../data/clean_data.csv')"
   ],
   "metadata": {
    "collapsed": false,
    "ExecuteTime": {
     "end_time": "2023-10-10T10:09:29.039432Z",
     "start_time": "2023-10-10T10:09:23.921434Z"
    }
   },
   "id": "7dab202628fa3875"
  },
  {
   "cell_type": "code",
   "execution_count": 6,
   "outputs": [],
   "source": [],
   "metadata": {
    "collapsed": false,
    "ExecuteTime": {
     "end_time": "2023-10-10T10:09:29.039793Z",
     "start_time": "2023-10-10T10:09:29.038425Z"
    }
   },
   "id": "b08d3414820dd67f"
  },
  {
   "cell_type": "markdown",
   "source": [],
   "metadata": {
    "collapsed": false
   },
   "id": "a11b7520c7c80743"
  }
 ],
 "metadata": {
  "kernelspec": {
   "display_name": "Python 3",
   "language": "python",
   "name": "python3"
  },
  "language_info": {
   "codemirror_mode": {
    "name": "ipython",
    "version": 2
   },
   "file_extension": ".py",
   "mimetype": "text/x-python",
   "name": "python",
   "nbconvert_exporter": "python",
   "pygments_lexer": "ipython2",
   "version": "2.7.6"
  }
 },
 "nbformat": 4,
 "nbformat_minor": 5
}
