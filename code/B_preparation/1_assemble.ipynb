{
 "cells": [
  {
   "cell_type": "code",
   "execution_count": 44,
   "id": "b4a0aaae5e31b8f5",
   "metadata": {
    "collapsed": false,
    "ExecuteTime": {
     "end_time": "2023-10-10T18:07:31.954667Z",
     "start_time": "2023-10-10T18:07:30.145553Z"
    }
   },
   "outputs": [],
   "source": [
    "import pandas as pd\n",
    "\n",
    "raw_data = pd.read_csv(\"../../data/covid19_us_counties.csv\")"
   ]
  },
  {
   "cell_type": "markdown",
   "id": "4ee7055dfcc8ff09",
   "metadata": {
    "collapsed": false
   },
   "source": [
    "## Data preparation\n",
    "### Tidy data "
   ]
  },
  {
   "cell_type": "code",
   "execution_count": 45,
   "outputs": [
    {
     "data": {
      "text/plain": "                                                   Admin 2 FIPS Code;Province/State;Admin 2 Level (City/County/Borough/Region);Date;Total Death;Total Confirmed;location;Year\n36103.0;New York;Suffolk;2020-06-22;1965;41010;...                                   -72.8012172;2020                                                                        \n36105.0;New York;Sullivan;2020-06-22;45;1438;41...                                  -74.76394559;2020                                                                        \n37133.0;North Carolina;Onslow;2020-06-22;3;221;...                                  -77.42908179;2020                                                                        \n38001.0;North Dakota;Adams;2020-06-22;0;0;46.09...                                  -102.5285397;2020                                                                        \n39063.0;Ohio;Hancock;2020-06-22;5;63;41.00250487                                    -83.66838948;2020                                                                        ",
      "text/html": "<div>\n<style scoped>\n    .dataframe tbody tr th:only-of-type {\n        vertical-align: middle;\n    }\n\n    .dataframe tbody tr th {\n        vertical-align: top;\n    }\n\n    .dataframe thead th {\n        text-align: right;\n    }\n</style>\n<table border=\"1\" class=\"dataframe\">\n  <thead>\n    <tr style=\"text-align: right;\">\n      <th></th>\n      <th>Admin 2 FIPS Code;Province/State;Admin 2 Level (City/County/Borough/Region);Date;Total Death;Total Confirmed;location;Year</th>\n    </tr>\n  </thead>\n  <tbody>\n    <tr>\n      <th>36103.0;New York;Suffolk;2020-06-22;1965;41010;40.88320119</th>\n      <td>-72.8012172;2020</td>\n    </tr>\n    <tr>\n      <th>36105.0;New York;Sullivan;2020-06-22;45;1438;41.71579493</th>\n      <td>-74.76394559;2020</td>\n    </tr>\n    <tr>\n      <th>37133.0;North Carolina;Onslow;2020-06-22;3;221;34.72607366</th>\n      <td>-77.42908179;2020</td>\n    </tr>\n    <tr>\n      <th>38001.0;North Dakota;Adams;2020-06-22;0;0;46.09686891</th>\n      <td>-102.5285397;2020</td>\n    </tr>\n    <tr>\n      <th>39063.0;Ohio;Hancock;2020-06-22;5;63;41.00250487</th>\n      <td>-83.66838948;2020</td>\n    </tr>\n  </tbody>\n</table>\n</div>"
     },
     "execution_count": 45,
     "metadata": {},
     "output_type": "execute_result"
    }
   ],
   "source": [
    "# sample data\n",
    "raw_data.head()"
   ],
   "metadata": {
    "collapsed": false,
    "ExecuteTime": {
     "end_time": "2023-10-10T18:07:31.962769Z",
     "start_time": "2023-10-10T18:07:31.960331Z"
    }
   },
   "id": "a144a84a20947b66"
  },
  {
   "cell_type": "code",
   "execution_count": 46,
   "id": "d848f168f261ce03",
   "metadata": {
    "collapsed": false,
    "ExecuteTime": {
     "end_time": "2023-10-10T18:07:33.703201Z",
     "start_time": "2023-10-10T18:07:31.962982Z"
    }
   },
   "outputs": [],
   "source": [
    "# how to make right?\n",
    "raw_data = pd.read_csv(\"../../data/covid19_us_counties.csv\", sep=\";\")"
   ]
  },
  {
   "cell_type": "code",
   "execution_count": 47,
   "id": "681d200eb0c68bd9",
   "metadata": {
    "collapsed": false,
    "ExecuteTime": {
     "end_time": "2023-10-10T18:07:33.710962Z",
     "start_time": "2023-10-10T18:07:33.707908Z"
    }
   },
   "outputs": [
    {
     "data": {
      "text/plain": "   Admin 2 FIPS Code  Province/State  \\\n0            36103.0        New York   \n1            36105.0        New York   \n2            37133.0  North Carolina   \n3            38001.0    North Dakota   \n4            39063.0            Ohio   \n\n  Admin 2 Level (City/County/Borough/Region)        Date  Total Death  \\\n0                                    Suffolk  2020-06-22         1965   \n1                                   Sullivan  2020-06-22           45   \n2                                     Onslow  2020-06-22            3   \n3                                      Adams  2020-06-22            0   \n4                                    Hancock  2020-06-22            5   \n\n   Total Confirmed                  location  Year  \n0            41010   40.88320119,-72.8012172  2020  \n1             1438  41.71579493,-74.76394559  2020  \n2              221  34.72607366,-77.42908179  2020  \n3                0  46.09686891,-102.5285397  2020  \n4               63  41.00250487,-83.66838948  2020  ",
      "text/html": "<div>\n<style scoped>\n    .dataframe tbody tr th:only-of-type {\n        vertical-align: middle;\n    }\n\n    .dataframe tbody tr th {\n        vertical-align: top;\n    }\n\n    .dataframe thead th {\n        text-align: right;\n    }\n</style>\n<table border=\"1\" class=\"dataframe\">\n  <thead>\n    <tr style=\"text-align: right;\">\n      <th></th>\n      <th>Admin 2 FIPS Code</th>\n      <th>Province/State</th>\n      <th>Admin 2 Level (City/County/Borough/Region)</th>\n      <th>Date</th>\n      <th>Total Death</th>\n      <th>Total Confirmed</th>\n      <th>location</th>\n      <th>Year</th>\n    </tr>\n  </thead>\n  <tbody>\n    <tr>\n      <th>0</th>\n      <td>36103.0</td>\n      <td>New York</td>\n      <td>Suffolk</td>\n      <td>2020-06-22</td>\n      <td>1965</td>\n      <td>41010</td>\n      <td>40.88320119,-72.8012172</td>\n      <td>2020</td>\n    </tr>\n    <tr>\n      <th>1</th>\n      <td>36105.0</td>\n      <td>New York</td>\n      <td>Sullivan</td>\n      <td>2020-06-22</td>\n      <td>45</td>\n      <td>1438</td>\n      <td>41.71579493,-74.76394559</td>\n      <td>2020</td>\n    </tr>\n    <tr>\n      <th>2</th>\n      <td>37133.0</td>\n      <td>North Carolina</td>\n      <td>Onslow</td>\n      <td>2020-06-22</td>\n      <td>3</td>\n      <td>221</td>\n      <td>34.72607366,-77.42908179</td>\n      <td>2020</td>\n    </tr>\n    <tr>\n      <th>3</th>\n      <td>38001.0</td>\n      <td>North Dakota</td>\n      <td>Adams</td>\n      <td>2020-06-22</td>\n      <td>0</td>\n      <td>0</td>\n      <td>46.09686891,-102.5285397</td>\n      <td>2020</td>\n    </tr>\n    <tr>\n      <th>4</th>\n      <td>39063.0</td>\n      <td>Ohio</td>\n      <td>Hancock</td>\n      <td>2020-06-22</td>\n      <td>5</td>\n      <td>63</td>\n      <td>41.00250487,-83.66838948</td>\n      <td>2020</td>\n    </tr>\n  </tbody>\n</table>\n</div>"
     },
     "execution_count": 47,
     "metadata": {},
     "output_type": "execute_result"
    }
   ],
   "source": [
    "raw_data.head()  # This is better."
   ]
  },
  {
   "cell_type": "markdown",
   "id": "30de41d51da5c582",
   "metadata": {
    "collapsed": false
   },
   "source": [
    "## Header name ?"
   ]
  },
  {
   "cell_type": "code",
   "execution_count": 48,
   "id": "560e39016fad768",
   "metadata": {
    "collapsed": false,
    "ExecuteTime": {
     "end_time": "2023-10-10T18:07:33.714238Z",
     "start_time": "2023-10-10T18:07:33.711729Z"
    }
   },
   "outputs": [
    {
     "data": {
      "text/plain": "Index(['Admin 2 FIPS Code', 'Province/State',\n       'Admin 2 Level (City/County/Borough/Region)', 'Date', 'Total Death',\n       'Total Confirmed', 'location', 'Year'],\n      dtype='object')"
     },
     "execution_count": 48,
     "metadata": {},
     "output_type": "execute_result"
    }
   ],
   "source": [
    "raw_data.columns"
   ]
  },
  {
   "cell_type": "code",
   "execution_count": 49,
   "id": "e362305e26ffb571",
   "metadata": {
    "collapsed": false,
    "ExecuteTime": {
     "end_time": "2023-10-10T18:07:33.718583Z",
     "start_time": "2023-10-10T18:07:33.717037Z"
    }
   },
   "outputs": [],
   "source": [
    "# US doesn't have a province, but states\n",
    "# FIPS code only, Admin 2 Level is not necessary\n",
    "# What is total confirmed?\n",
    "raw_data.rename(\n",
    "    columns={\n",
    "        \"Admin 2 FIPS Code\": \"FIPS\",\n",
    "        \"Province/State\": \"state\",\n",
    "        \"Admin 2 Level (City/County/Borough/Region)\": \"CCBR\",\n",
    "        \"Total Confirmed\": \"cases\",\n",
    "        \"Total Death\": \"death\",\n",
    "    },\n",
    "    inplace=True,\n",
    ")"
   ]
  },
  {
   "cell_type": "markdown",
   "id": "1f2928cf0b88ea09",
   "metadata": {
    "collapsed": false
   },
   "source": [
    "### Remove duplicates "
   ]
  },
  {
   "cell_type": "code",
   "execution_count": 50,
   "id": "1cde7bd76878e4b1",
   "metadata": {
    "collapsed": false,
    "ExecuteTime": {
     "end_time": "2023-10-10T18:07:34.470983Z",
     "start_time": "2023-10-10T18:07:33.723702Z"
    }
   },
   "outputs": [
    {
     "data": {
      "text/plain": "0"
     },
     "execution_count": 50,
     "metadata": {},
     "output_type": "execute_result"
    }
   ],
   "source": [
    "# check duplicates\n",
    "raw_data.duplicated().sum()  # no duplicates, good!"
   ]
  },
  {
   "cell_type": "markdown",
   "id": "68c208578796fee5",
   "metadata": {
    "collapsed": false
   },
   "source": [
    "### Homogeneous variables"
   ]
  },
  {
   "cell_type": "code",
   "execution_count": 51,
   "id": "1c8a595ccc10d453",
   "metadata": {
    "collapsed": false,
    "ExecuteTime": {
     "end_time": "2023-10-10T18:07:34.579683Z",
     "start_time": "2023-10-10T18:07:34.472193Z"
    }
   },
   "outputs": [
    {
     "data": {
      "text/plain": "      FIPS           state      CCBR        Date  death  cases  \\\n0  36103.0        New York   Suffolk  2020-06-22   1965  41010   \n1  36105.0        New York  Sullivan  2020-06-22     45   1438   \n2  37133.0  North Carolina    Onslow  2020-06-22      3    221   \n3  38001.0    North Dakota     Adams  2020-06-22      0      0   \n4  39063.0            Ohio   Hancock  2020-06-22      5     63   \n\n                   location  Year abbr  \n0   40.88320119,-72.8012172  2020   NY  \n1  41.71579493,-74.76394559  2020   NY  \n2  34.72607366,-77.42908179  2020   NC  \n3  46.09686891,-102.5285397  2020   ND  \n4  41.00250487,-83.66838948  2020   OH  ",
      "text/html": "<div>\n<style scoped>\n    .dataframe tbody tr th:only-of-type {\n        vertical-align: middle;\n    }\n\n    .dataframe tbody tr th {\n        vertical-align: top;\n    }\n\n    .dataframe thead th {\n        text-align: right;\n    }\n</style>\n<table border=\"1\" class=\"dataframe\">\n  <thead>\n    <tr style=\"text-align: right;\">\n      <th></th>\n      <th>FIPS</th>\n      <th>state</th>\n      <th>CCBR</th>\n      <th>Date</th>\n      <th>death</th>\n      <th>cases</th>\n      <th>location</th>\n      <th>Year</th>\n      <th>abbr</th>\n    </tr>\n  </thead>\n  <tbody>\n    <tr>\n      <th>0</th>\n      <td>36103.0</td>\n      <td>New York</td>\n      <td>Suffolk</td>\n      <td>2020-06-22</td>\n      <td>1965</td>\n      <td>41010</td>\n      <td>40.88320119,-72.8012172</td>\n      <td>2020</td>\n      <td>NY</td>\n    </tr>\n    <tr>\n      <th>1</th>\n      <td>36105.0</td>\n      <td>New York</td>\n      <td>Sullivan</td>\n      <td>2020-06-22</td>\n      <td>45</td>\n      <td>1438</td>\n      <td>41.71579493,-74.76394559</td>\n      <td>2020</td>\n      <td>NY</td>\n    </tr>\n    <tr>\n      <th>2</th>\n      <td>37133.0</td>\n      <td>North Carolina</td>\n      <td>Onslow</td>\n      <td>2020-06-22</td>\n      <td>3</td>\n      <td>221</td>\n      <td>34.72607366,-77.42908179</td>\n      <td>2020</td>\n      <td>NC</td>\n    </tr>\n    <tr>\n      <th>3</th>\n      <td>38001.0</td>\n      <td>North Dakota</td>\n      <td>Adams</td>\n      <td>2020-06-22</td>\n      <td>0</td>\n      <td>0</td>\n      <td>46.09686891,-102.5285397</td>\n      <td>2020</td>\n      <td>ND</td>\n    </tr>\n    <tr>\n      <th>4</th>\n      <td>39063.0</td>\n      <td>Ohio</td>\n      <td>Hancock</td>\n      <td>2020-06-22</td>\n      <td>5</td>\n      <td>63</td>\n      <td>41.00250487,-83.66838948</td>\n      <td>2020</td>\n      <td>OH</td>\n    </tr>\n  </tbody>\n</table>\n</div>"
     },
     "execution_count": 51,
     "metadata": {},
     "output_type": "execute_result"
    }
   ],
   "source": [
    "import json\n",
    "\n",
    "name_of_state_us = json.load(open(\"name_state_us.json\"))\n",
    "raw_data[\"abbr\"] = raw_data[\"state\"].map(name_of_state_us)\n",
    "\n",
    "raw_data.head()"
   ]
  },
  {
   "cell_type": "code",
   "execution_count": 52,
   "id": "643740dd4fb6158e",
   "metadata": {
    "collapsed": false,
    "ExecuteTime": {
     "end_time": "2023-10-10T18:07:34.628550Z",
     "start_time": "2023-10-10T18:07:34.619089Z"
    }
   },
   "outputs": [
    {
     "data": {
      "text/plain": "63510"
     },
     "execution_count": 52,
     "metadata": {},
     "output_type": "execute_result"
    }
   ],
   "source": [
    "raw_data[\"abbr\"].isnull().sum()  # something went wrong?"
   ]
  },
  {
   "cell_type": "markdown",
   "source": [
    "### Missing values\n",
    "\n",
    "why is it missing? because the name of state is not correct or not it's not a state."
   ],
   "metadata": {
    "collapsed": false
   },
   "id": "67bba150ccaff47e"
  },
  {
   "cell_type": "code",
   "execution_count": 53,
   "id": "23b23613c084e3ac",
   "metadata": {
    "collapsed": false,
    "ExecuteTime": {
     "end_time": "2023-10-10T18:07:34.797775Z",
     "start_time": "2023-10-10T18:07:34.625885Z"
    }
   },
   "outputs": [],
   "source": [
    "# drop missing 'Abbr' (not a US State)\n",
    "raw_data = raw_data.dropna(subset=[\"abbr\"])"
   ]
  },
  {
   "cell_type": "code",
   "execution_count": 54,
   "id": "1f98e4f48d2a0eda",
   "metadata": {
    "collapsed": false,
    "ExecuteTime": {
     "end_time": "2023-10-10T18:07:34.838776Z",
     "start_time": "2023-10-10T18:07:34.835091Z"
    }
   },
   "outputs": [
    {
     "data": {
      "text/plain": "0"
     },
     "execution_count": 54,
     "metadata": {},
     "output_type": "execute_result"
    }
   ],
   "source": [
    "raw_data[\"abbr\"].isnull().sum()"
   ]
  },
  {
   "cell_type": "code",
   "execution_count": 55,
   "id": "2444ccfd6f336479",
   "metadata": {
    "collapsed": false,
    "ExecuteTime": {
     "end_time": "2023-10-10T18:07:43.453506Z",
     "start_time": "2023-10-10T18:07:34.896312Z"
    }
   },
   "outputs": [],
   "source": [
    "# locate must show as (lat, lon)\n",
    "raw_data[[\"lat\", \"lon\"]] = raw_data[\"location\"].str.split(\",\", expand=True)\n",
    "raw_data.drop(\"location\", axis=1, inplace=True)"
   ]
  },
  {
   "cell_type": "code",
   "execution_count": 56,
   "id": "5757097d0ecef0f2",
   "metadata": {
    "collapsed": false,
    "ExecuteTime": {
     "end_time": "2023-10-10T18:07:43.458111Z",
     "start_time": "2023-10-10T18:07:43.451982Z"
    }
   },
   "outputs": [
    {
     "data": {
      "text/plain": "      FIPS           state      CCBR        Date  death  cases  Year abbr  \\\n0  36103.0        New York   Suffolk  2020-06-22   1965  41010  2020   NY   \n1  36105.0        New York  Sullivan  2020-06-22     45   1438  2020   NY   \n2  37133.0  North Carolina    Onslow  2020-06-22      3    221  2020   NC   \n3  38001.0    North Dakota     Adams  2020-06-22      0      0  2020   ND   \n4  39063.0            Ohio   Hancock  2020-06-22      5     63  2020   OH   \n\n           lat           lon  \n0  40.88320119   -72.8012172  \n1  41.71579493  -74.76394559  \n2  34.72607366  -77.42908179  \n3  46.09686891  -102.5285397  \n4  41.00250487  -83.66838948  ",
      "text/html": "<div>\n<style scoped>\n    .dataframe tbody tr th:only-of-type {\n        vertical-align: middle;\n    }\n\n    .dataframe tbody tr th {\n        vertical-align: top;\n    }\n\n    .dataframe thead th {\n        text-align: right;\n    }\n</style>\n<table border=\"1\" class=\"dataframe\">\n  <thead>\n    <tr style=\"text-align: right;\">\n      <th></th>\n      <th>FIPS</th>\n      <th>state</th>\n      <th>CCBR</th>\n      <th>Date</th>\n      <th>death</th>\n      <th>cases</th>\n      <th>Year</th>\n      <th>abbr</th>\n      <th>lat</th>\n      <th>lon</th>\n    </tr>\n  </thead>\n  <tbody>\n    <tr>\n      <th>0</th>\n      <td>36103.0</td>\n      <td>New York</td>\n      <td>Suffolk</td>\n      <td>2020-06-22</td>\n      <td>1965</td>\n      <td>41010</td>\n      <td>2020</td>\n      <td>NY</td>\n      <td>40.88320119</td>\n      <td>-72.8012172</td>\n    </tr>\n    <tr>\n      <th>1</th>\n      <td>36105.0</td>\n      <td>New York</td>\n      <td>Sullivan</td>\n      <td>2020-06-22</td>\n      <td>45</td>\n      <td>1438</td>\n      <td>2020</td>\n      <td>NY</td>\n      <td>41.71579493</td>\n      <td>-74.76394559</td>\n    </tr>\n    <tr>\n      <th>2</th>\n      <td>37133.0</td>\n      <td>North Carolina</td>\n      <td>Onslow</td>\n      <td>2020-06-22</td>\n      <td>3</td>\n      <td>221</td>\n      <td>2020</td>\n      <td>NC</td>\n      <td>34.72607366</td>\n      <td>-77.42908179</td>\n    </tr>\n    <tr>\n      <th>3</th>\n      <td>38001.0</td>\n      <td>North Dakota</td>\n      <td>Adams</td>\n      <td>2020-06-22</td>\n      <td>0</td>\n      <td>0</td>\n      <td>2020</td>\n      <td>ND</td>\n      <td>46.09686891</td>\n      <td>-102.5285397</td>\n    </tr>\n    <tr>\n      <th>4</th>\n      <td>39063.0</td>\n      <td>Ohio</td>\n      <td>Hancock</td>\n      <td>2020-06-22</td>\n      <td>5</td>\n      <td>63</td>\n      <td>2020</td>\n      <td>OH</td>\n      <td>41.00250487</td>\n      <td>-83.66838948</td>\n    </tr>\n  </tbody>\n</table>\n</div>"
     },
     "execution_count": 56,
     "metadata": {},
     "output_type": "execute_result"
    }
   ],
   "source": [
    "raw_data.head()"
   ]
  },
  {
   "cell_type": "code",
   "execution_count": 57,
   "outputs": [
    {
     "data": {
      "text/plain": "         date     FIPS          lat           lon           state abbr  \\\n0  2020-06-22  36103.0  40.88320119   -72.8012172        New York   NY   \n1  2020-06-22  36105.0  41.71579493  -74.76394559        New York   NY   \n2  2020-06-22  37133.0  34.72607366  -77.42908179  North Carolina   NC   \n3  2020-06-22  38001.0  46.09686891  -102.5285397    North Dakota   ND   \n4  2020-06-22  39063.0  41.00250487  -83.66838948            Ohio   OH   \n\n   location  cases  death  \n0   Suffolk  41010   1965  \n1  Sullivan   1438     45  \n2    Onslow    221      3  \n3     Adams      0      0  \n4   Hancock     63      5  ",
      "text/html": "<div>\n<style scoped>\n    .dataframe tbody tr th:only-of-type {\n        vertical-align: middle;\n    }\n\n    .dataframe tbody tr th {\n        vertical-align: top;\n    }\n\n    .dataframe thead th {\n        text-align: right;\n    }\n</style>\n<table border=\"1\" class=\"dataframe\">\n  <thead>\n    <tr style=\"text-align: right;\">\n      <th></th>\n      <th>date</th>\n      <th>FIPS</th>\n      <th>lat</th>\n      <th>lon</th>\n      <th>state</th>\n      <th>abbr</th>\n      <th>location</th>\n      <th>cases</th>\n      <th>death</th>\n    </tr>\n  </thead>\n  <tbody>\n    <tr>\n      <th>0</th>\n      <td>2020-06-22</td>\n      <td>36103.0</td>\n      <td>40.88320119</td>\n      <td>-72.8012172</td>\n      <td>New York</td>\n      <td>NY</td>\n      <td>Suffolk</td>\n      <td>41010</td>\n      <td>1965</td>\n    </tr>\n    <tr>\n      <th>1</th>\n      <td>2020-06-22</td>\n      <td>36105.0</td>\n      <td>41.71579493</td>\n      <td>-74.76394559</td>\n      <td>New York</td>\n      <td>NY</td>\n      <td>Sullivan</td>\n      <td>1438</td>\n      <td>45</td>\n    </tr>\n    <tr>\n      <th>2</th>\n      <td>2020-06-22</td>\n      <td>37133.0</td>\n      <td>34.72607366</td>\n      <td>-77.42908179</td>\n      <td>North Carolina</td>\n      <td>NC</td>\n      <td>Onslow</td>\n      <td>221</td>\n      <td>3</td>\n    </tr>\n    <tr>\n      <th>3</th>\n      <td>2020-06-22</td>\n      <td>38001.0</td>\n      <td>46.09686891</td>\n      <td>-102.5285397</td>\n      <td>North Dakota</td>\n      <td>ND</td>\n      <td>Adams</td>\n      <td>0</td>\n      <td>0</td>\n    </tr>\n    <tr>\n      <th>4</th>\n      <td>2020-06-22</td>\n      <td>39063.0</td>\n      <td>41.00250487</td>\n      <td>-83.66838948</td>\n      <td>Ohio</td>\n      <td>OH</td>\n      <td>Hancock</td>\n      <td>63</td>\n      <td>5</td>\n    </tr>\n  </tbody>\n</table>\n</div>"
     },
     "execution_count": 57,
     "metadata": {},
     "output_type": "execute_result"
    }
   ],
   "source": [
    "# ccbr is short for City/County/Borough/Region now change it to location (better name)\n",
    "raw_data.rename(columns={\"CCBR\": \"location\", \"Date\": \"date\"}, inplace=True)\n",
    "\n",
    "# drop missing 'location' (not a US State)\n",
    "raw_data = raw_data.dropna(subset=[\"location\"])\n",
    "\n",
    "# reorganize columns\n",
    "raw_data = raw_data.reindex(\n",
    "    columns=[\n",
    "        \"date\",\n",
    "        \"FIPS\",\n",
    "        \"lat\",\n",
    "        \"lon\",\n",
    "        \"state\",\n",
    "        \"abbr\",\n",
    "        \"location\",\n",
    "        \"cases\",\n",
    "        \"death\",\n",
    "    ]\n",
    ")\n",
    "raw_data.head()"
   ],
   "metadata": {
    "collapsed": false,
    "ExecuteTime": {
     "end_time": "2023-10-10T18:07:45.998952Z",
     "start_time": "2023-10-10T18:07:43.457786Z"
    }
   },
   "id": "cbb133a4fb4df375"
  },
  {
   "cell_type": "markdown",
   "id": "a69eeef286d44fb2",
   "metadata": {
    "collapsed": false
   },
   "source": [
    "### Unique identifier"
   ]
  },
  {
   "cell_type": "code",
   "execution_count": 58,
   "id": "905dd3d57fa9a0e",
   "metadata": {
    "collapsed": false,
    "ExecuteTime": {
     "end_time": "2023-10-10T18:07:47.646614Z",
     "start_time": "2023-10-10T18:07:45.995712Z"
    }
   },
   "outputs": [],
   "source": [
    "# unique identifier is Date + index of row\n",
    "raw_data[\"id\"] = raw_data[\"abbr\"] + raw_data.index.astype(str)"
   ]
  },
  {
   "cell_type": "code",
   "execution_count": 59,
   "id": "1f05a3ff8cdd163c",
   "metadata": {
    "collapsed": false,
    "ExecuteTime": {
     "end_time": "2023-10-10T18:07:47.672585Z",
     "start_time": "2023-10-10T18:07:47.645765Z"
    }
   },
   "outputs": [
    {
     "data": {
      "text/plain": "         date     FIPS          lat           lon           state abbr  \\\n0  2020-06-22  36103.0  40.88320119   -72.8012172        New York   NY   \n1  2020-06-22  36105.0  41.71579493  -74.76394559        New York   NY   \n2  2020-06-22  37133.0  34.72607366  -77.42908179  North Carolina   NC   \n3  2020-06-22  38001.0  46.09686891  -102.5285397    North Dakota   ND   \n4  2020-06-22  39063.0  41.00250487  -83.66838948            Ohio   OH   \n\n   location  cases  death   id  \n0   Suffolk  41010   1965  NY0  \n1  Sullivan   1438     45  NY1  \n2    Onslow    221      3  NC2  \n3     Adams      0      0  ND3  \n4   Hancock     63      5  OH4  ",
      "text/html": "<div>\n<style scoped>\n    .dataframe tbody tr th:only-of-type {\n        vertical-align: middle;\n    }\n\n    .dataframe tbody tr th {\n        vertical-align: top;\n    }\n\n    .dataframe thead th {\n        text-align: right;\n    }\n</style>\n<table border=\"1\" class=\"dataframe\">\n  <thead>\n    <tr style=\"text-align: right;\">\n      <th></th>\n      <th>date</th>\n      <th>FIPS</th>\n      <th>lat</th>\n      <th>lon</th>\n      <th>state</th>\n      <th>abbr</th>\n      <th>location</th>\n      <th>cases</th>\n      <th>death</th>\n      <th>id</th>\n    </tr>\n  </thead>\n  <tbody>\n    <tr>\n      <th>0</th>\n      <td>2020-06-22</td>\n      <td>36103.0</td>\n      <td>40.88320119</td>\n      <td>-72.8012172</td>\n      <td>New York</td>\n      <td>NY</td>\n      <td>Suffolk</td>\n      <td>41010</td>\n      <td>1965</td>\n      <td>NY0</td>\n    </tr>\n    <tr>\n      <th>1</th>\n      <td>2020-06-22</td>\n      <td>36105.0</td>\n      <td>41.71579493</td>\n      <td>-74.76394559</td>\n      <td>New York</td>\n      <td>NY</td>\n      <td>Sullivan</td>\n      <td>1438</td>\n      <td>45</td>\n      <td>NY1</td>\n    </tr>\n    <tr>\n      <th>2</th>\n      <td>2020-06-22</td>\n      <td>37133.0</td>\n      <td>34.72607366</td>\n      <td>-77.42908179</td>\n      <td>North Carolina</td>\n      <td>NC</td>\n      <td>Onslow</td>\n      <td>221</td>\n      <td>3</td>\n      <td>NC2</td>\n    </tr>\n    <tr>\n      <th>3</th>\n      <td>2020-06-22</td>\n      <td>38001.0</td>\n      <td>46.09686891</td>\n      <td>-102.5285397</td>\n      <td>North Dakota</td>\n      <td>ND</td>\n      <td>Adams</td>\n      <td>0</td>\n      <td>0</td>\n      <td>ND3</td>\n    </tr>\n    <tr>\n      <th>4</th>\n      <td>2020-06-22</td>\n      <td>39063.0</td>\n      <td>41.00250487</td>\n      <td>-83.66838948</td>\n      <td>Ohio</td>\n      <td>OH</td>\n      <td>Hancock</td>\n      <td>63</td>\n      <td>5</td>\n      <td>OH4</td>\n    </tr>\n  </tbody>\n</table>\n</div>"
     },
     "execution_count": 59,
     "metadata": {},
     "output_type": "execute_result"
    }
   ],
   "source": [
    "raw_data.head()  # id is smell, but it's ok for now."
   ]
  },
  {
   "cell_type": "markdown",
   "id": "ed1603b3dc126831",
   "metadata": {
    "collapsed": false
   },
   "source": [
    "### Data type"
   ]
  },
  {
   "cell_type": "code",
   "execution_count": 60,
   "id": "f16df554194212f3",
   "metadata": {
    "collapsed": false,
    "ExecuteTime": {
     "end_time": "2023-10-10T18:07:47.673092Z",
     "start_time": "2023-10-10T18:07:47.655812Z"
    }
   },
   "outputs": [
    {
     "data": {
      "text/plain": "date         object\nFIPS        float64\nlat          object\nlon          object\nstate        object\nabbr         object\nlocation     object\ncases         int64\ndeath         int64\nid           object\ndtype: object"
     },
     "execution_count": 60,
     "metadata": {},
     "output_type": "execute_result"
    }
   ],
   "source": [
    "raw_data.dtypes"
   ]
  },
  {
   "cell_type": "markdown",
   "source": [
    "### We already implemented function to convert data type in `format_data.py`"
   ],
   "metadata": {
    "collapsed": false
   },
   "id": "b63e8a350c0cfa1f"
  },
  {
   "cell_type": "code",
   "execution_count": 61,
   "id": "2f5013bc32f63854",
   "metadata": {
    "collapsed": false,
    "ExecuteTime": {
     "end_time": "2023-10-10T18:07:50.808247Z",
     "start_time": "2023-10-10T18:07:47.661244Z"
    }
   },
   "outputs": [],
   "source": [
    "# First of all FIPS is not float, it's string\n",
    "raw_data[\"FIPS\"] = raw_data[\"FIPS\"].astype(str).str.replace(\".0\", \"\")\n",
    "\n",
    "# Date is not a string, it's a date\n",
    "raw_data[\"date\"] = pd.to_datetime(raw_data[\"date\"])\n",
    "\n",
    "# Lat and Lon are not string, they are floated\n",
    "raw_data[\"lat\"] = raw_data[\"lat\"].astype(float)\n",
    "raw_data[\"lon\"] = raw_data[\"lon\"].astype(float)"
   ]
  },
  {
   "cell_type": "code",
   "execution_count": 62,
   "id": "868f686b0b1df243",
   "metadata": {
    "collapsed": false,
    "ExecuteTime": {
     "end_time": "2023-10-10T18:07:50.830393Z",
     "start_time": "2023-10-10T18:07:50.807407Z"
    }
   },
   "outputs": [
    {
     "data": {
      "text/plain": "        date   FIPS        lat         lon           state abbr  location  \\\n0 2020-06-22  36103  40.883201  -72.801217        New York   NY   Suffolk   \n1 2020-06-22  36105  41.715795  -74.763946        New York   NY  Sullivan   \n2 2020-06-22  37133  34.726074  -77.429082  North Carolina   NC    Onslow   \n3 2020-06-22  38001  46.096869 -102.528540    North Dakota   ND     Adams   \n4 2020-06-22  39063  41.002505  -83.668389            Ohio   OH   Hancock   \n\n   cases  death   id  \n0  41010   1965  NY0  \n1   1438     45  NY1  \n2    221      3  NC2  \n3      0      0  ND3  \n4     63      5  OH4  ",
      "text/html": "<div>\n<style scoped>\n    .dataframe tbody tr th:only-of-type {\n        vertical-align: middle;\n    }\n\n    .dataframe tbody tr th {\n        vertical-align: top;\n    }\n\n    .dataframe thead th {\n        text-align: right;\n    }\n</style>\n<table border=\"1\" class=\"dataframe\">\n  <thead>\n    <tr style=\"text-align: right;\">\n      <th></th>\n      <th>date</th>\n      <th>FIPS</th>\n      <th>lat</th>\n      <th>lon</th>\n      <th>state</th>\n      <th>abbr</th>\n      <th>location</th>\n      <th>cases</th>\n      <th>death</th>\n      <th>id</th>\n    </tr>\n  </thead>\n  <tbody>\n    <tr>\n      <th>0</th>\n      <td>2020-06-22</td>\n      <td>36103</td>\n      <td>40.883201</td>\n      <td>-72.801217</td>\n      <td>New York</td>\n      <td>NY</td>\n      <td>Suffolk</td>\n      <td>41010</td>\n      <td>1965</td>\n      <td>NY0</td>\n    </tr>\n    <tr>\n      <th>1</th>\n      <td>2020-06-22</td>\n      <td>36105</td>\n      <td>41.715795</td>\n      <td>-74.763946</td>\n      <td>New York</td>\n      <td>NY</td>\n      <td>Sullivan</td>\n      <td>1438</td>\n      <td>45</td>\n      <td>NY1</td>\n    </tr>\n    <tr>\n      <th>2</th>\n      <td>2020-06-22</td>\n      <td>37133</td>\n      <td>34.726074</td>\n      <td>-77.429082</td>\n      <td>North Carolina</td>\n      <td>NC</td>\n      <td>Onslow</td>\n      <td>221</td>\n      <td>3</td>\n      <td>NC2</td>\n    </tr>\n    <tr>\n      <th>3</th>\n      <td>2020-06-22</td>\n      <td>38001</td>\n      <td>46.096869</td>\n      <td>-102.528540</td>\n      <td>North Dakota</td>\n      <td>ND</td>\n      <td>Adams</td>\n      <td>0</td>\n      <td>0</td>\n      <td>ND3</td>\n    </tr>\n    <tr>\n      <th>4</th>\n      <td>2020-06-22</td>\n      <td>39063</td>\n      <td>41.002505</td>\n      <td>-83.668389</td>\n      <td>Ohio</td>\n      <td>OH</td>\n      <td>Hancock</td>\n      <td>63</td>\n      <td>5</td>\n      <td>OH4</td>\n    </tr>\n  </tbody>\n</table>\n</div>"
     },
     "execution_count": 62,
     "metadata": {},
     "output_type": "execute_result"
    }
   ],
   "source": [
    "raw_data.head()"
   ]
  },
  {
   "cell_type": "code",
   "execution_count": 63,
   "id": "de197c1465282a92",
   "metadata": {
    "collapsed": false,
    "ExecuteTime": {
     "end_time": "2023-10-10T18:07:50.831222Z",
     "start_time": "2023-10-10T18:07:50.818164Z"
    }
   },
   "outputs": [
    {
     "data": {
      "text/plain": "date        datetime64[ns]\nFIPS                object\nlat                float64\nlon                float64\nstate               object\nabbr                object\nlocation            object\ncases                int64\ndeath                int64\nid                  object\ndtype: object"
     },
     "execution_count": 63,
     "metadata": {},
     "output_type": "execute_result"
    }
   ],
   "source": [
    "raw_data.dtypes"
   ]
  },
  {
   "cell_type": "code",
   "execution_count": 64,
   "id": "64f5dd3f",
   "metadata": {
    "ExecuteTime": {
     "end_time": "2023-10-10T18:07:50.831382Z",
     "start_time": "2023-10-10T18:07:50.824202Z"
    }
   },
   "outputs": [],
   "source": [
    "length = raw_data.shape[0]\n",
    "length = len(str(length))"
   ]
  },
  {
   "cell_type": "code",
   "execution_count": 65,
   "id": "d2447ec962e43bc6",
   "metadata": {
    "collapsed": false,
    "ExecuteTime": {
     "end_time": "2023-10-10T18:07:51.688741Z",
     "start_time": "2023-10-10T18:07:50.827697Z"
    }
   },
   "outputs": [],
   "source": [
    "#\n",
    "raw_data[\"id\"] = raw_data[\"abbr\"] + raw_data.index.astype(str).str.zfill(length)"
   ]
  },
  {
   "cell_type": "code",
   "execution_count": 66,
   "id": "6fd41fd043b5e656",
   "metadata": {
    "collapsed": false,
    "ExecuteTime": {
     "end_time": "2023-10-10T18:07:51.695274Z",
     "start_time": "2023-10-10T18:07:51.692049Z"
    }
   },
   "outputs": [
    {
     "data": {
      "text/plain": "        date   FIPS        lat         lon           state abbr  location  \\\n0 2020-06-22  36103  40.883201  -72.801217        New York   NY   Suffolk   \n1 2020-06-22  36105  41.715795  -74.763946        New York   NY  Sullivan   \n2 2020-06-22  37133  34.726074  -77.429082  North Carolina   NC    Onslow   \n3 2020-06-22  38001  46.096869 -102.528540    North Dakota   ND     Adams   \n4 2020-06-22  39063  41.002505  -83.668389            Ohio   OH   Hancock   \n\n   cases  death         id  \n0  41010   1965  NY0000000  \n1   1438     45  NY0000001  \n2    221      3  NC0000002  \n3      0      0  ND0000003  \n4     63      5  OH0000004  ",
      "text/html": "<div>\n<style scoped>\n    .dataframe tbody tr th:only-of-type {\n        vertical-align: middle;\n    }\n\n    .dataframe tbody tr th {\n        vertical-align: top;\n    }\n\n    .dataframe thead th {\n        text-align: right;\n    }\n</style>\n<table border=\"1\" class=\"dataframe\">\n  <thead>\n    <tr style=\"text-align: right;\">\n      <th></th>\n      <th>date</th>\n      <th>FIPS</th>\n      <th>lat</th>\n      <th>lon</th>\n      <th>state</th>\n      <th>abbr</th>\n      <th>location</th>\n      <th>cases</th>\n      <th>death</th>\n      <th>id</th>\n    </tr>\n  </thead>\n  <tbody>\n    <tr>\n      <th>0</th>\n      <td>2020-06-22</td>\n      <td>36103</td>\n      <td>40.883201</td>\n      <td>-72.801217</td>\n      <td>New York</td>\n      <td>NY</td>\n      <td>Suffolk</td>\n      <td>41010</td>\n      <td>1965</td>\n      <td>NY0000000</td>\n    </tr>\n    <tr>\n      <th>1</th>\n      <td>2020-06-22</td>\n      <td>36105</td>\n      <td>41.715795</td>\n      <td>-74.763946</td>\n      <td>New York</td>\n      <td>NY</td>\n      <td>Sullivan</td>\n      <td>1438</td>\n      <td>45</td>\n      <td>NY0000001</td>\n    </tr>\n    <tr>\n      <th>2</th>\n      <td>2020-06-22</td>\n      <td>37133</td>\n      <td>34.726074</td>\n      <td>-77.429082</td>\n      <td>North Carolina</td>\n      <td>NC</td>\n      <td>Onslow</td>\n      <td>221</td>\n      <td>3</td>\n      <td>NC0000002</td>\n    </tr>\n    <tr>\n      <th>3</th>\n      <td>2020-06-22</td>\n      <td>38001</td>\n      <td>46.096869</td>\n      <td>-102.528540</td>\n      <td>North Dakota</td>\n      <td>ND</td>\n      <td>Adams</td>\n      <td>0</td>\n      <td>0</td>\n      <td>ND0000003</td>\n    </tr>\n    <tr>\n      <th>4</th>\n      <td>2020-06-22</td>\n      <td>39063</td>\n      <td>41.002505</td>\n      <td>-83.668389</td>\n      <td>Ohio</td>\n      <td>OH</td>\n      <td>Hancock</td>\n      <td>63</td>\n      <td>5</td>\n      <td>OH0000004</td>\n    </tr>\n  </tbody>\n</table>\n</div>"
     },
     "execution_count": 66,
     "metadata": {},
     "output_type": "execute_result"
    }
   ],
   "source": [
    "raw_data.head()"
   ]
  },
  {
   "cell_type": "code",
   "execution_count": 67,
   "id": "5fa3edda94c7eb2f",
   "metadata": {
    "collapsed": false,
    "ExecuteTime": {
     "end_time": "2023-10-10T18:07:52.134990Z",
     "start_time": "2023-10-10T18:07:52.025375Z"
    }
   },
   "outputs": [
    {
     "data": {
      "text/plain": "date        0\nFIPS        0\nlat         0\nlon         0\nstate       0\nabbr        0\nlocation    0\ncases       0\ndeath       0\nid          0\ndtype: int64"
     },
     "execution_count": 67,
     "metadata": {},
     "output_type": "execute_result"
    }
   ],
   "source": [
    "# show missing values\n",
    "raw_data.isnull().sum()"
   ]
  },
  {
   "cell_type": "code",
   "execution_count": 68,
   "id": "71430e35600c929b",
   "metadata": {
    "collapsed": false,
    "ExecuteTime": {
     "end_time": "2023-10-10T18:07:52.825686Z",
     "start_time": "2023-10-10T18:07:52.131048Z"
    }
   },
   "outputs": [
    {
     "data": {
      "text/plain": "                date   FIPS        lat         lon           state abbr  \\\nid                                                                        \nNY0000000 2020-06-22  36103  40.883201  -72.801217        New York   NY   \nNY0000001 2020-06-22  36105  41.715795  -74.763946        New York   NY   \nNC0000002 2020-06-22  37133  34.726074  -77.429082  North Carolina   NC   \nND0000003 2020-06-22  38001  46.096869 -102.528540    North Dakota   ND   \nOH0000004 2020-06-22  39063  41.002505  -83.668389            Ohio   OH   \n...              ...    ...        ...         ...             ...  ...   \nUT2401695 2022-02-22  49037  37.627630 -109.803371            Utah   UT   \nUT2401696 2022-02-22  49039  39.372319 -111.575868            Utah   UT   \nUT2401697 2022-02-22    nan  37.854472 -111.441876            Utah   UT   \nVT2401698 2022-02-22  50023  44.273432  -72.616050         Vermont   VT   \nVA2401699 2022-02-22  51580  37.782466  -79.986314        Virginia   VA   \n\n                 location  cases  death  \nid                                       \nNY0000000         Suffolk  41010   1965  \nNY0000001        Sullivan   1438     45  \nNC0000002          Onslow    221      3  \nND0000003           Adams      0      0  \nOH0000004         Hancock     63      5  \n...                   ...    ...    ...  \nUT2401695        San Juan   3916     47  \nUT2401696         Sanpete      0      0  \nUT2401697  Southwest Utah  62930    585  \nVT2401698      Washington   8427     44  \nVA2401699       Covington    986     23  \n\n[2338190 rows x 9 columns]",
      "text/html": "<div>\n<style scoped>\n    .dataframe tbody tr th:only-of-type {\n        vertical-align: middle;\n    }\n\n    .dataframe tbody tr th {\n        vertical-align: top;\n    }\n\n    .dataframe thead th {\n        text-align: right;\n    }\n</style>\n<table border=\"1\" class=\"dataframe\">\n  <thead>\n    <tr style=\"text-align: right;\">\n      <th></th>\n      <th>date</th>\n      <th>FIPS</th>\n      <th>lat</th>\n      <th>lon</th>\n      <th>state</th>\n      <th>abbr</th>\n      <th>location</th>\n      <th>cases</th>\n      <th>death</th>\n    </tr>\n    <tr>\n      <th>id</th>\n      <th></th>\n      <th></th>\n      <th></th>\n      <th></th>\n      <th></th>\n      <th></th>\n      <th></th>\n      <th></th>\n      <th></th>\n    </tr>\n  </thead>\n  <tbody>\n    <tr>\n      <th>NY0000000</th>\n      <td>2020-06-22</td>\n      <td>36103</td>\n      <td>40.883201</td>\n      <td>-72.801217</td>\n      <td>New York</td>\n      <td>NY</td>\n      <td>Suffolk</td>\n      <td>41010</td>\n      <td>1965</td>\n    </tr>\n    <tr>\n      <th>NY0000001</th>\n      <td>2020-06-22</td>\n      <td>36105</td>\n      <td>41.715795</td>\n      <td>-74.763946</td>\n      <td>New York</td>\n      <td>NY</td>\n      <td>Sullivan</td>\n      <td>1438</td>\n      <td>45</td>\n    </tr>\n    <tr>\n      <th>NC0000002</th>\n      <td>2020-06-22</td>\n      <td>37133</td>\n      <td>34.726074</td>\n      <td>-77.429082</td>\n      <td>North Carolina</td>\n      <td>NC</td>\n      <td>Onslow</td>\n      <td>221</td>\n      <td>3</td>\n    </tr>\n    <tr>\n      <th>ND0000003</th>\n      <td>2020-06-22</td>\n      <td>38001</td>\n      <td>46.096869</td>\n      <td>-102.528540</td>\n      <td>North Dakota</td>\n      <td>ND</td>\n      <td>Adams</td>\n      <td>0</td>\n      <td>0</td>\n    </tr>\n    <tr>\n      <th>OH0000004</th>\n      <td>2020-06-22</td>\n      <td>39063</td>\n      <td>41.002505</td>\n      <td>-83.668389</td>\n      <td>Ohio</td>\n      <td>OH</td>\n      <td>Hancock</td>\n      <td>63</td>\n      <td>5</td>\n    </tr>\n    <tr>\n      <th>...</th>\n      <td>...</td>\n      <td>...</td>\n      <td>...</td>\n      <td>...</td>\n      <td>...</td>\n      <td>...</td>\n      <td>...</td>\n      <td>...</td>\n      <td>...</td>\n    </tr>\n    <tr>\n      <th>UT2401695</th>\n      <td>2022-02-22</td>\n      <td>49037</td>\n      <td>37.627630</td>\n      <td>-109.803371</td>\n      <td>Utah</td>\n      <td>UT</td>\n      <td>San Juan</td>\n      <td>3916</td>\n      <td>47</td>\n    </tr>\n    <tr>\n      <th>UT2401696</th>\n      <td>2022-02-22</td>\n      <td>49039</td>\n      <td>39.372319</td>\n      <td>-111.575868</td>\n      <td>Utah</td>\n      <td>UT</td>\n      <td>Sanpete</td>\n      <td>0</td>\n      <td>0</td>\n    </tr>\n    <tr>\n      <th>UT2401697</th>\n      <td>2022-02-22</td>\n      <td>nan</td>\n      <td>37.854472</td>\n      <td>-111.441876</td>\n      <td>Utah</td>\n      <td>UT</td>\n      <td>Southwest Utah</td>\n      <td>62930</td>\n      <td>585</td>\n    </tr>\n    <tr>\n      <th>VT2401698</th>\n      <td>2022-02-22</td>\n      <td>50023</td>\n      <td>44.273432</td>\n      <td>-72.616050</td>\n      <td>Vermont</td>\n      <td>VT</td>\n      <td>Washington</td>\n      <td>8427</td>\n      <td>44</td>\n    </tr>\n    <tr>\n      <th>VA2401699</th>\n      <td>2022-02-22</td>\n      <td>51580</td>\n      <td>37.782466</td>\n      <td>-79.986314</td>\n      <td>Virginia</td>\n      <td>VA</td>\n      <td>Covington</td>\n      <td>986</td>\n      <td>23</td>\n    </tr>\n  </tbody>\n</table>\n<p>2338190 rows × 9 columns</p>\n</div>"
     },
     "execution_count": 68,
     "metadata": {},
     "output_type": "execute_result"
    }
   ],
   "source": [
    "raw_data.set_index(\"id\", inplace=True)\n",
    "raw_data"
   ]
  },
  {
   "cell_type": "markdown",
   "id": "785bf6bf185ae6a6",
   "metadata": {
    "collapsed": false
   },
   "source": [
    "# Conclusion before handling missing values"
   ]
  },
  {
   "cell_type": "code",
   "execution_count": 69,
   "id": "b47741ca1bf67f79",
   "metadata": {
    "collapsed": false,
    "ExecuteTime": {
     "end_time": "2023-10-10T18:07:58.173275Z",
     "start_time": "2023-10-10T18:07:52.825458Z"
    }
   },
   "outputs": [],
   "source": [
    "# Save data\n",
    "raw_data.to_csv(\"../../data/covid19_usa.csv\")"
   ]
  },
  {
   "cell_type": "code",
   "execution_count": 69,
   "id": "6195e1c9a5708e47",
   "metadata": {
    "collapsed": false,
    "ExecuteTime": {
     "end_time": "2023-10-10T18:07:58.177842Z",
     "start_time": "2023-10-10T18:07:58.170190Z"
    }
   },
   "outputs": [],
   "source": []
  }
 ],
 "metadata": {
  "kernelspec": {
   "display_name": "Python 3",
   "language": "python",
   "name": "python3"
  },
  "language_info": {
   "codemirror_mode": {
    "name": "ipython",
    "version": 3
   },
   "file_extension": ".py",
   "mimetype": "text/x-python",
   "name": "python",
   "nbconvert_exporter": "python",
   "pygments_lexer": "ipython3",
   "version": "3.8.10"
  }
 },
 "nbformat": 4,
 "nbformat_minor": 5
}
