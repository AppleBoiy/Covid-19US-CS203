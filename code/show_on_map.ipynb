{
 "cells": [
  {
   "cell_type": "code",
   "execution_count": 1,
   "id": "initial_id",
   "metadata": {
    "collapsed": true,
    "ExecuteTime": {
     "end_time": "2023-09-22T11:25:06.988226Z",
     "start_time": "2023-09-22T11:25:06.417244Z"
    }
   },
   "outputs": [],
   "source": [
    "import pandas as pd\n",
    "import folium"
   ]
  },
  {
   "cell_type": "code",
   "execution_count": 2,
   "outputs": [],
   "source": [
    "# Importing the dataset\n",
    "df = pd.read_csv('../data/validated.csv')"
   ],
   "metadata": {
    "collapsed": false,
    "ExecuteTime": {
     "end_time": "2023-09-22T11:25:08.337620Z",
     "start_time": "2023-09-22T11:25:06.989057Z"
    }
   },
   "id": "89c32b02437a460c"
  },
  {
   "cell_type": "code",
   "execution_count": 3,
   "outputs": [
    {
     "data": {
      "text/plain": "  Province/State Admin 2 Level (City/County/Borough/Region)        Date  \\\n0        Florida                                     Sumter  2020-01-31   \n1        Georgia                                    Houston  2020-01-31   \n2        Georgia                                    Pickens  2020-01-31   \n3        Georgia                                 Washington  2020-01-31   \n4          Idaho                                      Adams  2020-01-31   \n\n   Total Death  Total Confirmed                  location  \n0            0                0   28.70181754,-82.0794267  \n1            0                0  32.45802497,-83.66879087  \n2            0                0  34.46589159,-84.46406611  \n3            0                0  32.96711864,-82.79357039  \n4            0                0  44.89333571,-116.4545247  ",
      "text/html": "<div>\n<style scoped>\n    .dataframe tbody tr th:only-of-type {\n        vertical-align: middle;\n    }\n\n    .dataframe tbody tr th {\n        vertical-align: top;\n    }\n\n    .dataframe thead th {\n        text-align: right;\n    }\n</style>\n<table border=\"1\" class=\"dataframe\">\n  <thead>\n    <tr style=\"text-align: right;\">\n      <th></th>\n      <th>Province/State</th>\n      <th>Admin 2 Level (City/County/Borough/Region)</th>\n      <th>Date</th>\n      <th>Total Death</th>\n      <th>Total Confirmed</th>\n      <th>location</th>\n    </tr>\n  </thead>\n  <tbody>\n    <tr>\n      <th>0</th>\n      <td>Florida</td>\n      <td>Sumter</td>\n      <td>2020-01-31</td>\n      <td>0</td>\n      <td>0</td>\n      <td>28.70181754,-82.0794267</td>\n    </tr>\n    <tr>\n      <th>1</th>\n      <td>Georgia</td>\n      <td>Houston</td>\n      <td>2020-01-31</td>\n      <td>0</td>\n      <td>0</td>\n      <td>32.45802497,-83.66879087</td>\n    </tr>\n    <tr>\n      <th>2</th>\n      <td>Georgia</td>\n      <td>Pickens</td>\n      <td>2020-01-31</td>\n      <td>0</td>\n      <td>0</td>\n      <td>34.46589159,-84.46406611</td>\n    </tr>\n    <tr>\n      <th>3</th>\n      <td>Georgia</td>\n      <td>Washington</td>\n      <td>2020-01-31</td>\n      <td>0</td>\n      <td>0</td>\n      <td>32.96711864,-82.79357039</td>\n    </tr>\n    <tr>\n      <th>4</th>\n      <td>Idaho</td>\n      <td>Adams</td>\n      <td>2020-01-31</td>\n      <td>0</td>\n      <td>0</td>\n      <td>44.89333571,-116.4545247</td>\n    </tr>\n  </tbody>\n</table>\n</div>"
     },
     "execution_count": 3,
     "metadata": {},
     "output_type": "execute_result"
    }
   ],
   "source": [
    "df.head()"
   ],
   "metadata": {
    "collapsed": false,
    "ExecuteTime": {
     "end_time": "2023-09-22T11:25:08.355508Z",
     "start_time": "2023-09-22T11:25:08.336847Z"
    }
   },
   "id": "a5b4b93f74988e48"
  },
  {
   "cell_type": "code",
   "execution_count": 4,
   "outputs": [
    {
     "name": "stdout",
     "output_type": "stream",
     "text": [
      "<class 'pandas.core.frame.DataFrame'>\n",
      "RangeIndex: 3099180 entries, 0 to 3099179\n",
      "Data columns (total 6 columns):\n",
      " #   Column                                      Dtype \n",
      "---  ------                                      ----- \n",
      " 0   Province/State                              object\n",
      " 1   Admin 2 Level (City/County/Borough/Region)  object\n",
      " 2   Date                                        object\n",
      " 3   Total Death                                 int64 \n",
      " 4   Total Confirmed                             int64 \n",
      " 5   location                                    object\n",
      "dtypes: int64(2), object(4)\n",
      "memory usage: 141.9+ MB\n"
     ]
    }
   ],
   "source": [
    "df.info()"
   ],
   "metadata": {
    "collapsed": false,
    "ExecuteTime": {
     "end_time": "2023-09-22T11:25:08.355906Z",
     "start_time": "2023-09-22T11:25:08.347970Z"
    }
   },
   "id": "6a8a9d26df479a1d"
  },
  {
   "cell_type": "markdown",
   "source": [
    "# Data Cleaning"
   ],
   "metadata": {
    "collapsed": false
   },
   "id": "28386ef494057f60"
  },
  {
   "cell_type": "code",
   "execution_count": 5,
   "outputs": [],
   "source": [
    "# show on a map only if the location is not null\n",
    "df = df[df['location'].notnull()]\n",
    "\n",
    "# convert location to lat and lon\n",
    "df['lat'] = df['location'].apply(lambda x: float(x.split(',')[0]))\n",
    "df['lon'] = df['location'].apply(lambda x: float(x.split(',')[1]))\n",
    "\n",
    "# replace location with lat and lon\n",
    "df.drop('location', axis=1, inplace=True)\n",
    "\n",
    "# convert date to datetime\n",
    "df['Date'] = pd.to_datetime(df['Date'])"
   ],
   "metadata": {
    "collapsed": false,
    "ExecuteTime": {
     "end_time": "2023-09-22T11:25:10.316548Z",
     "start_time": "2023-09-22T11:25:08.423069Z"
    }
   },
   "id": "e8b6669392351a31"
  },
  {
   "cell_type": "code",
   "execution_count": 6,
   "outputs": [
    {
     "data": {
      "text/plain": "  Province/State Admin 2 Level (City/County/Borough/Region)       Date  \\\n0        Florida                                     Sumter 2020-01-31   \n1        Georgia                                    Houston 2020-01-31   \n2        Georgia                                    Pickens 2020-01-31   \n3        Georgia                                 Washington 2020-01-31   \n4          Idaho                                      Adams 2020-01-31   \n\n   Total Death  Total Confirmed        lat         lon  \n0            0                0  28.701818  -82.079427  \n1            0                0  32.458025  -83.668791  \n2            0                0  34.465892  -84.464066  \n3            0                0  32.967119  -82.793570  \n4            0                0  44.893336 -116.454525  ",
      "text/html": "<div>\n<style scoped>\n    .dataframe tbody tr th:only-of-type {\n        vertical-align: middle;\n    }\n\n    .dataframe tbody tr th {\n        vertical-align: top;\n    }\n\n    .dataframe thead th {\n        text-align: right;\n    }\n</style>\n<table border=\"1\" class=\"dataframe\">\n  <thead>\n    <tr style=\"text-align: right;\">\n      <th></th>\n      <th>Province/State</th>\n      <th>Admin 2 Level (City/County/Borough/Region)</th>\n      <th>Date</th>\n      <th>Total Death</th>\n      <th>Total Confirmed</th>\n      <th>lat</th>\n      <th>lon</th>\n    </tr>\n  </thead>\n  <tbody>\n    <tr>\n      <th>0</th>\n      <td>Florida</td>\n      <td>Sumter</td>\n      <td>2020-01-31</td>\n      <td>0</td>\n      <td>0</td>\n      <td>28.701818</td>\n      <td>-82.079427</td>\n    </tr>\n    <tr>\n      <th>1</th>\n      <td>Georgia</td>\n      <td>Houston</td>\n      <td>2020-01-31</td>\n      <td>0</td>\n      <td>0</td>\n      <td>32.458025</td>\n      <td>-83.668791</td>\n    </tr>\n    <tr>\n      <th>2</th>\n      <td>Georgia</td>\n      <td>Pickens</td>\n      <td>2020-01-31</td>\n      <td>0</td>\n      <td>0</td>\n      <td>34.465892</td>\n      <td>-84.464066</td>\n    </tr>\n    <tr>\n      <th>3</th>\n      <td>Georgia</td>\n      <td>Washington</td>\n      <td>2020-01-31</td>\n      <td>0</td>\n      <td>0</td>\n      <td>32.967119</td>\n      <td>-82.793570</td>\n    </tr>\n    <tr>\n      <th>4</th>\n      <td>Idaho</td>\n      <td>Adams</td>\n      <td>2020-01-31</td>\n      <td>0</td>\n      <td>0</td>\n      <td>44.893336</td>\n      <td>-116.454525</td>\n    </tr>\n  </tbody>\n</table>\n</div>"
     },
     "execution_count": 6,
     "metadata": {},
     "output_type": "execute_result"
    }
   ],
   "source": [
    "df.head()"
   ],
   "metadata": {
    "collapsed": false,
    "ExecuteTime": {
     "end_time": "2023-09-22T11:25:10.326779Z",
     "start_time": "2023-09-22T11:25:10.318802Z"
    }
   },
   "id": "99cadeb2cb6c1f76"
  },
  {
   "cell_type": "code",
   "execution_count": 7,
   "outputs": [
    {
     "data": {
      "text/plain": "<folium.plugins.heat_map.HeatMap at 0x10813c290>"
     },
     "execution_count": 7,
     "metadata": {},
     "output_type": "execute_result"
    }
   ],
   "source": [
    "# Create a folium map centered at an initial location\n",
    "m = folium.Map(location=[32.45802497, -83.66879087], zoom_start=6)\n",
    "\n",
    "heatmap_data = [[row['lat'],row['lon']] for index, row in df.iterrows()]\n",
    "\n",
    "# Plot it on the map\n",
    "from folium.plugins import HeatMap\n",
    "HeatMap(heatmap_data).add_to(m)\n"
   ],
   "metadata": {
    "collapsed": false,
    "ExecuteTime": {
     "end_time": "2023-09-22T11:25:52.052558Z",
     "start_time": "2023-09-22T11:25:10.329377Z"
    }
   },
   "id": "2137ee1a29218e09"
  },
  {
   "cell_type": "code",
   "execution_count": 9,
   "outputs": [],
   "source": [
    "from src.plotter import display_heatmap"
   ],
   "metadata": {
    "collapsed": false,
    "ExecuteTime": {
     "end_time": "2023-09-22T11:25:52.277339Z",
     "start_time": "2023-09-22T11:25:52.054110Z"
    }
   },
   "id": "4b928d17d9092220"
  },
  {
   "cell_type": "code",
   "execution_count": 10,
   "outputs": [
    {
     "data": {
      "text/plain": "<folium.folium.Map at 0x281030c50>",
      "text/html": "<div style=\"width:100%;\"><div style=\"position:relative;width:100%;height:0;padding-bottom:60%;\"><span style=\"color:#565656\">Make this Notebook Trusted to load map: File -> Trust Notebook</span><iframe srcdoc=\"&lt;!DOCTYPE html&gt;\n&lt;html&gt;\n&lt;head&gt;\n    \n    &lt;meta http-equiv=&quot;content-type&quot; content=&quot;text/html; charset=UTF-8&quot; /&gt;\n    \n        &lt;script&gt;\n            L_NO_TOUCH = false;\n            L_DISABLE_3D = false;\n        &lt;/script&gt;\n    \n    &lt;style&gt;html, body {width: 100%;height: 100%;margin: 0;padding: 0;}&lt;/style&gt;\n    &lt;style&gt;#map {position:absolute;top:0;bottom:0;right:0;left:0;}&lt;/style&gt;\n    &lt;script src=&quot;https://cdn.jsdelivr.net/npm/leaflet@1.9.3/dist/leaflet.js&quot;&gt;&lt;/script&gt;\n    &lt;script src=&quot;https://code.jquery.com/jquery-1.12.4.min.js&quot;&gt;&lt;/script&gt;\n    &lt;script src=&quot;https://cdn.jsdelivr.net/npm/bootstrap@5.2.2/dist/js/bootstrap.bundle.min.js&quot;&gt;&lt;/script&gt;\n    &lt;script src=&quot;https://cdnjs.cloudflare.com/ajax/libs/Leaflet.awesome-markers/2.0.2/leaflet.awesome-markers.js&quot;&gt;&lt;/script&gt;\n    &lt;link rel=&quot;stylesheet&quot; href=&quot;https://cdn.jsdelivr.net/npm/leaflet@1.9.3/dist/leaflet.css&quot;/&gt;\n    &lt;link rel=&quot;stylesheet&quot; href=&quot;https://cdn.jsdelivr.net/npm/bootstrap@5.2.2/dist/css/bootstrap.min.css&quot;/&gt;\n    &lt;link rel=&quot;stylesheet&quot; href=&quot;https://netdna.bootstrapcdn.com/bootstrap/3.0.0/css/bootstrap.min.css&quot;/&gt;\n    &lt;link rel=&quot;stylesheet&quot; href=&quot;https://cdn.jsdelivr.net/npm/@fortawesome/fontawesome-free@6.2.0/css/all.min.css&quot;/&gt;\n    &lt;link rel=&quot;stylesheet&quot; href=&quot;https://cdnjs.cloudflare.com/ajax/libs/Leaflet.awesome-markers/2.0.2/leaflet.awesome-markers.css&quot;/&gt;\n    &lt;link rel=&quot;stylesheet&quot; href=&quot;https://cdn.jsdelivr.net/gh/python-visualization/folium/folium/templates/leaflet.awesome.rotate.min.css&quot;/&gt;\n    \n            &lt;meta name=&quot;viewport&quot; content=&quot;width=device-width,\n                initial-scale=1.0, maximum-scale=1.0, user-scalable=no&quot; /&gt;\n            &lt;style&gt;\n                #map_23fd3281b3d7868c7ad3cf97e645eac5 {\n                    position: relative;\n                    width: 100.0%;\n                    height: 100.0%;\n                    left: 0.0%;\n                    top: 0.0%;\n                }\n                .leaflet-container { font-size: 1rem; }\n            &lt;/style&gt;\n        \n&lt;/head&gt;\n&lt;body&gt;\n    \n    \n            &lt;div class=&quot;folium-map&quot; id=&quot;map_23fd3281b3d7868c7ad3cf97e645eac5&quot; &gt;&lt;/div&gt;\n        \n&lt;/body&gt;\n&lt;script&gt;\n    \n    \n            var map_23fd3281b3d7868c7ad3cf97e645eac5 = L.map(\n                &quot;map_23fd3281b3d7868c7ad3cf97e645eac5&quot;,\n                {\n                    center: [28.70181754, -82.0794267],\n                    crs: L.CRS.EPSG3857,\n                    zoom: 6,\n                    zoomControl: true,\n                    preferCanvas: false,\n                }\n            );\n\n            \n\n        \n    \n            var tile_layer_14d67041d15dafd54f7378ae8cf7fe5c = L.tileLayer(\n                &quot;https://{s}.tile.openstreetmap.org/{z}/{x}/{y}.png&quot;,\n                {&quot;attribution&quot;: &quot;Data by \\u0026copy; \\u003ca target=\\&quot;_blank\\&quot; href=\\&quot;http://openstreetmap.org\\&quot;\\u003eOpenStreetMap\\u003c/a\\u003e, under \\u003ca target=\\&quot;_blank\\&quot; href=\\&quot;http://www.openstreetmap.org/copyright\\&quot;\\u003eODbL\\u003c/a\\u003e.&quot;, &quot;detectRetina&quot;: false, &quot;maxNativeZoom&quot;: 18, &quot;maxZoom&quot;: 18, &quot;minZoom&quot;: 0, &quot;noWrap&quot;: false, &quot;opacity&quot;: 1, &quot;subdomains&quot;: &quot;abc&quot;, &quot;tms&quot;: false}\n            ).addTo(map_23fd3281b3d7868c7ad3cf97e645eac5);\n        \n    \n            var circle_marker_ba6c372781c53e12a1f93868dd7d9027 = L.circleMarker(\n                [28.70181754, -82.0794267],\n                {&quot;bubblingMouseEvents&quot;: true, &quot;color&quot;: &quot;red&quot;, &quot;dashArray&quot;: null, &quot;dashOffset&quot;: null, &quot;fill&quot;: true, &quot;fillColor&quot;: &quot;red&quot;, &quot;fillOpacity&quot;: 0.6, &quot;fillRule&quot;: &quot;evenodd&quot;, &quot;lineCap&quot;: &quot;round&quot;, &quot;lineJoin&quot;: &quot;round&quot;, &quot;opacity&quot;: 1.0, &quot;stroke&quot;: true, &quot;weight&quot;: 3}\n            ).addTo(map_23fd3281b3d7868c7ad3cf97e645eac5);\n        \n    \n        var popup_14c245502979f6a94f9dd6ca7be4a946 = L.popup({&quot;maxWidth&quot;: &quot;100%&quot;});\n\n        \n            \n                var html_c06e70416cfd68d2cc74ec30fb0488ba = $(`&lt;div id=&quot;html_c06e70416cfd68d2cc74ec30fb0488ba&quot; style=&quot;width: 100.0%; height: 100.0%;&quot;&gt;State: Florida&lt;br&gt;Death Ratio: 0.00&lt;/div&gt;`)[0];\n                popup_14c245502979f6a94f9dd6ca7be4a946.setContent(html_c06e70416cfd68d2cc74ec30fb0488ba);\n            \n        \n\n        circle_marker_ba6c372781c53e12a1f93868dd7d9027.bindPopup(popup_14c245502979f6a94f9dd6ca7be4a946)\n        ;\n\n        \n    \n&lt;/script&gt;\n&lt;/html&gt;\" style=\"position:absolute;width:100%;height:100%;left:0;top:0;border:none !important;\" allowfullscreen webkitallowfullscreen mozallowfullscreen></iframe></div></div>"
     },
     "execution_count": 10,
     "metadata": {},
     "output_type": "execute_result"
    }
   ],
   "source": [
    "state = 'Florida'\n",
    "display_heatmap(df, state)"
   ],
   "metadata": {
    "collapsed": false,
    "ExecuteTime": {
     "end_time": "2023-09-22T11:25:52.433257Z",
     "start_time": "2023-09-22T11:25:52.279301Z"
    }
   },
   "id": "f5fa4c290bf22eec"
  },
  {
   "cell_type": "code",
   "execution_count": 10,
   "outputs": [],
   "source": [],
   "metadata": {
    "collapsed": false,
    "ExecuteTime": {
     "end_time": "2023-09-22T11:25:52.433518Z",
     "start_time": "2023-09-22T11:25:52.428791Z"
    }
   },
   "id": "d068260fed462561"
  }
 ],
 "metadata": {
  "kernelspec": {
   "display_name": "Python 3",
   "language": "python",
   "name": "python3"
  },
  "language_info": {
   "codemirror_mode": {
    "name": "ipython",
    "version": 2
   },
   "file_extension": ".py",
   "mimetype": "text/x-python",
   "name": "python",
   "nbconvert_exporter": "python",
   "pygments_lexer": "ipython2",
   "version": "2.7.6"
  }
 },
 "nbformat": 4,
 "nbformat_minor": 5
}
