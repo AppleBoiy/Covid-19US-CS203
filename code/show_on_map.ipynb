{
 "cells": [
  {
   "cell_type": "code",
   "execution_count": 24,
   "id": "initial_id",
   "metadata": {
    "collapsed": true,
    "ExecuteTime": {
     "end_time": "2023-09-20T06:30:13.560214Z",
     "start_time": "2023-09-20T06:30:13.553504Z"
    }
   },
   "outputs": [],
   "source": [
    "import pandas as pd\n",
    "import folium"
   ]
  },
  {
   "cell_type": "code",
   "execution_count": 31,
   "outputs": [],
   "source": [
    "# Importing the dataset\n",
    "df = pd.read_csv('../data/validated.csv')"
   ],
   "metadata": {
    "collapsed": false,
    "ExecuteTime": {
     "end_time": "2023-09-20T06:30:56.803115Z",
     "start_time": "2023-09-20T06:30:54.191672Z"
    }
   },
   "id": "89c32b02437a460c"
  },
  {
   "cell_type": "code",
   "execution_count": 32,
   "outputs": [
    {
     "data": {
      "text/plain": "  Province/State Admin 2 Level (City/County/Borough/Region)        Date  \\\n0        Florida                                     Sumter  2020-01-31   \n1        Georgia                                    Houston  2020-01-31   \n2        Georgia                                    Pickens  2020-01-31   \n3        Georgia                                 Washington  2020-01-31   \n4          Idaho                                      Adams  2020-01-31   \n\n   Total Death  Total Confirmed                  location  \n0            0                0   28.70181754,-82.0794267  \n1            0                0  32.45802497,-83.66879087  \n2            0                0  34.46589159,-84.46406611  \n3            0                0  32.96711864,-82.79357039  \n4            0                0  44.89333571,-116.4545247  ",
      "text/html": "<div>\n<style scoped>\n    .dataframe tbody tr th:only-of-type {\n        vertical-align: middle;\n    }\n\n    .dataframe tbody tr th {\n        vertical-align: top;\n    }\n\n    .dataframe thead th {\n        text-align: right;\n    }\n</style>\n<table border=\"1\" class=\"dataframe\">\n  <thead>\n    <tr style=\"text-align: right;\">\n      <th></th>\n      <th>Province/State</th>\n      <th>Admin 2 Level (City/County/Borough/Region)</th>\n      <th>Date</th>\n      <th>Total Death</th>\n      <th>Total Confirmed</th>\n      <th>location</th>\n    </tr>\n  </thead>\n  <tbody>\n    <tr>\n      <th>0</th>\n      <td>Florida</td>\n      <td>Sumter</td>\n      <td>2020-01-31</td>\n      <td>0</td>\n      <td>0</td>\n      <td>28.70181754,-82.0794267</td>\n    </tr>\n    <tr>\n      <th>1</th>\n      <td>Georgia</td>\n      <td>Houston</td>\n      <td>2020-01-31</td>\n      <td>0</td>\n      <td>0</td>\n      <td>32.45802497,-83.66879087</td>\n    </tr>\n    <tr>\n      <th>2</th>\n      <td>Georgia</td>\n      <td>Pickens</td>\n      <td>2020-01-31</td>\n      <td>0</td>\n      <td>0</td>\n      <td>34.46589159,-84.46406611</td>\n    </tr>\n    <tr>\n      <th>3</th>\n      <td>Georgia</td>\n      <td>Washington</td>\n      <td>2020-01-31</td>\n      <td>0</td>\n      <td>0</td>\n      <td>32.96711864,-82.79357039</td>\n    </tr>\n    <tr>\n      <th>4</th>\n      <td>Idaho</td>\n      <td>Adams</td>\n      <td>2020-01-31</td>\n      <td>0</td>\n      <td>0</td>\n      <td>44.89333571,-116.4545247</td>\n    </tr>\n  </tbody>\n</table>\n</div>"
     },
     "execution_count": 32,
     "metadata": {},
     "output_type": "execute_result"
    }
   ],
   "source": [
    "df.head()"
   ],
   "metadata": {
    "collapsed": false,
    "ExecuteTime": {
     "end_time": "2023-09-20T06:30:56.814340Z",
     "start_time": "2023-09-20T06:30:56.805753Z"
    }
   },
   "id": "a5b4b93f74988e48"
  },
  {
   "cell_type": "code",
   "execution_count": 33,
   "outputs": [
    {
     "name": "stdout",
     "output_type": "stream",
     "text": [
      "<class 'pandas.core.frame.DataFrame'>\n",
      "RangeIndex: 3099180 entries, 0 to 3099179\n",
      "Data columns (total 6 columns):\n",
      " #   Column                                      Dtype \n",
      "---  ------                                      ----- \n",
      " 0   Province/State                              object\n",
      " 1   Admin 2 Level (City/County/Borough/Region)  object\n",
      " 2   Date                                        object\n",
      " 3   Total Death                                 int64 \n",
      " 4   Total Confirmed                             int64 \n",
      " 5   location                                    object\n",
      "dtypes: int64(2), object(4)\n",
      "memory usage: 141.9+ MB\n"
     ]
    }
   ],
   "source": [
    "df.info()"
   ],
   "metadata": {
    "collapsed": false,
    "ExecuteTime": {
     "end_time": "2023-09-20T06:30:56.828828Z",
     "start_time": "2023-09-20T06:30:56.810297Z"
    }
   },
   "id": "6a8a9d26df479a1d"
  },
  {
   "cell_type": "markdown",
   "source": [
    "# Data Cleaning"
   ],
   "metadata": {
    "collapsed": false
   },
   "id": "28386ef494057f60"
  },
  {
   "cell_type": "code",
   "execution_count": 34,
   "outputs": [],
   "source": [
    "# show on a map only if the location is not null\n",
    "df = df[df['location'].notnull()]\n",
    "\n",
    "# convert location to lat and lon\n",
    "df['lat'] = df['location'].apply(lambda x: float(x.split(',')[0]))\n",
    "df['lon'] = df['location'].apply(lambda x: float(x.split(',')[1]))\n",
    "\n",
    "# replace location with lat and lon\n",
    "df.drop('location', axis=1, inplace=True)\n",
    "\n",
    "# convert date to datetime\n",
    "df['Date'] = pd.to_datetime(df['Date'])"
   ],
   "metadata": {
    "collapsed": false,
    "ExecuteTime": {
     "end_time": "2023-09-20T06:30:59.669124Z",
     "start_time": "2023-09-20T06:30:56.933292Z"
    }
   },
   "id": "e8b6669392351a31"
  },
  {
   "cell_type": "code",
   "execution_count": 35,
   "outputs": [
    {
     "data": {
      "text/plain": "  Province/State Admin 2 Level (City/County/Borough/Region)       Date  \\\n0        Florida                                     Sumter 2020-01-31   \n1        Georgia                                    Houston 2020-01-31   \n2        Georgia                                    Pickens 2020-01-31   \n3        Georgia                                 Washington 2020-01-31   \n4          Idaho                                      Adams 2020-01-31   \n\n   Total Death  Total Confirmed        lat         lon  \n0            0                0  28.701818  -82.079427  \n1            0                0  32.458025  -83.668791  \n2            0                0  34.465892  -84.464066  \n3            0                0  32.967119  -82.793570  \n4            0                0  44.893336 -116.454525  ",
      "text/html": "<div>\n<style scoped>\n    .dataframe tbody tr th:only-of-type {\n        vertical-align: middle;\n    }\n\n    .dataframe tbody tr th {\n        vertical-align: top;\n    }\n\n    .dataframe thead th {\n        text-align: right;\n    }\n</style>\n<table border=\"1\" class=\"dataframe\">\n  <thead>\n    <tr style=\"text-align: right;\">\n      <th></th>\n      <th>Province/State</th>\n      <th>Admin 2 Level (City/County/Borough/Region)</th>\n      <th>Date</th>\n      <th>Total Death</th>\n      <th>Total Confirmed</th>\n      <th>lat</th>\n      <th>lon</th>\n    </tr>\n  </thead>\n  <tbody>\n    <tr>\n      <th>0</th>\n      <td>Florida</td>\n      <td>Sumter</td>\n      <td>2020-01-31</td>\n      <td>0</td>\n      <td>0</td>\n      <td>28.701818</td>\n      <td>-82.079427</td>\n    </tr>\n    <tr>\n      <th>1</th>\n      <td>Georgia</td>\n      <td>Houston</td>\n      <td>2020-01-31</td>\n      <td>0</td>\n      <td>0</td>\n      <td>32.458025</td>\n      <td>-83.668791</td>\n    </tr>\n    <tr>\n      <th>2</th>\n      <td>Georgia</td>\n      <td>Pickens</td>\n      <td>2020-01-31</td>\n      <td>0</td>\n      <td>0</td>\n      <td>34.465892</td>\n      <td>-84.464066</td>\n    </tr>\n    <tr>\n      <th>3</th>\n      <td>Georgia</td>\n      <td>Washington</td>\n      <td>2020-01-31</td>\n      <td>0</td>\n      <td>0</td>\n      <td>32.967119</td>\n      <td>-82.793570</td>\n    </tr>\n    <tr>\n      <th>4</th>\n      <td>Idaho</td>\n      <td>Adams</td>\n      <td>2020-01-31</td>\n      <td>0</td>\n      <td>0</td>\n      <td>44.893336</td>\n      <td>-116.454525</td>\n    </tr>\n  </tbody>\n</table>\n</div>"
     },
     "execution_count": 35,
     "metadata": {},
     "output_type": "execute_result"
    }
   ],
   "source": [
    "df.head()"
   ],
   "metadata": {
    "collapsed": false,
    "ExecuteTime": {
     "end_time": "2023-09-20T06:31:01.188422Z",
     "start_time": "2023-09-20T06:31:01.181275Z"
    }
   },
   "id": "99cadeb2cb6c1f76"
  },
  {
   "cell_type": "code",
   "execution_count": 39,
   "outputs": [
    {
     "data": {
      "text/plain": "<folium.plugins.heat_map.HeatMap at 0x13364c410>"
     },
     "execution_count": 39,
     "metadata": {},
     "output_type": "execute_result"
    }
   ],
   "source": [
    "# Create a folium map centered at an initial location\n",
    "m = folium.Map(location=[32.45802497, -83.66879087], zoom_start=6)\n",
    "\n",
    "heatmap_data = [[row['lat'],row['lon']] for index, row in df.iterrows()]\n",
    "\n",
    "# Plot it on the map\n",
    "from folium.plugins import HeatMap\n",
    "HeatMap(heatmap_data).add_to(m)\n"
   ],
   "metadata": {
    "collapsed": false,
    "ExecuteTime": {
     "end_time": "2023-09-20T06:36:13.566797Z",
     "start_time": "2023-09-20T06:35:05.306106Z"
    }
   },
   "id": "2137ee1a29218e09"
  },
  {
   "cell_type": "code",
   "execution_count": 41,
   "outputs": [],
   "source": [
    "# m"
   ],
   "metadata": {
    "collapsed": false,
    "ExecuteTime": {
     "end_time": "2023-09-20T06:38:14.604285Z",
     "start_time": "2023-09-20T06:38:03.543861Z"
    }
   },
   "id": "42fe4a599d0997b4"
  },
  {
   "cell_type": "code",
   "execution_count": 44,
   "outputs": [],
   "source": [
    "from src.heatmap import display_heatmap"
   ],
   "metadata": {
    "collapsed": false,
    "ExecuteTime": {
     "end_time": "2023-09-20T07:31:44.835041Z",
     "start_time": "2023-09-20T07:31:44.816731Z"
    }
   },
   "id": "4b928d17d9092220"
  },
  {
   "cell_type": "code",
   "execution_count": 46,
   "outputs": [
    {
     "data": {
      "text/plain": "<folium.folium.Map at 0x99bc58c10>",
      "text/html": "<div style=\"width:100%;\"><div style=\"position:relative;width:100%;height:0;padding-bottom:60%;\"><span style=\"color:#565656\">Make this Notebook Trusted to load map: File -> Trust Notebook</span><iframe srcdoc=\"&lt;!DOCTYPE html&gt;\n&lt;html&gt;\n&lt;head&gt;\n    \n    &lt;meta http-equiv=&quot;content-type&quot; content=&quot;text/html; charset=UTF-8&quot; /&gt;\n    \n        &lt;script&gt;\n            L_NO_TOUCH = false;\n            L_DISABLE_3D = false;\n        &lt;/script&gt;\n    \n    &lt;style&gt;html, body {width: 100%;height: 100%;margin: 0;padding: 0;}&lt;/style&gt;\n    &lt;style&gt;#map {position:absolute;top:0;bottom:0;right:0;left:0;}&lt;/style&gt;\n    &lt;script src=&quot;https://cdn.jsdelivr.net/npm/leaflet@1.9.3/dist/leaflet.js&quot;&gt;&lt;/script&gt;\n    &lt;script src=&quot;https://code.jquery.com/jquery-1.12.4.min.js&quot;&gt;&lt;/script&gt;\n    &lt;script src=&quot;https://cdn.jsdelivr.net/npm/bootstrap@5.2.2/dist/js/bootstrap.bundle.min.js&quot;&gt;&lt;/script&gt;\n    &lt;script src=&quot;https://cdnjs.cloudflare.com/ajax/libs/Leaflet.awesome-markers/2.0.2/leaflet.awesome-markers.js&quot;&gt;&lt;/script&gt;\n    &lt;link rel=&quot;stylesheet&quot; href=&quot;https://cdn.jsdelivr.net/npm/leaflet@1.9.3/dist/leaflet.css&quot;/&gt;\n    &lt;link rel=&quot;stylesheet&quot; href=&quot;https://cdn.jsdelivr.net/npm/bootstrap@5.2.2/dist/css/bootstrap.min.css&quot;/&gt;\n    &lt;link rel=&quot;stylesheet&quot; href=&quot;https://netdna.bootstrapcdn.com/bootstrap/3.0.0/css/bootstrap.min.css&quot;/&gt;\n    &lt;link rel=&quot;stylesheet&quot; href=&quot;https://cdn.jsdelivr.net/npm/@fortawesome/fontawesome-free@6.2.0/css/all.min.css&quot;/&gt;\n    &lt;link rel=&quot;stylesheet&quot; href=&quot;https://cdnjs.cloudflare.com/ajax/libs/Leaflet.awesome-markers/2.0.2/leaflet.awesome-markers.css&quot;/&gt;\n    &lt;link rel=&quot;stylesheet&quot; href=&quot;https://cdn.jsdelivr.net/gh/python-visualization/folium/folium/templates/leaflet.awesome.rotate.min.css&quot;/&gt;\n    \n            &lt;meta name=&quot;viewport&quot; content=&quot;width=device-width,\n                initial-scale=1.0, maximum-scale=1.0, user-scalable=no&quot; /&gt;\n            &lt;style&gt;\n                #map_ec247984c1274c90f177a9ef0b2447ae {\n                    position: relative;\n                    width: 100.0%;\n                    height: 100.0%;\n                    left: 0.0%;\n                    top: 0.0%;\n                }\n                .leaflet-container { font-size: 1rem; }\n            &lt;/style&gt;\n        \n&lt;/head&gt;\n&lt;body&gt;\n    \n    \n            &lt;div class=&quot;folium-map&quot; id=&quot;map_ec247984c1274c90f177a9ef0b2447ae&quot; &gt;&lt;/div&gt;\n        \n&lt;/body&gt;\n&lt;script&gt;\n    \n    \n            var map_ec247984c1274c90f177a9ef0b2447ae = L.map(\n                &quot;map_ec247984c1274c90f177a9ef0b2447ae&quot;,\n                {\n                    center: [28.70181754, -82.0794267],\n                    crs: L.CRS.EPSG3857,\n                    zoom: 6,\n                    zoomControl: true,\n                    preferCanvas: false,\n                }\n            );\n\n            \n\n        \n    \n            var tile_layer_5390653c3f4ceb0960160fd3cf7ffdec = L.tileLayer(\n                &quot;https://{s}.tile.openstreetmap.org/{z}/{x}/{y}.png&quot;,\n                {&quot;attribution&quot;: &quot;Data by \\u0026copy; \\u003ca target=\\&quot;_blank\\&quot; href=\\&quot;http://openstreetmap.org\\&quot;\\u003eOpenStreetMap\\u003c/a\\u003e, under \\u003ca target=\\&quot;_blank\\&quot; href=\\&quot;http://www.openstreetmap.org/copyright\\&quot;\\u003eODbL\\u003c/a\\u003e.&quot;, &quot;detectRetina&quot;: false, &quot;maxNativeZoom&quot;: 18, &quot;maxZoom&quot;: 18, &quot;minZoom&quot;: 0, &quot;noWrap&quot;: false, &quot;opacity&quot;: 1, &quot;subdomains&quot;: &quot;abc&quot;, &quot;tms&quot;: false}\n            ).addTo(map_ec247984c1274c90f177a9ef0b2447ae);\n        \n    \n            var circle_marker_2c32ec6fb571b205ec0dc101bdd91571 = L.circleMarker(\n                [28.70181754, -82.0794267],\n                {&quot;bubblingMouseEvents&quot;: true, &quot;color&quot;: &quot;red&quot;, &quot;dashArray&quot;: null, &quot;dashOffset&quot;: null, &quot;fill&quot;: true, &quot;fillColor&quot;: &quot;red&quot;, &quot;fillOpacity&quot;: 0.6, &quot;fillRule&quot;: &quot;evenodd&quot;, &quot;lineCap&quot;: &quot;round&quot;, &quot;lineJoin&quot;: &quot;round&quot;, &quot;opacity&quot;: 1.0, &quot;stroke&quot;: true, &quot;weight&quot;: 3}\n            ).addTo(map_ec247984c1274c90f177a9ef0b2447ae);\n        \n    \n        var popup_fe361bcc408939ac0889290b693b07eb = L.popup({&quot;maxWidth&quot;: &quot;100%&quot;});\n\n        \n            \n                var html_88081b016e78f48d87539e1c41bbcad0 = $(`&lt;div id=&quot;html_88081b016e78f48d87539e1c41bbcad0&quot; style=&quot;width: 100.0%; height: 100.0%;&quot;&gt;State: Florida&lt;br&gt;Death Ratio: 0.00&lt;/div&gt;`)[0];\n                popup_fe361bcc408939ac0889290b693b07eb.setContent(html_88081b016e78f48d87539e1c41bbcad0);\n            \n        \n\n        circle_marker_2c32ec6fb571b205ec0dc101bdd91571.bindPopup(popup_fe361bcc408939ac0889290b693b07eb)\n        ;\n\n        \n    \n    \n            var circle_marker_214c5512bb5d6807816f57181298246e = L.circleMarker(\n                [28.70181754, -82.0794267],\n                {&quot;bubblingMouseEvents&quot;: true, &quot;color&quot;: &quot;blue&quot;, &quot;dashArray&quot;: null, &quot;dashOffset&quot;: null, &quot;fill&quot;: true, &quot;fillColor&quot;: &quot;blue&quot;, &quot;fillOpacity&quot;: 0.6, &quot;fillRule&quot;: &quot;evenodd&quot;, &quot;lineCap&quot;: &quot;round&quot;, &quot;lineJoin&quot;: &quot;round&quot;, &quot;opacity&quot;: 1.0, &quot;stroke&quot;: true, &quot;weight&quot;: 3}\n            ).addTo(map_ec247984c1274c90f177a9ef0b2447ae);\n        \n    \n        var popup_80f415ca0aca1fc305fc939b825ac4c6 = L.popup({&quot;maxWidth&quot;: &quot;100%&quot;});\n\n        \n            \n                var html_4f442c03c728f9ed0e426b9012ba8f8d = $(`&lt;div id=&quot;html_4f442c03c728f9ed0e426b9012ba8f8d&quot; style=&quot;width: 100.0%; height: 100.0%;&quot;&gt;State: Florida&lt;br&gt;Confirmed Ratio: 0.00&lt;/div&gt;`)[0];\n                popup_80f415ca0aca1fc305fc939b825ac4c6.setContent(html_4f442c03c728f9ed0e426b9012ba8f8d);\n            \n        \n\n        circle_marker_214c5512bb5d6807816f57181298246e.bindPopup(popup_80f415ca0aca1fc305fc939b825ac4c6)\n        ;\n\n        \n    \n&lt;/script&gt;\n&lt;/html&gt;\" style=\"position:absolute;width:100%;height:100%;left:0;top:0;border:none !important;\" allowfullscreen webkitallowfullscreen mozallowfullscreen></iframe></div></div>"
     },
     "execution_count": 46,
     "metadata": {},
     "output_type": "execute_result"
    }
   ],
   "source": [
    "state = 'Florida'\n",
    "display_heatmap(df, state)"
   ],
   "metadata": {
    "collapsed": false,
    "ExecuteTime": {
     "end_time": "2023-09-20T07:31:58.684654Z",
     "start_time": "2023-09-20T07:31:55.488620Z"
    }
   },
   "id": "f5fa4c290bf22eec"
  },
  {
   "cell_type": "code",
   "execution_count": null,
   "outputs": [],
   "source": [],
   "metadata": {
    "collapsed": false
   },
   "id": "d068260fed462561"
  }
 ],
 "metadata": {
  "kernelspec": {
   "display_name": "Python 3",
   "language": "python",
   "name": "python3"
  },
  "language_info": {
   "codemirror_mode": {
    "name": "ipython",
    "version": 2
   },
   "file_extension": ".py",
   "mimetype": "text/x-python",
   "name": "python",
   "nbconvert_exporter": "python",
   "pygments_lexer": "ipython2",
   "version": "2.7.6"
  }
 },
 "nbformat": 4,
 "nbformat_minor": 5
}
