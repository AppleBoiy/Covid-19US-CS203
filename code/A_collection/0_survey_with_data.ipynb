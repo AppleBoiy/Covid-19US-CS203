{
 "cells": [
  {
   "cell_type": "code",
   "execution_count": 1,
   "id": "initial_id",
   "metadata": {
    "collapsed": true,
    "ExecuteTime": {
     "end_time": "2023-10-12T09:57:29.428008Z",
     "start_time": "2023-10-12T09:57:28.971635Z"
    }
   },
   "outputs": [],
   "source": [
    "import pandas as pd"
   ]
  },
  {
   "cell_type": "markdown",
   "source": [
    "# Read the data"
   ],
   "metadata": {
    "collapsed": false
   },
   "id": "23cec71912a74031"
  },
  {
   "cell_type": "code",
   "execution_count": 2,
   "outputs": [
    {
     "ename": "FileNotFoundError",
     "evalue": "[Errno 2] No such file or directory: '../../data/coronavirus-covid-19-pandemic-usa-counties.csv'",
     "output_type": "error",
     "traceback": [
      "\u001B[0;31m---------------------------------------------------------------------------\u001B[0m",
      "\u001B[0;31mFileNotFoundError\u001B[0m                         Traceback (most recent call last)",
      "Cell \u001B[0;32mIn[2], line 1\u001B[0m\n\u001B[0;32m----> 1\u001B[0m df \u001B[38;5;241m=\u001B[39m \u001B[43mpd\u001B[49m\u001B[38;5;241;43m.\u001B[39;49m\u001B[43mread_csv\u001B[49m\u001B[43m(\u001B[49m\u001B[38;5;124;43mf\u001B[39;49m\u001B[38;5;124;43m\"\u001B[39;49m\u001B[38;5;124;43m../../data/coronavirus-covid-19-pandemic-usa-counties.csv\u001B[39;49m\u001B[38;5;124;43m\"\u001B[39;49m\u001B[43m,\u001B[49m\u001B[43m \u001B[49m\u001B[43msep\u001B[49m\u001B[38;5;241;43m=\u001B[39;49m\u001B[38;5;124;43m\"\u001B[39;49m\u001B[38;5;124;43m;\u001B[39;49m\u001B[38;5;124;43m\"\u001B[39;49m\u001B[43m)\u001B[49m\n\u001B[1;32m      2\u001B[0m df\u001B[38;5;241m.\u001B[39mset_index(\u001B[38;5;124m\"\u001B[39m\u001B[38;5;124mAdmin 2 FIPS Code\u001B[39m\u001B[38;5;124m\"\u001B[39m, inplace\u001B[38;5;241m=\u001B[39m\u001B[38;5;28;01mTrue\u001B[39;00m)\n",
      "File \u001B[0;32m/opt/homebrew/Caskroom/miniconda/base/envs/cs203/lib/python3.11/site-packages/pandas/io/parsers/readers.py:948\u001B[0m, in \u001B[0;36mread_csv\u001B[0;34m(filepath_or_buffer, sep, delimiter, header, names, index_col, usecols, dtype, engine, converters, true_values, false_values, skipinitialspace, skiprows, skipfooter, nrows, na_values, keep_default_na, na_filter, verbose, skip_blank_lines, parse_dates, infer_datetime_format, keep_date_col, date_parser, date_format, dayfirst, cache_dates, iterator, chunksize, compression, thousands, decimal, lineterminator, quotechar, quoting, doublequote, escapechar, comment, encoding, encoding_errors, dialect, on_bad_lines, delim_whitespace, low_memory, memory_map, float_precision, storage_options, dtype_backend)\u001B[0m\n\u001B[1;32m    935\u001B[0m kwds_defaults \u001B[38;5;241m=\u001B[39m _refine_defaults_read(\n\u001B[1;32m    936\u001B[0m     dialect,\n\u001B[1;32m    937\u001B[0m     delimiter,\n\u001B[0;32m   (...)\u001B[0m\n\u001B[1;32m    944\u001B[0m     dtype_backend\u001B[38;5;241m=\u001B[39mdtype_backend,\n\u001B[1;32m    945\u001B[0m )\n\u001B[1;32m    946\u001B[0m kwds\u001B[38;5;241m.\u001B[39mupdate(kwds_defaults)\n\u001B[0;32m--> 948\u001B[0m \u001B[38;5;28;01mreturn\u001B[39;00m \u001B[43m_read\u001B[49m\u001B[43m(\u001B[49m\u001B[43mfilepath_or_buffer\u001B[49m\u001B[43m,\u001B[49m\u001B[43m \u001B[49m\u001B[43mkwds\u001B[49m\u001B[43m)\u001B[49m\n",
      "File \u001B[0;32m/opt/homebrew/Caskroom/miniconda/base/envs/cs203/lib/python3.11/site-packages/pandas/io/parsers/readers.py:611\u001B[0m, in \u001B[0;36m_read\u001B[0;34m(filepath_or_buffer, kwds)\u001B[0m\n\u001B[1;32m    608\u001B[0m _validate_names(kwds\u001B[38;5;241m.\u001B[39mget(\u001B[38;5;124m\"\u001B[39m\u001B[38;5;124mnames\u001B[39m\u001B[38;5;124m\"\u001B[39m, \u001B[38;5;28;01mNone\u001B[39;00m))\n\u001B[1;32m    610\u001B[0m \u001B[38;5;66;03m# Create the parser.\u001B[39;00m\n\u001B[0;32m--> 611\u001B[0m parser \u001B[38;5;241m=\u001B[39m \u001B[43mTextFileReader\u001B[49m\u001B[43m(\u001B[49m\u001B[43mfilepath_or_buffer\u001B[49m\u001B[43m,\u001B[49m\u001B[43m \u001B[49m\u001B[38;5;241;43m*\u001B[39;49m\u001B[38;5;241;43m*\u001B[39;49m\u001B[43mkwds\u001B[49m\u001B[43m)\u001B[49m\n\u001B[1;32m    613\u001B[0m \u001B[38;5;28;01mif\u001B[39;00m chunksize \u001B[38;5;129;01mor\u001B[39;00m iterator:\n\u001B[1;32m    614\u001B[0m     \u001B[38;5;28;01mreturn\u001B[39;00m parser\n",
      "File \u001B[0;32m/opt/homebrew/Caskroom/miniconda/base/envs/cs203/lib/python3.11/site-packages/pandas/io/parsers/readers.py:1448\u001B[0m, in \u001B[0;36mTextFileReader.__init__\u001B[0;34m(self, f, engine, **kwds)\u001B[0m\n\u001B[1;32m   1445\u001B[0m     \u001B[38;5;28mself\u001B[39m\u001B[38;5;241m.\u001B[39moptions[\u001B[38;5;124m\"\u001B[39m\u001B[38;5;124mhas_index_names\u001B[39m\u001B[38;5;124m\"\u001B[39m] \u001B[38;5;241m=\u001B[39m kwds[\u001B[38;5;124m\"\u001B[39m\u001B[38;5;124mhas_index_names\u001B[39m\u001B[38;5;124m\"\u001B[39m]\n\u001B[1;32m   1447\u001B[0m \u001B[38;5;28mself\u001B[39m\u001B[38;5;241m.\u001B[39mhandles: IOHandles \u001B[38;5;241m|\u001B[39m \u001B[38;5;28;01mNone\u001B[39;00m \u001B[38;5;241m=\u001B[39m \u001B[38;5;28;01mNone\u001B[39;00m\n\u001B[0;32m-> 1448\u001B[0m \u001B[38;5;28mself\u001B[39m\u001B[38;5;241m.\u001B[39m_engine \u001B[38;5;241m=\u001B[39m \u001B[38;5;28;43mself\u001B[39;49m\u001B[38;5;241;43m.\u001B[39;49m\u001B[43m_make_engine\u001B[49m\u001B[43m(\u001B[49m\u001B[43mf\u001B[49m\u001B[43m,\u001B[49m\u001B[43m \u001B[49m\u001B[38;5;28;43mself\u001B[39;49m\u001B[38;5;241;43m.\u001B[39;49m\u001B[43mengine\u001B[49m\u001B[43m)\u001B[49m\n",
      "File \u001B[0;32m/opt/homebrew/Caskroom/miniconda/base/envs/cs203/lib/python3.11/site-packages/pandas/io/parsers/readers.py:1705\u001B[0m, in \u001B[0;36mTextFileReader._make_engine\u001B[0;34m(self, f, engine)\u001B[0m\n\u001B[1;32m   1703\u001B[0m     \u001B[38;5;28;01mif\u001B[39;00m \u001B[38;5;124m\"\u001B[39m\u001B[38;5;124mb\u001B[39m\u001B[38;5;124m\"\u001B[39m \u001B[38;5;129;01mnot\u001B[39;00m \u001B[38;5;129;01min\u001B[39;00m mode:\n\u001B[1;32m   1704\u001B[0m         mode \u001B[38;5;241m+\u001B[39m\u001B[38;5;241m=\u001B[39m \u001B[38;5;124m\"\u001B[39m\u001B[38;5;124mb\u001B[39m\u001B[38;5;124m\"\u001B[39m\n\u001B[0;32m-> 1705\u001B[0m \u001B[38;5;28mself\u001B[39m\u001B[38;5;241m.\u001B[39mhandles \u001B[38;5;241m=\u001B[39m \u001B[43mget_handle\u001B[49m\u001B[43m(\u001B[49m\n\u001B[1;32m   1706\u001B[0m \u001B[43m    \u001B[49m\u001B[43mf\u001B[49m\u001B[43m,\u001B[49m\n\u001B[1;32m   1707\u001B[0m \u001B[43m    \u001B[49m\u001B[43mmode\u001B[49m\u001B[43m,\u001B[49m\n\u001B[1;32m   1708\u001B[0m \u001B[43m    \u001B[49m\u001B[43mencoding\u001B[49m\u001B[38;5;241;43m=\u001B[39;49m\u001B[38;5;28;43mself\u001B[39;49m\u001B[38;5;241;43m.\u001B[39;49m\u001B[43moptions\u001B[49m\u001B[38;5;241;43m.\u001B[39;49m\u001B[43mget\u001B[49m\u001B[43m(\u001B[49m\u001B[38;5;124;43m\"\u001B[39;49m\u001B[38;5;124;43mencoding\u001B[39;49m\u001B[38;5;124;43m\"\u001B[39;49m\u001B[43m,\u001B[49m\u001B[43m \u001B[49m\u001B[38;5;28;43;01mNone\u001B[39;49;00m\u001B[43m)\u001B[49m\u001B[43m,\u001B[49m\n\u001B[1;32m   1709\u001B[0m \u001B[43m    \u001B[49m\u001B[43mcompression\u001B[49m\u001B[38;5;241;43m=\u001B[39;49m\u001B[38;5;28;43mself\u001B[39;49m\u001B[38;5;241;43m.\u001B[39;49m\u001B[43moptions\u001B[49m\u001B[38;5;241;43m.\u001B[39;49m\u001B[43mget\u001B[49m\u001B[43m(\u001B[49m\u001B[38;5;124;43m\"\u001B[39;49m\u001B[38;5;124;43mcompression\u001B[39;49m\u001B[38;5;124;43m\"\u001B[39;49m\u001B[43m,\u001B[49m\u001B[43m \u001B[49m\u001B[38;5;28;43;01mNone\u001B[39;49;00m\u001B[43m)\u001B[49m\u001B[43m,\u001B[49m\n\u001B[1;32m   1710\u001B[0m \u001B[43m    \u001B[49m\u001B[43mmemory_map\u001B[49m\u001B[38;5;241;43m=\u001B[39;49m\u001B[38;5;28;43mself\u001B[39;49m\u001B[38;5;241;43m.\u001B[39;49m\u001B[43moptions\u001B[49m\u001B[38;5;241;43m.\u001B[39;49m\u001B[43mget\u001B[49m\u001B[43m(\u001B[49m\u001B[38;5;124;43m\"\u001B[39;49m\u001B[38;5;124;43mmemory_map\u001B[39;49m\u001B[38;5;124;43m\"\u001B[39;49m\u001B[43m,\u001B[49m\u001B[43m \u001B[49m\u001B[38;5;28;43;01mFalse\u001B[39;49;00m\u001B[43m)\u001B[49m\u001B[43m,\u001B[49m\n\u001B[1;32m   1711\u001B[0m \u001B[43m    \u001B[49m\u001B[43mis_text\u001B[49m\u001B[38;5;241;43m=\u001B[39;49m\u001B[43mis_text\u001B[49m\u001B[43m,\u001B[49m\n\u001B[1;32m   1712\u001B[0m \u001B[43m    \u001B[49m\u001B[43merrors\u001B[49m\u001B[38;5;241;43m=\u001B[39;49m\u001B[38;5;28;43mself\u001B[39;49m\u001B[38;5;241;43m.\u001B[39;49m\u001B[43moptions\u001B[49m\u001B[38;5;241;43m.\u001B[39;49m\u001B[43mget\u001B[49m\u001B[43m(\u001B[49m\u001B[38;5;124;43m\"\u001B[39;49m\u001B[38;5;124;43mencoding_errors\u001B[39;49m\u001B[38;5;124;43m\"\u001B[39;49m\u001B[43m,\u001B[49m\u001B[43m \u001B[49m\u001B[38;5;124;43m\"\u001B[39;49m\u001B[38;5;124;43mstrict\u001B[39;49m\u001B[38;5;124;43m\"\u001B[39;49m\u001B[43m)\u001B[49m\u001B[43m,\u001B[49m\n\u001B[1;32m   1713\u001B[0m \u001B[43m    \u001B[49m\u001B[43mstorage_options\u001B[49m\u001B[38;5;241;43m=\u001B[39;49m\u001B[38;5;28;43mself\u001B[39;49m\u001B[38;5;241;43m.\u001B[39;49m\u001B[43moptions\u001B[49m\u001B[38;5;241;43m.\u001B[39;49m\u001B[43mget\u001B[49m\u001B[43m(\u001B[49m\u001B[38;5;124;43m\"\u001B[39;49m\u001B[38;5;124;43mstorage_options\u001B[39;49m\u001B[38;5;124;43m\"\u001B[39;49m\u001B[43m,\u001B[49m\u001B[43m \u001B[49m\u001B[38;5;28;43;01mNone\u001B[39;49;00m\u001B[43m)\u001B[49m\u001B[43m,\u001B[49m\n\u001B[1;32m   1714\u001B[0m \u001B[43m\u001B[49m\u001B[43m)\u001B[49m\n\u001B[1;32m   1715\u001B[0m \u001B[38;5;28;01massert\u001B[39;00m \u001B[38;5;28mself\u001B[39m\u001B[38;5;241m.\u001B[39mhandles \u001B[38;5;129;01mis\u001B[39;00m \u001B[38;5;129;01mnot\u001B[39;00m \u001B[38;5;28;01mNone\u001B[39;00m\n\u001B[1;32m   1716\u001B[0m f \u001B[38;5;241m=\u001B[39m \u001B[38;5;28mself\u001B[39m\u001B[38;5;241m.\u001B[39mhandles\u001B[38;5;241m.\u001B[39mhandle\n",
      "File \u001B[0;32m/opt/homebrew/Caskroom/miniconda/base/envs/cs203/lib/python3.11/site-packages/pandas/io/common.py:863\u001B[0m, in \u001B[0;36mget_handle\u001B[0;34m(path_or_buf, mode, encoding, compression, memory_map, is_text, errors, storage_options)\u001B[0m\n\u001B[1;32m    858\u001B[0m \u001B[38;5;28;01melif\u001B[39;00m \u001B[38;5;28misinstance\u001B[39m(handle, \u001B[38;5;28mstr\u001B[39m):\n\u001B[1;32m    859\u001B[0m     \u001B[38;5;66;03m# Check whether the filename is to be opened in binary mode.\u001B[39;00m\n\u001B[1;32m    860\u001B[0m     \u001B[38;5;66;03m# Binary mode does not support 'encoding' and 'newline'.\u001B[39;00m\n\u001B[1;32m    861\u001B[0m     \u001B[38;5;28;01mif\u001B[39;00m ioargs\u001B[38;5;241m.\u001B[39mencoding \u001B[38;5;129;01mand\u001B[39;00m \u001B[38;5;124m\"\u001B[39m\u001B[38;5;124mb\u001B[39m\u001B[38;5;124m\"\u001B[39m \u001B[38;5;129;01mnot\u001B[39;00m \u001B[38;5;129;01min\u001B[39;00m ioargs\u001B[38;5;241m.\u001B[39mmode:\n\u001B[1;32m    862\u001B[0m         \u001B[38;5;66;03m# Encoding\u001B[39;00m\n\u001B[0;32m--> 863\u001B[0m         handle \u001B[38;5;241m=\u001B[39m \u001B[38;5;28;43mopen\u001B[39;49m\u001B[43m(\u001B[49m\n\u001B[1;32m    864\u001B[0m \u001B[43m            \u001B[49m\u001B[43mhandle\u001B[49m\u001B[43m,\u001B[49m\n\u001B[1;32m    865\u001B[0m \u001B[43m            \u001B[49m\u001B[43mioargs\u001B[49m\u001B[38;5;241;43m.\u001B[39;49m\u001B[43mmode\u001B[49m\u001B[43m,\u001B[49m\n\u001B[1;32m    866\u001B[0m \u001B[43m            \u001B[49m\u001B[43mencoding\u001B[49m\u001B[38;5;241;43m=\u001B[39;49m\u001B[43mioargs\u001B[49m\u001B[38;5;241;43m.\u001B[39;49m\u001B[43mencoding\u001B[49m\u001B[43m,\u001B[49m\n\u001B[1;32m    867\u001B[0m \u001B[43m            \u001B[49m\u001B[43merrors\u001B[49m\u001B[38;5;241;43m=\u001B[39;49m\u001B[43merrors\u001B[49m\u001B[43m,\u001B[49m\n\u001B[1;32m    868\u001B[0m \u001B[43m            \u001B[49m\u001B[43mnewline\u001B[49m\u001B[38;5;241;43m=\u001B[39;49m\u001B[38;5;124;43m\"\u001B[39;49m\u001B[38;5;124;43m\"\u001B[39;49m\u001B[43m,\u001B[49m\n\u001B[1;32m    869\u001B[0m \u001B[43m        \u001B[49m\u001B[43m)\u001B[49m\n\u001B[1;32m    870\u001B[0m     \u001B[38;5;28;01melse\u001B[39;00m:\n\u001B[1;32m    871\u001B[0m         \u001B[38;5;66;03m# Binary mode\u001B[39;00m\n\u001B[1;32m    872\u001B[0m         handle \u001B[38;5;241m=\u001B[39m \u001B[38;5;28mopen\u001B[39m(handle, ioargs\u001B[38;5;241m.\u001B[39mmode)\n",
      "\u001B[0;31mFileNotFoundError\u001B[0m: [Errno 2] No such file or directory: '../../data/coronavirus-covid-19-pandemic-usa-counties.csv'"
     ]
    }
   ],
   "source": [
    "df = pd.read_csv(f\"../../data/coronavirus-covid-19-pandemic-usa-counties.csv\", sep=\";\")"
   ],
   "metadata": {
    "collapsed": false,
    "ExecuteTime": {
     "end_time": "2023-10-12T09:57:29.602815Z",
     "start_time": "2023-10-12T09:57:29.428261Z"
    }
   },
   "id": "26a8e181df3174b9"
  },
  {
   "cell_type": "code",
   "execution_count": 3,
   "outputs": [
    {
     "data": {
      "text/plain": "   Admin 2 FIPS Code Province/State  ... Total Confirmed                  location\n0            12119.0        Florida  ...               0   28.70181754,-82.0794267\n1            13153.0        Georgia  ...               0  32.45802497,-83.66879087\n2            13227.0        Georgia  ...               0  34.46589159,-84.46406611\n3            13303.0        Georgia  ...               0  32.96711864,-82.79357039\n4            16003.0          Idaho  ...               0  44.89333571,-116.4545247\n\n[5 rows x 7 columns]",
      "text/html": "<div>\n<style scoped>\n    .dataframe tbody tr th:only-of-type {\n        vertical-align: middle;\n    }\n\n    .dataframe tbody tr th {\n        vertical-align: top;\n    }\n\n    .dataframe thead th {\n        text-align: right;\n    }\n</style>\n<table border=\"1\" class=\"dataframe\">\n  <thead>\n    <tr style=\"text-align: right;\">\n      <th></th>\n      <th>Admin 2 FIPS Code</th>\n      <th>Province/State</th>\n      <th>Admin 2 Level (City/County/Borough/Region)</th>\n      <th>Date</th>\n      <th>Total Death</th>\n      <th>Total Confirmed</th>\n      <th>location</th>\n    </tr>\n  </thead>\n  <tbody>\n    <tr>\n      <th>0</th>\n      <td>12119.0</td>\n      <td>Florida</td>\n      <td>Sumter</td>\n      <td>2020-01-31</td>\n      <td>0</td>\n      <td>0</td>\n      <td>28.70181754,-82.0794267</td>\n    </tr>\n    <tr>\n      <th>1</th>\n      <td>13153.0</td>\n      <td>Georgia</td>\n      <td>Houston</td>\n      <td>2020-01-31</td>\n      <td>0</td>\n      <td>0</td>\n      <td>32.45802497,-83.66879087</td>\n    </tr>\n    <tr>\n      <th>2</th>\n      <td>13227.0</td>\n      <td>Georgia</td>\n      <td>Pickens</td>\n      <td>2020-01-31</td>\n      <td>0</td>\n      <td>0</td>\n      <td>34.46589159,-84.46406611</td>\n    </tr>\n    <tr>\n      <th>3</th>\n      <td>13303.0</td>\n      <td>Georgia</td>\n      <td>Washington</td>\n      <td>2020-01-31</td>\n      <td>0</td>\n      <td>0</td>\n      <td>32.96711864,-82.79357039</td>\n    </tr>\n    <tr>\n      <th>4</th>\n      <td>16003.0</td>\n      <td>Idaho</td>\n      <td>Adams</td>\n      <td>2020-01-31</td>\n      <td>0</td>\n      <td>0</td>\n      <td>44.89333571,-116.4545247</td>\n    </tr>\n  </tbody>\n</table>\n</div>"
     },
     "execution_count": 3,
     "metadata": {},
     "output_type": "execute_result"
    }
   ],
   "source": [
    "df.head()"
   ],
   "metadata": {
    "collapsed": false,
    "ExecuteTime": {
     "end_time": "2023-10-03T19:17:32.328574Z",
     "start_time": "2023-10-03T19:17:32.295387Z"
    }
   },
   "id": "6469d0e27d86953d"
  },
  {
   "cell_type": "code",
   "execution_count": 5,
   "outputs": [
    {
     "name": "stdout",
     "output_type": "stream",
     "text": [
      "<class 'pandas.core.frame.DataFrame'>\n",
      "RangeIndex: 3099180 entries, 0 to 3099179\n",
      "Data columns (total 7 columns):\n",
      " #   Column                                      Dtype  \n",
      "---  ------                                      -----  \n",
      " 0   Admin 2 FIPS Code                           float64\n",
      " 1   Province/State                              object \n",
      " 2   Admin 2 Level (City/County/Borough/Region)  object \n",
      " 3   Date                                        object \n",
      " 4   Total Death                                 int64  \n",
      " 5   Total Confirmed                             int64  \n",
      " 6   location                                    object \n",
      "dtypes: float64(1), int64(2), object(4)\n",
      "memory usage: 165.5+ MB\n"
     ]
    }
   ],
   "source": [
    "df.info()"
   ],
   "metadata": {
    "collapsed": false,
    "ExecuteTime": {
     "end_time": "2023-10-03T19:17:40.012417Z",
     "start_time": "2023-10-03T19:17:40.002472Z"
    }
   },
   "id": "73d260fb09d75b3e"
  },
  {
   "cell_type": "markdown",
   "source": [
    "## Validate the data"
   ],
   "metadata": {
    "collapsed": false
   },
   "id": "c88921c91a443755"
  },
  {
   "cell_type": "code",
   "execution_count": 6,
   "outputs": [
    {
     "data": {
      "text/plain": "Admin 2 FIPS Code                             9420\nProvince/State                                   0\nAdmin 2 Level (City/County/Borough/Region)    5652\nDate                                             0\nTotal Death                                      0\nTotal Confirmed                                  0\nlocation                                         0\ndtype: int64"
     },
     "execution_count": 6,
     "metadata": {},
     "output_type": "execute_result"
    }
   ],
   "source": [
    "df.isnull().sum()"
   ],
   "metadata": {
    "collapsed": false,
    "ExecuteTime": {
     "end_time": "2023-10-03T19:17:41.498526Z",
     "start_time": "2023-10-03T19:17:41.235047Z"
    }
   },
   "id": "2e8213fc71145759"
  },
  {
   "cell_type": "code",
   "execution_count": 7,
   "outputs": [
    {
     "data": {
      "text/plain": "     Admin 2 FIPS Code  ...                  location\n30                 NaN  ...                   0.0,0.0\n89                 NaN  ...  37.85447192,-111.4418764\n202                NaN  ...  37.85447192,-111.4418764\n256                NaN  ...          39.0997,-94.5786\n349                NaN  ...                   0.0,0.0\n\n[5 rows x 7 columns]",
      "text/html": "<div>\n<style scoped>\n    .dataframe tbody tr th:only-of-type {\n        vertical-align: middle;\n    }\n\n    .dataframe tbody tr th {\n        vertical-align: top;\n    }\n\n    .dataframe thead th {\n        text-align: right;\n    }\n</style>\n<table border=\"1\" class=\"dataframe\">\n  <thead>\n    <tr style=\"text-align: right;\">\n      <th></th>\n      <th>Admin 2 FIPS Code</th>\n      <th>Province/State</th>\n      <th>Admin 2 Level (City/County/Borough/Region)</th>\n      <th>Date</th>\n      <th>Total Death</th>\n      <th>Total Confirmed</th>\n      <th>location</th>\n    </tr>\n  </thead>\n  <tbody>\n    <tr>\n      <th>30</th>\n      <td>NaN</td>\n      <td>Michigan</td>\n      <td>Michigan Department of Corrections (MDOC)</td>\n      <td>2020-01-31</td>\n      <td>0</td>\n      <td>0</td>\n      <td>0.0,0.0</td>\n    </tr>\n    <tr>\n      <th>89</th>\n      <td>NaN</td>\n      <td>Utah</td>\n      <td>Southwest Utah</td>\n      <td>2020-01-31</td>\n      <td>0</td>\n      <td>0</td>\n      <td>37.85447192,-111.4418764</td>\n    </tr>\n    <tr>\n      <th>202</th>\n      <td>NaN</td>\n      <td>Utah</td>\n      <td>Southwest Utah</td>\n      <td>2020-02-01</td>\n      <td>0</td>\n      <td>0</td>\n      <td>37.85447192,-111.4418764</td>\n    </tr>\n    <tr>\n      <th>256</th>\n      <td>NaN</td>\n      <td>Missouri</td>\n      <td>Kansas City</td>\n      <td>2020-02-21</td>\n      <td>0</td>\n      <td>0</td>\n      <td>39.0997,-94.5786</td>\n    </tr>\n    <tr>\n      <th>349</th>\n      <td>NaN</td>\n      <td>Michigan</td>\n      <td>Michigan Department of Corrections (MDOC)</td>\n      <td>2020-02-22</td>\n      <td>0</td>\n      <td>0</td>\n      <td>0.0,0.0</td>\n    </tr>\n  </tbody>\n</table>\n</div>"
     },
     "execution_count": 7,
     "metadata": {},
     "output_type": "execute_result"
    }
   ],
   "source": [
    "# show sample null data for each column with null\n",
    "\n",
    "df[df[\"Admin 2 FIPS Code\"].isnull()].head()"
   ],
   "metadata": {
    "collapsed": false,
    "ExecuteTime": {
     "end_time": "2023-10-03T19:17:41.709126Z",
     "start_time": "2023-10-03T19:17:41.679845Z"
    }
   },
   "id": "ea0207f75b74c64d"
  },
  {
   "cell_type": "code",
   "execution_count": 8,
   "outputs": [
    {
     "data": {
      "text/plain": "         Admin 2 FIPS Code  ...                  location\n30                     NaN  ...                   0.0,0.0\n89                     NaN  ...  37.85447192,-111.4418764\n202                    NaN  ...  37.85447192,-111.4418764\n256                    NaN  ...          39.0997,-94.5786\n349                    NaN  ...                   0.0,0.0\n...                    ...  ...                       ...\n3096406                NaN  ...  38.99617072,-110.7013958\n3096478                NaN  ...                   0.0,0.0\n3096540                NaN  ...  41.27116049,-111.9145117\n3097011                NaN  ...  41.52106798,-113.0832816\n3098476                NaN  ...  37.85447192,-111.4418764\n\n[9420 rows x 7 columns]",
      "text/html": "<div>\n<style scoped>\n    .dataframe tbody tr th:only-of-type {\n        vertical-align: middle;\n    }\n\n    .dataframe tbody tr th {\n        vertical-align: top;\n    }\n\n    .dataframe thead th {\n        text-align: right;\n    }\n</style>\n<table border=\"1\" class=\"dataframe\">\n  <thead>\n    <tr style=\"text-align: right;\">\n      <th></th>\n      <th>Admin 2 FIPS Code</th>\n      <th>Province/State</th>\n      <th>Admin 2 Level (City/County/Borough/Region)</th>\n      <th>Date</th>\n      <th>Total Death</th>\n      <th>Total Confirmed</th>\n      <th>location</th>\n    </tr>\n  </thead>\n  <tbody>\n    <tr>\n      <th>30</th>\n      <td>NaN</td>\n      <td>Michigan</td>\n      <td>Michigan Department of Corrections (MDOC)</td>\n      <td>2020-01-31</td>\n      <td>0</td>\n      <td>0</td>\n      <td>0.0,0.0</td>\n    </tr>\n    <tr>\n      <th>89</th>\n      <td>NaN</td>\n      <td>Utah</td>\n      <td>Southwest Utah</td>\n      <td>2020-01-31</td>\n      <td>0</td>\n      <td>0</td>\n      <td>37.85447192,-111.4418764</td>\n    </tr>\n    <tr>\n      <th>202</th>\n      <td>NaN</td>\n      <td>Utah</td>\n      <td>Southwest Utah</td>\n      <td>2020-02-01</td>\n      <td>0</td>\n      <td>0</td>\n      <td>37.85447192,-111.4418764</td>\n    </tr>\n    <tr>\n      <th>256</th>\n      <td>NaN</td>\n      <td>Missouri</td>\n      <td>Kansas City</td>\n      <td>2020-02-21</td>\n      <td>0</td>\n      <td>0</td>\n      <td>39.0997,-94.5786</td>\n    </tr>\n    <tr>\n      <th>349</th>\n      <td>NaN</td>\n      <td>Michigan</td>\n      <td>Michigan Department of Corrections (MDOC)</td>\n      <td>2020-02-22</td>\n      <td>0</td>\n      <td>0</td>\n      <td>0.0,0.0</td>\n    </tr>\n    <tr>\n      <th>...</th>\n      <td>...</td>\n      <td>...</td>\n      <td>...</td>\n      <td>...</td>\n      <td>...</td>\n      <td>...</td>\n      <td>...</td>\n    </tr>\n    <tr>\n      <th>3096406</th>\n      <td>NaN</td>\n      <td>Utah</td>\n      <td>Southeast Utah</td>\n      <td>2022-03-01</td>\n      <td>73</td>\n      <td>9957</td>\n      <td>38.99617072,-110.7013958</td>\n    </tr>\n    <tr>\n      <th>3096478</th>\n      <td>NaN</td>\n      <td>Michigan</td>\n      <td>Federal Correctional Institution (FCI)</td>\n      <td>2022-03-02</td>\n      <td>5</td>\n      <td>324</td>\n      <td>0.0,0.0</td>\n    </tr>\n    <tr>\n      <th>3096540</th>\n      <td>NaN</td>\n      <td>Utah</td>\n      <td>Weber-Morgan</td>\n      <td>2022-03-02</td>\n      <td>416</td>\n      <td>73379</td>\n      <td>41.27116049,-111.9145117</td>\n    </tr>\n    <tr>\n      <th>3097011</th>\n      <td>NaN</td>\n      <td>Utah</td>\n      <td>Bear River</td>\n      <td>2022-03-15</td>\n      <td>236</td>\n      <td>51405</td>\n      <td>41.52106798,-113.0832816</td>\n    </tr>\n    <tr>\n      <th>3098476</th>\n      <td>NaN</td>\n      <td>Utah</td>\n      <td>Southwest Utah</td>\n      <td>2022-02-22</td>\n      <td>585</td>\n      <td>62930</td>\n      <td>37.85447192,-111.4418764</td>\n    </tr>\n  </tbody>\n</table>\n<p>9420 rows × 7 columns</p>\n</div>"
     },
     "execution_count": 8,
     "metadata": {},
     "output_type": "execute_result"
    }
   ],
   "source": [
    "# replace NaN of Admin 2 FIPS Code from location\n",
    "nan_data = df[df[\"Admin 2 FIPS Code\"].isnull()]\n",
    "nan_data"
   ],
   "metadata": {
    "collapsed": false,
    "ExecuteTime": {
     "end_time": "2023-10-03T19:17:42.162391Z",
     "start_time": "2023-10-03T19:17:42.150910Z"
    }
   },
   "id": "29b5a0044d1e0d69"
  },
  {
   "cell_type": "code",
   "execution_count": 10,
   "outputs": [
    {
     "data": {
      "text/plain": "      Admin 2 FIPS Code  ...          location\n174                69.0  ...  15.0979,145.6739\n674             99999.0  ...           0.0,0.0\n1149               66.0  ...  13.4443,144.7937\n1562            88888.0  ...           0.0,0.0\n1899               60.0  ...  -14.271,-170.132\n\n[5 rows x 7 columns]",
      "text/html": "<div>\n<style scoped>\n    .dataframe tbody tr th:only-of-type {\n        vertical-align: middle;\n    }\n\n    .dataframe tbody tr th {\n        vertical-align: top;\n    }\n\n    .dataframe thead th {\n        text-align: right;\n    }\n</style>\n<table border=\"1\" class=\"dataframe\">\n  <thead>\n    <tr style=\"text-align: right;\">\n      <th></th>\n      <th>Admin 2 FIPS Code</th>\n      <th>Province/State</th>\n      <th>Admin 2 Level (City/County/Borough/Region)</th>\n      <th>Date</th>\n      <th>Total Death</th>\n      <th>Total Confirmed</th>\n      <th>location</th>\n    </tr>\n  </thead>\n  <tbody>\n    <tr>\n      <th>174</th>\n      <td>69.0</td>\n      <td>Northern Mariana Islands</td>\n      <td>NaN</td>\n      <td>2020-02-01</td>\n      <td>0</td>\n      <td>0</td>\n      <td>15.0979,145.6739</td>\n    </tr>\n    <tr>\n      <th>674</th>\n      <td>99999.0</td>\n      <td>Grand Princess</td>\n      <td>NaN</td>\n      <td>2020-02-21</td>\n      <td>0</td>\n      <td>0</td>\n      <td>0.0,0.0</td>\n    </tr>\n    <tr>\n      <th>1149</th>\n      <td>66.0</td>\n      <td>Guam</td>\n      <td>NaN</td>\n      <td>2020-06-13</td>\n      <td>5</td>\n      <td>183</td>\n      <td>13.4443,144.7937</td>\n    </tr>\n    <tr>\n      <th>1562</th>\n      <td>88888.0</td>\n      <td>Diamond Princess</td>\n      <td>NaN</td>\n      <td>2020-06-16</td>\n      <td>0</td>\n      <td>49</td>\n      <td>0.0,0.0</td>\n    </tr>\n    <tr>\n      <th>1899</th>\n      <td>60.0</td>\n      <td>American Samoa</td>\n      <td>NaN</td>\n      <td>2020-06-19</td>\n      <td>0</td>\n      <td>0</td>\n      <td>-14.271,-170.132</td>\n    </tr>\n  </tbody>\n</table>\n</div>"
     },
     "execution_count": 10,
     "metadata": {},
     "output_type": "execute_result"
    }
   ],
   "source": [
    "df[df[\"Admin 2 Level (City/County/Borough/Region)\"].isnull()].head()"
   ],
   "metadata": {
    "collapsed": false,
    "ExecuteTime": {
     "end_time": "2023-10-03T19:17:47.159983Z",
     "start_time": "2023-10-03T19:17:47.152520Z"
    }
   },
   "id": "571cd980ac61062e"
  },
  {
   "cell_type": "markdown",
   "source": [
    "\n",
    "# Time series"
   ],
   "metadata": {
    "collapsed": false
   },
   "id": "aa311483aee56f9b"
  },
  {
   "cell_type": "code",
   "execution_count": 11,
   "outputs": [],
   "source": [
    "df[\"Date\"] = pd.to_datetime(df[\"Date\"])"
   ],
   "metadata": {
    "collapsed": false,
    "ExecuteTime": {
     "end_time": "2023-10-03T19:17:48.272061Z",
     "start_time": "2023-10-03T19:17:48.167988Z"
    }
   },
   "id": "d4caa11144e51634"
  },
  {
   "cell_type": "code",
   "execution_count": 12,
   "outputs": [
    {
     "name": "stdout",
     "output_type": "stream",
     "text": [
      "<class 'pandas.core.frame.DataFrame'>\n",
      "RangeIndex: 3099180 entries, 0 to 3099179\n",
      "Data columns (total 7 columns):\n",
      " #   Column                                      Dtype         \n",
      "---  ------                                      -----         \n",
      " 0   Admin 2 FIPS Code                           float64       \n",
      " 1   Province/State                              object        \n",
      " 2   Admin 2 Level (City/County/Borough/Region)  object        \n",
      " 3   Date                                        datetime64[ns]\n",
      " 4   Total Death                                 int64         \n",
      " 5   Total Confirmed                             int64         \n",
      " 6   location                                    object        \n",
      "dtypes: datetime64[ns](1), float64(1), int64(2), object(3)\n",
      "memory usage: 165.5+ MB\n"
     ]
    }
   ],
   "source": [
    "df.info()"
   ],
   "metadata": {
    "collapsed": false,
    "ExecuteTime": {
     "end_time": "2023-10-03T19:17:48.690291Z",
     "start_time": "2023-10-03T19:17:48.685817Z"
    }
   },
   "id": "f2419d96718dc8bb"
  },
  {
   "cell_type": "code",
   "execution_count": 13,
   "outputs": [
    {
     "data": {
      "text/plain": "   Admin 2 FIPS Code Province/State  ... Total Confirmed                  location\n0            12119.0        Florida  ...               0   28.70181754,-82.0794267\n1            13153.0        Georgia  ...               0  32.45802497,-83.66879087\n2            13227.0        Georgia  ...               0  34.46589159,-84.46406611\n3            13303.0        Georgia  ...               0  32.96711864,-82.79357039\n4            16003.0          Idaho  ...               0  44.89333571,-116.4545247\n\n[5 rows x 7 columns]",
      "text/html": "<div>\n<style scoped>\n    .dataframe tbody tr th:only-of-type {\n        vertical-align: middle;\n    }\n\n    .dataframe tbody tr th {\n        vertical-align: top;\n    }\n\n    .dataframe thead th {\n        text-align: right;\n    }\n</style>\n<table border=\"1\" class=\"dataframe\">\n  <thead>\n    <tr style=\"text-align: right;\">\n      <th></th>\n      <th>Admin 2 FIPS Code</th>\n      <th>Province/State</th>\n      <th>Admin 2 Level (City/County/Borough/Region)</th>\n      <th>Date</th>\n      <th>Total Death</th>\n      <th>Total Confirmed</th>\n      <th>location</th>\n    </tr>\n  </thead>\n  <tbody>\n    <tr>\n      <th>0</th>\n      <td>12119.0</td>\n      <td>Florida</td>\n      <td>Sumter</td>\n      <td>2020-01-31</td>\n      <td>0</td>\n      <td>0</td>\n      <td>28.70181754,-82.0794267</td>\n    </tr>\n    <tr>\n      <th>1</th>\n      <td>13153.0</td>\n      <td>Georgia</td>\n      <td>Houston</td>\n      <td>2020-01-31</td>\n      <td>0</td>\n      <td>0</td>\n      <td>32.45802497,-83.66879087</td>\n    </tr>\n    <tr>\n      <th>2</th>\n      <td>13227.0</td>\n      <td>Georgia</td>\n      <td>Pickens</td>\n      <td>2020-01-31</td>\n      <td>0</td>\n      <td>0</td>\n      <td>34.46589159,-84.46406611</td>\n    </tr>\n    <tr>\n      <th>3</th>\n      <td>13303.0</td>\n      <td>Georgia</td>\n      <td>Washington</td>\n      <td>2020-01-31</td>\n      <td>0</td>\n      <td>0</td>\n      <td>32.96711864,-82.79357039</td>\n    </tr>\n    <tr>\n      <th>4</th>\n      <td>16003.0</td>\n      <td>Idaho</td>\n      <td>Adams</td>\n      <td>2020-01-31</td>\n      <td>0</td>\n      <td>0</td>\n      <td>44.89333571,-116.4545247</td>\n    </tr>\n  </tbody>\n</table>\n</div>"
     },
     "execution_count": 13,
     "metadata": {},
     "output_type": "execute_result"
    }
   ],
   "source": [
    "df.head()"
   ],
   "metadata": {
    "collapsed": false,
    "ExecuteTime": {
     "end_time": "2023-10-03T19:17:49.169202Z",
     "start_time": "2023-10-03T19:17:49.163802Z"
    }
   },
   "id": "558c9771fbbc40c7"
  },
  {
   "cell_type": "code",
   "execution_count": 14,
   "outputs": [
    {
     "data": {
      "text/plain": "Timestamp('2020-01-22 00:00:00')"
     },
     "execution_count": 14,
     "metadata": {},
     "output_type": "execute_result"
    }
   ],
   "source": [
    "df[\"Date\"].min()"
   ],
   "metadata": {
    "collapsed": false,
    "ExecuteTime": {
     "end_time": "2023-10-03T19:17:49.583331Z",
     "start_time": "2023-10-03T19:17:49.566167Z"
    }
   },
   "id": "a870f70255e1a9d5"
  },
  {
   "cell_type": "code",
   "execution_count": 15,
   "outputs": [
    {
     "data": {
      "text/plain": "Timestamp('2022-08-20 00:00:00')"
     },
     "execution_count": 15,
     "metadata": {},
     "output_type": "execute_result"
    }
   ],
   "source": [
    "df[\"Date\"].max()"
   ],
   "metadata": {
    "collapsed": false,
    "ExecuteTime": {
     "end_time": "2023-10-03T19:17:49.969461Z",
     "start_time": "2023-10-03T19:17:49.958366Z"
    }
   },
   "id": "b8958bc3c9da60a3"
  },
  {
   "cell_type": "markdown",
   "source": [
    "# 1. How many days of data do we have?"
   ],
   "metadata": {
    "collapsed": false
   },
   "id": "f91f84f976bb6a6b"
  },
  {
   "cell_type": "code",
   "execution_count": 16,
   "outputs": [
    {
     "data": {
      "text/plain": "Timedelta('941 days 00:00:00')"
     },
     "execution_count": 16,
     "metadata": {},
     "output_type": "execute_result"
    }
   ],
   "source": [
    "df[\"Date\"].max() - df[\"Date\"].min()"
   ],
   "metadata": {
    "collapsed": false,
    "ExecuteTime": {
     "end_time": "2023-10-03T19:17:50.702876Z",
     "start_time": "2023-10-03T19:17:50.683483Z"
    }
   },
   "id": "8f6a193259c1162e"
  },
  {
   "cell_type": "markdown",
   "source": [
    "# 2. How many province/state do we have?"
   ],
   "metadata": {
    "collapsed": false
   },
   "id": "157ad83e4c5ca47d"
  },
  {
   "cell_type": "code",
   "execution_count": 17,
   "outputs": [
    {
     "data": {
      "text/plain": "58"
     },
     "execution_count": 17,
     "metadata": {},
     "output_type": "execute_result"
    }
   ],
   "source": [
    "df[\"Province/State\"].nunique()"
   ],
   "metadata": {
    "collapsed": false,
    "ExecuteTime": {
     "end_time": "2023-10-03T19:17:51.485342Z",
     "start_time": "2023-10-03T19:17:51.444967Z"
    }
   },
   "id": "3f41f03b265ccbb4"
  },
  {
   "cell_type": "markdown",
   "source": [
    "# Show the list of province/state"
   ],
   "metadata": {
    "collapsed": false
   },
   "id": "3d6e6bf4420f6020"
  },
  {
   "cell_type": "code",
   "execution_count": 18,
   "outputs": [
    {
     "data": {
      "text/plain": "array(['Florida', 'Georgia', 'Idaho', 'Illinois', 'Indiana', 'Iowa',\n       'Kansas', 'Kentucky', 'Louisiana', 'Maryland', 'Michigan',\n       'Minnesota', 'Mississippi', 'Missouri', 'Montana', 'Nebraska',\n       'New Jersey', 'New Mexico', 'New York', 'North Carolina',\n       'North Dakota', 'Ohio', 'Oklahoma', 'Oregon', 'Pennsylvania',\n       'Puerto Rico', 'South Carolina', 'South Dakota', 'Tennessee',\n       'Texas', 'Utah', 'Virginia', 'West Virginia', 'Wisconsin',\n       'Alabama', 'Alaska', 'Arkansas', 'California', 'Colorado', 'Maine',\n       'Northern Mariana Islands', 'Vermont', 'Washington', 'Wyoming',\n       'Arizona', 'Massachusetts', 'New Hampshire', 'Rhode Island',\n       'Connecticut', 'Grand Princess', 'Hawaii', 'Delaware', 'Nevada',\n       'Guam', 'District of Columbia', 'Diamond Princess',\n       'American Samoa', 'Virgin Islands'], dtype=object)"
     },
     "execution_count": 18,
     "metadata": {},
     "output_type": "execute_result"
    }
   ],
   "source": [
    "df[\"Province/State\"].unique()"
   ],
   "metadata": {
    "collapsed": false,
    "ExecuteTime": {
     "end_time": "2023-10-03T19:17:52.664446Z",
     "start_time": "2023-10-03T19:17:52.627127Z"
    }
   },
   "id": "89b155800e95bba5"
  },
  {
   "cell_type": "markdown",
   "source": [],
   "metadata": {
    "collapsed": false
   },
   "id": "769bb98639c03a91"
  }
 ],
 "metadata": {
  "kernelspec": {
   "display_name": "Python 3",
   "language": "python",
   "name": "python3"
  },
  "language_info": {
   "codemirror_mode": {
    "name": "ipython",
    "version": 2
   },
   "file_extension": ".py",
   "mimetype": "text/x-python",
   "name": "python",
   "nbconvert_exporter": "python",
   "pygments_lexer": "ipython2",
   "version": "2.7.6"
  }
 },
 "nbformat": 4,
 "nbformat_minor": 5
}
