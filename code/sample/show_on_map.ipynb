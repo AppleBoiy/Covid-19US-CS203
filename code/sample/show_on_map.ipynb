{
 "cells": [
  {
   "cell_type": "code",
   "execution_count": 5,
   "id": "182f4ae3576b7d29",
   "metadata": {
    "collapsed": false,
    "ExecuteTime": {
     "end_time": "2023-10-02T08:19:05.728997Z",
     "start_time": "2023-10-02T08:19:05.723838Z"
    }
   },
   "outputs": [],
   "source": [
    "import pandas as pd\n",
    "import folium\n",
    "from directories import Url\n",
    "from src import get_url"
   ]
  },
  {
   "cell_type": "code",
   "execution_count": 6,
   "outputs": [
    {
     "name": "stdout",
     "output_type": "stream",
     "text": [
      "https://drive.google.com/uc?id=1p65YghN0OXOD3Dvd2hgSIfaks2z4h6Td\n"
     ]
    }
   ],
   "source": [
    "url = get_url(Url.VALIDATED.value)\n",
    "print(url)\n",
    "\n",
    "df = pd.read_csv(url)"
   ],
   "metadata": {
    "collapsed": false,
    "ExecuteTime": {
     "end_time": "2023-10-02T08:19:16.644453Z",
     "start_time": "2023-10-02T08:19:16.164634Z"
    }
   },
   "id": "89c32b02437a460c"
  },
  {
   "cell_type": "code",
   "execution_count": 8,
   "id": "a5b4b93f74988e48",
   "metadata": {
    "collapsed": false,
    "ExecuteTime": {
     "end_time": "2023-10-02T08:19:26.074308Z",
     "start_time": "2023-10-02T08:19:26.065348Z"
    }
   },
   "outputs": [
    {
     "data": {
      "text/plain": "Empty DataFrame\nColumns: [<!DOCTYPE html><html><head><title>Google Drive - Virus scan warning</title><meta http-equiv=\"content-type\" content=\"text/html; charset=utf-8\"/><style nonce=\"1ozUzxpoSKr3hGWs9IZhqQ\">.goog-inline-block{position:relative;display:-moz-inline-box;display:inline-block}* html .goog-inline-block{display:inline}*:first-child+html .goog-inline-block{display:inline}.goog-link-button{position:relative;color:#15c;text-decoration:underline;cursor:pointer}.goog-link-button-disabled{color:#ccc;text-decoration:none;cursor:default}body{color:#222;font:normal 13px/1.4 arial, sans-serif;margin:0}.grecaptcha-badge{visibility:hidden}.uc-main{padding-top:50px;text-align:center}#uc-dl-icon{display:inline-block;margin-top:16px;padding-right:1em;vertical-align:top}#uc-text{display:inline-block;max-width:68ex;text-align:left}.uc-error-caption, .uc-warning-caption{color:#222;font-size:16px}#uc-download-link{text-decoration:none}.uc-name-size a{color:#15c;text-decoration:none}.uc-name-size a:visited{color:#61c;text-decoration:none}.uc-name-size a:active{color:#d14836;text-decoration:none}.uc-footer{color:#777;font-size:11px;padding-bottom:5ex;padding-top:5ex;text-align:center}.uc-footer a{color:#15c}.uc-footer a:visited{color:#61c}.uc-footer a:active{color:#d14836}.uc-footer-divider{color:#ccc;width:100%}sentinel{}</style><link rel=\"icon\" href=\"//ssl.gstatic.com/docs/doclist/images/drive_2022q3_32dp.png\"/></head><body><div class=\"uc-main\"><div id=\"uc-dl-icon\" class=\"image-container\"><div class=\"drive-sprite-aux-download-file\"></div></div><div id=\"uc-text\"><p class=\"uc-warning-caption\">Google Drive can't scan this file for viruses.</p><p class=\"uc-warning-subcaption\"><span class=\"uc-name-size\"><a href=\"/open?id=1p65YghN0OXOD3Dvd2hgSIfaks2z4h6Td\">validated.csv</a> (184M)</span> is too large for Google to scan for viruses. Would you still like to download this file?</p><form id=\"download-form\" action=\"https://drive.google.com/uc?id=1p65YghN0OXOD3Dvd2hgSIfaks2z4h6Td&amp;confirm=t&amp;uuid=8a55d477-09b8-4276-9657-57fe7569c8e2\" method=\"post\"><input type=\"submit\" id=\"uc-download-link\" class=\"goog-inline-block jfk-button jfk-button-action\" value=\"Download anyway\"/></form></div></div><div class=\"uc-footer\"><hr class=\"uc-footer-divider\"></div></body></html>]\nIndex: []",
      "text/html": "<div>\n<style scoped>\n    .dataframe tbody tr th:only-of-type {\n        vertical-align: middle;\n    }\n\n    .dataframe tbody tr th {\n        vertical-align: top;\n    }\n\n    .dataframe thead th {\n        text-align: right;\n    }\n</style>\n<table border=\"1\" class=\"dataframe\">\n  <thead>\n    <tr style=\"text-align: right;\">\n      <th></th>\n      <th>&lt;!DOCTYPE html&gt;&lt;html&gt;&lt;head&gt;&lt;title&gt;Google Drive - Virus scan warning&lt;/title&gt;&lt;meta http-equiv=\"content-type\" content=\"text/html; charset=utf-8\"/&gt;&lt;style nonce=\"1ozUzxpoSKr3hGWs9IZhqQ\"&gt;.goog-inline-block{position:relative;display:-moz-inline-box;display:inline-block}* html .goog-inline-block{display:inline}*:first-child+html .goog-inline-block{display:inline}.goog-link-button{position:relative;color:#15c;text-decoration:underline;cursor:pointer}.goog-link-button-disabled{color:#ccc;text-decoration:none;cursor:default}body{color:#222;font:normal 13px/1.4 arial</th>\n      <th>sans-serif;margin:0}.grecaptcha-badge{visibility:hidden}.uc-main{padding-top:50px;text-align:center}#uc-dl-icon{display:inline-block;margin-top:16px;padding-right:1em;vertical-align:top}#uc-text{display:inline-block;max-width:68ex;text-align:left}.uc-error-caption</th>\n      <th>.uc-warning-caption{color:#222;font-size:16px}#uc-download-link{text-decoration:none}.uc-name-size a{color:#15c;text-decoration:none}.uc-name-size a:visited{color:#61c;text-decoration:none}.uc-name-size a:active{color:#d14836;text-decoration:none}.uc-footer{color:#777;font-size:11px;padding-bottom:5ex;padding-top:5ex;text-align:center}.uc-footer a{color:#15c}.uc-footer a:visited{color:#61c}.uc-footer a:active{color:#d14836}.uc-footer-divider{color:#ccc;width:100%}sentinel{}&lt;/style&gt;&lt;link rel=\"icon\" href=\"//ssl.gstatic.com/docs/doclist/images/drive_2022q3_32dp.png\"/&gt;&lt;/head&gt;&lt;body&gt;&lt;div class=\"uc-main\"&gt;&lt;div id=\"uc-dl-icon\" class=\"image-container\"&gt;&lt;div class=\"drive-sprite-aux-download-file\"&gt;&lt;/div&gt;&lt;/div&gt;&lt;div id=\"uc-text\"&gt;&lt;p class=\"uc-warning-caption\"&gt;Google Drive can't scan this file for viruses.&lt;/p&gt;&lt;p class=\"uc-warning-subcaption\"&gt;&lt;span class=\"uc-name-size\"&gt;&lt;a href=\"/open?id=1p65YghN0OXOD3Dvd2hgSIfaks2z4h6Td\"&gt;validated.csv&lt;/a&gt; (184M)&lt;/span&gt; is too large for Google to scan for viruses. Would you still like to download this file?&lt;/p&gt;&lt;form id=\"download-form\" action=\"https://drive.google.com/uc?id=1p65YghN0OXOD3Dvd2hgSIfaks2z4h6Td&amp;amp;confirm=t&amp;amp;uuid=8a55d477-09b8-4276-9657-57fe7569c8e2\" method=\"post\"&gt;&lt;input type=\"submit\" id=\"uc-download-link\" class=\"goog-inline-block jfk-button jfk-button-action\" value=\"Download anyway\"/&gt;&lt;/form&gt;&lt;/div&gt;&lt;/div&gt;&lt;div class=\"uc-footer\"&gt;&lt;hr class=\"uc-footer-divider\"&gt;&lt;/div&gt;&lt;/body&gt;&lt;/html&gt;</th>\n    </tr>\n  </thead>\n  <tbody>\n  </tbody>\n</table>\n</div>"
     },
     "execution_count": 8,
     "metadata": {},
     "output_type": "execute_result"
    }
   ],
   "source": [
    "df"
   ]
  },
  {
   "cell_type": "code",
   "execution_count": 4,
   "id": "6a8a9d26df479a1d",
   "metadata": {
    "collapsed": false,
    "ExecuteTime": {
     "end_time": "2023-10-02T08:18:48.354741Z",
     "start_time": "2023-10-02T08:18:48.344059Z"
    }
   },
   "outputs": [
    {
     "name": "stdout",
     "output_type": "stream",
     "text": [
      "<class 'pandas.core.frame.DataFrame'>\n",
      "Index: 0 entries\n",
      "Data columns (total 3 columns):\n",
      " #   Column                                                                                                                                                                                                                                                                                                                                                                                                                                                                                                                                                                                                                                                                                                                                                                                                                                                                                                                                                                                                                                                                                                                                                                                                                                                                                                                                                                                                                                                                                 Non-Null Count  Dtype \n",
      "---  ------                                                                                                                                                                                                                                                                                                                                                                                                                                                                                                                                                                                                                                                                                                                                                                                                                                                                                                                                                                                                                                                                                                                                                                                                                                                                                                                                                                                                                                                                                 --------------  ----- \n",
      " 0   <!DOCTYPE html><html><head><title>Google Drive - Virus scan warning</title><meta http-equiv=\"content-type\" content=\"text/html; charset=utf-8\"/><style nonce=\"5NFpC1JH2Lv97KSg5ET69Q\">.goog-inline-block{position:relative;display:-moz-inline-box;display:inline-block}* html .goog-inline-block{display:inline}*:first-child+html .goog-inline-block{display:inline}.goog-link-button{position:relative;color:#15c;text-decoration:underline;cursor:pointer}.goog-link-button-disabled{color:#ccc;text-decoration:none;cursor:default}body{color:#222;font:normal 13px/1.4 arial                                                                                                                                                                                                                                                                                                                                                                                                                                                                                                                                                                                                                                                                                                                                                                                                                                                                                                      0 non-null      object\n",
      " 1   sans-serif;margin:0}.grecaptcha-badge{visibility:hidden}.uc-main{padding-top:50px;text-align:center}#uc-dl-icon{display:inline-block;margin-top:16px;padding-right:1em;vertical-align:top}#uc-text{display:inline-block;max-width:68ex;text-align:left}.uc-error-caption                                                                                                                                                                                                                                                                                                                                                                                                                                                                                                                                                                                                                                                                                                                                                                                                                                                                                                                                                                                                                                                                                                                                                                                                               0 non-null      object\n",
      " 2   .uc-warning-caption{color:#222;font-size:16px}#uc-download-link{text-decoration:none}.uc-name-size a{color:#15c;text-decoration:none}.uc-name-size a:visited{color:#61c;text-decoration:none}.uc-name-size a:active{color:#d14836;text-decoration:none}.uc-footer{color:#777;font-size:11px;padding-bottom:5ex;padding-top:5ex;text-align:center}.uc-footer a{color:#15c}.uc-footer a:visited{color:#61c}.uc-footer a:active{color:#d14836}.uc-footer-divider{color:#ccc;width:100%}sentinel{}</style><link rel=\"icon\" href=\"//ssl.gstatic.com/docs/doclist/images/drive_2022q3_32dp.png\"/></head><body><div class=\"uc-main\"><div id=\"uc-dl-icon\" class=\"image-container\"><div class=\"drive-sprite-aux-download-file\"></div></div><div id=\"uc-text\"><p class=\"uc-warning-caption\">Google Drive can't scan this file for viruses.</p><p class=\"uc-warning-subcaption\"><span class=\"uc-name-size\"><a href=\"/open?id=1p65YghN0OXOD3Dvd2hgSIfaks2z4h6Td\">validated.csv</a> (184M)</span> is too large for Google to scan for viruses. Would you still like to download this file?</p><form id=\"download-form\" action=\"https://drive.google.com/uc?id=1p65YghN0OXOD3Dvd2hgSIfaks2z4h6Td&amp;confirm=t&amp;uuid=a85fdca2-f558-475c-9405-21fb4f6a8402\" method=\"post\"><input type=\"submit\" id=\"uc-download-link\" class=\"goog-inline-block jfk-button jfk-button-action\" value=\"Download anyway\"/></form></div></div><div class=\"uc-footer\"><hr class=\"uc-footer-divider\"></div></body></html>  0 non-null      object\n",
      "dtypes: object(3)\n",
      "memory usage: 0.0+ bytes\n"
     ]
    }
   ],
   "source": [
    "df.info()"
   ]
  },
  {
   "cell_type": "markdown",
   "id": "28386ef494057f60",
   "metadata": {
    "collapsed": false
   },
   "source": [
    "# Data Cleaning"
   ]
  },
  {
   "cell_type": "code",
   "execution_count": 5,
   "id": "e8b6669392351a31",
   "metadata": {
    "ExecuteTime": {
     "end_time": "2023-09-22T11:25:10.316548Z",
     "start_time": "2023-09-22T11:25:08.423069Z"
    },
    "collapsed": false
   },
   "outputs": [],
   "source": [
    "# show on a map only if the location is not null\n",
    "df = df[df['location'].notnull()]\n",
    "\n",
    "# convert location to lat and lon\n",
    "df['lat'] = df['location'].apply(lambda x: float(x.split(',')[0]))\n",
    "df['lon'] = df['location'].apply(lambda x: float(x.split(',')[1]))\n",
    "\n",
    "# replace location with lat and lon\n",
    "df.drop('location', axis=1, inplace=True)\n",
    "\n",
    "# convert date to datetime\n",
    "df['Date'] = pd.to_datetime(df['Date'])"
   ]
  },
  {
   "cell_type": "code",
   "execution_count": 6,
   "id": "99cadeb2cb6c1f76",
   "metadata": {
    "ExecuteTime": {
     "end_time": "2023-09-22T11:25:10.326779Z",
     "start_time": "2023-09-22T11:25:10.318802Z"
    },
    "collapsed": false
   },
   "outputs": [
    {
     "data": {
      "text/html": [
       "<div>\n",
       "<style scoped>\n",
       "    .dataframe tbody tr th:only-of-type {\n",
       "        vertical-align: middle;\n",
       "    }\n",
       "\n",
       "    .dataframe tbody tr th {\n",
       "        vertical-align: top;\n",
       "    }\n",
       "\n",
       "    .dataframe thead th {\n",
       "        text-align: right;\n",
       "    }\n",
       "</style>\n",
       "<table border=\"1\" class=\"dataframe\">\n",
       "  <thead>\n",
       "    <tr style=\"text-align: right;\">\n",
       "      <th></th>\n",
       "      <th>Province/State</th>\n",
       "      <th>Admin 2 Level (City/County/Borough/Region)</th>\n",
       "      <th>Date</th>\n",
       "      <th>Total Death</th>\n",
       "      <th>Total Confirmed</th>\n",
       "      <th>lat</th>\n",
       "      <th>lon</th>\n",
       "    </tr>\n",
       "  </thead>\n",
       "  <tbody>\n",
       "    <tr>\n",
       "      <th>0</th>\n",
       "      <td>Florida</td>\n",
       "      <td>Sumter</td>\n",
       "      <td>2020-01-31</td>\n",
       "      <td>0</td>\n",
       "      <td>0</td>\n",
       "      <td>28.701818</td>\n",
       "      <td>-82.079427</td>\n",
       "    </tr>\n",
       "    <tr>\n",
       "      <th>1</th>\n",
       "      <td>Georgia</td>\n",
       "      <td>Houston</td>\n",
       "      <td>2020-01-31</td>\n",
       "      <td>0</td>\n",
       "      <td>0</td>\n",
       "      <td>32.458025</td>\n",
       "      <td>-83.668791</td>\n",
       "    </tr>\n",
       "    <tr>\n",
       "      <th>2</th>\n",
       "      <td>Georgia</td>\n",
       "      <td>Pickens</td>\n",
       "      <td>2020-01-31</td>\n",
       "      <td>0</td>\n",
       "      <td>0</td>\n",
       "      <td>34.465892</td>\n",
       "      <td>-84.464066</td>\n",
       "    </tr>\n",
       "    <tr>\n",
       "      <th>3</th>\n",
       "      <td>Georgia</td>\n",
       "      <td>Washington</td>\n",
       "      <td>2020-01-31</td>\n",
       "      <td>0</td>\n",
       "      <td>0</td>\n",
       "      <td>32.967119</td>\n",
       "      <td>-82.793570</td>\n",
       "    </tr>\n",
       "    <tr>\n",
       "      <th>4</th>\n",
       "      <td>Idaho</td>\n",
       "      <td>Adams</td>\n",
       "      <td>2020-01-31</td>\n",
       "      <td>0</td>\n",
       "      <td>0</td>\n",
       "      <td>44.893336</td>\n",
       "      <td>-116.454525</td>\n",
       "    </tr>\n",
       "  </tbody>\n",
       "</table>\n",
       "</div>"
      ],
      "text/plain": [
       "  Province/State Admin 2 Level (City/County/Borough/Region)       Date  \\\n",
       "0        Florida                                     Sumter 2020-01-31   \n",
       "1        Georgia                                    Houston 2020-01-31   \n",
       "2        Georgia                                    Pickens 2020-01-31   \n",
       "3        Georgia                                 Washington 2020-01-31   \n",
       "4          Idaho                                      Adams 2020-01-31   \n",
       "\n",
       "   Total Death  Total Confirmed        lat         lon  \n",
       "0            0                0  28.701818  -82.079427  \n",
       "1            0                0  32.458025  -83.668791  \n",
       "2            0                0  34.465892  -84.464066  \n",
       "3            0                0  32.967119  -82.793570  \n",
       "4            0                0  44.893336 -116.454525  "
      ]
     },
     "execution_count": 6,
     "metadata": {},
     "output_type": "execute_result"
    }
   ],
   "source": [
    "df.head()"
   ]
  },
  {
   "cell_type": "code",
   "execution_count": 7,
   "id": "2137ee1a29218e09",
   "metadata": {
    "ExecuteTime": {
     "end_time": "2023-09-22T11:25:52.052558Z",
     "start_time": "2023-09-22T11:25:10.329377Z"
    },
    "collapsed": false
   },
   "outputs": [
    {
     "ename": "KeyboardInterrupt",
     "evalue": "",
     "output_type": "error",
     "traceback": [
      "\u001B[0;31m---------------------------------------------------------------------------\u001B[0m",
      "\u001B[0;31mKeyboardInterrupt\u001B[0m                         Traceback (most recent call last)",
      "\u001B[1;32m/mnt/c/Users/skjav/OneDrive/เดสก์ท็อป/2st/203/HW11/HW11_1/Covid-19US-CS203/Covid-19US-CS203/code/show_on_map.ipynb Cell 8\u001B[0m line \u001B[0;36m4\n\u001B[1;32m      <a href='vscode-notebook-cell://wsl%2Bubuntu-20.04/mnt/c/Users/skjav/OneDrive/%E0%B9%80%E0%B8%94%E0%B8%AA%E0%B8%81%E0%B9%8C%E0%B8%97%E0%B9%87%E0%B8%AD%E0%B8%9B/2st/203/HW11/HW11_1/Covid-19US-CS203/Covid-19US-CS203/code/show_on_map.ipynb#X10sdnNjb2RlLXJlbW90ZQ%3D%3D?line=0'>1</a>\u001B[0m \u001B[39m# Create a folium map centered at an initial location\u001B[39;00m\n\u001B[1;32m      <a href='vscode-notebook-cell://wsl%2Bubuntu-20.04/mnt/c/Users/skjav/OneDrive/%E0%B9%80%E0%B8%94%E0%B8%AA%E0%B8%81%E0%B9%8C%E0%B8%97%E0%B9%87%E0%B8%AD%E0%B8%9B/2st/203/HW11/HW11_1/Covid-19US-CS203/Covid-19US-CS203/code/show_on_map.ipynb#X10sdnNjb2RlLXJlbW90ZQ%3D%3D?line=1'>2</a>\u001B[0m m \u001B[39m=\u001B[39m folium\u001B[39m.\u001B[39mMap(location\u001B[39m=\u001B[39m[\u001B[39m32.45802497\u001B[39m, \u001B[39m-\u001B[39m\u001B[39m83.66879087\u001B[39m], zoom_start\u001B[39m=\u001B[39m\u001B[39m6\u001B[39m)\n\u001B[0;32m----> <a href='vscode-notebook-cell://wsl%2Bubuntu-20.04/mnt/c/Users/skjav/OneDrive/%E0%B9%80%E0%B8%94%E0%B8%AA%E0%B8%81%E0%B9%8C%E0%B8%97%E0%B9%87%E0%B8%AD%E0%B8%9B/2st/203/HW11/HW11_1/Covid-19US-CS203/Covid-19US-CS203/code/show_on_map.ipynb#X10sdnNjb2RlLXJlbW90ZQ%3D%3D?line=3'>4</a>\u001B[0m heatmap_data \u001B[39m=\u001B[39m [[row[\u001B[39m'\u001B[39m\u001B[39mlat\u001B[39m\u001B[39m'\u001B[39m],row[\u001B[39m'\u001B[39m\u001B[39mlon\u001B[39m\u001B[39m'\u001B[39m]] \u001B[39mfor\u001B[39;00m index, row \u001B[39min\u001B[39;00m df\u001B[39m.\u001B[39miterrows()]\n\u001B[1;32m      <a href='vscode-notebook-cell://wsl%2Bubuntu-20.04/mnt/c/Users/skjav/OneDrive/%E0%B9%80%E0%B8%94%E0%B8%AA%E0%B8%81%E0%B9%8C%E0%B8%97%E0%B9%87%E0%B8%AD%E0%B8%9B/2st/203/HW11/HW11_1/Covid-19US-CS203/Covid-19US-CS203/code/show_on_map.ipynb#X10sdnNjb2RlLXJlbW90ZQ%3D%3D?line=5'>6</a>\u001B[0m \u001B[39m# Plot it on the map\u001B[39;00m\n\u001B[1;32m      <a href='vscode-notebook-cell://wsl%2Bubuntu-20.04/mnt/c/Users/skjav/OneDrive/%E0%B9%80%E0%B8%94%E0%B8%AA%E0%B8%81%E0%B9%8C%E0%B8%97%E0%B9%87%E0%B8%AD%E0%B8%9B/2st/203/HW11/HW11_1/Covid-19US-CS203/Covid-19US-CS203/code/show_on_map.ipynb#X10sdnNjb2RlLXJlbW90ZQ%3D%3D?line=6'>7</a>\u001B[0m \u001B[39mfrom\u001B[39;00m \u001B[39mfolium\u001B[39;00m\u001B[39m.\u001B[39;00m\u001B[39mplugins\u001B[39;00m \u001B[39mimport\u001B[39;00m HeatMap\n",
      "\u001B[1;32m/mnt/c/Users/skjav/OneDrive/เดสก์ท็อป/2st/203/HW11/HW11_1/Covid-19US-CS203/Covid-19US-CS203/code/show_on_map.ipynb Cell 8\u001B[0m line \u001B[0;36m4\n\u001B[1;32m      <a href='vscode-notebook-cell://wsl%2Bubuntu-20.04/mnt/c/Users/skjav/OneDrive/%E0%B9%80%E0%B8%94%E0%B8%AA%E0%B8%81%E0%B9%8C%E0%B8%97%E0%B9%87%E0%B8%AD%E0%B8%9B/2st/203/HW11/HW11_1/Covid-19US-CS203/Covid-19US-CS203/code/show_on_map.ipynb#X10sdnNjb2RlLXJlbW90ZQ%3D%3D?line=0'>1</a>\u001B[0m \u001B[39m# Create a folium map centered at an initial location\u001B[39;00m\n\u001B[1;32m      <a href='vscode-notebook-cell://wsl%2Bubuntu-20.04/mnt/c/Users/skjav/OneDrive/%E0%B9%80%E0%B8%94%E0%B8%AA%E0%B8%81%E0%B9%8C%E0%B8%97%E0%B9%87%E0%B8%AD%E0%B8%9B/2st/203/HW11/HW11_1/Covid-19US-CS203/Covid-19US-CS203/code/show_on_map.ipynb#X10sdnNjb2RlLXJlbW90ZQ%3D%3D?line=1'>2</a>\u001B[0m m \u001B[39m=\u001B[39m folium\u001B[39m.\u001B[39mMap(location\u001B[39m=\u001B[39m[\u001B[39m32.45802497\u001B[39m, \u001B[39m-\u001B[39m\u001B[39m83.66879087\u001B[39m], zoom_start\u001B[39m=\u001B[39m\u001B[39m6\u001B[39m)\n\u001B[0;32m----> <a href='vscode-notebook-cell://wsl%2Bubuntu-20.04/mnt/c/Users/skjav/OneDrive/%E0%B9%80%E0%B8%94%E0%B8%AA%E0%B8%81%E0%B9%8C%E0%B8%97%E0%B9%87%E0%B8%AD%E0%B8%9B/2st/203/HW11/HW11_1/Covid-19US-CS203/Covid-19US-CS203/code/show_on_map.ipynb#X10sdnNjb2RlLXJlbW90ZQ%3D%3D?line=3'>4</a>\u001B[0m heatmap_data \u001B[39m=\u001B[39m [[row[\u001B[39m'\u001B[39m\u001B[39mlat\u001B[39m\u001B[39m'\u001B[39m],row[\u001B[39m'\u001B[39m\u001B[39mlon\u001B[39m\u001B[39m'\u001B[39m]] \u001B[39mfor\u001B[39;00m index, row \u001B[39min\u001B[39;00m df\u001B[39m.\u001B[39miterrows()]\n\u001B[1;32m      <a href='vscode-notebook-cell://wsl%2Bubuntu-20.04/mnt/c/Users/skjav/OneDrive/%E0%B9%80%E0%B8%94%E0%B8%AA%E0%B8%81%E0%B9%8C%E0%B8%97%E0%B9%87%E0%B8%AD%E0%B8%9B/2st/203/HW11/HW11_1/Covid-19US-CS203/Covid-19US-CS203/code/show_on_map.ipynb#X10sdnNjb2RlLXJlbW90ZQ%3D%3D?line=5'>6</a>\u001B[0m \u001B[39m# Plot it on the map\u001B[39;00m\n\u001B[1;32m      <a href='vscode-notebook-cell://wsl%2Bubuntu-20.04/mnt/c/Users/skjav/OneDrive/%E0%B9%80%E0%B8%94%E0%B8%AA%E0%B8%81%E0%B9%8C%E0%B8%97%E0%B9%87%E0%B8%AD%E0%B8%9B/2st/203/HW11/HW11_1/Covid-19US-CS203/Covid-19US-CS203/code/show_on_map.ipynb#X10sdnNjb2RlLXJlbW90ZQ%3D%3D?line=6'>7</a>\u001B[0m \u001B[39mfrom\u001B[39;00m \u001B[39mfolium\u001B[39;00m\u001B[39m.\u001B[39;00m\u001B[39mplugins\u001B[39;00m \u001B[39mimport\u001B[39;00m HeatMap\n",
      "File \u001B[0;32m~/.local/lib/python3.8/site-packages/pandas/core/frame.py:1411\u001B[0m, in \u001B[0;36mDataFrame.iterrows\u001B[0;34m(self)\u001B[0m\n\u001B[1;32m   1409\u001B[0m klass \u001B[39m=\u001B[39m \u001B[39mself\u001B[39m\u001B[39m.\u001B[39m_constructor_sliced\n\u001B[1;32m   1410\u001B[0m \u001B[39mfor\u001B[39;00m k, v \u001B[39min\u001B[39;00m \u001B[39mzip\u001B[39m(\u001B[39mself\u001B[39m\u001B[39m.\u001B[39mindex, \u001B[39mself\u001B[39m\u001B[39m.\u001B[39mvalues):\n\u001B[0;32m-> 1411\u001B[0m     s \u001B[39m=\u001B[39m klass(v, index\u001B[39m=\u001B[39;49mcolumns, name\u001B[39m=\u001B[39;49mk)\u001B[39m.\u001B[39m__finalize__(\u001B[39mself\u001B[39m)\n\u001B[1;32m   1412\u001B[0m     \u001B[39myield\u001B[39;00m k, s\n",
      "File \u001B[0;32m~/.local/lib/python3.8/site-packages/pandas/core/series.py:483\u001B[0m, in \u001B[0;36mSeries.__init__\u001B[0;34m(self, data, index, dtype, name, copy, fastpath)\u001B[0m\n\u001B[1;32m    481\u001B[0m     \u001B[39mobject\u001B[39m\u001B[39m.\u001B[39m\u001B[39m__setattr__\u001B[39m(\u001B[39mself\u001B[39m, \u001B[39m\"\u001B[39m\u001B[39m_name\u001B[39m\u001B[39m\"\u001B[39m, name)\n\u001B[1;32m    482\u001B[0m \u001B[39melse\u001B[39;00m:\n\u001B[0;32m--> 483\u001B[0m     \u001B[39mself\u001B[39;49m\u001B[39m.\u001B[39;49mname \u001B[39m=\u001B[39m name\n\u001B[1;32m    484\u001B[0m     \u001B[39mself\u001B[39m\u001B[39m.\u001B[39m_set_axis(\u001B[39m0\u001B[39m, index)\n",
      "File \u001B[0;32m~/.local/lib/python3.8/site-packages/pandas/core/generic.py:5924\u001B[0m, in \u001B[0;36mNDFrame.__setattr__\u001B[0;34m(self, name, value)\u001B[0m\n\u001B[1;32m   5922\u001B[0m     \u001B[39mobject\u001B[39m\u001B[39m.\u001B[39m\u001B[39m__setattr__\u001B[39m(\u001B[39mself\u001B[39m, name, value)\n\u001B[1;32m   5923\u001B[0m \u001B[39melif\u001B[39;00m name \u001B[39min\u001B[39;00m \u001B[39mself\u001B[39m\u001B[39m.\u001B[39m_metadata:\n\u001B[0;32m-> 5924\u001B[0m     \u001B[39mobject\u001B[39;49m\u001B[39m.\u001B[39;49m\u001B[39m__setattr__\u001B[39;49m(\u001B[39mself\u001B[39;49m, name, value)\n\u001B[1;32m   5925\u001B[0m \u001B[39melse\u001B[39;00m:\n\u001B[1;32m   5926\u001B[0m     \u001B[39mtry\u001B[39;00m:\n",
      "File \u001B[0;32m~/.local/lib/python3.8/site-packages/pandas/core/series.py:663\u001B[0m, in \u001B[0;36mSeries.name\u001B[0;34m(self, value)\u001B[0m\n\u001B[1;32m    661\u001B[0m \u001B[39m@name\u001B[39m\u001B[39m.\u001B[39msetter\n\u001B[1;32m    662\u001B[0m \u001B[39mdef\u001B[39;00m \u001B[39mname\u001B[39m(\u001B[39mself\u001B[39m, value: Hashable) \u001B[39m-\u001B[39m\u001B[39m>\u001B[39m \u001B[39mNone\u001B[39;00m:\n\u001B[0;32m--> 663\u001B[0m     validate_all_hashable(value, error_name\u001B[39m=\u001B[39;49m\u001B[39mf\u001B[39;49m\u001B[39m\"\u001B[39;49m\u001B[39m{\u001B[39;49;00m\u001B[39mtype\u001B[39;49m(\u001B[39mself\u001B[39;49m)\u001B[39m.\u001B[39;49m\u001B[39m__name__\u001B[39;49m\u001B[39m}\u001B[39;49;00m\u001B[39m.name\u001B[39;49m\u001B[39m\"\u001B[39;49m)\n\u001B[1;32m    664\u001B[0m     \u001B[39mobject\u001B[39m\u001B[39m.\u001B[39m\u001B[39m__setattr__\u001B[39m(\u001B[39mself\u001B[39m, \u001B[39m\"\u001B[39m\u001B[39m_name\u001B[39m\u001B[39m\"\u001B[39m, value)\n",
      "File \u001B[0;32m~/.local/lib/python3.8/site-packages/pandas/core/dtypes/common.py:1725\u001B[0m, in \u001B[0;36mvalidate_all_hashable\u001B[0;34m(error_name, *args)\u001B[0m\n\u001B[1;32m   1718\u001B[0m     \u001B[39mif\u001B[39;00m typ \u001B[39mnot\u001B[39;00m \u001B[39min\u001B[39;00m [\u001B[39m\"\u001B[39m\u001B[39mgeneric\u001B[39m\u001B[39m\"\u001B[39m, \u001B[39m\"\u001B[39m\u001B[39mns\u001B[39m\u001B[39m\"\u001B[39m]:\n\u001B[1;32m   1719\u001B[0m         \u001B[39mraise\u001B[39;00m \u001B[39mValueError\u001B[39;00m(\n\u001B[1;32m   1720\u001B[0m             \u001B[39mf\u001B[39m\u001B[39m\"\u001B[39m\u001B[39m{\u001B[39;00m\u001B[39mrepr\u001B[39m(dtype\u001B[39m.\u001B[39mname)\u001B[39m}\u001B[39;00m\u001B[39m is too specific of a frequency, \u001B[39m\u001B[39m\"\u001B[39m\n\u001B[1;32m   1721\u001B[0m             \u001B[39mf\u001B[39m\u001B[39m\"\u001B[39m\u001B[39mtry passing \u001B[39m\u001B[39m{\u001B[39;00m\u001B[39mrepr\u001B[39m(dtype\u001B[39m.\u001B[39mtype\u001B[39m.\u001B[39m\u001B[39m__name__\u001B[39m)\u001B[39m}\u001B[39;00m\u001B[39m\"\u001B[39m\n\u001B[1;32m   1722\u001B[0m         )\n\u001B[0;32m-> 1725\u001B[0m \u001B[39mdef\u001B[39;00m \u001B[39mvalidate_all_hashable\u001B[39m(\u001B[39m*\u001B[39margs, error_name: \u001B[39mstr\u001B[39m \u001B[39m|\u001B[39m \u001B[39mNone\u001B[39;00m \u001B[39m=\u001B[39m \u001B[39mNone\u001B[39;00m) \u001B[39m-\u001B[39m\u001B[39m>\u001B[39m \u001B[39mNone\u001B[39;00m:\n\u001B[1;32m   1726\u001B[0m \u001B[39m    \u001B[39m\u001B[39m\"\"\"\u001B[39;00m\n\u001B[1;32m   1727\u001B[0m \u001B[39m    Return None if all args are hashable, else raise a TypeError.\u001B[39;00m\n\u001B[1;32m   1728\u001B[0m \n\u001B[0;32m   (...)\u001B[0m\n\u001B[1;32m   1742\u001B[0m \u001B[39m    None\u001B[39;00m\n\u001B[1;32m   1743\u001B[0m \u001B[39m    \"\"\"\u001B[39;00m\n\u001B[1;32m   1744\u001B[0m     \u001B[39mif\u001B[39;00m \u001B[39mnot\u001B[39;00m \u001B[39mall\u001B[39m(is_hashable(arg) \u001B[39mfor\u001B[39;00m arg \u001B[39min\u001B[39;00m args):\n",
      "\u001B[0;31mKeyboardInterrupt\u001B[0m: "
     ]
    }
   ],
   "source": [
    "# Create a folium map centered at an initial location\n",
    "m = folium.Map(location=[32.45802497, -83.66879087], zoom_start=6)\n",
    "\n",
    "heatmap_data = [[row['lat'],row['lon']] for index, row in df.iterrows()]\n",
    "\n",
    "# Plot it on the map\n",
    "from folium.plugins import HeatMap\n",
    "HeatMap(heatmap_data).add_to(m)\n"
   ]
  },
  {
   "cell_type": "code",
   "execution_count": null,
   "id": "4b928d17d9092220",
   "metadata": {
    "ExecuteTime": {
     "end_time": "2023-09-22T11:25:52.277339Z",
     "start_time": "2023-09-22T11:25:52.054110Z"
    },
    "collapsed": false
   },
   "outputs": [],
   "source": [
    "from src.plotter import display_heatmap"
   ]
  },
  {
   "cell_type": "markdown",
   "id": "b52d2d0d",
   "metadata": {},
   "source": []
  },
  {
   "cell_type": "code",
   "execution_count": null,
   "id": "f5fa4c290bf22eec",
   "metadata": {
    "ExecuteTime": {
     "end_time": "2023-09-22T11:25:52.433257Z",
     "start_time": "2023-09-22T11:25:52.279301Z"
    },
    "collapsed": false
   },
   "outputs": [
    {
     "data": {
      "text/html": [
       "<div style=\"width:100%;\"><div style=\"position:relative;width:100%;height:0;padding-bottom:60%;\"><span style=\"color:#565656\">Make this Notebook Trusted to load map: File -> Trust Notebook</span><iframe srcdoc=\"&lt;!DOCTYPE html&gt;\n",
       "&lt;html&gt;\n",
       "&lt;head&gt;\n",
       "    \n",
       "    &lt;meta http-equiv=&quot;content-type&quot; content=&quot;text/html; charset=UTF-8&quot; /&gt;\n",
       "    \n",
       "        &lt;script&gt;\n",
       "            L_NO_TOUCH = false;\n",
       "            L_DISABLE_3D = false;\n",
       "        &lt;/script&gt;\n",
       "    \n",
       "    &lt;style&gt;html, body {width: 100%;height: 100%;margin: 0;padding: 0;}&lt;/style&gt;\n",
       "    &lt;style&gt;#map {position:absolute;top:0;bottom:0;right:0;left:0;}&lt;/style&gt;\n",
       "    &lt;script src=&quot;https://cdn.jsdelivr.net/npm/leaflet@1.9.3/dist/leaflet.js&quot;&gt;&lt;/script&gt;\n",
       "    &lt;script src=&quot;https://code.jquery.com/jquery-1.12.4.min.js&quot;&gt;&lt;/script&gt;\n",
       "    &lt;script src=&quot;https://cdn.jsdelivr.net/npm/bootstrap@5.2.2/dist/js/bootstrap.bundle.min.js&quot;&gt;&lt;/script&gt;\n",
       "    &lt;script src=&quot;https://cdnjs.cloudflare.com/ajax/libs/Leaflet.awesome-markers/2.0.2/leaflet.awesome-markers.js&quot;&gt;&lt;/script&gt;\n",
       "    &lt;link rel=&quot;stylesheet&quot; href=&quot;https://cdn.jsdelivr.net/npm/leaflet@1.9.3/dist/leaflet.css&quot;/&gt;\n",
       "    &lt;link rel=&quot;stylesheet&quot; href=&quot;https://cdn.jsdelivr.net/npm/bootstrap@5.2.2/dist/css/bootstrap.min.css&quot;/&gt;\n",
       "    &lt;link rel=&quot;stylesheet&quot; href=&quot;https://netdna.bootstrapcdn.com/bootstrap/3.0.0/css/bootstrap.min.css&quot;/&gt;\n",
       "    &lt;link rel=&quot;stylesheet&quot; href=&quot;https://cdn.jsdelivr.net/npm/@fortawesome/fontawesome-free@6.2.0/css/all.min.css&quot;/&gt;\n",
       "    &lt;link rel=&quot;stylesheet&quot; href=&quot;https://cdnjs.cloudflare.com/ajax/libs/Leaflet.awesome-markers/2.0.2/leaflet.awesome-markers.css&quot;/&gt;\n",
       "    &lt;link rel=&quot;stylesheet&quot; href=&quot;https://cdn.jsdelivr.net/gh/python-visualization/folium/folium/templates/leaflet.awesome.rotate.min.css&quot;/&gt;\n",
       "    \n",
       "            &lt;meta name=&quot;viewport&quot; content=&quot;width=device-width,\n",
       "                initial-scale=1.0, maximum-scale=1.0, user-scalable=no&quot; /&gt;\n",
       "            &lt;style&gt;\n",
       "                #map_23fd3281b3d7868c7ad3cf97e645eac5 {\n",
       "                    position: relative;\n",
       "                    width: 100.0%;\n",
       "                    height: 100.0%;\n",
       "                    left: 0.0%;\n",
       "                    top: 0.0%;\n",
       "                }\n",
       "                .leaflet-container { font-size: 1rem; }\n",
       "            &lt;/style&gt;\n",
       "        \n",
       "&lt;/head&gt;\n",
       "&lt;body&gt;\n",
       "    \n",
       "    \n",
       "            &lt;div class=&quot;folium-map&quot; id=&quot;map_23fd3281b3d7868c7ad3cf97e645eac5&quot; &gt;&lt;/div&gt;\n",
       "        \n",
       "&lt;/body&gt;\n",
       "&lt;script&gt;\n",
       "    \n",
       "    \n",
       "            var map_23fd3281b3d7868c7ad3cf97e645eac5 = L.map(\n",
       "                &quot;map_23fd3281b3d7868c7ad3cf97e645eac5&quot;,\n",
       "                {\n",
       "                    center: [28.70181754, -82.0794267],\n",
       "                    crs: L.CRS.EPSG3857,\n",
       "                    zoom: 6,\n",
       "                    zoomControl: true,\n",
       "                    preferCanvas: false,\n",
       "                }\n",
       "            );\n",
       "\n",
       "            \n",
       "\n",
       "        \n",
       "    \n",
       "            var tile_layer_14d67041d15dafd54f7378ae8cf7fe5c = L.tileLayer(\n",
       "                &quot;https://{s}.tile.openstreetmap.org/{z}/{x}/{y}.png&quot;,\n",
       "                {&quot;attribution&quot;: &quot;Data by \\u0026copy; \\u003ca target=\\&quot;_blank\\&quot; href=\\&quot;http://openstreetmap.org\\&quot;\\u003eOpenStreetMap\\u003c/a\\u003e, under \\u003ca target=\\&quot;_blank\\&quot; href=\\&quot;http://www.openstreetmap.org/copyright\\&quot;\\u003eODbL\\u003c/a\\u003e.&quot;, &quot;detectRetina&quot;: false, &quot;maxNativeZoom&quot;: 18, &quot;maxZoom&quot;: 18, &quot;minZoom&quot;: 0, &quot;noWrap&quot;: false, &quot;opacity&quot;: 1, &quot;subdomains&quot;: &quot;abc&quot;, &quot;tms&quot;: false}\n",
       "            ).addTo(map_23fd3281b3d7868c7ad3cf97e645eac5);\n",
       "        \n",
       "    \n",
       "            var circle_marker_ba6c372781c53e12a1f93868dd7d9027 = L.circleMarker(\n",
       "                [28.70181754, -82.0794267],\n",
       "                {&quot;bubblingMouseEvents&quot;: true, &quot;color&quot;: &quot;red&quot;, &quot;dashArray&quot;: null, &quot;dashOffset&quot;: null, &quot;fill&quot;: true, &quot;fillColor&quot;: &quot;red&quot;, &quot;fillOpacity&quot;: 0.6, &quot;fillRule&quot;: &quot;evenodd&quot;, &quot;lineCap&quot;: &quot;round&quot;, &quot;lineJoin&quot;: &quot;round&quot;, &quot;opacity&quot;: 1.0, &quot;stroke&quot;: true, &quot;weight&quot;: 3}\n",
       "            ).addTo(map_23fd3281b3d7868c7ad3cf97e645eac5);\n",
       "        \n",
       "    \n",
       "        var popup_14c245502979f6a94f9dd6ca7be4a946 = L.popup({&quot;maxWidth&quot;: &quot;100%&quot;});\n",
       "\n",
       "        \n",
       "            \n",
       "                var html_c06e70416cfd68d2cc74ec30fb0488ba = $(`&lt;div id=&quot;html_c06e70416cfd68d2cc74ec30fb0488ba&quot; style=&quot;width: 100.0%; height: 100.0%;&quot;&gt;State: Florida&lt;br&gt;Death Ratio: 0.00&lt;/div&gt;`)[0];\n",
       "                popup_14c245502979f6a94f9dd6ca7be4a946.setContent(html_c06e70416cfd68d2cc74ec30fb0488ba);\n",
       "            \n",
       "        \n",
       "\n",
       "        circle_marker_ba6c372781c53e12a1f93868dd7d9027.bindPopup(popup_14c245502979f6a94f9dd6ca7be4a946)\n",
       "        ;\n",
       "\n",
       "        \n",
       "    \n",
       "&lt;/script&gt;\n",
       "&lt;/html&gt;\" style=\"position:absolute;width:100%;height:100%;left:0;top:0;border:none !important;\" allowfullscreen webkitallowfullscreen mozallowfullscreen></iframe></div></div>"
      ],
      "text/plain": [
       "<folium.folium.Map at 0x281030c50>"
      ]
     },
     "execution_count": 10,
     "metadata": {},
     "output_type": "execute_result"
    }
   ],
   "source": [
    "state = 'Florida'\n",
    "display_heatmap(df, state)"
   ]
  },
  {
   "cell_type": "code",
   "execution_count": null,
   "id": "d068260fed462561",
   "metadata": {
    "ExecuteTime": {
     "end_time": "2023-09-22T11:25:52.433518Z",
     "start_time": "2023-09-22T11:25:52.428791Z"
    },
    "collapsed": false
   },
   "outputs": [],
   "source": []
  }
 ],
 "metadata": {
  "kernelspec": {
   "display_name": "Python 3",
   "language": "python",
   "name": "python3"
  },
  "language_info": {
   "codemirror_mode": {
    "name": "ipython",
    "version": 3
   },
   "file_extension": ".py",
   "mimetype": "text/x-python",
   "name": "python",
   "nbconvert_exporter": "python",
   "pygments_lexer": "ipython3",
   "version": "3.8.10"
  }
 },
 "nbformat": 4,
 "nbformat_minor": 5
}
