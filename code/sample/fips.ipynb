{
 "cells": [
  {
   "cell_type": "code",
   "execution_count": 1,
   "outputs": [],
   "source": [
    "from src import create_fips_csv\n",
    "\n",
    "df = create_fips_csv(return_df=True)"
   ],
   "metadata": {
    "collapsed": false,
    "ExecuteTime": {
     "end_time": "2023-10-02T08:25:38.626813Z",
     "start_time": "2023-10-02T08:25:34.413831Z"
    }
   },
   "id": "843f806706b73ae"
  },
  {
   "cell_type": "code",
   "execution_count": 2,
   "outputs": [
    {
     "data": {
      "text/plain": "{'plus_code': {'compound_code': '3MXF+5H2 Agingan, Saipan, CNMI',\n  'global_code': '7R773MXF+5H2'},\n 'results': [{'address_components': [{'long_name': '3MXF+5H',\n     'short_name': '3MXF+5H',\n     'types': ['plus_code']},\n    {'long_name': 'Agingan',\n     'short_name': 'Agingan',\n     'types': ['locality', 'political']},\n    {'long_name': 'Saipan',\n     'short_name': 'Saipan',\n     'types': ['administrative_area_level_1', 'political']},\n    {'long_name': 'Northern Mariana Islands',\n     'short_name': 'MP',\n     'types': ['country', 'political']},\n    {'long_name': '96950', 'short_name': '96950', 'types': ['postal_code']}],\n   'formatted_address': '3MXF+5H Agingan, Saipan, CNMI',\n   'geometry': {'bounds': {'northeast': {'lat': 15.098, 'lng': 145.674},\n     'southwest': {'lat': 15.097875, 'lng': 145.673875}},\n    'location': {'lat': 15.0979, 'lng': 145.6739},\n    'location_type': 'GEOMETRIC_CENTER',\n    'viewport': {'northeast': {'lat': 15.0992864802915,\n      'lng': 145.6752864802915},\n     'southwest': {'lat': 15.0965885197085, 'lng': 145.6725885197085}}},\n   'place_id': 'GhIJio7k8h8yLkARyJi7lpA1YkA',\n   'plus_code': {'compound_code': '3MXF+5H Agingan, Saipan, CNMI',\n    'global_code': '7R773MXF+5H'},\n   'types': ['plus_code']},\n  {'address_components': [{'long_name': 'Northern Mariana Islands',\n     'short_name': 'MP',\n     'types': ['country', 'political']}],\n   'formatted_address': 'Northern Mariana Islands',\n   'geometry': {'bounds': {'northeast': {'lat': 20.6584862,\n      'lng': 146.2060546},\n     'southwest': {'lat': 13.9713848, 'lng': 144.7668457}},\n    'location': {'lat': 15.0979, 'lng': 145.6739},\n    'location_type': 'APPROXIMATE',\n    'viewport': {'northeast': {'lat': 20.6584862, 'lng': 146.2060546},\n     'southwest': {'lat': 13.9713848, 'lng': 144.7668457}}},\n   'place_id': 'ChIJUVyZkDSx2GYRMg46fKvrt50',\n   'types': ['country', 'political']}],\n 'status': 'OK'}"
     },
     "execution_count": 2,
     "metadata": {},
     "output_type": "execute_result"
    }
   ],
   "source": [
    "from src.api import geo_admin_lookup\n",
    "\n",
    "pos = (15.0979, 145.6739)\n",
    "geo_admin_lookup.get_response(*pos)"
   ],
   "metadata": {
    "collapsed": false,
    "ExecuteTime": {
     "end_time": "2023-10-02T08:25:42.002426Z",
     "start_time": "2023-10-02T08:25:41.761353Z"
    }
   },
   "id": "378e4fcd30d0ae38"
  },
  {
   "cell_type": "code",
   "execution_count": null,
   "outputs": [],
   "source": [],
   "metadata": {
    "collapsed": false
   },
   "id": "450801d8e8844e56"
  }
 ],
 "metadata": {
  "kernelspec": {
   "display_name": "Python 3",
   "language": "python",
   "name": "python3"
  },
  "language_info": {
   "codemirror_mode": {
    "name": "ipython",
    "version": 2
   },
   "file_extension": ".py",
   "mimetype": "text/x-python",
   "name": "python",
   "nbconvert_exporter": "python",
   "pygments_lexer": "ipython2",
   "version": "2.7.6"
  }
 },
 "nbformat": 4,
 "nbformat_minor": 5
}
