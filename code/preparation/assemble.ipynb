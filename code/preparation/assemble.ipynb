{
 "cells": [
  {
   "cell_type": "code",
   "execution_count": 168,
   "id": "initial_id",
   "metadata": {
    "collapsed": true,
    "ExecuteTime": {
     "end_time": "2023-10-09T09:41:08.405066Z",
     "start_time": "2023-10-09T09:41:08.310643Z"
    }
   },
   "outputs": [],
   "source": [
    "# import necessary libraries\n",
    "import pandas as pd\n",
    "import numpy as np"
   ]
  },
  {
   "cell_type": "code",
   "execution_count": 169,
   "outputs": [],
   "source": [
    "raw_data = pd.read_csv('../../data/coronavirus-covid-19-pandemic-usa-counties.csv')"
   ],
   "metadata": {
    "collapsed": false,
    "ExecuteTime": {
     "end_time": "2023-10-09T09:41:10.610765Z",
     "start_time": "2023-10-09T09:41:08.318988Z"
    }
   },
   "id": "b4a0aaae5e31b8f5"
  },
  {
   "cell_type": "markdown",
   "source": [
    "## Data preparation\n",
    "### Tidy data "
   ],
   "metadata": {
    "collapsed": false
   },
   "id": "4ee7055dfcc8ff09"
  },
  {
   "cell_type": "code",
   "execution_count": 170,
   "outputs": [
    {
     "data": {
      "text/plain": "                                                    Admin 2 FIPS Code;Province/State;Admin 2 Level (City/County/Borough/Region);Date;Total Death;Total Confirmed;location\n12119;Florida;Sumter;2020-01-31;0;0;28.70181754                                            -82.079427                                                                    \n13153;Georgia;Houston;2020-01-31;0;0;32.45802497                                           -83.668791                                                                    \n13227;Georgia;Pickens;2020-01-31;0;0;34.46589159                                           -84.464066                                                                    \n13303;Georgia;Washington;2020-01-31;0;0;32.9671...                                         -82.793570                                                                    \n16003;Idaho;Adams;2020-01-31;0;0;44.89333571                                              -116.454525                                                                    ",
      "text/html": "<div>\n<style scoped>\n    .dataframe tbody tr th:only-of-type {\n        vertical-align: middle;\n    }\n\n    .dataframe tbody tr th {\n        vertical-align: top;\n    }\n\n    .dataframe thead th {\n        text-align: right;\n    }\n</style>\n<table border=\"1\" class=\"dataframe\">\n  <thead>\n    <tr style=\"text-align: right;\">\n      <th></th>\n      <th>Admin 2 FIPS Code;Province/State;Admin 2 Level (City/County/Borough/Region);Date;Total Death;Total Confirmed;location</th>\n    </tr>\n  </thead>\n  <tbody>\n    <tr>\n      <th>12119;Florida;Sumter;2020-01-31;0;0;28.70181754</th>\n      <td>-82.079427</td>\n    </tr>\n    <tr>\n      <th>13153;Georgia;Houston;2020-01-31;0;0;32.45802497</th>\n      <td>-83.668791</td>\n    </tr>\n    <tr>\n      <th>13227;Georgia;Pickens;2020-01-31;0;0;34.46589159</th>\n      <td>-84.464066</td>\n    </tr>\n    <tr>\n      <th>13303;Georgia;Washington;2020-01-31;0;0;32.96711864</th>\n      <td>-82.793570</td>\n    </tr>\n    <tr>\n      <th>16003;Idaho;Adams;2020-01-31;0;0;44.89333571</th>\n      <td>-116.454525</td>\n    </tr>\n  </tbody>\n</table>\n</div>"
     },
     "execution_count": 170,
     "metadata": {},
     "output_type": "execute_result"
    }
   ],
   "source": [
    "# sample data\n",
    "raw_data.head()"
   ],
   "metadata": {
    "collapsed": false,
    "ExecuteTime": {
     "end_time": "2023-10-09T09:41:10.627337Z",
     "start_time": "2023-10-09T09:41:10.616938Z"
    }
   },
   "id": "a144a84a20947b66"
  },
  {
   "cell_type": "code",
   "execution_count": 171,
   "outputs": [],
   "source": [
    "# how to make right?\n",
    "raw_data = pd.read_csv('../../data/coronavirus-covid-19-pandemic-usa-counties.csv', sep=';')"
   ],
   "metadata": {
    "collapsed": false,
    "ExecuteTime": {
     "end_time": "2023-10-09T09:41:12.389477Z",
     "start_time": "2023-10-09T09:41:10.620475Z"
    }
   },
   "id": "d848f168f261ce03"
  },
  {
   "cell_type": "code",
   "execution_count": 172,
   "outputs": [
    {
     "data": {
      "text/plain": "   Admin 2 FIPS Code Province/State  ... Total Confirmed                  location\n0            12119.0        Florida  ...               0   28.70181754,-82.0794267\n1            13153.0        Georgia  ...               0  32.45802497,-83.66879087\n2            13227.0        Georgia  ...               0  34.46589159,-84.46406611\n3            13303.0        Georgia  ...               0  32.96711864,-82.79357039\n4            16003.0          Idaho  ...               0  44.89333571,-116.4545247\n\n[5 rows x 7 columns]",
      "text/html": "<div>\n<style scoped>\n    .dataframe tbody tr th:only-of-type {\n        vertical-align: middle;\n    }\n\n    .dataframe tbody tr th {\n        vertical-align: top;\n    }\n\n    .dataframe thead th {\n        text-align: right;\n    }\n</style>\n<table border=\"1\" class=\"dataframe\">\n  <thead>\n    <tr style=\"text-align: right;\">\n      <th></th>\n      <th>Admin 2 FIPS Code</th>\n      <th>Province/State</th>\n      <th>Admin 2 Level (City/County/Borough/Region)</th>\n      <th>Date</th>\n      <th>Total Death</th>\n      <th>Total Confirmed</th>\n      <th>location</th>\n    </tr>\n  </thead>\n  <tbody>\n    <tr>\n      <th>0</th>\n      <td>12119.0</td>\n      <td>Florida</td>\n      <td>Sumter</td>\n      <td>2020-01-31</td>\n      <td>0</td>\n      <td>0</td>\n      <td>28.70181754,-82.0794267</td>\n    </tr>\n    <tr>\n      <th>1</th>\n      <td>13153.0</td>\n      <td>Georgia</td>\n      <td>Houston</td>\n      <td>2020-01-31</td>\n      <td>0</td>\n      <td>0</td>\n      <td>32.45802497,-83.66879087</td>\n    </tr>\n    <tr>\n      <th>2</th>\n      <td>13227.0</td>\n      <td>Georgia</td>\n      <td>Pickens</td>\n      <td>2020-01-31</td>\n      <td>0</td>\n      <td>0</td>\n      <td>34.46589159,-84.46406611</td>\n    </tr>\n    <tr>\n      <th>3</th>\n      <td>13303.0</td>\n      <td>Georgia</td>\n      <td>Washington</td>\n      <td>2020-01-31</td>\n      <td>0</td>\n      <td>0</td>\n      <td>32.96711864,-82.79357039</td>\n    </tr>\n    <tr>\n      <th>4</th>\n      <td>16003.0</td>\n      <td>Idaho</td>\n      <td>Adams</td>\n      <td>2020-01-31</td>\n      <td>0</td>\n      <td>0</td>\n      <td>44.89333571,-116.4545247</td>\n    </tr>\n  </tbody>\n</table>\n</div>"
     },
     "execution_count": 172,
     "metadata": {},
     "output_type": "execute_result"
    }
   ],
   "source": [
    "raw_data.head() # This is better."
   ],
   "metadata": {
    "collapsed": false,
    "ExecuteTime": {
     "end_time": "2023-10-09T09:41:12.398907Z",
     "start_time": "2023-10-09T09:41:12.393767Z"
    }
   },
   "id": "681d200eb0c68bd9"
  },
  {
   "cell_type": "markdown",
   "source": [
    "## Header name ?"
   ],
   "metadata": {
    "collapsed": false
   },
   "id": "30de41d51da5c582"
  },
  {
   "cell_type": "code",
   "execution_count": 173,
   "outputs": [
    {
     "data": {
      "text/plain": "Index(['Admin 2 FIPS Code', 'Province/State',\n       'Admin 2 Level (City/County/Borough/Region)', 'Date', 'Total Death',\n       'Total Confirmed', 'location'],\n      dtype='object')"
     },
     "execution_count": 173,
     "metadata": {},
     "output_type": "execute_result"
    }
   ],
   "source": [
    "raw_data.columns"
   ],
   "metadata": {
    "collapsed": false,
    "ExecuteTime": {
     "end_time": "2023-10-09T09:41:12.400016Z",
     "start_time": "2023-10-09T09:41:12.396626Z"
    }
   },
   "id": "560e39016fad768"
  },
  {
   "cell_type": "code",
   "execution_count": 174,
   "outputs": [],
   "source": [
    "# US doesn't have a province, but states\n",
    "# FIPS code only, Admin 2 Level is not necessary\n",
    "# What is total confirmed?\n",
    "raw_data.rename(columns={\n",
    "    'Admin 2 FIPS Code': 'FIPS',\n",
    "    'Province/State': 'State',\n",
    "    'Admin 2 Level (City/County/Borough/Region)': 'City/County/Borough/Region',\n",
    "    'Total Confirmed': 'infected total',\n",
    "    'Total Death': 'death total',\n",
    "}, inplace=True)\n"
   ],
   "metadata": {
    "collapsed": false,
    "ExecuteTime": {
     "end_time": "2023-10-09T09:41:12.405060Z",
     "start_time": "2023-10-09T09:41:12.400510Z"
    }
   },
   "id": "e362305e26ffb571"
  },
  {
   "cell_type": "code",
   "execution_count": 175,
   "outputs": [
    {
     "data": {
      "text/plain": "      FIPS    State  ... infected total                  location\n0  12119.0  Florida  ...              0   28.70181754,-82.0794267\n1  13153.0  Georgia  ...              0  32.45802497,-83.66879087\n2  13227.0  Georgia  ...              0  34.46589159,-84.46406611\n3  13303.0  Georgia  ...              0  32.96711864,-82.79357039\n4  16003.0    Idaho  ...              0  44.89333571,-116.4545247\n\n[5 rows x 7 columns]",
      "text/html": "<div>\n<style scoped>\n    .dataframe tbody tr th:only-of-type {\n        vertical-align: middle;\n    }\n\n    .dataframe tbody tr th {\n        vertical-align: top;\n    }\n\n    .dataframe thead th {\n        text-align: right;\n    }\n</style>\n<table border=\"1\" class=\"dataframe\">\n  <thead>\n    <tr style=\"text-align: right;\">\n      <th></th>\n      <th>FIPS</th>\n      <th>State</th>\n      <th>City/County/Borough/Region</th>\n      <th>Date</th>\n      <th>death total</th>\n      <th>infected total</th>\n      <th>location</th>\n    </tr>\n  </thead>\n  <tbody>\n    <tr>\n      <th>0</th>\n      <td>12119.0</td>\n      <td>Florida</td>\n      <td>Sumter</td>\n      <td>2020-01-31</td>\n      <td>0</td>\n      <td>0</td>\n      <td>28.70181754,-82.0794267</td>\n    </tr>\n    <tr>\n      <th>1</th>\n      <td>13153.0</td>\n      <td>Georgia</td>\n      <td>Houston</td>\n      <td>2020-01-31</td>\n      <td>0</td>\n      <td>0</td>\n      <td>32.45802497,-83.66879087</td>\n    </tr>\n    <tr>\n      <th>2</th>\n      <td>13227.0</td>\n      <td>Georgia</td>\n      <td>Pickens</td>\n      <td>2020-01-31</td>\n      <td>0</td>\n      <td>0</td>\n      <td>34.46589159,-84.46406611</td>\n    </tr>\n    <tr>\n      <th>3</th>\n      <td>13303.0</td>\n      <td>Georgia</td>\n      <td>Washington</td>\n      <td>2020-01-31</td>\n      <td>0</td>\n      <td>0</td>\n      <td>32.96711864,-82.79357039</td>\n    </tr>\n    <tr>\n      <th>4</th>\n      <td>16003.0</td>\n      <td>Idaho</td>\n      <td>Adams</td>\n      <td>2020-01-31</td>\n      <td>0</td>\n      <td>0</td>\n      <td>44.89333571,-116.4545247</td>\n    </tr>\n  </tbody>\n</table>\n</div>"
     },
     "execution_count": 175,
     "metadata": {},
     "output_type": "execute_result"
    }
   ],
   "source": [
    "raw_data.head()"
   ],
   "metadata": {
    "collapsed": false,
    "ExecuteTime": {
     "end_time": "2023-10-09T09:41:12.409682Z",
     "start_time": "2023-10-09T09:41:12.404791Z"
    }
   },
   "id": "f897a4d5fc149f4d"
  },
  {
   "cell_type": "markdown",
   "source": [
    "### Remove duplicates "
   ],
   "metadata": {
    "collapsed": false
   },
   "id": "1f2928cf0b88ea09"
  },
  {
   "cell_type": "code",
   "execution_count": 176,
   "outputs": [
    {
     "data": {
      "text/plain": "0"
     },
     "execution_count": 176,
     "metadata": {},
     "output_type": "execute_result"
    }
   ],
   "source": [
    "# check duplicates\n",
    "raw_data.duplicated().sum() # no duplicates, good!"
   ],
   "metadata": {
    "collapsed": false,
    "ExecuteTime": {
     "end_time": "2023-10-09T09:41:13.440316Z",
     "start_time": "2023-10-09T09:41:12.410545Z"
    }
   },
   "id": "1cde7bd76878e4b1"
  },
  {
   "cell_type": "markdown",
   "source": [
    "### Homogeneous variables"
   ],
   "metadata": {
    "collapsed": false
   },
   "id": "68c208578796fee5"
  },
  {
   "cell_type": "markdown",
   "source": [],
   "metadata": {
    "collapsed": false
   },
   "id": "454e3a994a2e1b8a"
  },
  {
   "cell_type": "code",
   "execution_count": 177,
   "outputs": [],
   "source": [
    "import json"
   ],
   "metadata": {
    "collapsed": false,
    "ExecuteTime": {
     "end_time": "2023-10-09T09:41:13.442422Z",
     "start_time": "2023-10-09T09:41:13.440021Z"
    }
   },
   "id": "7d506542dc4212c9"
  },
  {
   "cell_type": "code",
   "execution_count": 178,
   "outputs": [],
   "source": [
    "name_of_state_us = json.load(open('name_state_us.json'))"
   ],
   "metadata": {
    "collapsed": false,
    "ExecuteTime": {
     "end_time": "2023-10-09T09:41:13.447785Z",
     "start_time": "2023-10-09T09:41:13.442363Z"
    }
   },
   "id": "e02604e7918ad67f"
  },
  {
   "cell_type": "code",
   "execution_count": 179,
   "outputs": [],
   "source": [
    "raw_data['Abbr'] = raw_data['State'].map(name_of_state_us)\n"
   ],
   "metadata": {
    "collapsed": false,
    "ExecuteTime": {
     "end_time": "2023-10-09T09:41:13.573456Z",
     "start_time": "2023-10-09T09:41:13.445783Z"
    }
   },
   "id": "9ed664ac4a6eb674"
  },
  {
   "cell_type": "code",
   "execution_count": 180,
   "outputs": [
    {
     "data": {
      "text/plain": "      FIPS    State  ...                  location Abbr\n0  12119.0  Florida  ...   28.70181754,-82.0794267   FL\n1  13153.0  Georgia  ...  32.45802497,-83.66879087   GA\n2  13227.0  Georgia  ...  34.46589159,-84.46406611   GA\n3  13303.0  Georgia  ...  32.96711864,-82.79357039   GA\n4  16003.0    Idaho  ...  44.89333571,-116.4545247   ID\n\n[5 rows x 8 columns]",
      "text/html": "<div>\n<style scoped>\n    .dataframe tbody tr th:only-of-type {\n        vertical-align: middle;\n    }\n\n    .dataframe tbody tr th {\n        vertical-align: top;\n    }\n\n    .dataframe thead th {\n        text-align: right;\n    }\n</style>\n<table border=\"1\" class=\"dataframe\">\n  <thead>\n    <tr style=\"text-align: right;\">\n      <th></th>\n      <th>FIPS</th>\n      <th>State</th>\n      <th>City/County/Borough/Region</th>\n      <th>Date</th>\n      <th>death total</th>\n      <th>infected total</th>\n      <th>location</th>\n      <th>Abbr</th>\n    </tr>\n  </thead>\n  <tbody>\n    <tr>\n      <th>0</th>\n      <td>12119.0</td>\n      <td>Florida</td>\n      <td>Sumter</td>\n      <td>2020-01-31</td>\n      <td>0</td>\n      <td>0</td>\n      <td>28.70181754,-82.0794267</td>\n      <td>FL</td>\n    </tr>\n    <tr>\n      <th>1</th>\n      <td>13153.0</td>\n      <td>Georgia</td>\n      <td>Houston</td>\n      <td>2020-01-31</td>\n      <td>0</td>\n      <td>0</td>\n      <td>32.45802497,-83.66879087</td>\n      <td>GA</td>\n    </tr>\n    <tr>\n      <th>2</th>\n      <td>13227.0</td>\n      <td>Georgia</td>\n      <td>Pickens</td>\n      <td>2020-01-31</td>\n      <td>0</td>\n      <td>0</td>\n      <td>34.46589159,-84.46406611</td>\n      <td>GA</td>\n    </tr>\n    <tr>\n      <th>3</th>\n      <td>13303.0</td>\n      <td>Georgia</td>\n      <td>Washington</td>\n      <td>2020-01-31</td>\n      <td>0</td>\n      <td>0</td>\n      <td>32.96711864,-82.79357039</td>\n      <td>GA</td>\n    </tr>\n    <tr>\n      <th>4</th>\n      <td>16003.0</td>\n      <td>Idaho</td>\n      <td>Adams</td>\n      <td>2020-01-31</td>\n      <td>0</td>\n      <td>0</td>\n      <td>44.89333571,-116.4545247</td>\n      <td>ID</td>\n    </tr>\n  </tbody>\n</table>\n</div>"
     },
     "execution_count": 180,
     "metadata": {},
     "output_type": "execute_result"
    }
   ],
   "source": [
    "raw_data.head()"
   ],
   "metadata": {
    "collapsed": false,
    "ExecuteTime": {
     "end_time": "2023-10-09T09:41:13.585145Z",
     "start_time": "2023-10-09T09:41:13.579801Z"
    }
   },
   "id": "1c8a595ccc10d453"
  },
  {
   "cell_type": "code",
   "execution_count": 181,
   "outputs": [
    {
     "data": {
      "text/plain": "81954"
     },
     "execution_count": 181,
     "metadata": {},
     "output_type": "execute_result"
    }
   ],
   "source": [
    "raw_data['Abbr'].isnull().sum() # something went wrong?"
   ],
   "metadata": {
    "collapsed": false,
    "ExecuteTime": {
     "end_time": "2023-10-09T09:41:13.650899Z",
     "start_time": "2023-10-09T09:41:13.635720Z"
    }
   },
   "id": "643740dd4fb6158e"
  },
  {
   "cell_type": "code",
   "execution_count": 182,
   "outputs": [],
   "source": [
    "# locate must show as (lat, lon)\n",
    "raw_data[['lat', 'lon']] = raw_data['location'].str.split(',', expand=True)\n",
    "raw_data.drop('location', axis=1, inplace=True)"
   ],
   "metadata": {
    "collapsed": false,
    "ExecuteTime": {
     "end_time": "2023-10-09T09:41:22.746452Z",
     "start_time": "2023-10-09T09:41:13.720754Z"
    }
   },
   "id": "2444ccfd6f336479"
  },
  {
   "cell_type": "code",
   "execution_count": 183,
   "outputs": [
    {
     "data": {
      "text/plain": "      FIPS    State City/County/Borough/Region  ... Abbr          lat           lon\n0  12119.0  Florida                     Sumter  ...   FL  28.70181754   -82.0794267\n1  13153.0  Georgia                    Houston  ...   GA  32.45802497  -83.66879087\n2  13227.0  Georgia                    Pickens  ...   GA  34.46589159  -84.46406611\n3  13303.0  Georgia                 Washington  ...   GA  32.96711864  -82.79357039\n4  16003.0    Idaho                      Adams  ...   ID  44.89333571  -116.4545247\n\n[5 rows x 9 columns]",
      "text/html": "<div>\n<style scoped>\n    .dataframe tbody tr th:only-of-type {\n        vertical-align: middle;\n    }\n\n    .dataframe tbody tr th {\n        vertical-align: top;\n    }\n\n    .dataframe thead th {\n        text-align: right;\n    }\n</style>\n<table border=\"1\" class=\"dataframe\">\n  <thead>\n    <tr style=\"text-align: right;\">\n      <th></th>\n      <th>FIPS</th>\n      <th>State</th>\n      <th>City/County/Borough/Region</th>\n      <th>Date</th>\n      <th>death total</th>\n      <th>infected total</th>\n      <th>Abbr</th>\n      <th>lat</th>\n      <th>lon</th>\n    </tr>\n  </thead>\n  <tbody>\n    <tr>\n      <th>0</th>\n      <td>12119.0</td>\n      <td>Florida</td>\n      <td>Sumter</td>\n      <td>2020-01-31</td>\n      <td>0</td>\n      <td>0</td>\n      <td>FL</td>\n      <td>28.70181754</td>\n      <td>-82.0794267</td>\n    </tr>\n    <tr>\n      <th>1</th>\n      <td>13153.0</td>\n      <td>Georgia</td>\n      <td>Houston</td>\n      <td>2020-01-31</td>\n      <td>0</td>\n      <td>0</td>\n      <td>GA</td>\n      <td>32.45802497</td>\n      <td>-83.66879087</td>\n    </tr>\n    <tr>\n      <th>2</th>\n      <td>13227.0</td>\n      <td>Georgia</td>\n      <td>Pickens</td>\n      <td>2020-01-31</td>\n      <td>0</td>\n      <td>0</td>\n      <td>GA</td>\n      <td>34.46589159</td>\n      <td>-84.46406611</td>\n    </tr>\n    <tr>\n      <th>3</th>\n      <td>13303.0</td>\n      <td>Georgia</td>\n      <td>Washington</td>\n      <td>2020-01-31</td>\n      <td>0</td>\n      <td>0</td>\n      <td>GA</td>\n      <td>32.96711864</td>\n      <td>-82.79357039</td>\n    </tr>\n    <tr>\n      <th>4</th>\n      <td>16003.0</td>\n      <td>Idaho</td>\n      <td>Adams</td>\n      <td>2020-01-31</td>\n      <td>0</td>\n      <td>0</td>\n      <td>ID</td>\n      <td>44.89333571</td>\n      <td>-116.4545247</td>\n    </tr>\n  </tbody>\n</table>\n</div>"
     },
     "execution_count": 183,
     "metadata": {},
     "output_type": "execute_result"
    }
   ],
   "source": [
    "raw_data.head()"
   ],
   "metadata": {
    "collapsed": false,
    "ExecuteTime": {
     "end_time": "2023-10-09T09:41:22.766832Z",
     "start_time": "2023-10-09T09:41:22.749377Z"
    }
   },
   "id": "5757097d0ecef0f2"
  },
  {
   "cell_type": "markdown",
   "source": [
    "### Unique identifier"
   ],
   "metadata": {
    "collapsed": false
   },
   "id": "a69eeef286d44fb2"
  },
  {
   "cell_type": "code",
   "execution_count": 184,
   "outputs": [],
   "source": [
    "# unique identifier is Date + index of row\n",
    "raw_data['id'] = raw_data['Date'].str.replace('-', '') + raw_data.index.astype(str)  "
   ],
   "metadata": {
    "collapsed": false,
    "ExecuteTime": {
     "end_time": "2023-10-09T09:41:24.929479Z",
     "start_time": "2023-10-09T09:41:22.838717Z"
    }
   },
   "id": "905dd3d57fa9a0e"
  },
  {
   "cell_type": "code",
   "execution_count": 185,
   "outputs": [
    {
     "data": {
      "text/plain": "      FIPS    State  ...           lon         id\n0  12119.0  Florida  ...   -82.0794267  202001310\n1  13153.0  Georgia  ...  -83.66879087  202001311\n2  13227.0  Georgia  ...  -84.46406611  202001312\n3  13303.0  Georgia  ...  -82.79357039  202001313\n4  16003.0    Idaho  ...  -116.4545247  202001314\n\n[5 rows x 10 columns]",
      "text/html": "<div>\n<style scoped>\n    .dataframe tbody tr th:only-of-type {\n        vertical-align: middle;\n    }\n\n    .dataframe tbody tr th {\n        vertical-align: top;\n    }\n\n    .dataframe thead th {\n        text-align: right;\n    }\n</style>\n<table border=\"1\" class=\"dataframe\">\n  <thead>\n    <tr style=\"text-align: right;\">\n      <th></th>\n      <th>FIPS</th>\n      <th>State</th>\n      <th>City/County/Borough/Region</th>\n      <th>Date</th>\n      <th>death total</th>\n      <th>infected total</th>\n      <th>Abbr</th>\n      <th>lat</th>\n      <th>lon</th>\n      <th>id</th>\n    </tr>\n  </thead>\n  <tbody>\n    <tr>\n      <th>0</th>\n      <td>12119.0</td>\n      <td>Florida</td>\n      <td>Sumter</td>\n      <td>2020-01-31</td>\n      <td>0</td>\n      <td>0</td>\n      <td>FL</td>\n      <td>28.70181754</td>\n      <td>-82.0794267</td>\n      <td>202001310</td>\n    </tr>\n    <tr>\n      <th>1</th>\n      <td>13153.0</td>\n      <td>Georgia</td>\n      <td>Houston</td>\n      <td>2020-01-31</td>\n      <td>0</td>\n      <td>0</td>\n      <td>GA</td>\n      <td>32.45802497</td>\n      <td>-83.66879087</td>\n      <td>202001311</td>\n    </tr>\n    <tr>\n      <th>2</th>\n      <td>13227.0</td>\n      <td>Georgia</td>\n      <td>Pickens</td>\n      <td>2020-01-31</td>\n      <td>0</td>\n      <td>0</td>\n      <td>GA</td>\n      <td>34.46589159</td>\n      <td>-84.46406611</td>\n      <td>202001312</td>\n    </tr>\n    <tr>\n      <th>3</th>\n      <td>13303.0</td>\n      <td>Georgia</td>\n      <td>Washington</td>\n      <td>2020-01-31</td>\n      <td>0</td>\n      <td>0</td>\n      <td>GA</td>\n      <td>32.96711864</td>\n      <td>-82.79357039</td>\n      <td>202001313</td>\n    </tr>\n    <tr>\n      <th>4</th>\n      <td>16003.0</td>\n      <td>Idaho</td>\n      <td>Adams</td>\n      <td>2020-01-31</td>\n      <td>0</td>\n      <td>0</td>\n      <td>ID</td>\n      <td>44.89333571</td>\n      <td>-116.4545247</td>\n      <td>202001314</td>\n    </tr>\n  </tbody>\n</table>\n</div>"
     },
     "execution_count": 185,
     "metadata": {},
     "output_type": "execute_result"
    }
   ],
   "source": [
    "raw_data.head() # id is smell, but it's ok for now."
   ],
   "metadata": {
    "collapsed": false,
    "ExecuteTime": {
     "end_time": "2023-10-09T09:41:24.941217Z",
     "start_time": "2023-10-09T09:41:24.937724Z"
    }
   },
   "id": "1f05a3ff8cdd163c"
  },
  {
   "cell_type": "markdown",
   "source": [
    "### Data type"
   ],
   "metadata": {
    "collapsed": false
   },
   "id": "ed1603b3dc126831"
  },
  {
   "cell_type": "code",
   "execution_count": 186,
   "outputs": [
    {
     "data": {
      "text/plain": "FIPS                          float64\nState                          object\nCity/County/Borough/Region     object\nDate                           object\ndeath total                     int64\ninfected total                  int64\nAbbr                           object\nlat                            object\nlon                            object\nid                             object\ndtype: object"
     },
     "execution_count": 186,
     "metadata": {},
     "output_type": "execute_result"
    }
   ],
   "source": [
    "raw_data.dtypes"
   ],
   "metadata": {
    "collapsed": false,
    "ExecuteTime": {
     "end_time": "2023-10-09T09:41:24.952492Z",
     "start_time": "2023-10-09T09:41:24.941322Z"
    }
   },
   "id": "f16df554194212f3"
  },
  {
   "cell_type": "code",
   "execution_count": 187,
   "outputs": [],
   "source": [
    "# First of all FIPS is not float, it's string\n",
    "raw_data['FIPS'] = raw_data['FIPS'].astype(str).str.replace('.0', '')\n",
    "\n",
    "# Date is not a string, it's a date\n",
    "raw_data['Date'] = pd.to_datetime(raw_data['Date'])\n",
    "\n",
    "# Lat and Lon are not string, they are floated\n",
    "raw_data['lat'] = raw_data['lat'].astype(float)\n",
    "raw_data['lon'] = raw_data['lon'].astype(float)"
   ],
   "metadata": {
    "collapsed": false,
    "ExecuteTime": {
     "end_time": "2023-10-09T09:41:27.896805Z",
     "start_time": "2023-10-09T09:41:24.944505Z"
    }
   },
   "id": "2f5013bc32f63854"
  },
  {
   "cell_type": "code",
   "execution_count": 188,
   "outputs": [
    {
     "data": {
      "text/plain": "    FIPS    State City/County/Borough/Region  ...        lat         lon         id\n0  12119  Florida                     Sumter  ...  28.701818  -82.079427  202001310\n1  13153  Georgia                    Houston  ...  32.458025  -83.668791  202001311\n2  13227  Georgia                    Pickens  ...  34.465892  -84.464066  202001312\n3  13303  Georgia                 Washington  ...  32.967119  -82.793570  202001313\n4  16003    Idaho                      Adams  ...  44.893336 -116.454525  202001314\n\n[5 rows x 10 columns]",
      "text/html": "<div>\n<style scoped>\n    .dataframe tbody tr th:only-of-type {\n        vertical-align: middle;\n    }\n\n    .dataframe tbody tr th {\n        vertical-align: top;\n    }\n\n    .dataframe thead th {\n        text-align: right;\n    }\n</style>\n<table border=\"1\" class=\"dataframe\">\n  <thead>\n    <tr style=\"text-align: right;\">\n      <th></th>\n      <th>FIPS</th>\n      <th>State</th>\n      <th>City/County/Borough/Region</th>\n      <th>Date</th>\n      <th>death total</th>\n      <th>infected total</th>\n      <th>Abbr</th>\n      <th>lat</th>\n      <th>lon</th>\n      <th>id</th>\n    </tr>\n  </thead>\n  <tbody>\n    <tr>\n      <th>0</th>\n      <td>12119</td>\n      <td>Florida</td>\n      <td>Sumter</td>\n      <td>2020-01-31</td>\n      <td>0</td>\n      <td>0</td>\n      <td>FL</td>\n      <td>28.701818</td>\n      <td>-82.079427</td>\n      <td>202001310</td>\n    </tr>\n    <tr>\n      <th>1</th>\n      <td>13153</td>\n      <td>Georgia</td>\n      <td>Houston</td>\n      <td>2020-01-31</td>\n      <td>0</td>\n      <td>0</td>\n      <td>GA</td>\n      <td>32.458025</td>\n      <td>-83.668791</td>\n      <td>202001311</td>\n    </tr>\n    <tr>\n      <th>2</th>\n      <td>13227</td>\n      <td>Georgia</td>\n      <td>Pickens</td>\n      <td>2020-01-31</td>\n      <td>0</td>\n      <td>0</td>\n      <td>GA</td>\n      <td>34.465892</td>\n      <td>-84.464066</td>\n      <td>202001312</td>\n    </tr>\n    <tr>\n      <th>3</th>\n      <td>13303</td>\n      <td>Georgia</td>\n      <td>Washington</td>\n      <td>2020-01-31</td>\n      <td>0</td>\n      <td>0</td>\n      <td>GA</td>\n      <td>32.967119</td>\n      <td>-82.793570</td>\n      <td>202001313</td>\n    </tr>\n    <tr>\n      <th>4</th>\n      <td>16003</td>\n      <td>Idaho</td>\n      <td>Adams</td>\n      <td>2020-01-31</td>\n      <td>0</td>\n      <td>0</td>\n      <td>ID</td>\n      <td>44.893336</td>\n      <td>-116.454525</td>\n      <td>202001314</td>\n    </tr>\n  </tbody>\n</table>\n</div>"
     },
     "execution_count": 188,
     "metadata": {},
     "output_type": "execute_result"
    }
   ],
   "source": [
    "raw_data.head()"
   ],
   "metadata": {
    "collapsed": false,
    "ExecuteTime": {
     "end_time": "2023-10-09T09:41:27.920668Z",
     "start_time": "2023-10-09T09:41:27.894563Z"
    }
   },
   "id": "868f686b0b1df243"
  },
  {
   "cell_type": "code",
   "execution_count": 189,
   "outputs": [
    {
     "data": {
      "text/plain": "FIPS                                  object\nState                                 object\nCity/County/Borough/Region            object\nDate                          datetime64[ns]\ndeath total                            int64\ninfected total                         int64\nAbbr                                  object\nlat                                  float64\nlon                                  float64\nid                                    object\ndtype: object"
     },
     "execution_count": 189,
     "metadata": {},
     "output_type": "execute_result"
    }
   ],
   "source": [
    "raw_data.dtypes"
   ],
   "metadata": {
    "collapsed": false,
    "ExecuteTime": {
     "end_time": "2023-10-09T09:41:27.921075Z",
     "start_time": "2023-10-09T09:41:27.914391Z"
    }
   },
   "id": "de197c1465282a92"
  },
  {
   "cell_type": "code",
   "execution_count": 190,
   "outputs": [],
   "source": [
    "# fix unique identifier\n",
    "raw_data['id'] = (\n",
    "    raw_data['Date'].astype(str).str.replace('-', '') +\n",
    "    raw_data.index.astype(str)\n",
    ")"
   ],
   "metadata": {
    "collapsed": false,
    "ExecuteTime": {
     "end_time": "2023-10-09T09:41:30.126112Z",
     "start_time": "2023-10-09T09:41:27.917641Z"
    }
   },
   "id": "d2447ec962e43bc6"
  },
  {
   "cell_type": "code",
   "execution_count": 191,
   "outputs": [
    {
     "data": {
      "text/plain": "    FIPS    State City/County/Borough/Region  ...        lat         lon         id\n0  12119  Florida                     Sumter  ...  28.701818  -82.079427  202001310\n1  13153  Georgia                    Houston  ...  32.458025  -83.668791  202001311\n2  13227  Georgia                    Pickens  ...  34.465892  -84.464066  202001312\n3  13303  Georgia                 Washington  ...  32.967119  -82.793570  202001313\n4  16003    Idaho                      Adams  ...  44.893336 -116.454525  202001314\n\n[5 rows x 10 columns]",
      "text/html": "<div>\n<style scoped>\n    .dataframe tbody tr th:only-of-type {\n        vertical-align: middle;\n    }\n\n    .dataframe tbody tr th {\n        vertical-align: top;\n    }\n\n    .dataframe thead th {\n        text-align: right;\n    }\n</style>\n<table border=\"1\" class=\"dataframe\">\n  <thead>\n    <tr style=\"text-align: right;\">\n      <th></th>\n      <th>FIPS</th>\n      <th>State</th>\n      <th>City/County/Borough/Region</th>\n      <th>Date</th>\n      <th>death total</th>\n      <th>infected total</th>\n      <th>Abbr</th>\n      <th>lat</th>\n      <th>lon</th>\n      <th>id</th>\n    </tr>\n  </thead>\n  <tbody>\n    <tr>\n      <th>0</th>\n      <td>12119</td>\n      <td>Florida</td>\n      <td>Sumter</td>\n      <td>2020-01-31</td>\n      <td>0</td>\n      <td>0</td>\n      <td>FL</td>\n      <td>28.701818</td>\n      <td>-82.079427</td>\n      <td>202001310</td>\n    </tr>\n    <tr>\n      <th>1</th>\n      <td>13153</td>\n      <td>Georgia</td>\n      <td>Houston</td>\n      <td>2020-01-31</td>\n      <td>0</td>\n      <td>0</td>\n      <td>GA</td>\n      <td>32.458025</td>\n      <td>-83.668791</td>\n      <td>202001311</td>\n    </tr>\n    <tr>\n      <th>2</th>\n      <td>13227</td>\n      <td>Georgia</td>\n      <td>Pickens</td>\n      <td>2020-01-31</td>\n      <td>0</td>\n      <td>0</td>\n      <td>GA</td>\n      <td>34.465892</td>\n      <td>-84.464066</td>\n      <td>202001312</td>\n    </tr>\n    <tr>\n      <th>3</th>\n      <td>13303</td>\n      <td>Georgia</td>\n      <td>Washington</td>\n      <td>2020-01-31</td>\n      <td>0</td>\n      <td>0</td>\n      <td>GA</td>\n      <td>32.967119</td>\n      <td>-82.793570</td>\n      <td>202001313</td>\n    </tr>\n    <tr>\n      <th>4</th>\n      <td>16003</td>\n      <td>Idaho</td>\n      <td>Adams</td>\n      <td>2020-01-31</td>\n      <td>0</td>\n      <td>0</td>\n      <td>ID</td>\n      <td>44.893336</td>\n      <td>-116.454525</td>\n      <td>202001314</td>\n    </tr>\n  </tbody>\n</table>\n</div>"
     },
     "execution_count": 191,
     "metadata": {},
     "output_type": "execute_result"
    }
   ],
   "source": [
    "raw_data.head()"
   ],
   "metadata": {
    "collapsed": false,
    "ExecuteTime": {
     "end_time": "2023-10-09T09:41:30.572887Z",
     "start_time": "2023-10-09T09:41:30.569387Z"
    }
   },
   "id": "6fd41fd043b5e656"
  },
  {
   "cell_type": "code",
   "execution_count": 192,
   "outputs": [
    {
     "data": {
      "text/plain": "FIPS                              0\nState                             0\nCity/County/Borough/Region     5652\nDate                              0\ndeath total                       0\ninfected total                    0\nAbbr                          81954\nlat                               0\nlon                               0\nid                                0\ndtype: int64"
     },
     "execution_count": 192,
     "metadata": {},
     "output_type": "execute_result"
    }
   ],
   "source": [
    "# show missing values\n",
    "raw_data.isnull().sum()"
   ],
   "metadata": {
    "collapsed": false,
    "ExecuteTime": {
     "end_time": "2023-10-09T09:54:00.535601Z",
     "start_time": "2023-10-09T09:54:00.174537Z"
    }
   },
   "id": "5fa3edda94c7eb2f"
  },
  {
   "cell_type": "code",
   "execution_count": 193,
   "outputs": [
    {
     "data": {
      "text/plain": "          FIPS           State  ...        lon               id\n0        12119         Florida  ... -82.079427        202001310\n3459     45085  South Carolina  ... -80.379423     202107163459\n4299      1119         Alabama  ... -88.199162     202107274299\n4975     45085  South Carolina  ... -80.379423     202108044975\n5270     13261         Georgia  ... -84.198215     202107295270\n...        ...             ...  ...        ...              ...\n3097039  12119         Florida  ... -82.079427  202203163097039\n3097049  12119         Florida  ... -82.079427  202203103097049\n3097682  12119         Florida  ... -82.079427  202202253097682\n3097989  45085  South Carolina  ... -80.379423  202202273097989\n3098166  13261         Georgia  ... -84.198215  202202203098166\n\n[3768 rows x 10 columns]",
      "text/html": "<div>\n<style scoped>\n    .dataframe tbody tr th:only-of-type {\n        vertical-align: middle;\n    }\n\n    .dataframe tbody tr th {\n        vertical-align: top;\n    }\n\n    .dataframe thead th {\n        text-align: right;\n    }\n</style>\n<table border=\"1\" class=\"dataframe\">\n  <thead>\n    <tr style=\"text-align: right;\">\n      <th></th>\n      <th>FIPS</th>\n      <th>State</th>\n      <th>City/County/Borough/Region</th>\n      <th>Date</th>\n      <th>death total</th>\n      <th>infected total</th>\n      <th>Abbr</th>\n      <th>lat</th>\n      <th>lon</th>\n      <th>id</th>\n    </tr>\n  </thead>\n  <tbody>\n    <tr>\n      <th>0</th>\n      <td>12119</td>\n      <td>Florida</td>\n      <td>Sumter</td>\n      <td>2020-01-31</td>\n      <td>0</td>\n      <td>0</td>\n      <td>FL</td>\n      <td>28.701818</td>\n      <td>-82.079427</td>\n      <td>202001310</td>\n    </tr>\n    <tr>\n      <th>3459</th>\n      <td>45085</td>\n      <td>South Carolina</td>\n      <td>Sumter</td>\n      <td>2021-07-16</td>\n      <td>212</td>\n      <td>10748</td>\n      <td>SC</td>\n      <td>33.918265</td>\n      <td>-80.379423</td>\n      <td>202107163459</td>\n    </tr>\n    <tr>\n      <th>4299</th>\n      <td>1119</td>\n      <td>Alabama</td>\n      <td>Sumter</td>\n      <td>2021-07-27</td>\n      <td>32</td>\n      <td>1087</td>\n      <td>AL</td>\n      <td>32.591174</td>\n      <td>-88.199162</td>\n      <td>202107274299</td>\n    </tr>\n    <tr>\n      <th>4975</th>\n      <td>45085</td>\n      <td>South Carolina</td>\n      <td>Sumter</td>\n      <td>2021-08-04</td>\n      <td>211</td>\n      <td>11525</td>\n      <td>SC</td>\n      <td>33.918265</td>\n      <td>-80.379423</td>\n      <td>202108044975</td>\n    </tr>\n    <tr>\n      <th>5270</th>\n      <td>13261</td>\n      <td>Georgia</td>\n      <td>Sumter</td>\n      <td>2021-07-29</td>\n      <td>106</td>\n      <td>2715</td>\n      <td>GA</td>\n      <td>32.036506</td>\n      <td>-84.198215</td>\n      <td>202107295270</td>\n    </tr>\n    <tr>\n      <th>...</th>\n      <td>...</td>\n      <td>...</td>\n      <td>...</td>\n      <td>...</td>\n      <td>...</td>\n      <td>...</td>\n      <td>...</td>\n      <td>...</td>\n      <td>...</td>\n      <td>...</td>\n    </tr>\n    <tr>\n      <th>3097039</th>\n      <td>12119</td>\n      <td>Florida</td>\n      <td>Sumter</td>\n      <td>2022-03-16</td>\n      <td>551</td>\n      <td>21661</td>\n      <td>FL</td>\n      <td>28.701818</td>\n      <td>-82.079427</td>\n      <td>202203163097039</td>\n    </tr>\n    <tr>\n      <th>3097049</th>\n      <td>12119</td>\n      <td>Florida</td>\n      <td>Sumter</td>\n      <td>2022-03-10</td>\n      <td>506</td>\n      <td>21577</td>\n      <td>FL</td>\n      <td>28.701818</td>\n      <td>-82.079427</td>\n      <td>202203103097049</td>\n    </tr>\n    <tr>\n      <th>3097682</th>\n      <td>12119</td>\n      <td>Florida</td>\n      <td>Sumter</td>\n      <td>2022-02-25</td>\n      <td>506</td>\n      <td>21255</td>\n      <td>FL</td>\n      <td>28.701818</td>\n      <td>-82.079427</td>\n      <td>202202253097682</td>\n    </tr>\n    <tr>\n      <th>3097989</th>\n      <td>45085</td>\n      <td>South Carolina</td>\n      <td>Sumter</td>\n      <td>2022-02-27</td>\n      <td>365</td>\n      <td>27488</td>\n      <td>SC</td>\n      <td>33.918265</td>\n      <td>-80.379423</td>\n      <td>202202273097989</td>\n    </tr>\n    <tr>\n      <th>3098166</th>\n      <td>13261</td>\n      <td>Georgia</td>\n      <td>Sumter</td>\n      <td>2022-02-20</td>\n      <td>154</td>\n      <td>6692</td>\n      <td>GA</td>\n      <td>32.036506</td>\n      <td>-84.198215</td>\n      <td>202202203098166</td>\n    </tr>\n  </tbody>\n</table>\n<p>3768 rows × 10 columns</p>\n</div>"
     },
     "execution_count": 193,
     "metadata": {},
     "output_type": "execute_result"
    }
   ],
   "source": [
    "# show sumter city\n",
    "raw_data[raw_data['City/County/Borough/Region'] == 'Sumter']"
   ],
   "metadata": {
    "collapsed": false,
    "ExecuteTime": {
     "end_time": "2023-10-09T09:55:12.673031Z",
     "start_time": "2023-10-09T09:55:12.545427Z"
    }
   },
   "id": "f932a816b318cbae"
  },
  {
   "cell_type": "code",
   "execution_count": null,
   "outputs": [],
   "source": [],
   "metadata": {
    "collapsed": false
   },
   "id": "71430e35600c929b"
  }
 ],
 "metadata": {
  "kernelspec": {
   "display_name": "Python 3",
   "language": "python",
   "name": "python3"
  },
  "language_info": {
   "codemirror_mode": {
    "name": "ipython",
    "version": 2
   },
   "file_extension": ".py",
   "mimetype": "text/x-python",
   "name": "python",
   "nbconvert_exporter": "python",
   "pygments_lexer": "ipython2",
   "version": "2.7.6"
  }
 },
 "nbformat": 4,
 "nbformat_minor": 5
}
