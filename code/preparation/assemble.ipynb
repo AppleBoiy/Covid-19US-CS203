{
 "cells": [
  {
   "cell_type": "code",
   "execution_count": 64,
   "id": "initial_id",
   "metadata": {
    "ExecuteTime": {
     "end_time": "2023-10-09T10:55:51.555518Z",
     "start_time": "2023-10-09T10:55:51.551542Z"
    },
    "collapsed": true
   },
   "outputs": [],
   "source": [
    "# import necessary libraries\n",
    "import pandas as pd\n",
    "import numpy as np"
   ]
  },
  {
   "cell_type": "code",
   "execution_count": 65,
   "id": "b4a0aaae5e31b8f5",
   "metadata": {
    "ExecuteTime": {
     "end_time": "2023-10-09T10:55:55.582813Z",
     "start_time": "2023-10-09T10:55:53.154202Z"
    },
    "collapsed": false
   },
   "outputs": [],
   "source": [
    "raw_data = pd.read_csv('../../data/coronavirus-covid-19-pandemic-usa-counties.csv')"
   ]
  },
  {
   "cell_type": "markdown",
   "id": "4ee7055dfcc8ff09",
   "metadata": {
    "collapsed": false
   },
   "source": [
    "## Data preparation\n",
    "### Tidy data "
   ]
  },
  {
   "cell_type": "code",
   "execution_count": 66,
   "id": "a144a84a20947b66",
   "metadata": {
    "ExecuteTime": {
     "end_time": "2023-10-09T10:55:55.669189Z",
     "start_time": "2023-10-09T10:55:55.660131Z"
    },
    "collapsed": false
   },
   "outputs": [
    {
     "data": {
      "text/html": [
       "<div>\n",
       "<style scoped>\n",
       "    .dataframe tbody tr th:only-of-type {\n",
       "        vertical-align: middle;\n",
       "    }\n",
       "\n",
       "    .dataframe tbody tr th {\n",
       "        vertical-align: top;\n",
       "    }\n",
       "\n",
       "    .dataframe thead th {\n",
       "        text-align: right;\n",
       "    }\n",
       "</style>\n",
       "<table border=\"1\" class=\"dataframe\">\n",
       "  <thead>\n",
       "    <tr style=\"text-align: right;\">\n",
       "      <th></th>\n",
       "      <th>Admin 2 FIPS Code;Province/State;Admin 2 Level (City/County/Borough/Region);Date;Total Death;Total Confirmed;location</th>\n",
       "    </tr>\n",
       "  </thead>\n",
       "  <tbody>\n",
       "    <tr>\n",
       "      <th>12119;Florida;Sumter;2020-01-31;0;0;28.70181754</th>\n",
       "      <td>-82.079427</td>\n",
       "    </tr>\n",
       "    <tr>\n",
       "      <th>13153;Georgia;Houston;2020-01-31;0;0;32.45802497</th>\n",
       "      <td>-83.668791</td>\n",
       "    </tr>\n",
       "    <tr>\n",
       "      <th>13227;Georgia;Pickens;2020-01-31;0;0;34.46589159</th>\n",
       "      <td>-84.464066</td>\n",
       "    </tr>\n",
       "    <tr>\n",
       "      <th>13303;Georgia;Washington;2020-01-31;0;0;32.96711864</th>\n",
       "      <td>-82.793570</td>\n",
       "    </tr>\n",
       "    <tr>\n",
       "      <th>16003;Idaho;Adams;2020-01-31;0;0;44.89333571</th>\n",
       "      <td>-116.454525</td>\n",
       "    </tr>\n",
       "  </tbody>\n",
       "</table>\n",
       "</div>"
      ],
      "text/plain": [
       "                                                    Admin 2 FIPS Code;Province/State;Admin 2 Level (City/County/Borough/Region);Date;Total Death;Total Confirmed;location\n",
       "12119;Florida;Sumter;2020-01-31;0;0;28.70181754                                            -82.079427                                                                    \n",
       "13153;Georgia;Houston;2020-01-31;0;0;32.45802497                                           -83.668791                                                                    \n",
       "13227;Georgia;Pickens;2020-01-31;0;0;34.46589159                                           -84.464066                                                                    \n",
       "13303;Georgia;Washington;2020-01-31;0;0;32.9671...                                         -82.793570                                                                    \n",
       "16003;Idaho;Adams;2020-01-31;0;0;44.89333571                                              -116.454525                                                                    "
      ]
     },
     "execution_count": 66,
     "metadata": {},
     "output_type": "execute_result"
    }
   ],
   "source": [
    "# sample data\n",
    "raw_data.head()"
   ]
  },
  {
   "cell_type": "code",
   "execution_count": 67,
   "id": "d848f168f261ce03",
   "metadata": {
    "ExecuteTime": {
     "end_time": "2023-10-09T10:55:57.782964Z",
     "start_time": "2023-10-09T10:55:55.956410Z"
    },
    "collapsed": false
   },
   "outputs": [],
   "source": [
    "# how to make right?\n",
    "raw_data = pd.read_csv('../../data/coronavirus-covid-19-pandemic-usa-counties.csv', sep=';')"
   ]
  },
  {
   "cell_type": "code",
   "execution_count": 68,
   "id": "681d200eb0c68bd9",
   "metadata": {
    "ExecuteTime": {
     "end_time": "2023-10-09T10:55:57.799207Z",
     "start_time": "2023-10-09T10:55:57.790600Z"
    },
    "collapsed": false
   },
   "outputs": [
    {
     "data": {
      "text/html": [
       "<div>\n",
       "<style scoped>\n",
       "    .dataframe tbody tr th:only-of-type {\n",
       "        vertical-align: middle;\n",
       "    }\n",
       "\n",
       "    .dataframe tbody tr th {\n",
       "        vertical-align: top;\n",
       "    }\n",
       "\n",
       "    .dataframe thead th {\n",
       "        text-align: right;\n",
       "    }\n",
       "</style>\n",
       "<table border=\"1\" class=\"dataframe\">\n",
       "  <thead>\n",
       "    <tr style=\"text-align: right;\">\n",
       "      <th></th>\n",
       "      <th>Admin 2 FIPS Code</th>\n",
       "      <th>Province/State</th>\n",
       "      <th>Admin 2 Level (City/County/Borough/Region)</th>\n",
       "      <th>Date</th>\n",
       "      <th>Total Death</th>\n",
       "      <th>Total Confirmed</th>\n",
       "      <th>location</th>\n",
       "    </tr>\n",
       "  </thead>\n",
       "  <tbody>\n",
       "    <tr>\n",
       "      <th>0</th>\n",
       "      <td>12119.0</td>\n",
       "      <td>Florida</td>\n",
       "      <td>Sumter</td>\n",
       "      <td>2020-01-31</td>\n",
       "      <td>0</td>\n",
       "      <td>0</td>\n",
       "      <td>28.70181754,-82.0794267</td>\n",
       "    </tr>\n",
       "    <tr>\n",
       "      <th>1</th>\n",
       "      <td>13153.0</td>\n",
       "      <td>Georgia</td>\n",
       "      <td>Houston</td>\n",
       "      <td>2020-01-31</td>\n",
       "      <td>0</td>\n",
       "      <td>0</td>\n",
       "      <td>32.45802497,-83.66879087</td>\n",
       "    </tr>\n",
       "    <tr>\n",
       "      <th>2</th>\n",
       "      <td>13227.0</td>\n",
       "      <td>Georgia</td>\n",
       "      <td>Pickens</td>\n",
       "      <td>2020-01-31</td>\n",
       "      <td>0</td>\n",
       "      <td>0</td>\n",
       "      <td>34.46589159,-84.46406611</td>\n",
       "    </tr>\n",
       "    <tr>\n",
       "      <th>3</th>\n",
       "      <td>13303.0</td>\n",
       "      <td>Georgia</td>\n",
       "      <td>Washington</td>\n",
       "      <td>2020-01-31</td>\n",
       "      <td>0</td>\n",
       "      <td>0</td>\n",
       "      <td>32.96711864,-82.79357039</td>\n",
       "    </tr>\n",
       "    <tr>\n",
       "      <th>4</th>\n",
       "      <td>16003.0</td>\n",
       "      <td>Idaho</td>\n",
       "      <td>Adams</td>\n",
       "      <td>2020-01-31</td>\n",
       "      <td>0</td>\n",
       "      <td>0</td>\n",
       "      <td>44.89333571,-116.4545247</td>\n",
       "    </tr>\n",
       "  </tbody>\n",
       "</table>\n",
       "</div>"
      ],
      "text/plain": [
       "   Admin 2 FIPS Code Province/State  \\\n",
       "0            12119.0        Florida   \n",
       "1            13153.0        Georgia   \n",
       "2            13227.0        Georgia   \n",
       "3            13303.0        Georgia   \n",
       "4            16003.0          Idaho   \n",
       "\n",
       "  Admin 2 Level (City/County/Borough/Region)        Date  Total Death  \\\n",
       "0                                     Sumter  2020-01-31            0   \n",
       "1                                    Houston  2020-01-31            0   \n",
       "2                                    Pickens  2020-01-31            0   \n",
       "3                                 Washington  2020-01-31            0   \n",
       "4                                      Adams  2020-01-31            0   \n",
       "\n",
       "   Total Confirmed                  location  \n",
       "0                0   28.70181754,-82.0794267  \n",
       "1                0  32.45802497,-83.66879087  \n",
       "2                0  34.46589159,-84.46406611  \n",
       "3                0  32.96711864,-82.79357039  \n",
       "4                0  44.89333571,-116.4545247  "
      ]
     },
     "execution_count": 68,
     "metadata": {},
     "output_type": "execute_result"
    }
   ],
   "source": [
    "raw_data.head() # This is better."
   ]
  },
  {
   "cell_type": "markdown",
   "id": "30de41d51da5c582",
   "metadata": {
    "collapsed": false
   },
   "source": [
    "## Header name ?"
   ]
  },
  {
   "cell_type": "code",
   "execution_count": 69,
   "id": "560e39016fad768",
   "metadata": {
    "ExecuteTime": {
     "end_time": "2023-10-09T10:55:57.799699Z",
     "start_time": "2023-10-09T10:55:57.793336Z"
    },
    "collapsed": false
   },
   "outputs": [
    {
     "data": {
      "text/plain": [
       "Index(['Admin 2 FIPS Code', 'Province/State',\n",
       "       'Admin 2 Level (City/County/Borough/Region)', 'Date', 'Total Death',\n",
       "       'Total Confirmed', 'location'],\n",
       "      dtype='object')"
      ]
     },
     "execution_count": 69,
     "metadata": {},
     "output_type": "execute_result"
    }
   ],
   "source": [
    "raw_data.columns"
   ]
  },
  {
   "cell_type": "code",
   "execution_count": 70,
   "id": "e362305e26ffb571",
   "metadata": {
    "ExecuteTime": {
     "end_time": "2023-10-09T10:55:58.007535Z",
     "start_time": "2023-10-09T10:55:58.000052Z"
    },
    "collapsed": false
   },
   "outputs": [],
   "source": [
    "# US doesn't have a province, but states\n",
    "# FIPS code only, Admin 2 Level is not necessary\n",
    "# What is total confirmed?\n",
    "raw_data.rename(columns={\n",
    "    'Admin 2 FIPS Code': 'FIPS',\n",
    "    'Province/State': 'State',\n",
    "    'Admin 2 Level (City/County/Borough/Region)': 'City/County/Borough/Region',\n",
    "    'Total Confirmed': 'infected total',\n",
    "    'Total Death': 'death total',\n",
    "}, inplace=True)\n"
   ]
  },
  {
   "cell_type": "code",
   "execution_count": 71,
   "id": "f897a4d5fc149f4d",
   "metadata": {
    "ExecuteTime": {
     "end_time": "2023-10-09T10:55:58.513380Z",
     "start_time": "2023-10-09T10:55:58.497528Z"
    },
    "collapsed": false
   },
   "outputs": [
    {
     "data": {
      "text/html": [
       "<div>\n",
       "<style scoped>\n",
       "    .dataframe tbody tr th:only-of-type {\n",
       "        vertical-align: middle;\n",
       "    }\n",
       "\n",
       "    .dataframe tbody tr th {\n",
       "        vertical-align: top;\n",
       "    }\n",
       "\n",
       "    .dataframe thead th {\n",
       "        text-align: right;\n",
       "    }\n",
       "</style>\n",
       "<table border=\"1\" class=\"dataframe\">\n",
       "  <thead>\n",
       "    <tr style=\"text-align: right;\">\n",
       "      <th></th>\n",
       "      <th>FIPS</th>\n",
       "      <th>State</th>\n",
       "      <th>City/County/Borough/Region</th>\n",
       "      <th>Date</th>\n",
       "      <th>death total</th>\n",
       "      <th>infected total</th>\n",
       "      <th>location</th>\n",
       "    </tr>\n",
       "  </thead>\n",
       "  <tbody>\n",
       "    <tr>\n",
       "      <th>0</th>\n",
       "      <td>12119.0</td>\n",
       "      <td>Florida</td>\n",
       "      <td>Sumter</td>\n",
       "      <td>2020-01-31</td>\n",
       "      <td>0</td>\n",
       "      <td>0</td>\n",
       "      <td>28.70181754,-82.0794267</td>\n",
       "    </tr>\n",
       "    <tr>\n",
       "      <th>1</th>\n",
       "      <td>13153.0</td>\n",
       "      <td>Georgia</td>\n",
       "      <td>Houston</td>\n",
       "      <td>2020-01-31</td>\n",
       "      <td>0</td>\n",
       "      <td>0</td>\n",
       "      <td>32.45802497,-83.66879087</td>\n",
       "    </tr>\n",
       "    <tr>\n",
       "      <th>2</th>\n",
       "      <td>13227.0</td>\n",
       "      <td>Georgia</td>\n",
       "      <td>Pickens</td>\n",
       "      <td>2020-01-31</td>\n",
       "      <td>0</td>\n",
       "      <td>0</td>\n",
       "      <td>34.46589159,-84.46406611</td>\n",
       "    </tr>\n",
       "    <tr>\n",
       "      <th>3</th>\n",
       "      <td>13303.0</td>\n",
       "      <td>Georgia</td>\n",
       "      <td>Washington</td>\n",
       "      <td>2020-01-31</td>\n",
       "      <td>0</td>\n",
       "      <td>0</td>\n",
       "      <td>32.96711864,-82.79357039</td>\n",
       "    </tr>\n",
       "    <tr>\n",
       "      <th>4</th>\n",
       "      <td>16003.0</td>\n",
       "      <td>Idaho</td>\n",
       "      <td>Adams</td>\n",
       "      <td>2020-01-31</td>\n",
       "      <td>0</td>\n",
       "      <td>0</td>\n",
       "      <td>44.89333571,-116.4545247</td>\n",
       "    </tr>\n",
       "  </tbody>\n",
       "</table>\n",
       "</div>"
      ],
      "text/plain": [
       "      FIPS    State City/County/Borough/Region        Date  death total  \\\n",
       "0  12119.0  Florida                     Sumter  2020-01-31            0   \n",
       "1  13153.0  Georgia                    Houston  2020-01-31            0   \n",
       "2  13227.0  Georgia                    Pickens  2020-01-31            0   \n",
       "3  13303.0  Georgia                 Washington  2020-01-31            0   \n",
       "4  16003.0    Idaho                      Adams  2020-01-31            0   \n",
       "\n",
       "   infected total                  location  \n",
       "0               0   28.70181754,-82.0794267  \n",
       "1               0  32.45802497,-83.66879087  \n",
       "2               0  34.46589159,-84.46406611  \n",
       "3               0  32.96711864,-82.79357039  \n",
       "4               0  44.89333571,-116.4545247  "
      ]
     },
     "execution_count": 71,
     "metadata": {},
     "output_type": "execute_result"
    }
   ],
   "source": [
    "raw_data.head()"
   ]
  },
  {
   "cell_type": "markdown",
   "id": "1f2928cf0b88ea09",
   "metadata": {
    "collapsed": false
   },
   "source": [
    "### Remove duplicates "
   ]
  },
  {
   "cell_type": "code",
   "execution_count": 72,
   "id": "1cde7bd76878e4b1",
   "metadata": {
    "ExecuteTime": {
     "end_time": "2023-10-09T10:56:00.023504Z",
     "start_time": "2023-10-09T10:55:59.087934Z"
    },
    "collapsed": false
   },
   "outputs": [
    {
     "data": {
      "text/plain": [
       "0"
      ]
     },
     "execution_count": 72,
     "metadata": {},
     "output_type": "execute_result"
    }
   ],
   "source": [
    "# check duplicates\n",
    "raw_data.duplicated().sum() # no duplicates, good!"
   ]
  },
  {
   "cell_type": "markdown",
   "id": "68c208578796fee5",
   "metadata": {
    "collapsed": false
   },
   "source": [
    "### Homogeneous variables"
   ]
  },
  {
   "cell_type": "markdown",
   "id": "454e3a994a2e1b8a",
   "metadata": {
    "collapsed": false
   },
   "source": []
  },
  {
   "cell_type": "code",
   "execution_count": 73,
   "id": "7d506542dc4212c9",
   "metadata": {
    "ExecuteTime": {
     "end_time": "2023-10-09T10:56:00.023752Z",
     "start_time": "2023-10-09T10:56:00.016418Z"
    },
    "collapsed": false
   },
   "outputs": [],
   "source": [
    "import json"
   ]
  },
  {
   "cell_type": "code",
   "execution_count": 74,
   "id": "e02604e7918ad67f",
   "metadata": {
    "ExecuteTime": {
     "end_time": "2023-10-09T10:56:00.104970Z",
     "start_time": "2023-10-09T10:56:00.096708Z"
    },
    "collapsed": false
   },
   "outputs": [],
   "source": [
    "name_of_state_us = json.load(open('name_state_us.json'))"
   ]
  },
  {
   "cell_type": "code",
   "execution_count": 75,
   "id": "9ed664ac4a6eb674",
   "metadata": {
    "ExecuteTime": {
     "end_time": "2023-10-09T10:56:00.419053Z",
     "start_time": "2023-10-09T10:56:00.288568Z"
    },
    "collapsed": false
   },
   "outputs": [],
   "source": [
    "raw_data['Abbr'] = raw_data['State'].map(name_of_state_us)\n"
   ]
  },
  {
   "cell_type": "code",
   "execution_count": 76,
   "id": "1c8a595ccc10d453",
   "metadata": {
    "ExecuteTime": {
     "end_time": "2023-10-09T10:56:00.501217Z",
     "start_time": "2023-10-09T10:56:00.496396Z"
    },
    "collapsed": false
   },
   "outputs": [
    {
     "data": {
      "text/html": [
       "<div>\n",
       "<style scoped>\n",
       "    .dataframe tbody tr th:only-of-type {\n",
       "        vertical-align: middle;\n",
       "    }\n",
       "\n",
       "    .dataframe tbody tr th {\n",
       "        vertical-align: top;\n",
       "    }\n",
       "\n",
       "    .dataframe thead th {\n",
       "        text-align: right;\n",
       "    }\n",
       "</style>\n",
       "<table border=\"1\" class=\"dataframe\">\n",
       "  <thead>\n",
       "    <tr style=\"text-align: right;\">\n",
       "      <th></th>\n",
       "      <th>FIPS</th>\n",
       "      <th>State</th>\n",
       "      <th>City/County/Borough/Region</th>\n",
       "      <th>Date</th>\n",
       "      <th>death total</th>\n",
       "      <th>infected total</th>\n",
       "      <th>location</th>\n",
       "      <th>Abbr</th>\n",
       "    </tr>\n",
       "  </thead>\n",
       "  <tbody>\n",
       "    <tr>\n",
       "      <th>0</th>\n",
       "      <td>12119.0</td>\n",
       "      <td>Florida</td>\n",
       "      <td>Sumter</td>\n",
       "      <td>2020-01-31</td>\n",
       "      <td>0</td>\n",
       "      <td>0</td>\n",
       "      <td>28.70181754,-82.0794267</td>\n",
       "      <td>FL</td>\n",
       "    </tr>\n",
       "    <tr>\n",
       "      <th>1</th>\n",
       "      <td>13153.0</td>\n",
       "      <td>Georgia</td>\n",
       "      <td>Houston</td>\n",
       "      <td>2020-01-31</td>\n",
       "      <td>0</td>\n",
       "      <td>0</td>\n",
       "      <td>32.45802497,-83.66879087</td>\n",
       "      <td>GA</td>\n",
       "    </tr>\n",
       "    <tr>\n",
       "      <th>2</th>\n",
       "      <td>13227.0</td>\n",
       "      <td>Georgia</td>\n",
       "      <td>Pickens</td>\n",
       "      <td>2020-01-31</td>\n",
       "      <td>0</td>\n",
       "      <td>0</td>\n",
       "      <td>34.46589159,-84.46406611</td>\n",
       "      <td>GA</td>\n",
       "    </tr>\n",
       "    <tr>\n",
       "      <th>3</th>\n",
       "      <td>13303.0</td>\n",
       "      <td>Georgia</td>\n",
       "      <td>Washington</td>\n",
       "      <td>2020-01-31</td>\n",
       "      <td>0</td>\n",
       "      <td>0</td>\n",
       "      <td>32.96711864,-82.79357039</td>\n",
       "      <td>GA</td>\n",
       "    </tr>\n",
       "    <tr>\n",
       "      <th>4</th>\n",
       "      <td>16003.0</td>\n",
       "      <td>Idaho</td>\n",
       "      <td>Adams</td>\n",
       "      <td>2020-01-31</td>\n",
       "      <td>0</td>\n",
       "      <td>0</td>\n",
       "      <td>44.89333571,-116.4545247</td>\n",
       "      <td>ID</td>\n",
       "    </tr>\n",
       "  </tbody>\n",
       "</table>\n",
       "</div>"
      ],
      "text/plain": [
       "      FIPS    State City/County/Borough/Region        Date  death total  \\\n",
       "0  12119.0  Florida                     Sumter  2020-01-31            0   \n",
       "1  13153.0  Georgia                    Houston  2020-01-31            0   \n",
       "2  13227.0  Georgia                    Pickens  2020-01-31            0   \n",
       "3  13303.0  Georgia                 Washington  2020-01-31            0   \n",
       "4  16003.0    Idaho                      Adams  2020-01-31            0   \n",
       "\n",
       "   infected total                  location Abbr  \n",
       "0               0   28.70181754,-82.0794267   FL  \n",
       "1               0  32.45802497,-83.66879087   GA  \n",
       "2               0  34.46589159,-84.46406611   GA  \n",
       "3               0  32.96711864,-82.79357039   GA  \n",
       "4               0  44.89333571,-116.4545247   ID  "
      ]
     },
     "execution_count": 76,
     "metadata": {},
     "output_type": "execute_result"
    }
   ],
   "source": [
    "raw_data.head()"
   ]
  },
  {
   "cell_type": "code",
   "execution_count": 77,
   "id": "643740dd4fb6158e",
   "metadata": {
    "ExecuteTime": {
     "end_time": "2023-10-09T10:56:00.750310Z",
     "start_time": "2023-10-09T10:56:00.686954Z"
    },
    "collapsed": false
   },
   "outputs": [
    {
     "data": {
      "text/plain": [
       "81954"
      ]
     },
     "execution_count": 77,
     "metadata": {},
     "output_type": "execute_result"
    }
   ],
   "source": [
    "raw_data['Abbr'].isnull().sum() # something went wrong?"
   ]
  },
  {
   "cell_type": "code",
   "execution_count": 78,
   "id": "2444ccfd6f336479",
   "metadata": {
    "ExecuteTime": {
     "end_time": "2023-10-09T10:56:04.870653Z",
     "start_time": "2023-10-09T10:56:00.977154Z"
    },
    "collapsed": false
   },
   "outputs": [],
   "source": [
    "# locate must show as (lat, lon)\n",
    "raw_data[['lat', 'lon']] = raw_data['location'].str.split(',', expand=True)\n",
    "raw_data.drop('location', axis=1, inplace=True)"
   ]
  },
  {
   "cell_type": "code",
   "execution_count": 79,
   "id": "5757097d0ecef0f2",
   "metadata": {
    "ExecuteTime": {
     "end_time": "2023-10-09T10:56:04.881583Z",
     "start_time": "2023-10-09T10:56:04.874597Z"
    },
    "collapsed": false
   },
   "outputs": [
    {
     "data": {
      "text/html": [
       "<div>\n",
       "<style scoped>\n",
       "    .dataframe tbody tr th:only-of-type {\n",
       "        vertical-align: middle;\n",
       "    }\n",
       "\n",
       "    .dataframe tbody tr th {\n",
       "        vertical-align: top;\n",
       "    }\n",
       "\n",
       "    .dataframe thead th {\n",
       "        text-align: right;\n",
       "    }\n",
       "</style>\n",
       "<table border=\"1\" class=\"dataframe\">\n",
       "  <thead>\n",
       "    <tr style=\"text-align: right;\">\n",
       "      <th></th>\n",
       "      <th>FIPS</th>\n",
       "      <th>State</th>\n",
       "      <th>City/County/Borough/Region</th>\n",
       "      <th>Date</th>\n",
       "      <th>death total</th>\n",
       "      <th>infected total</th>\n",
       "      <th>Abbr</th>\n",
       "      <th>lat</th>\n",
       "      <th>lon</th>\n",
       "    </tr>\n",
       "  </thead>\n",
       "  <tbody>\n",
       "    <tr>\n",
       "      <th>0</th>\n",
       "      <td>12119.0</td>\n",
       "      <td>Florida</td>\n",
       "      <td>Sumter</td>\n",
       "      <td>2020-01-31</td>\n",
       "      <td>0</td>\n",
       "      <td>0</td>\n",
       "      <td>FL</td>\n",
       "      <td>28.70181754</td>\n",
       "      <td>-82.0794267</td>\n",
       "    </tr>\n",
       "    <tr>\n",
       "      <th>1</th>\n",
       "      <td>13153.0</td>\n",
       "      <td>Georgia</td>\n",
       "      <td>Houston</td>\n",
       "      <td>2020-01-31</td>\n",
       "      <td>0</td>\n",
       "      <td>0</td>\n",
       "      <td>GA</td>\n",
       "      <td>32.45802497</td>\n",
       "      <td>-83.66879087</td>\n",
       "    </tr>\n",
       "    <tr>\n",
       "      <th>2</th>\n",
       "      <td>13227.0</td>\n",
       "      <td>Georgia</td>\n",
       "      <td>Pickens</td>\n",
       "      <td>2020-01-31</td>\n",
       "      <td>0</td>\n",
       "      <td>0</td>\n",
       "      <td>GA</td>\n",
       "      <td>34.46589159</td>\n",
       "      <td>-84.46406611</td>\n",
       "    </tr>\n",
       "    <tr>\n",
       "      <th>3</th>\n",
       "      <td>13303.0</td>\n",
       "      <td>Georgia</td>\n",
       "      <td>Washington</td>\n",
       "      <td>2020-01-31</td>\n",
       "      <td>0</td>\n",
       "      <td>0</td>\n",
       "      <td>GA</td>\n",
       "      <td>32.96711864</td>\n",
       "      <td>-82.79357039</td>\n",
       "    </tr>\n",
       "    <tr>\n",
       "      <th>4</th>\n",
       "      <td>16003.0</td>\n",
       "      <td>Idaho</td>\n",
       "      <td>Adams</td>\n",
       "      <td>2020-01-31</td>\n",
       "      <td>0</td>\n",
       "      <td>0</td>\n",
       "      <td>ID</td>\n",
       "      <td>44.89333571</td>\n",
       "      <td>-116.4545247</td>\n",
       "    </tr>\n",
       "  </tbody>\n",
       "</table>\n",
       "</div>"
      ],
      "text/plain": [
       "      FIPS    State City/County/Borough/Region        Date  death total  \\\n",
       "0  12119.0  Florida                     Sumter  2020-01-31            0   \n",
       "1  13153.0  Georgia                    Houston  2020-01-31            0   \n",
       "2  13227.0  Georgia                    Pickens  2020-01-31            0   \n",
       "3  13303.0  Georgia                 Washington  2020-01-31            0   \n",
       "4  16003.0    Idaho                      Adams  2020-01-31            0   \n",
       "\n",
       "   infected total Abbr          lat           lon  \n",
       "0               0   FL  28.70181754   -82.0794267  \n",
       "1               0   GA  32.45802497  -83.66879087  \n",
       "2               0   GA  34.46589159  -84.46406611  \n",
       "3               0   GA  32.96711864  -82.79357039  \n",
       "4               0   ID  44.89333571  -116.4545247  "
      ]
     },
     "execution_count": 79,
     "metadata": {},
     "output_type": "execute_result"
    }
   ],
   "source": [
    "raw_data.head()"
   ]
  },
  {
   "cell_type": "markdown",
   "id": "a69eeef286d44fb2",
   "metadata": {
    "collapsed": false
   },
   "source": [
    "### Unique identifier"
   ]
  },
  {
   "cell_type": "code",
   "execution_count": 80,
   "id": "905dd3d57fa9a0e",
   "metadata": {
    "ExecuteTime": {
     "end_time": "2023-10-09T10:56:06.395086Z",
     "start_time": "2023-10-09T10:56:04.877056Z"
    },
    "collapsed": false
   },
   "outputs": [],
   "source": [
    "# unique identifier is Date + index of row\n",
    "raw_data['id'] = raw_data['Date'].str.replace('-', '') + raw_data.index.astype(str)  "
   ]
  },
  {
   "cell_type": "code",
   "execution_count": 81,
   "id": "1f05a3ff8cdd163c",
   "metadata": {
    "ExecuteTime": {
     "end_time": "2023-10-09T10:56:06.405893Z",
     "start_time": "2023-10-09T10:56:06.394945Z"
    },
    "collapsed": false
   },
   "outputs": [
    {
     "data": {
      "text/html": [
       "<div>\n",
       "<style scoped>\n",
       "    .dataframe tbody tr th:only-of-type {\n",
       "        vertical-align: middle;\n",
       "    }\n",
       "\n",
       "    .dataframe tbody tr th {\n",
       "        vertical-align: top;\n",
       "    }\n",
       "\n",
       "    .dataframe thead th {\n",
       "        text-align: right;\n",
       "    }\n",
       "</style>\n",
       "<table border=\"1\" class=\"dataframe\">\n",
       "  <thead>\n",
       "    <tr style=\"text-align: right;\">\n",
       "      <th></th>\n",
       "      <th>FIPS</th>\n",
       "      <th>State</th>\n",
       "      <th>City/County/Borough/Region</th>\n",
       "      <th>Date</th>\n",
       "      <th>death total</th>\n",
       "      <th>infected total</th>\n",
       "      <th>Abbr</th>\n",
       "      <th>lat</th>\n",
       "      <th>lon</th>\n",
       "      <th>id</th>\n",
       "    </tr>\n",
       "  </thead>\n",
       "  <tbody>\n",
       "    <tr>\n",
       "      <th>0</th>\n",
       "      <td>12119.0</td>\n",
       "      <td>Florida</td>\n",
       "      <td>Sumter</td>\n",
       "      <td>2020-01-31</td>\n",
       "      <td>0</td>\n",
       "      <td>0</td>\n",
       "      <td>FL</td>\n",
       "      <td>28.70181754</td>\n",
       "      <td>-82.0794267</td>\n",
       "      <td>202001310</td>\n",
       "    </tr>\n",
       "    <tr>\n",
       "      <th>1</th>\n",
       "      <td>13153.0</td>\n",
       "      <td>Georgia</td>\n",
       "      <td>Houston</td>\n",
       "      <td>2020-01-31</td>\n",
       "      <td>0</td>\n",
       "      <td>0</td>\n",
       "      <td>GA</td>\n",
       "      <td>32.45802497</td>\n",
       "      <td>-83.66879087</td>\n",
       "      <td>202001311</td>\n",
       "    </tr>\n",
       "    <tr>\n",
       "      <th>2</th>\n",
       "      <td>13227.0</td>\n",
       "      <td>Georgia</td>\n",
       "      <td>Pickens</td>\n",
       "      <td>2020-01-31</td>\n",
       "      <td>0</td>\n",
       "      <td>0</td>\n",
       "      <td>GA</td>\n",
       "      <td>34.46589159</td>\n",
       "      <td>-84.46406611</td>\n",
       "      <td>202001312</td>\n",
       "    </tr>\n",
       "    <tr>\n",
       "      <th>3</th>\n",
       "      <td>13303.0</td>\n",
       "      <td>Georgia</td>\n",
       "      <td>Washington</td>\n",
       "      <td>2020-01-31</td>\n",
       "      <td>0</td>\n",
       "      <td>0</td>\n",
       "      <td>GA</td>\n",
       "      <td>32.96711864</td>\n",
       "      <td>-82.79357039</td>\n",
       "      <td>202001313</td>\n",
       "    </tr>\n",
       "    <tr>\n",
       "      <th>4</th>\n",
       "      <td>16003.0</td>\n",
       "      <td>Idaho</td>\n",
       "      <td>Adams</td>\n",
       "      <td>2020-01-31</td>\n",
       "      <td>0</td>\n",
       "      <td>0</td>\n",
       "      <td>ID</td>\n",
       "      <td>44.89333571</td>\n",
       "      <td>-116.4545247</td>\n",
       "      <td>202001314</td>\n",
       "    </tr>\n",
       "  </tbody>\n",
       "</table>\n",
       "</div>"
      ],
      "text/plain": [
       "      FIPS    State City/County/Borough/Region        Date  death total  \\\n",
       "0  12119.0  Florida                     Sumter  2020-01-31            0   \n",
       "1  13153.0  Georgia                    Houston  2020-01-31            0   \n",
       "2  13227.0  Georgia                    Pickens  2020-01-31            0   \n",
       "3  13303.0  Georgia                 Washington  2020-01-31            0   \n",
       "4  16003.0    Idaho                      Adams  2020-01-31            0   \n",
       "\n",
       "   infected total Abbr          lat           lon         id  \n",
       "0               0   FL  28.70181754   -82.0794267  202001310  \n",
       "1               0   GA  32.45802497  -83.66879087  202001311  \n",
       "2               0   GA  34.46589159  -84.46406611  202001312  \n",
       "3               0   GA  32.96711864  -82.79357039  202001313  \n",
       "4               0   ID  44.89333571  -116.4545247  202001314  "
      ]
     },
     "execution_count": 81,
     "metadata": {},
     "output_type": "execute_result"
    }
   ],
   "source": [
    "raw_data.head() # id is smell, but it's ok for now."
   ]
  },
  {
   "cell_type": "markdown",
   "id": "ed1603b3dc126831",
   "metadata": {
    "collapsed": false
   },
   "source": [
    "### Data type"
   ]
  },
  {
   "cell_type": "code",
   "execution_count": 82,
   "id": "f16df554194212f3",
   "metadata": {
    "ExecuteTime": {
     "end_time": "2023-10-09T10:56:06.416470Z",
     "start_time": "2023-10-09T10:56:06.406585Z"
    },
    "collapsed": false
   },
   "outputs": [
    {
     "data": {
      "text/plain": [
       "FIPS                          float64\n",
       "State                          object\n",
       "City/County/Borough/Region     object\n",
       "Date                           object\n",
       "death total                     int64\n",
       "infected total                  int64\n",
       "Abbr                           object\n",
       "lat                            object\n",
       "lon                            object\n",
       "id                             object\n",
       "dtype: object"
      ]
     },
     "execution_count": 82,
     "metadata": {},
     "output_type": "execute_result"
    }
   ],
   "source": [
    "raw_data.dtypes"
   ]
  },
  {
   "cell_type": "code",
   "execution_count": 83,
   "id": "2f5013bc32f63854",
   "metadata": {
    "ExecuteTime": {
     "end_time": "2023-10-09T10:56:08.150705Z",
     "start_time": "2023-10-09T10:56:06.411390Z"
    },
    "collapsed": false
   },
   "outputs": [
    {
     "name": "stderr",
     "output_type": "stream",
     "text": [
      "/tmp/ipykernel_15408/487705806.py:2: FutureWarning: The default value of regex will change from True to False in a future version.\n",
      "  raw_data['FIPS'] = raw_data['FIPS'].astype(str).str.replace('.0', '')\n"
     ]
    }
   ],
   "source": [
    "# First of all FIPS is not float, it's string\n",
    "raw_data['FIPS'] = raw_data['FIPS'].astype(str).str.replace('.0', '')\n",
    "\n",
    "# Date is not a string, it's a date\n",
    "raw_data['Date'] = pd.to_datetime(raw_data['Date'])\n",
    "\n",
    "# Lat and Lon are not string, they are floated\n",
    "raw_data['lat'] = raw_data['lat'].astype(float)\n",
    "raw_data['lon'] = raw_data['lon'].astype(float)"
   ]
  },
  {
   "cell_type": "code",
   "execution_count": 84,
   "id": "868f686b0b1df243",
   "metadata": {
    "ExecuteTime": {
     "end_time": "2023-10-09T10:56:08.196376Z",
     "start_time": "2023-10-09T10:56:08.193860Z"
    },
    "collapsed": false
   },
   "outputs": [
    {
     "data": {
      "text/html": [
       "<div>\n",
       "<style scoped>\n",
       "    .dataframe tbody tr th:only-of-type {\n",
       "        vertical-align: middle;\n",
       "    }\n",
       "\n",
       "    .dataframe tbody tr th {\n",
       "        vertical-align: top;\n",
       "    }\n",
       "\n",
       "    .dataframe thead th {\n",
       "        text-align: right;\n",
       "    }\n",
       "</style>\n",
       "<table border=\"1\" class=\"dataframe\">\n",
       "  <thead>\n",
       "    <tr style=\"text-align: right;\">\n",
       "      <th></th>\n",
       "      <th>FIPS</th>\n",
       "      <th>State</th>\n",
       "      <th>City/County/Borough/Region</th>\n",
       "      <th>Date</th>\n",
       "      <th>death total</th>\n",
       "      <th>infected total</th>\n",
       "      <th>Abbr</th>\n",
       "      <th>lat</th>\n",
       "      <th>lon</th>\n",
       "      <th>id</th>\n",
       "    </tr>\n",
       "  </thead>\n",
       "  <tbody>\n",
       "    <tr>\n",
       "      <th>0</th>\n",
       "      <td>12119</td>\n",
       "      <td>Florida</td>\n",
       "      <td>Sumter</td>\n",
       "      <td>2020-01-31</td>\n",
       "      <td>0</td>\n",
       "      <td>0</td>\n",
       "      <td>FL</td>\n",
       "      <td>28.701818</td>\n",
       "      <td>-82.079427</td>\n",
       "      <td>202001310</td>\n",
       "    </tr>\n",
       "    <tr>\n",
       "      <th>1</th>\n",
       "      <td>13153</td>\n",
       "      <td>Georgia</td>\n",
       "      <td>Houston</td>\n",
       "      <td>2020-01-31</td>\n",
       "      <td>0</td>\n",
       "      <td>0</td>\n",
       "      <td>GA</td>\n",
       "      <td>32.458025</td>\n",
       "      <td>-83.668791</td>\n",
       "      <td>202001311</td>\n",
       "    </tr>\n",
       "    <tr>\n",
       "      <th>2</th>\n",
       "      <td>13227</td>\n",
       "      <td>Georgia</td>\n",
       "      <td>Pickens</td>\n",
       "      <td>2020-01-31</td>\n",
       "      <td>0</td>\n",
       "      <td>0</td>\n",
       "      <td>GA</td>\n",
       "      <td>34.465892</td>\n",
       "      <td>-84.464066</td>\n",
       "      <td>202001312</td>\n",
       "    </tr>\n",
       "    <tr>\n",
       "      <th>3</th>\n",
       "      <td>133</td>\n",
       "      <td>Georgia</td>\n",
       "      <td>Washington</td>\n",
       "      <td>2020-01-31</td>\n",
       "      <td>0</td>\n",
       "      <td>0</td>\n",
       "      <td>GA</td>\n",
       "      <td>32.967119</td>\n",
       "      <td>-82.793570</td>\n",
       "      <td>202001313</td>\n",
       "    </tr>\n",
       "    <tr>\n",
       "      <th>4</th>\n",
       "      <td>103</td>\n",
       "      <td>Idaho</td>\n",
       "      <td>Adams</td>\n",
       "      <td>2020-01-31</td>\n",
       "      <td>0</td>\n",
       "      <td>0</td>\n",
       "      <td>ID</td>\n",
       "      <td>44.893336</td>\n",
       "      <td>-116.454525</td>\n",
       "      <td>202001314</td>\n",
       "    </tr>\n",
       "  </tbody>\n",
       "</table>\n",
       "</div>"
      ],
      "text/plain": [
       "    FIPS    State City/County/Borough/Region       Date  death total  \\\n",
       "0  12119  Florida                     Sumter 2020-01-31            0   \n",
       "1  13153  Georgia                    Houston 2020-01-31            0   \n",
       "2  13227  Georgia                    Pickens 2020-01-31            0   \n",
       "3    133  Georgia                 Washington 2020-01-31            0   \n",
       "4    103    Idaho                      Adams 2020-01-31            0   \n",
       "\n",
       "   infected total Abbr        lat         lon         id  \n",
       "0               0   FL  28.701818  -82.079427  202001310  \n",
       "1               0   GA  32.458025  -83.668791  202001311  \n",
       "2               0   GA  34.465892  -84.464066  202001312  \n",
       "3               0   GA  32.967119  -82.793570  202001313  \n",
       "4               0   ID  44.893336 -116.454525  202001314  "
      ]
     },
     "execution_count": 84,
     "metadata": {},
     "output_type": "execute_result"
    }
   ],
   "source": [
    "raw_data.head()"
   ]
  },
  {
   "cell_type": "code",
   "execution_count": 85,
   "id": "de197c1465282a92",
   "metadata": {
    "ExecuteTime": {
     "end_time": "2023-10-09T10:56:08.204782Z",
     "start_time": "2023-10-09T10:56:08.197448Z"
    },
    "collapsed": false
   },
   "outputs": [
    {
     "data": {
      "text/plain": [
       "FIPS                                  object\n",
       "State                                 object\n",
       "City/County/Borough/Region            object\n",
       "Date                          datetime64[ns]\n",
       "death total                            int64\n",
       "infected total                         int64\n",
       "Abbr                                  object\n",
       "lat                                  float64\n",
       "lon                                  float64\n",
       "id                                    object\n",
       "dtype: object"
      ]
     },
     "execution_count": 85,
     "metadata": {},
     "output_type": "execute_result"
    }
   ],
   "source": [
    "raw_data.dtypes"
   ]
  },
  {
   "cell_type": "code",
   "execution_count": 86,
   "id": "64f5dd3f",
   "metadata": {
    "ExecuteTime": {
     "end_time": "2023-10-09T10:56:08.205186Z",
     "start_time": "2023-10-09T10:56:08.201148Z"
    }
   },
   "outputs": [
    {
     "data": {
      "text/plain": [
       "3099180"
      ]
     },
     "execution_count": 86,
     "metadata": {},
     "output_type": "execute_result"
    }
   ],
   "source": [
    "length = raw_data.shape[0]\n",
    "length\n"
   ]
  },
  {
   "cell_type": "code",
   "execution_count": null,
   "id": "f3312dae2a04e0a4",
   "metadata": {
    "ExecuteTime": {
     "end_time": "2023-10-09T10:56:31.046816Z",
     "start_time": "2023-10-09T10:56:30.261451Z"
    },
    "collapsed": false
   },
   "outputs": [],
   "source": []
  },
  {
   "cell_type": "code",
   "execution_count": 87,
   "id": "d2447ec962e43bc6",
   "metadata": {
    "ExecuteTime": {
     "end_time": "2023-10-09T10:56:42.196873Z",
     "start_time": "2023-10-09T10:56:39.621213Z"
    },
    "collapsed": false
   },
   "outputs": [],
   "source": [
    "# fix unique identifier\n",
    "raw_data['id'] = (\n",
    "    raw_data['Date'].astype(str).str.replace('-', '') + \n",
    "    raw_data.index.astype(str).str.zfill(len(str(length)))\n",
    ")"
   ]
  },
  {
   "cell_type": "code",
   "execution_count": 88,
   "id": "6fd41fd043b5e656",
   "metadata": {
    "ExecuteTime": {
     "end_time": "2023-10-09T10:56:46.004180Z",
     "start_time": "2023-10-09T10:56:45.993397Z"
    },
    "collapsed": false
   },
   "outputs": [
    {
     "data": {
      "text/html": [
       "<div>\n",
       "<style scoped>\n",
       "    .dataframe tbody tr th:only-of-type {\n",
       "        vertical-align: middle;\n",
       "    }\n",
       "\n",
       "    .dataframe tbody tr th {\n",
       "        vertical-align: top;\n",
       "    }\n",
       "\n",
       "    .dataframe thead th {\n",
       "        text-align: right;\n",
       "    }\n",
       "</style>\n",
       "<table border=\"1\" class=\"dataframe\">\n",
       "  <thead>\n",
       "    <tr style=\"text-align: right;\">\n",
       "      <th></th>\n",
       "      <th>FIPS</th>\n",
       "      <th>State</th>\n",
       "      <th>City/County/Borough/Region</th>\n",
       "      <th>Date</th>\n",
       "      <th>death total</th>\n",
       "      <th>infected total</th>\n",
       "      <th>Abbr</th>\n",
       "      <th>lat</th>\n",
       "      <th>lon</th>\n",
       "      <th>id</th>\n",
       "    </tr>\n",
       "  </thead>\n",
       "  <tbody>\n",
       "    <tr>\n",
       "      <th>0</th>\n",
       "      <td>12119</td>\n",
       "      <td>Florida</td>\n",
       "      <td>Sumter</td>\n",
       "      <td>2020-01-31</td>\n",
       "      <td>0</td>\n",
       "      <td>0</td>\n",
       "      <td>FL</td>\n",
       "      <td>28.701818</td>\n",
       "      <td>-82.079427</td>\n",
       "      <td>202001310000000</td>\n",
       "    </tr>\n",
       "    <tr>\n",
       "      <th>1</th>\n",
       "      <td>13153</td>\n",
       "      <td>Georgia</td>\n",
       "      <td>Houston</td>\n",
       "      <td>2020-01-31</td>\n",
       "      <td>0</td>\n",
       "      <td>0</td>\n",
       "      <td>GA</td>\n",
       "      <td>32.458025</td>\n",
       "      <td>-83.668791</td>\n",
       "      <td>202001310000001</td>\n",
       "    </tr>\n",
       "    <tr>\n",
       "      <th>2</th>\n",
       "      <td>13227</td>\n",
       "      <td>Georgia</td>\n",
       "      <td>Pickens</td>\n",
       "      <td>2020-01-31</td>\n",
       "      <td>0</td>\n",
       "      <td>0</td>\n",
       "      <td>GA</td>\n",
       "      <td>34.465892</td>\n",
       "      <td>-84.464066</td>\n",
       "      <td>202001310000002</td>\n",
       "    </tr>\n",
       "    <tr>\n",
       "      <th>3</th>\n",
       "      <td>133</td>\n",
       "      <td>Georgia</td>\n",
       "      <td>Washington</td>\n",
       "      <td>2020-01-31</td>\n",
       "      <td>0</td>\n",
       "      <td>0</td>\n",
       "      <td>GA</td>\n",
       "      <td>32.967119</td>\n",
       "      <td>-82.793570</td>\n",
       "      <td>202001310000003</td>\n",
       "    </tr>\n",
       "    <tr>\n",
       "      <th>4</th>\n",
       "      <td>103</td>\n",
       "      <td>Idaho</td>\n",
       "      <td>Adams</td>\n",
       "      <td>2020-01-31</td>\n",
       "      <td>0</td>\n",
       "      <td>0</td>\n",
       "      <td>ID</td>\n",
       "      <td>44.893336</td>\n",
       "      <td>-116.454525</td>\n",
       "      <td>202001310000004</td>\n",
       "    </tr>\n",
       "  </tbody>\n",
       "</table>\n",
       "</div>"
      ],
      "text/plain": [
       "    FIPS    State City/County/Borough/Region       Date  death total  \\\n",
       "0  12119  Florida                     Sumter 2020-01-31            0   \n",
       "1  13153  Georgia                    Houston 2020-01-31            0   \n",
       "2  13227  Georgia                    Pickens 2020-01-31            0   \n",
       "3    133  Georgia                 Washington 2020-01-31            0   \n",
       "4    103    Idaho                      Adams 2020-01-31            0   \n",
       "\n",
       "   infected total Abbr        lat         lon               id  \n",
       "0               0   FL  28.701818  -82.079427  202001310000000  \n",
       "1               0   GA  32.458025  -83.668791  202001310000001  \n",
       "2               0   GA  34.465892  -84.464066  202001310000002  \n",
       "3               0   GA  32.967119  -82.793570  202001310000003  \n",
       "4               0   ID  44.893336 -116.454525  202001310000004  "
      ]
     },
     "execution_count": 88,
     "metadata": {},
     "output_type": "execute_result"
    }
   ],
   "source": [
    "raw_data.head()"
   ]
  },
  {
   "cell_type": "code",
   "execution_count": 89,
   "id": "5fa3edda94c7eb2f",
   "metadata": {
    "ExecuteTime": {
     "end_time": "2023-10-09T10:56:53.008497Z",
     "start_time": "2023-10-09T10:56:52.877238Z"
    },
    "collapsed": false
   },
   "outputs": [
    {
     "data": {
      "text/plain": [
       "FIPS                              0\n",
       "State                             0\n",
       "City/County/Borough/Region     5652\n",
       "Date                              0\n",
       "death total                       0\n",
       "infected total                    0\n",
       "Abbr                          81954\n",
       "lat                               0\n",
       "lon                               0\n",
       "id                                0\n",
       "dtype: int64"
      ]
     },
     "execution_count": 89,
     "metadata": {},
     "output_type": "execute_result"
    }
   ],
   "source": [
    "# show missing values\n",
    "raw_data.isnull().sum()"
   ]
  },
  {
   "cell_type": "code",
   "execution_count": 90,
   "id": "f932a816b318cbae",
   "metadata": {
    "ExecuteTime": {
     "end_time": "2023-10-09T10:56:55.299300Z",
     "start_time": "2023-10-09T10:56:55.249532Z"
    },
    "collapsed": false
   },
   "outputs": [
    {
     "data": {
      "text/html": [
       "<div>\n",
       "<style scoped>\n",
       "    .dataframe tbody tr th:only-of-type {\n",
       "        vertical-align: middle;\n",
       "    }\n",
       "\n",
       "    .dataframe tbody tr th {\n",
       "        vertical-align: top;\n",
       "    }\n",
       "\n",
       "    .dataframe thead th {\n",
       "        text-align: right;\n",
       "    }\n",
       "</style>\n",
       "<table border=\"1\" class=\"dataframe\">\n",
       "  <thead>\n",
       "    <tr style=\"text-align: right;\">\n",
       "      <th></th>\n",
       "      <th>FIPS</th>\n",
       "      <th>State</th>\n",
       "      <th>City/County/Borough/Region</th>\n",
       "      <th>Date</th>\n",
       "      <th>death total</th>\n",
       "      <th>infected total</th>\n",
       "      <th>Abbr</th>\n",
       "      <th>lat</th>\n",
       "      <th>lon</th>\n",
       "      <th>id</th>\n",
       "    </tr>\n",
       "  </thead>\n",
       "  <tbody>\n",
       "    <tr>\n",
       "      <th>0</th>\n",
       "      <td>12119</td>\n",
       "      <td>Florida</td>\n",
       "      <td>Sumter</td>\n",
       "      <td>2020-01-31</td>\n",
       "      <td>0</td>\n",
       "      <td>0</td>\n",
       "      <td>FL</td>\n",
       "      <td>28.701818</td>\n",
       "      <td>-82.079427</td>\n",
       "      <td>202001310000000</td>\n",
       "    </tr>\n",
       "    <tr>\n",
       "      <th>3459</th>\n",
       "      <td>485</td>\n",
       "      <td>South Carolina</td>\n",
       "      <td>Sumter</td>\n",
       "      <td>2021-07-16</td>\n",
       "      <td>212</td>\n",
       "      <td>10748</td>\n",
       "      <td>SC</td>\n",
       "      <td>33.918265</td>\n",
       "      <td>-80.379423</td>\n",
       "      <td>202107160003459</td>\n",
       "    </tr>\n",
       "    <tr>\n",
       "      <th>4299</th>\n",
       "      <td>1119</td>\n",
       "      <td>Alabama</td>\n",
       "      <td>Sumter</td>\n",
       "      <td>2021-07-27</td>\n",
       "      <td>32</td>\n",
       "      <td>1087</td>\n",
       "      <td>AL</td>\n",
       "      <td>32.591174</td>\n",
       "      <td>-88.199162</td>\n",
       "      <td>202107270004299</td>\n",
       "    </tr>\n",
       "    <tr>\n",
       "      <th>4975</th>\n",
       "      <td>485</td>\n",
       "      <td>South Carolina</td>\n",
       "      <td>Sumter</td>\n",
       "      <td>2021-08-04</td>\n",
       "      <td>211</td>\n",
       "      <td>11525</td>\n",
       "      <td>SC</td>\n",
       "      <td>33.918265</td>\n",
       "      <td>-80.379423</td>\n",
       "      <td>202108040004975</td>\n",
       "    </tr>\n",
       "    <tr>\n",
       "      <th>5270</th>\n",
       "      <td>13261</td>\n",
       "      <td>Georgia</td>\n",
       "      <td>Sumter</td>\n",
       "      <td>2021-07-29</td>\n",
       "      <td>106</td>\n",
       "      <td>2715</td>\n",
       "      <td>GA</td>\n",
       "      <td>32.036506</td>\n",
       "      <td>-84.198215</td>\n",
       "      <td>202107290005270</td>\n",
       "    </tr>\n",
       "    <tr>\n",
       "      <th>...</th>\n",
       "      <td>...</td>\n",
       "      <td>...</td>\n",
       "      <td>...</td>\n",
       "      <td>...</td>\n",
       "      <td>...</td>\n",
       "      <td>...</td>\n",
       "      <td>...</td>\n",
       "      <td>...</td>\n",
       "      <td>...</td>\n",
       "      <td>...</td>\n",
       "    </tr>\n",
       "    <tr>\n",
       "      <th>3097039</th>\n",
       "      <td>12119</td>\n",
       "      <td>Florida</td>\n",
       "      <td>Sumter</td>\n",
       "      <td>2022-03-16</td>\n",
       "      <td>551</td>\n",
       "      <td>21661</td>\n",
       "      <td>FL</td>\n",
       "      <td>28.701818</td>\n",
       "      <td>-82.079427</td>\n",
       "      <td>202203163097039</td>\n",
       "    </tr>\n",
       "    <tr>\n",
       "      <th>3097049</th>\n",
       "      <td>12119</td>\n",
       "      <td>Florida</td>\n",
       "      <td>Sumter</td>\n",
       "      <td>2022-03-10</td>\n",
       "      <td>506</td>\n",
       "      <td>21577</td>\n",
       "      <td>FL</td>\n",
       "      <td>28.701818</td>\n",
       "      <td>-82.079427</td>\n",
       "      <td>202203103097049</td>\n",
       "    </tr>\n",
       "    <tr>\n",
       "      <th>3097682</th>\n",
       "      <td>12119</td>\n",
       "      <td>Florida</td>\n",
       "      <td>Sumter</td>\n",
       "      <td>2022-02-25</td>\n",
       "      <td>506</td>\n",
       "      <td>21255</td>\n",
       "      <td>FL</td>\n",
       "      <td>28.701818</td>\n",
       "      <td>-82.079427</td>\n",
       "      <td>202202253097682</td>\n",
       "    </tr>\n",
       "    <tr>\n",
       "      <th>3097989</th>\n",
       "      <td>485</td>\n",
       "      <td>South Carolina</td>\n",
       "      <td>Sumter</td>\n",
       "      <td>2022-02-27</td>\n",
       "      <td>365</td>\n",
       "      <td>27488</td>\n",
       "      <td>SC</td>\n",
       "      <td>33.918265</td>\n",
       "      <td>-80.379423</td>\n",
       "      <td>202202273097989</td>\n",
       "    </tr>\n",
       "    <tr>\n",
       "      <th>3098166</th>\n",
       "      <td>13261</td>\n",
       "      <td>Georgia</td>\n",
       "      <td>Sumter</td>\n",
       "      <td>2022-02-20</td>\n",
       "      <td>154</td>\n",
       "      <td>6692</td>\n",
       "      <td>GA</td>\n",
       "      <td>32.036506</td>\n",
       "      <td>-84.198215</td>\n",
       "      <td>202202203098166</td>\n",
       "    </tr>\n",
       "  </tbody>\n",
       "</table>\n",
       "<p>3768 rows × 10 columns</p>\n",
       "</div>"
      ],
      "text/plain": [
       "          FIPS           State City/County/Borough/Region       Date  \\\n",
       "0        12119         Florida                     Sumter 2020-01-31   \n",
       "3459       485  South Carolina                     Sumter 2021-07-16   \n",
       "4299      1119         Alabama                     Sumter 2021-07-27   \n",
       "4975       485  South Carolina                     Sumter 2021-08-04   \n",
       "5270     13261         Georgia                     Sumter 2021-07-29   \n",
       "...        ...             ...                        ...        ...   \n",
       "3097039  12119         Florida                     Sumter 2022-03-16   \n",
       "3097049  12119         Florida                     Sumter 2022-03-10   \n",
       "3097682  12119         Florida                     Sumter 2022-02-25   \n",
       "3097989    485  South Carolina                     Sumter 2022-02-27   \n",
       "3098166  13261         Georgia                     Sumter 2022-02-20   \n",
       "\n",
       "         death total  infected total Abbr        lat        lon  \\\n",
       "0                  0               0   FL  28.701818 -82.079427   \n",
       "3459             212           10748   SC  33.918265 -80.379423   \n",
       "4299              32            1087   AL  32.591174 -88.199162   \n",
       "4975             211           11525   SC  33.918265 -80.379423   \n",
       "5270             106            2715   GA  32.036506 -84.198215   \n",
       "...              ...             ...  ...        ...        ...   \n",
       "3097039          551           21661   FL  28.701818 -82.079427   \n",
       "3097049          506           21577   FL  28.701818 -82.079427   \n",
       "3097682          506           21255   FL  28.701818 -82.079427   \n",
       "3097989          365           27488   SC  33.918265 -80.379423   \n",
       "3098166          154            6692   GA  32.036506 -84.198215   \n",
       "\n",
       "                      id  \n",
       "0        202001310000000  \n",
       "3459     202107160003459  \n",
       "4299     202107270004299  \n",
       "4975     202108040004975  \n",
       "5270     202107290005270  \n",
       "...                  ...  \n",
       "3097039  202203163097039  \n",
       "3097049  202203103097049  \n",
       "3097682  202202253097682  \n",
       "3097989  202202273097989  \n",
       "3098166  202202203098166  \n",
       "\n",
       "[3768 rows x 10 columns]"
      ]
     },
     "execution_count": 90,
     "metadata": {},
     "output_type": "execute_result"
    }
   ],
   "source": [
    "# show sumter city\n",
    "raw_data[raw_data['City/County/Borough/Region'] == 'Sumter']"
   ]
  },
  {
   "cell_type": "code",
   "execution_count": 91,
   "id": "71430e35600c929b",
   "metadata": {
    "ExecuteTime": {
     "end_time": "2023-10-09T10:56:58.318718Z",
     "start_time": "2023-10-09T10:56:58.279925Z"
    },
    "collapsed": false
   },
   "outputs": [
    {
     "data": {
      "text/html": [
       "<div>\n",
       "<style scoped>\n",
       "    .dataframe tbody tr th:only-of-type {\n",
       "        vertical-align: middle;\n",
       "    }\n",
       "\n",
       "    .dataframe tbody tr th {\n",
       "        vertical-align: top;\n",
       "    }\n",
       "\n",
       "    .dataframe thead th {\n",
       "        text-align: right;\n",
       "    }\n",
       "</style>\n",
       "<table border=\"1\" class=\"dataframe\">\n",
       "  <thead>\n",
       "    <tr style=\"text-align: right;\">\n",
       "      <th></th>\n",
       "      <th>FIPS</th>\n",
       "      <th>State</th>\n",
       "      <th>City/County/Borough/Region</th>\n",
       "      <th>Date</th>\n",
       "      <th>death total</th>\n",
       "      <th>infected total</th>\n",
       "      <th>Abbr</th>\n",
       "      <th>lat</th>\n",
       "      <th>lon</th>\n",
       "    </tr>\n",
       "    <tr>\n",
       "      <th>id</th>\n",
       "      <th></th>\n",
       "      <th></th>\n",
       "      <th></th>\n",
       "      <th></th>\n",
       "      <th></th>\n",
       "      <th></th>\n",
       "      <th></th>\n",
       "      <th></th>\n",
       "      <th></th>\n",
       "    </tr>\n",
       "  </thead>\n",
       "  <tbody>\n",
       "    <tr>\n",
       "      <th>202001310000000</th>\n",
       "      <td>12119</td>\n",
       "      <td>Florida</td>\n",
       "      <td>Sumter</td>\n",
       "      <td>2020-01-31</td>\n",
       "      <td>0</td>\n",
       "      <td>0</td>\n",
       "      <td>FL</td>\n",
       "      <td>28.701818</td>\n",
       "      <td>-82.079427</td>\n",
       "    </tr>\n",
       "    <tr>\n",
       "      <th>202001310000001</th>\n",
       "      <td>13153</td>\n",
       "      <td>Georgia</td>\n",
       "      <td>Houston</td>\n",
       "      <td>2020-01-31</td>\n",
       "      <td>0</td>\n",
       "      <td>0</td>\n",
       "      <td>GA</td>\n",
       "      <td>32.458025</td>\n",
       "      <td>-83.668791</td>\n",
       "    </tr>\n",
       "    <tr>\n",
       "      <th>202001310000002</th>\n",
       "      <td>13227</td>\n",
       "      <td>Georgia</td>\n",
       "      <td>Pickens</td>\n",
       "      <td>2020-01-31</td>\n",
       "      <td>0</td>\n",
       "      <td>0</td>\n",
       "      <td>GA</td>\n",
       "      <td>34.465892</td>\n",
       "      <td>-84.464066</td>\n",
       "    </tr>\n",
       "    <tr>\n",
       "      <th>202001310000003</th>\n",
       "      <td>133</td>\n",
       "      <td>Georgia</td>\n",
       "      <td>Washington</td>\n",
       "      <td>2020-01-31</td>\n",
       "      <td>0</td>\n",
       "      <td>0</td>\n",
       "      <td>GA</td>\n",
       "      <td>32.967119</td>\n",
       "      <td>-82.793570</td>\n",
       "    </tr>\n",
       "    <tr>\n",
       "      <th>202001310000004</th>\n",
       "      <td>103</td>\n",
       "      <td>Idaho</td>\n",
       "      <td>Adams</td>\n",
       "      <td>2020-01-31</td>\n",
       "      <td>0</td>\n",
       "      <td>0</td>\n",
       "      <td>ID</td>\n",
       "      <td>44.893336</td>\n",
       "      <td>-116.454525</td>\n",
       "    </tr>\n",
       "    <tr>\n",
       "      <th>...</th>\n",
       "      <td>...</td>\n",
       "      <td>...</td>\n",
       "      <td>...</td>\n",
       "      <td>...</td>\n",
       "      <td>...</td>\n",
       "      <td>...</td>\n",
       "      <td>...</td>\n",
       "      <td>...</td>\n",
       "      <td>...</td>\n",
       "    </tr>\n",
       "    <tr>\n",
       "      <th>202203103099175</th>\n",
       "      <td>83</td>\n",
       "      <td>Arkansas</td>\n",
       "      <td>Logan</td>\n",
       "      <td>2022-03-10</td>\n",
       "      <td>74</td>\n",
       "      <td>5076</td>\n",
       "      <td>AR</td>\n",
       "      <td>35.214132</td>\n",
       "      <td>-93.719510</td>\n",
       "    </tr>\n",
       "    <tr>\n",
       "      <th>202203103099176</th>\n",
       "      <td>09</td>\n",
       "      <td>California</td>\n",
       "      <td>Calaveras</td>\n",
       "      <td>2022-03-10</td>\n",
       "      <td>117</td>\n",
       "      <td>7595</td>\n",
       "      <td>CA</td>\n",
       "      <td>38.205371</td>\n",
       "      <td>-120.552913</td>\n",
       "    </tr>\n",
       "    <tr>\n",
       "      <th>202203103099177</th>\n",
       "      <td>35</td>\n",
       "      <td>California</td>\n",
       "      <td>Lassen</td>\n",
       "      <td>2022-03-10</td>\n",
       "      <td>60</td>\n",
       "      <td>9813</td>\n",
       "      <td>CA</td>\n",
       "      <td>40.673113</td>\n",
       "      <td>-120.593510</td>\n",
       "    </tr>\n",
       "    <tr>\n",
       "      <th>202203103099178</th>\n",
       "      <td>37</td>\n",
       "      <td>California</td>\n",
       "      <td>Los Angeles</td>\n",
       "      <td>2022-03-10</td>\n",
       "      <td>31178</td>\n",
       "      <td>2808409</td>\n",
       "      <td>CA</td>\n",
       "      <td>34.308284</td>\n",
       "      <td>-118.228241</td>\n",
       "    </tr>\n",
       "    <tr>\n",
       "      <th>202203103099179</th>\n",
       "      <td>105</td>\n",
       "      <td>Florida</td>\n",
       "      <td>Bay</td>\n",
       "      <td>2022-03-10</td>\n",
       "      <td>778</td>\n",
       "      <td>46333</td>\n",
       "      <td>FL</td>\n",
       "      <td>30.265487</td>\n",
       "      <td>-85.621226</td>\n",
       "    </tr>\n",
       "  </tbody>\n",
       "</table>\n",
       "<p>3099180 rows × 9 columns</p>\n",
       "</div>"
      ],
      "text/plain": [
       "                  FIPS       State City/County/Borough/Region       Date  \\\n",
       "id                                                                         \n",
       "202001310000000  12119     Florida                     Sumter 2020-01-31   \n",
       "202001310000001  13153     Georgia                    Houston 2020-01-31   \n",
       "202001310000002  13227     Georgia                    Pickens 2020-01-31   \n",
       "202001310000003    133     Georgia                 Washington 2020-01-31   \n",
       "202001310000004    103       Idaho                      Adams 2020-01-31   \n",
       "...                ...         ...                        ...        ...   \n",
       "202203103099175     83    Arkansas                      Logan 2022-03-10   \n",
       "202203103099176     09  California                  Calaveras 2022-03-10   \n",
       "202203103099177     35  California                     Lassen 2022-03-10   \n",
       "202203103099178     37  California                Los Angeles 2022-03-10   \n",
       "202203103099179    105     Florida                        Bay 2022-03-10   \n",
       "\n",
       "                 death total  infected total Abbr        lat         lon  \n",
       "id                                                                        \n",
       "202001310000000            0               0   FL  28.701818  -82.079427  \n",
       "202001310000001            0               0   GA  32.458025  -83.668791  \n",
       "202001310000002            0               0   GA  34.465892  -84.464066  \n",
       "202001310000003            0               0   GA  32.967119  -82.793570  \n",
       "202001310000004            0               0   ID  44.893336 -116.454525  \n",
       "...                      ...             ...  ...        ...         ...  \n",
       "202203103099175           74            5076   AR  35.214132  -93.719510  \n",
       "202203103099176          117            7595   CA  38.205371 -120.552913  \n",
       "202203103099177           60            9813   CA  40.673113 -120.593510  \n",
       "202203103099178        31178         2808409   CA  34.308284 -118.228241  \n",
       "202203103099179          778           46333   FL  30.265487  -85.621226  \n",
       "\n",
       "[3099180 rows x 9 columns]"
      ]
     },
     "execution_count": 91,
     "metadata": {},
     "output_type": "execute_result"
    }
   ],
   "source": [
    "raw_data.set_index('id', inplace=True)\n",
    "raw_data"
   ]
  },
  {
   "cell_type": "code",
   "execution_count": 92,
   "id": "19590718",
   "metadata": {
    "ExecuteTime": {
     "end_time": "2023-10-09T10:57:00.195512Z",
     "start_time": "2023-10-09T10:57:00.056387Z"
    }
   },
   "outputs": [
    {
     "data": {
      "text/html": [
       "<div>\n",
       "<style scoped>\n",
       "    .dataframe tbody tr th:only-of-type {\n",
       "        vertical-align: middle;\n",
       "    }\n",
       "\n",
       "    .dataframe tbody tr th {\n",
       "        vertical-align: top;\n",
       "    }\n",
       "\n",
       "    .dataframe thead th {\n",
       "        text-align: right;\n",
       "    }\n",
       "</style>\n",
       "<table border=\"1\" class=\"dataframe\">\n",
       "  <thead>\n",
       "    <tr style=\"text-align: right;\">\n",
       "      <th></th>\n",
       "      <th>FIPS</th>\n",
       "      <th>lat</th>\n",
       "      <th>lon</th>\n",
       "      <th>State</th>\n",
       "      <th>State</th>\n",
       "      <th>City/County/Borough/Region</th>\n",
       "      <th>infected total</th>\n",
       "      <th>death total</th>\n",
       "    </tr>\n",
       "    <tr>\n",
       "      <th>id</th>\n",
       "      <th></th>\n",
       "      <th></th>\n",
       "      <th></th>\n",
       "      <th></th>\n",
       "      <th></th>\n",
       "      <th></th>\n",
       "      <th></th>\n",
       "      <th></th>\n",
       "    </tr>\n",
       "  </thead>\n",
       "  <tbody>\n",
       "    <tr>\n",
       "      <th>202001310000000</th>\n",
       "      <td>12119</td>\n",
       "      <td>28.701818</td>\n",
       "      <td>-82.079427</td>\n",
       "      <td>Florida</td>\n",
       "      <td>Florida</td>\n",
       "      <td>Sumter</td>\n",
       "      <td>0</td>\n",
       "      <td>0</td>\n",
       "    </tr>\n",
       "    <tr>\n",
       "      <th>202001310000001</th>\n",
       "      <td>13153</td>\n",
       "      <td>32.458025</td>\n",
       "      <td>-83.668791</td>\n",
       "      <td>Georgia</td>\n",
       "      <td>Georgia</td>\n",
       "      <td>Houston</td>\n",
       "      <td>0</td>\n",
       "      <td>0</td>\n",
       "    </tr>\n",
       "    <tr>\n",
       "      <th>202001310000002</th>\n",
       "      <td>13227</td>\n",
       "      <td>34.465892</td>\n",
       "      <td>-84.464066</td>\n",
       "      <td>Georgia</td>\n",
       "      <td>Georgia</td>\n",
       "      <td>Pickens</td>\n",
       "      <td>0</td>\n",
       "      <td>0</td>\n",
       "    </tr>\n",
       "    <tr>\n",
       "      <th>202001310000003</th>\n",
       "      <td>133</td>\n",
       "      <td>32.967119</td>\n",
       "      <td>-82.793570</td>\n",
       "      <td>Georgia</td>\n",
       "      <td>Georgia</td>\n",
       "      <td>Washington</td>\n",
       "      <td>0</td>\n",
       "      <td>0</td>\n",
       "    </tr>\n",
       "    <tr>\n",
       "      <th>202001310000004</th>\n",
       "      <td>103</td>\n",
       "      <td>44.893336</td>\n",
       "      <td>-116.454525</td>\n",
       "      <td>Idaho</td>\n",
       "      <td>Idaho</td>\n",
       "      <td>Adams</td>\n",
       "      <td>0</td>\n",
       "      <td>0</td>\n",
       "    </tr>\n",
       "    <tr>\n",
       "      <th>...</th>\n",
       "      <td>...</td>\n",
       "      <td>...</td>\n",
       "      <td>...</td>\n",
       "      <td>...</td>\n",
       "      <td>...</td>\n",
       "      <td>...</td>\n",
       "      <td>...</td>\n",
       "      <td>...</td>\n",
       "    </tr>\n",
       "    <tr>\n",
       "      <th>202203103099175</th>\n",
       "      <td>83</td>\n",
       "      <td>35.214132</td>\n",
       "      <td>-93.719510</td>\n",
       "      <td>Arkansas</td>\n",
       "      <td>Arkansas</td>\n",
       "      <td>Logan</td>\n",
       "      <td>5076</td>\n",
       "      <td>74</td>\n",
       "    </tr>\n",
       "    <tr>\n",
       "      <th>202203103099176</th>\n",
       "      <td>09</td>\n",
       "      <td>38.205371</td>\n",
       "      <td>-120.552913</td>\n",
       "      <td>California</td>\n",
       "      <td>California</td>\n",
       "      <td>Calaveras</td>\n",
       "      <td>7595</td>\n",
       "      <td>117</td>\n",
       "    </tr>\n",
       "    <tr>\n",
       "      <th>202203103099177</th>\n",
       "      <td>35</td>\n",
       "      <td>40.673113</td>\n",
       "      <td>-120.593510</td>\n",
       "      <td>California</td>\n",
       "      <td>California</td>\n",
       "      <td>Lassen</td>\n",
       "      <td>9813</td>\n",
       "      <td>60</td>\n",
       "    </tr>\n",
       "    <tr>\n",
       "      <th>202203103099178</th>\n",
       "      <td>37</td>\n",
       "      <td>34.308284</td>\n",
       "      <td>-118.228241</td>\n",
       "      <td>California</td>\n",
       "      <td>California</td>\n",
       "      <td>Los Angeles</td>\n",
       "      <td>2808409</td>\n",
       "      <td>31178</td>\n",
       "    </tr>\n",
       "    <tr>\n",
       "      <th>202203103099179</th>\n",
       "      <td>105</td>\n",
       "      <td>30.265487</td>\n",
       "      <td>-85.621226</td>\n",
       "      <td>Florida</td>\n",
       "      <td>Florida</td>\n",
       "      <td>Bay</td>\n",
       "      <td>46333</td>\n",
       "      <td>778</td>\n",
       "    </tr>\n",
       "  </tbody>\n",
       "</table>\n",
       "<p>3099180 rows × 8 columns</p>\n",
       "</div>"
      ],
      "text/plain": [
       "                  FIPS        lat         lon       State       State  \\\n",
       "id                                                                      \n",
       "202001310000000  12119  28.701818  -82.079427     Florida     Florida   \n",
       "202001310000001  13153  32.458025  -83.668791     Georgia     Georgia   \n",
       "202001310000002  13227  34.465892  -84.464066     Georgia     Georgia   \n",
       "202001310000003    133  32.967119  -82.793570     Georgia     Georgia   \n",
       "202001310000004    103  44.893336 -116.454525       Idaho       Idaho   \n",
       "...                ...        ...         ...         ...         ...   \n",
       "202203103099175     83  35.214132  -93.719510    Arkansas    Arkansas   \n",
       "202203103099176     09  38.205371 -120.552913  California  California   \n",
       "202203103099177     35  40.673113 -120.593510  California  California   \n",
       "202203103099178     37  34.308284 -118.228241  California  California   \n",
       "202203103099179    105  30.265487  -85.621226     Florida     Florida   \n",
       "\n",
       "                City/County/Borough/Region  infected total  death total  \n",
       "id                                                                       \n",
       "202001310000000                     Sumter               0            0  \n",
       "202001310000001                    Houston               0            0  \n",
       "202001310000002                    Pickens               0            0  \n",
       "202001310000003                 Washington               0            0  \n",
       "202001310000004                      Adams               0            0  \n",
       "...                                    ...             ...          ...  \n",
       "202203103099175                      Logan            5076           74  \n",
       "202203103099176                  Calaveras            7595          117  \n",
       "202203103099177                     Lassen            9813           60  \n",
       "202203103099178                Los Angeles         2808409        31178  \n",
       "202203103099179                        Bay           46333          778  \n",
       "\n",
       "[3099180 rows x 8 columns]"
      ]
     },
     "execution_count": 92,
     "metadata": {},
     "output_type": "execute_result"
    }
   ],
   "source": [
    "new_cols = [\"FIPS\",\"lat\",\"lon\",\"State\",\"State\",\"City/County/Borough/Region\",\"infected total\",\"death total\"]\n",
    "raw_data=raw_data.reindex(columns=new_cols)\n",
    "raw_data"
   ]
  },
  {
   "cell_type": "markdown",
   "id": "785bf6bf185ae6a6",
   "metadata": {
    "collapsed": false
   },
   "source": [
    "# Conclusion before handling missing values"
   ]
  },
  {
   "cell_type": "code",
   "execution_count": 93,
   "id": "b47741ca1bf67f79",
   "metadata": {
    "ExecuteTime": {
     "end_time": "2023-10-09T10:58:42.075758Z",
     "start_time": "2023-10-09T10:58:36.313712Z"
    },
    "collapsed": false
   },
   "outputs": [],
   "source": [
    "# Save data\n",
    "raw_data.to_csv('../../data/covid19_usa.csv')"
   ]
  },
  {
   "cell_type": "code",
   "execution_count": null,
   "id": "6195e1c9a5708e47",
   "metadata": {
    "collapsed": false
   },
   "outputs": [],
   "source": []
  }
 ],
 "metadata": {
  "kernelspec": {
   "display_name": "Python 3",
   "language": "python",
   "name": "python3"
  },
  "language_info": {
   "codemirror_mode": {
    "name": "ipython",
    "version": 3
   },
   "file_extension": ".py",
   "mimetype": "text/x-python",
   "name": "python",
   "nbconvert_exporter": "python",
   "pygments_lexer": "ipython3",
   "version": "3.8.10"
  }
 },
 "nbformat": 4,
 "nbformat_minor": 5
}
