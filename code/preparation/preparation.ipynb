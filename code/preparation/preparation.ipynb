{
 "cells": [
  {
   "cell_type": "code",
   "execution_count": 1,
   "id": "initial_id",
   "metadata": {
    "ExecuteTime": {
     "end_time": "2023-10-07T13:26:09.452272Z",
     "start_time": "2023-10-07T13:26:09.420505Z"
    },
    "collapsed": true
   },
   "outputs": [
    {
     "name": "stderr",
     "output_type": "stream",
     "text": [
      "/home/pongpop/.local/lib/python3.8/site-packages/pandas/core/computation/expressions.py:20: UserWarning: Pandas requires version '2.7.3' or newer of 'numexpr' (version '2.7.1' currently installed).\n",
      "  from pandas.core.computation.check import NUMEXPR_INSTALLED\n"
     ]
    }
   ],
   "source": [
    "import pandas as pd"
   ]
  },
  {
   "cell_type": "code",
   "execution_count": 4,
   "id": "aa5900c5f0f1676e",
   "metadata": {
    "ExecuteTime": {
     "end_time": "2023-10-07T13:27:15.900007Z",
     "start_time": "2023-10-07T13:27:15.897583Z"
    },
    "collapsed": false
   },
   "outputs": [],
   "source": [
    "def get_data():\n",
    "    data = pd.read_csv('../../data/coronavirus-covid-19-pandemic-usa-counties.csv')\n",
    "    return data"
   ]
  },
  {
   "cell_type": "code",
   "execution_count": 5,
   "id": "a2603aa665b748ee",
   "metadata": {
    "ExecuteTime": {
     "end_time": "2023-10-07T13:27:18.831324Z",
     "start_time": "2023-10-07T13:27:16.334567Z"
    },
    "collapsed": false
   },
   "outputs": [],
   "source": [
    "df = get_data()"
   ]
  },
  {
   "cell_type": "code",
   "execution_count": null,
   "id": "f8cc2269974155fe",
   "metadata": {
    "ExecuteTime": {
     "end_time": "2023-10-07T13:27:21.235448Z",
     "start_time": "2023-10-07T13:27:21.210741Z"
    },
    "collapsed": false
   },
   "outputs": [
    {
     "data": {
      "text/html": [
       "<div>\n",
       "<style scoped>\n",
       "    .dataframe tbody tr th:only-of-type {\n",
       "        vertical-align: middle;\n",
       "    }\n",
       "\n",
       "    .dataframe tbody tr th {\n",
       "        vertical-align: top;\n",
       "    }\n",
       "\n",
       "    .dataframe thead th {\n",
       "        text-align: right;\n",
       "    }\n",
       "</style>\n",
       "<table border=\"1\" class=\"dataframe\">\n",
       "  <thead>\n",
       "    <tr style=\"text-align: right;\">\n",
       "      <th></th>\n",
       "      <th>Admin 2 FIPS Code;Province/State;Admin 2 Level (City/County/Borough/Region);Date;Total Death;Total Confirmed;location</th>\n",
       "    </tr>\n",
       "  </thead>\n",
       "  <tbody>\n",
       "    <tr>\n",
       "      <th>12119;Florida;Sumter;2020-01-31;0;0;28.70181754</th>\n",
       "      <td>-82.079427</td>\n",
       "    </tr>\n",
       "    <tr>\n",
       "      <th>13153;Georgia;Houston;2020-01-31;0;0;32.45802497</th>\n",
       "      <td>-83.668791</td>\n",
       "    </tr>\n",
       "    <tr>\n",
       "      <th>13227;Georgia;Pickens;2020-01-31;0;0;34.46589159</th>\n",
       "      <td>-84.464066</td>\n",
       "    </tr>\n",
       "    <tr>\n",
       "      <th>13303;Georgia;Washington;2020-01-31;0;0;32.96711864</th>\n",
       "      <td>-82.793570</td>\n",
       "    </tr>\n",
       "    <tr>\n",
       "      <th>16003;Idaho;Adams;2020-01-31;0;0;44.89333571</th>\n",
       "      <td>-116.454525</td>\n",
       "    </tr>\n",
       "  </tbody>\n",
       "</table>\n",
       "</div>"
      ],
      "text/plain": [
       "                                                    Admin 2 FIPS Code;Province/State;Admin 2 Level (City/County/Borough/Region);Date;Total Death;Total Confirmed;location\n",
       "12119;Florida;Sumter;2020-01-31;0;0;28.70181754                                            -82.079427                                                                    \n",
       "13153;Georgia;Houston;2020-01-31;0;0;32.45802497                                           -83.668791                                                                    \n",
       "13227;Georgia;Pickens;2020-01-31;0;0;34.46589159                                           -84.464066                                                                    \n",
       "13303;Georgia;Washington;2020-01-31;0;0;32.9671...                                         -82.793570                                                                    \n",
       "16003;Idaho;Adams;2020-01-31;0;0;44.89333571                                              -116.454525                                                                    "
      ]
     },
     "execution_count": 45,
     "metadata": {},
     "output_type": "execute_result"
    }
   ],
   "source": [
    "df.head()"
   ]
  },
  {
   "cell_type": "code",
   "execution_count": 7,
   "id": "b83c0395dadc7dce",
   "metadata": {
    "collapsed": false
   },
   "outputs": [],
   "source": [
    "dt = pd.read_csv('../../data/coronavirus-covid-19-pandemic-usa-counties.csv', sep=';')"
   ]
  },
  {
   "cell_type": "code",
   "execution_count": 8,
   "id": "92839f12",
   "metadata": {},
   "outputs": [
    {
     "data": {
      "text/html": [
       "<div>\n",
       "<style scoped>\n",
       "    .dataframe tbody tr th:only-of-type {\n",
       "        vertical-align: middle;\n",
       "    }\n",
       "\n",
       "    .dataframe tbody tr th {\n",
       "        vertical-align: top;\n",
       "    }\n",
       "\n",
       "    .dataframe thead th {\n",
       "        text-align: right;\n",
       "    }\n",
       "</style>\n",
       "<table border=\"1\" class=\"dataframe\">\n",
       "  <thead>\n",
       "    <tr style=\"text-align: right;\">\n",
       "      <th></th>\n",
       "      <th>Admin 2 FIPS Code</th>\n",
       "      <th>Province/State</th>\n",
       "      <th>Admin 2 Level (City/County/Borough/Region)</th>\n",
       "      <th>Date</th>\n",
       "      <th>Total Death</th>\n",
       "      <th>Total Confirmed</th>\n",
       "      <th>location</th>\n",
       "    </tr>\n",
       "  </thead>\n",
       "  <tbody>\n",
       "    <tr>\n",
       "      <th>0</th>\n",
       "      <td>12119.0</td>\n",
       "      <td>Florida</td>\n",
       "      <td>Sumter</td>\n",
       "      <td>2020-01-31</td>\n",
       "      <td>0</td>\n",
       "      <td>0</td>\n",
       "      <td>28.70181754,-82.0794267</td>\n",
       "    </tr>\n",
       "    <tr>\n",
       "      <th>1</th>\n",
       "      <td>13153.0</td>\n",
       "      <td>Georgia</td>\n",
       "      <td>Houston</td>\n",
       "      <td>2020-01-31</td>\n",
       "      <td>0</td>\n",
       "      <td>0</td>\n",
       "      <td>32.45802497,-83.66879087</td>\n",
       "    </tr>\n",
       "    <tr>\n",
       "      <th>2</th>\n",
       "      <td>13227.0</td>\n",
       "      <td>Georgia</td>\n",
       "      <td>Pickens</td>\n",
       "      <td>2020-01-31</td>\n",
       "      <td>0</td>\n",
       "      <td>0</td>\n",
       "      <td>34.46589159,-84.46406611</td>\n",
       "    </tr>\n",
       "    <tr>\n",
       "      <th>3</th>\n",
       "      <td>13303.0</td>\n",
       "      <td>Georgia</td>\n",
       "      <td>Washington</td>\n",
       "      <td>2020-01-31</td>\n",
       "      <td>0</td>\n",
       "      <td>0</td>\n",
       "      <td>32.96711864,-82.79357039</td>\n",
       "    </tr>\n",
       "    <tr>\n",
       "      <th>4</th>\n",
       "      <td>16003.0</td>\n",
       "      <td>Idaho</td>\n",
       "      <td>Adams</td>\n",
       "      <td>2020-01-31</td>\n",
       "      <td>0</td>\n",
       "      <td>0</td>\n",
       "      <td>44.89333571,-116.4545247</td>\n",
       "    </tr>\n",
       "  </tbody>\n",
       "</table>\n",
       "</div>"
      ],
      "text/plain": [
       "   Admin 2 FIPS Code Province/State  \\\n",
       "0            12119.0        Florida   \n",
       "1            13153.0        Georgia   \n",
       "2            13227.0        Georgia   \n",
       "3            13303.0        Georgia   \n",
       "4            16003.0          Idaho   \n",
       "\n",
       "  Admin 2 Level (City/County/Borough/Region)        Date  Total Death  \\\n",
       "0                                     Sumter  2020-01-31            0   \n",
       "1                                    Houston  2020-01-31            0   \n",
       "2                                    Pickens  2020-01-31            0   \n",
       "3                                 Washington  2020-01-31            0   \n",
       "4                                      Adams  2020-01-31            0   \n",
       "\n",
       "   Total Confirmed                  location  \n",
       "0                0   28.70181754,-82.0794267  \n",
       "1                0  32.45802497,-83.66879087  \n",
       "2                0  34.46589159,-84.46406611  \n",
       "3                0  32.96711864,-82.79357039  \n",
       "4                0  44.89333571,-116.4545247  "
      ]
     },
     "execution_count": 8,
     "metadata": {},
     "output_type": "execute_result"
    }
   ],
   "source": [
    "dt.head()"
   ]
  },
  {
   "cell_type": "code",
   "execution_count": null,
   "id": "12fe54a9",
   "metadata": {},
   "outputs": [],
   "source": [
    "state_name_of_usa = {\n",
    "    'Alabama': 'AL',\n",
    "    'Alaska': 'AK',\n",
    "    'Arizona': 'AZ',\n",
    "    'Arkansas': 'AR',\n",
    "    'California': 'CA',\n",
    "    'Colorado': 'CO',\n",
    "    'Connecticut': 'CT',\n",
    "    'Delaware': 'DE',\n",
    "    'Florida': 'FL',\n",
    "    'Georgia': 'GA',\n",
    "    'Hawaii': 'HI',\n",
    "    'Idaho': 'ID',\n",
    "    'Illinois': 'IL',\n",
    "    'Indiana': 'IN',\n",
    "    'Iowa': 'IA',\n",
    "    'Kansas': 'KS',\n",
    "    'Kentucky': 'KY',\n",
    "    'Louisiana': 'LA',\n",
    "    'Maine': 'ME',\n",
    "    'Maryland': 'MD',\n",
    "    'Massachusetts': 'MA',\n",
    "    'Michigan': 'MI',\n",
    "    'Minnesota': 'MN',\n",
    "    'Mississippi': 'MS',\n",
    "    'Missouri': 'MO',\n",
    "    'Montana': 'MT',\n",
    "    'Nebraska': 'NE',\n",
    "    'Nevada': 'NV',\n",
    "    'New Hampshire': 'NH',\n",
    "    'New Jersey': 'NJ',\n",
    "    'New Mexico': 'NM',\n",
    "    'New York': 'NY',\n",
    "    'North Carolina': 'NC',\n",
    "    'North Dakota': 'ND',\n",
    "    'Ohio': 'OH',\n",
    "    'Oklahoma': 'OK',\n",
    "    'Oregon': 'OR',\n",
    "    'Pennsylvania': 'PA',\n",
    "    'Rhode Island': 'RI',\n",
    "    'South Carolina': 'SC',\n",
    "    'South Dakota': 'SD',\n",
    "    'Tennessee': 'TN',\n",
    "    'Texas': 'TX',\n",
    "    'Utah': 'UT',\n",
    "    'Vermont': 'VT',\n",
    "    'Virginia': 'VA',\n",
    "    'Washington': 'WA',\n",
    "    'West Virginia': 'WV',\n",
    "    'Wisconsin': 'WI',\n",
    "    'Wyoming': 'WY'\n",
    "}\n",
    "\n",
    "dt['Province/State'] = dt['Province/State'].map(state_name_of_usa)\n",
    "dt.head()"
   ]
  },
  {
   "cell_type": "code",
   "execution_count": null,
   "id": "eadce882",
   "metadata": {},
   "outputs": [],
   "source": [
    "dt['Admin 2 FIPS Code'].duplicated()"
   ]
  }
 ],
 "metadata": {
  "kernelspec": {
   "display_name": "Python 3",
   "language": "python",
   "name": "python3"
  },
  "language_info": {
   "codemirror_mode": {
    "name": "ipython",
    "version": 3
   },
   "file_extension": ".py",
   "mimetype": "text/x-python",
   "name": "python",
   "nbconvert_exporter": "python",
   "pygments_lexer": "ipython3",
   "version": "3.8.10"
  }
 },
 "nbformat": 4,
 "nbformat_minor": 5
}
