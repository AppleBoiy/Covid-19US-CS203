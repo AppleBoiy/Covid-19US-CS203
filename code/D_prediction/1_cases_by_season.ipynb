{
 "cells": [
  {
   "cell_type": "code",
   "execution_count": 3,
   "id": "initial_id",
   "metadata": {
    "collapsed": true,
    "ExecuteTime": {
     "end_time": "2023-10-11T10:21:01.619032Z",
     "start_time": "2023-10-11T10:20:59.958103Z"
    }
   },
   "outputs": [],
   "source": [
    "import pandas as pd\n",
    "import seaborn as sns\n",
    "\n",
    "\n",
    "from explore_data import get_data\n",
    "\n",
    "data = get_data()\n",
    "data[\"date\"] = pd.to_datetime(data[\"date\"])\n",
    "data.set_index(\"id\", inplace=True)"
   ]
  },
  {
   "cell_type": "code",
   "execution_count": 4,
   "outputs": [
    {
     "data": {
      "text/plain": "                date       state abbr    location  cases  death   season\nid                                                                      \nNJ0004673 2020-05-19  New Jersey   NJ  Burlington   4005    247  spring1\nNJ0004674 2020-05-19  New Jersey   NJ       Union  15051    977  spring1\nNM0004675 2020-05-19  New Mexico   NM        Luna      8      1  spring1\nNY0004676 2020-05-19    New York   NY      Albany   1655     69  spring1\nNY0004677 2020-05-19    New York   NY      Oswego     89      3  spring1",
      "text/html": "<div>\n<style scoped>\n    .dataframe tbody tr th:only-of-type {\n        vertical-align: middle;\n    }\n\n    .dataframe tbody tr th {\n        vertical-align: top;\n    }\n\n    .dataframe thead th {\n        text-align: right;\n    }\n</style>\n<table border=\"1\" class=\"dataframe\">\n  <thead>\n    <tr style=\"text-align: right;\">\n      <th></th>\n      <th>date</th>\n      <th>state</th>\n      <th>abbr</th>\n      <th>location</th>\n      <th>cases</th>\n      <th>death</th>\n      <th>season</th>\n    </tr>\n    <tr>\n      <th>id</th>\n      <th></th>\n      <th></th>\n      <th></th>\n      <th></th>\n      <th></th>\n      <th></th>\n      <th></th>\n    </tr>\n  </thead>\n  <tbody>\n    <tr>\n      <th>NJ0004673</th>\n      <td>2020-05-19</td>\n      <td>New Jersey</td>\n      <td>NJ</td>\n      <td>Burlington</td>\n      <td>4005</td>\n      <td>247</td>\n      <td>spring1</td>\n    </tr>\n    <tr>\n      <th>NJ0004674</th>\n      <td>2020-05-19</td>\n      <td>New Jersey</td>\n      <td>NJ</td>\n      <td>Union</td>\n      <td>15051</td>\n      <td>977</td>\n      <td>spring1</td>\n    </tr>\n    <tr>\n      <th>NM0004675</th>\n      <td>2020-05-19</td>\n      <td>New Mexico</td>\n      <td>NM</td>\n      <td>Luna</td>\n      <td>8</td>\n      <td>1</td>\n      <td>spring1</td>\n    </tr>\n    <tr>\n      <th>NY0004676</th>\n      <td>2020-05-19</td>\n      <td>New York</td>\n      <td>NY</td>\n      <td>Albany</td>\n      <td>1655</td>\n      <td>69</td>\n      <td>spring1</td>\n    </tr>\n    <tr>\n      <th>NY0004677</th>\n      <td>2020-05-19</td>\n      <td>New York</td>\n      <td>NY</td>\n      <td>Oswego</td>\n      <td>89</td>\n      <td>3</td>\n      <td>spring1</td>\n    </tr>\n  </tbody>\n</table>\n</div>"
     },
     "execution_count": 4,
     "metadata": {},
     "output_type": "execute_result"
    }
   ],
   "source": [
    "data.head()"
   ],
   "metadata": {
    "collapsed": false,
    "ExecuteTime": {
     "end_time": "2023-10-11T10:21:02.817393Z",
     "start_time": "2023-10-11T10:21:02.811416Z"
    }
   },
   "id": "7408fb4ce1e490b8"
  },
  {
   "cell_type": "code",
   "execution_count": 16,
   "outputs": [
    {
     "data": {
      "text/plain": "state\nCalifornia    30716\nArizona       15761\nIllinois      14051\nNew York      12694\nTexas         10667\nName: death, dtype: int64"
     },
     "execution_count": 16,
     "metadata": {},
     "output_type": "execute_result"
    }
   ],
   "source": [
    "# find top 5 state with most death\n",
    "\n",
    "top_5_states = data.groupby(\"state\")[\"death\"].max().sort_values(ascending=False).head(5)\n",
    "top_5_states"
   ],
   "metadata": {
    "collapsed": false,
    "ExecuteTime": {
     "end_time": "2023-10-11T10:39:58.219324Z",
     "start_time": "2023-10-11T10:39:58.124749Z"
    }
   },
   "id": "16e4c5204abf35a7"
  },
  {
   "cell_type": "code",
   "execution_count": null,
   "outputs": [],
   "source": [
    "# Show the joint distribution using kernel density estimation\n",
    "g = sns.jointplot(\n",
    "    data=data,\n",
    "    x=\"date\",\n",
    "    y=\"cases\",\n",
    "    hue=\"season\",\n",
    "    kind=\"kde\",\n",
    ")"
   ],
   "metadata": {
    "collapsed": false
   },
   "id": "41eb458b6c1e5b2d"
  }
 ],
 "metadata": {
  "kernelspec": {
   "display_name": "Python 3",
   "language": "python",
   "name": "python3"
  },
  "language_info": {
   "codemirror_mode": {
    "name": "ipython",
    "version": 2
   },
   "file_extension": ".py",
   "mimetype": "text/x-python",
   "name": "python",
   "nbconvert_exporter": "python",
   "pygments_lexer": "ipython2",
   "version": "2.7.6"
  }
 },
 "nbformat": 4,
 "nbformat_minor": 5
}
