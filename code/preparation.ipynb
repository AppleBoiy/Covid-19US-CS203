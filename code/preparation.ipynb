{
 "cells": [
  {
   "cell_type": "code",
   "execution_count": 1,
   "id": "initial_id",
   "metadata": {
    "collapsed": true,
    "ExecuteTime": {
     "end_time": "2023-10-07T13:26:09.452272Z",
     "start_time": "2023-10-07T13:26:09.420505Z"
    }
   },
   "outputs": [],
   "source": [
    "import pandas as pd\n",
    "\n",
    "from directories import Path"
   ]
  },
  {
   "cell_type": "code",
   "execution_count": 4,
   "outputs": [],
   "source": [
    "def get_data():\n",
    "    data = pd.read_csv(Path.DATA.value + '/coronavirus-covid-19-pandemic-usa-counties.csv')\n",
    "    return data"
   ],
   "metadata": {
    "collapsed": false,
    "ExecuteTime": {
     "end_time": "2023-10-07T13:27:15.900007Z",
     "start_time": "2023-10-07T13:27:15.897583Z"
    }
   },
   "id": "aa5900c5f0f1676e"
  },
  {
   "cell_type": "code",
   "execution_count": 5,
   "outputs": [],
   "source": [
    "df = get_data()"
   ],
   "metadata": {
    "collapsed": false,
    "ExecuteTime": {
     "end_time": "2023-10-07T13:27:18.831324Z",
     "start_time": "2023-10-07T13:27:16.334567Z"
    }
   },
   "id": "a2603aa665b748ee"
  },
  {
   "cell_type": "code",
   "execution_count": 6,
   "outputs": [
    {
     "data": {
      "text/plain": "                                                    Admin 2 FIPS Code;Province/State;Admin 2 Level (City/County/Borough/Region);Date;Total Death;Total Confirmed;location\n12119;Florida;Sumter;2020-01-31;0;0;28.70181754                                            -82.079427                                                                    \n13153;Georgia;Houston;2020-01-31;0;0;32.45802497                                           -83.668791                                                                    \n13227;Georgia;Pickens;2020-01-31;0;0;34.46589159                                           -84.464066                                                                    \n13303;Georgia;Washington;2020-01-31;0;0;32.9671...                                         -82.793570                                                                    \n16003;Idaho;Adams;2020-01-31;0;0;44.89333571                                              -116.454525                                                                    ",
      "text/html": "<div>\n<style scoped>\n    .dataframe tbody tr th:only-of-type {\n        vertical-align: middle;\n    }\n\n    .dataframe tbody tr th {\n        vertical-align: top;\n    }\n\n    .dataframe thead th {\n        text-align: right;\n    }\n</style>\n<table border=\"1\" class=\"dataframe\">\n  <thead>\n    <tr style=\"text-align: right;\">\n      <th></th>\n      <th>Admin 2 FIPS Code;Province/State;Admin 2 Level (City/County/Borough/Region);Date;Total Death;Total Confirmed;location</th>\n    </tr>\n  </thead>\n  <tbody>\n    <tr>\n      <th>12119;Florida;Sumter;2020-01-31;0;0;28.70181754</th>\n      <td>-82.079427</td>\n    </tr>\n    <tr>\n      <th>13153;Georgia;Houston;2020-01-31;0;0;32.45802497</th>\n      <td>-83.668791</td>\n    </tr>\n    <tr>\n      <th>13227;Georgia;Pickens;2020-01-31;0;0;34.46589159</th>\n      <td>-84.464066</td>\n    </tr>\n    <tr>\n      <th>13303;Georgia;Washington;2020-01-31;0;0;32.96711864</th>\n      <td>-82.793570</td>\n    </tr>\n    <tr>\n      <th>16003;Idaho;Adams;2020-01-31;0;0;44.89333571</th>\n      <td>-116.454525</td>\n    </tr>\n  </tbody>\n</table>\n</div>"
     },
     "execution_count": 6,
     "metadata": {},
     "output_type": "execute_result"
    }
   ],
   "source": [
    "df.head()"
   ],
   "metadata": {
    "collapsed": false,
    "ExecuteTime": {
     "end_time": "2023-10-07T13:27:21.235448Z",
     "start_time": "2023-10-07T13:27:21.210741Z"
    }
   },
   "id": "f8cc2269974155fe"
  },
  {
   "cell_type": "code",
   "execution_count": null,
   "outputs": [],
   "source": [],
   "metadata": {
    "collapsed": false
   },
   "id": "b83c0395dadc7dce"
  }
 ],
 "metadata": {
  "kernelspec": {
   "display_name": "Python 3",
   "language": "python",
   "name": "python3"
  },
  "language_info": {
   "codemirror_mode": {
    "name": "ipython",
    "version": 2
   },
   "file_extension": ".py",
   "mimetype": "text/x-python",
   "name": "python",
   "nbconvert_exporter": "python",
   "pygments_lexer": "ipython2",
   "version": "2.7.6"
  }
 },
 "nbformat": 4,
 "nbformat_minor": 5
}
