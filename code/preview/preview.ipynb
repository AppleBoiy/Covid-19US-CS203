{
 "cells": [
  {
   "cell_type": "code",
   "execution_count": 1,
   "id": "bbcf031b4d56a551",
   "metadata": {
    "collapsed": true,
    "ExecuteTime": {
     "end_time": "2023-10-02T08:14:44.213191Z",
     "start_time": "2023-10-02T08:14:44.211376Z"
    }
   },
   "outputs": [],
   "source": [
    "import src.plotter as plotter\n",
    "import pandas as pd\n",
    "\n",
    "from directories import Url\n"
   ]
  },
  {
   "cell_type": "code",
   "execution_count": 12,
   "id": "585d669b3d0fcc94",
   "metadata": {
    "collapsed": false,
    "ExecuteTime": {
     "end_time": "2023-10-02T08:15:23.818674Z",
     "start_time": "2023-10-02T08:15:21.841866Z"
    }
   },
   "outputs": [
    {
     "data": {
      "text/plain": "     State City/County/Borough/Region  ... Total Confirmed  Death Rate\n0  Alabama                    Choctaw  ...            2155    0.017169\n1  Alabama                      Perry  ...            2366    0.019865\n2  Alabama                     Wilcox  ...            3299    0.014550\n3  Alabama                     Greene  ...            2079    0.024531\n4  Alabama                     Sumter  ...            2882    0.018043\n\n[5 rows x 6 columns]",
      "text/html": "<div>\n<style scoped>\n    .dataframe tbody tr th:only-of-type {\n        vertical-align: middle;\n    }\n\n    .dataframe tbody tr th {\n        vertical-align: top;\n    }\n\n    .dataframe thead th {\n        text-align: right;\n    }\n</style>\n<table border=\"1\" class=\"dataframe\">\n  <thead>\n    <tr style=\"text-align: right;\">\n      <th></th>\n      <th>State</th>\n      <th>City/County/Borough/Region</th>\n      <th>Date</th>\n      <th>Total Death</th>\n      <th>Total Confirmed</th>\n      <th>Death Rate</th>\n    </tr>\n  </thead>\n  <tbody>\n    <tr>\n      <th>0</th>\n      <td>Alabama</td>\n      <td>Choctaw</td>\n      <td>2022-08-20</td>\n      <td>37</td>\n      <td>2155</td>\n      <td>0.017169</td>\n    </tr>\n    <tr>\n      <th>1</th>\n      <td>Alabama</td>\n      <td>Perry</td>\n      <td>2022-08-20</td>\n      <td>47</td>\n      <td>2366</td>\n      <td>0.019865</td>\n    </tr>\n    <tr>\n      <th>2</th>\n      <td>Alabama</td>\n      <td>Wilcox</td>\n      <td>2022-08-19</td>\n      <td>48</td>\n      <td>3299</td>\n      <td>0.014550</td>\n    </tr>\n    <tr>\n      <th>3</th>\n      <td>Alabama</td>\n      <td>Greene</td>\n      <td>2022-08-19</td>\n      <td>51</td>\n      <td>2079</td>\n      <td>0.024531</td>\n    </tr>\n    <tr>\n      <th>4</th>\n      <td>Alabama</td>\n      <td>Sumter</td>\n      <td>2022-08-20</td>\n      <td>52</td>\n      <td>2882</td>\n      <td>0.018043</td>\n    </tr>\n  </tbody>\n</table>\n</div>"
     },
     "execution_count": 12,
     "metadata": {},
     "output_type": "execute_result"
    }
   ],
   "source": [
    "from src import get_url\n",
    "\n",
    "url = get_url(Url.DATA.value)\n",
    "df = pd.read_csv(url)\n",
    "\n",
    "df.head()"
   ]
  },
  {
   "cell_type": "code",
   "execution_count": 13,
   "id": "bf6238c52455e2e6",
   "metadata": {
    "collapsed": false,
    "ExecuteTime": {
     "end_time": "2023-10-02T08:15:24.637502Z",
     "start_time": "2023-10-02T08:15:24.627876Z"
    }
   },
   "outputs": [
    {
     "name": "stdout",
     "output_type": "stream",
     "text": [
      "<class 'pandas.core.frame.DataFrame'>\n",
      "RangeIndex: 3232 entries, 0 to 3231\n",
      "Data columns (total 6 columns):\n",
      " #   Column                      Non-Null Count  Dtype  \n",
      "---  ------                      --------------  -----  \n",
      " 0   State                       3232 non-null   object \n",
      " 1   City/County/Borough/Region  3232 non-null   object \n",
      " 2   Date                        3232 non-null   object \n",
      " 3   Total Death                 3232 non-null   int64  \n",
      " 4   Total Confirmed             3232 non-null   int64  \n",
      " 5   Death Rate                  3232 non-null   float64\n",
      "dtypes: float64(1), int64(2), object(3)\n",
      "memory usage: 151.6+ KB\n"
     ]
    }
   ],
   "source": [
    "df.info()"
   ]
  },
  {
   "cell_type": "code",
   "execution_count": 14,
   "outputs": [
    {
     "data": {
      "text/plain": "State                         0\nCity/County/Borough/Region    0\nDate                          0\nTotal Death                   0\nTotal Confirmed               0\nDeath Rate                    0\ndtype: int64"
     },
     "execution_count": 14,
     "metadata": {},
     "output_type": "execute_result"
    }
   ],
   "source": [
    "df.isnull().sum()"
   ],
   "metadata": {
    "collapsed": false,
    "ExecuteTime": {
     "end_time": "2023-10-02T08:15:25.094844Z",
     "start_time": "2023-10-02T08:15:25.069405Z"
    }
   },
   "id": "cf7b1b3179a3c845"
  },
  {
   "cell_type": "code",
   "execution_count": 15,
   "id": "58815b92f7cfc85a",
   "metadata": {
    "collapsed": false,
    "ExecuteTime": {
     "end_time": "2023-10-02T08:15:25.633663Z",
     "start_time": "2023-10-02T08:15:25.629607Z"
    }
   },
   "outputs": [
    {
     "data": {
      "text/plain": "count    3232.000000\nmean        0.014258\nstd         0.007623\nmin         0.000000\n25%         0.009905\n50%         0.013487\n75%         0.017687\nmax         0.108322\nName: Death Rate, dtype: float64"
     },
     "execution_count": 15,
     "metadata": {},
     "output_type": "execute_result"
    }
   ],
   "source": [
    "df['Death Rate'].describe()"
   ]
  },
  {
   "cell_type": "code",
   "execution_count": 16,
   "id": "fe94f646f460ac0",
   "metadata": {
    "collapsed": false,
    "ExecuteTime": {
     "end_time": "2023-10-02T08:15:28.237123Z",
     "start_time": "2023-10-02T08:15:28.227138Z"
    }
   },
   "outputs": [],
   "source": [
    "plotter.histogram_plot(\n",
    "    df['Death Rate'],\n",
    "    'Death Rate',\n",
    "    bins=20,\n",
    "    # path='../dist/images/death_rate_hist.png',\n",
    ")"
   ]
  },
  {
   "cell_type": "code",
   "execution_count": 17,
   "id": "e5d0282a144e2cfb",
   "metadata": {
    "collapsed": false,
    "ExecuteTime": {
     "end_time": "2023-10-02T08:15:28.801832Z",
     "start_time": "2023-10-02T08:15:28.795970Z"
    }
   },
   "outputs": [],
   "source": [
    "plotter.box_plot(\n",
    "    df['Death Rate'],\n",
    "    'Death Rate',\n",
    "    # path='../dist/images/death_rate_box.png',\n",
    ")"
   ]
  },
  {
   "cell_type": "code",
   "execution_count": 18,
   "id": "initial_id",
   "metadata": {
    "collapsed": false,
    "ExecuteTime": {
     "end_time": "2023-10-02T08:15:29.534455Z",
     "start_time": "2023-10-02T08:15:29.504287Z"
    }
   },
   "outputs": [],
   "source": [
    "plotter.density_plot(\n",
    "    df['Death Rate'],\n",
    "    'Death Rate',\n",
    "    # path='../dist/images/death_rate_density.png',\n",
    ")"
   ]
  },
  {
   "cell_type": "code",
   "execution_count": null,
   "outputs": [],
   "source": [],
   "metadata": {
    "collapsed": false
   },
   "id": "518690adab28729d"
  }
 ],
 "metadata": {
  "kernelspec": {
   "display_name": "Python 3",
   "language": "python",
   "name": "python3"
  },
  "language_info": {
   "codemirror_mode": {
    "name": "ipython",
    "version": 3
   },
   "file_extension": ".py",
   "mimetype": "text/x-python",
   "name": "python",
   "nbconvert_exporter": "python",
   "pygments_lexer": "ipython3",
   "version": "3.8.10"
  }
 },
 "nbformat": 4,
 "nbformat_minor": 5
}
