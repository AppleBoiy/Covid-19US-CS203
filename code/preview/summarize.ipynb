{
 "cells": [
  {
   "cell_type": "code",
   "execution_count": 1,
   "id": "initial_id",
   "metadata": {
    "collapsed": true,
    "ExecuteTime": {
     "end_time": "2023-10-02T08:15:54.507842Z",
     "start_time": "2023-10-02T08:15:54.505730Z"
    }
   },
   "outputs": [],
   "source": [
    "import pandas as pd\n",
    "import matplotlib.pyplot as plt\n",
    "import numpy as np"
   ]
  },
  {
   "cell_type": "code",
   "execution_count": 2,
   "outputs": [
    {
     "data": {
      "text/plain": "     State City/County/Borough/Region  ... Total Confirmed  Death Rate\n0  Alabama                    Choctaw  ...            2155    0.017169\n1  Alabama                      Perry  ...            2366    0.019865\n2  Alabama                     Wilcox  ...            3299    0.014550\n3  Alabama                     Greene  ...            2079    0.024531\n4  Alabama                     Sumter  ...            2882    0.018043\n\n[5 rows x 6 columns]",
      "text/html": "<div>\n<style scoped>\n    .dataframe tbody tr th:only-of-type {\n        vertical-align: middle;\n    }\n\n    .dataframe tbody tr th {\n        vertical-align: top;\n    }\n\n    .dataframe thead th {\n        text-align: right;\n    }\n</style>\n<table border=\"1\" class=\"dataframe\">\n  <thead>\n    <tr style=\"text-align: right;\">\n      <th></th>\n      <th>State</th>\n      <th>City/County/Borough/Region</th>\n      <th>Date</th>\n      <th>Total Death</th>\n      <th>Total Confirmed</th>\n      <th>Death Rate</th>\n    </tr>\n  </thead>\n  <tbody>\n    <tr>\n      <th>0</th>\n      <td>Alabama</td>\n      <td>Choctaw</td>\n      <td>2022-08-20</td>\n      <td>37</td>\n      <td>2155</td>\n      <td>0.017169</td>\n    </tr>\n    <tr>\n      <th>1</th>\n      <td>Alabama</td>\n      <td>Perry</td>\n      <td>2022-08-20</td>\n      <td>47</td>\n      <td>2366</td>\n      <td>0.019865</td>\n    </tr>\n    <tr>\n      <th>2</th>\n      <td>Alabama</td>\n      <td>Wilcox</td>\n      <td>2022-08-19</td>\n      <td>48</td>\n      <td>3299</td>\n      <td>0.014550</td>\n    </tr>\n    <tr>\n      <th>3</th>\n      <td>Alabama</td>\n      <td>Greene</td>\n      <td>2022-08-19</td>\n      <td>51</td>\n      <td>2079</td>\n      <td>0.024531</td>\n    </tr>\n    <tr>\n      <th>4</th>\n      <td>Alabama</td>\n      <td>Sumter</td>\n      <td>2022-08-20</td>\n      <td>52</td>\n      <td>2882</td>\n      <td>0.018043</td>\n    </tr>\n  </tbody>\n</table>\n</div>"
     },
     "execution_count": 2,
     "metadata": {},
     "output_type": "execute_result"
    }
   ],
   "source": [
    "from directories import Url\n",
    "from src import get_url\n",
    "\n",
    "url = get_url(Url.DATA.value)\n",
    "df = pd.read_csv(url)\n",
    "\n",
    "df.head()"
   ],
   "metadata": {
    "collapsed": false,
    "ExecuteTime": {
     "end_time": "2023-10-02T08:15:56.616732Z",
     "start_time": "2023-10-02T08:15:55.207956Z"
    }
   },
   "id": "7561391f7ced0b8e"
  },
  {
   "cell_type": "code",
   "execution_count": 3,
   "outputs": [
    {
     "data": {
      "text/plain": "1025722"
     },
     "execution_count": 3,
     "metadata": {},
     "output_type": "execute_result"
    }
   ],
   "source": [
    "df['Total Death'].sum()"
   ],
   "metadata": {
    "collapsed": false,
    "ExecuteTime": {
     "end_time": "2023-10-02T08:15:58.487568Z",
     "start_time": "2023-10-02T08:15:58.466505Z"
    }
   },
   "id": "9606b29c0ba4edb5"
  },
  {
   "cell_type": "code",
   "execution_count": 4,
   "outputs": [
    {
     "data": {
      "text/plain": "52"
     },
     "execution_count": 4,
     "metadata": {},
     "output_type": "execute_result"
    }
   ],
   "source": [
    "# how many Provinces/States are there?\n",
    "df['State'].nunique()"
   ],
   "metadata": {
    "collapsed": false,
    "ExecuteTime": {
     "end_time": "2023-10-02T08:15:59.174254Z",
     "start_time": "2023-10-02T08:15:59.165782Z"
    }
   },
   "id": "e4a8cc92e219a57c"
  },
  {
   "cell_type": "code",
   "execution_count": 5,
   "outputs": [
    {
     "name": "stderr",
     "output_type": "stream",
     "text": [
      "/var/folders/2b/3th3m2h118j350hwhvx48j580000gn/T/ipykernel_73555/1438802883.py:2: FutureWarning: The default value of numeric_only in DataFrameGroupBy.sum is deprecated. In a future version, numeric_only will default to False. Either specify numeric_only or select only columns which should be valid for the function.\n",
      "  state_df = df.groupby('State').sum().reset_index()\n"
     ]
    },
    {
     "data": {
      "text/plain": "        State  Total Death  Total Confirmed  Death Rate\n0     Alabama        20041          1463933    1.102538\n1      Alaska         1331           289052    0.111015\n2     Arizona        30982          2237208    0.261312\n3    Arkansas        11864           891979    1.242037\n4  California        94486         10953003    0.469453",
      "text/html": "<div>\n<style scoped>\n    .dataframe tbody tr th:only-of-type {\n        vertical-align: middle;\n    }\n\n    .dataframe tbody tr th {\n        vertical-align: top;\n    }\n\n    .dataframe thead th {\n        text-align: right;\n    }\n</style>\n<table border=\"1\" class=\"dataframe\">\n  <thead>\n    <tr style=\"text-align: right;\">\n      <th></th>\n      <th>State</th>\n      <th>Total Death</th>\n      <th>Total Confirmed</th>\n      <th>Death Rate</th>\n    </tr>\n  </thead>\n  <tbody>\n    <tr>\n      <th>0</th>\n      <td>Alabama</td>\n      <td>20041</td>\n      <td>1463933</td>\n      <td>1.102538</td>\n    </tr>\n    <tr>\n      <th>1</th>\n      <td>Alaska</td>\n      <td>1331</td>\n      <td>289052</td>\n      <td>0.111015</td>\n    </tr>\n    <tr>\n      <th>2</th>\n      <td>Arizona</td>\n      <td>30982</td>\n      <td>2237208</td>\n      <td>0.261312</td>\n    </tr>\n    <tr>\n      <th>3</th>\n      <td>Arkansas</td>\n      <td>11864</td>\n      <td>891979</td>\n      <td>1.242037</td>\n    </tr>\n    <tr>\n      <th>4</th>\n      <td>California</td>\n      <td>94486</td>\n      <td>10953003</td>\n      <td>0.469453</td>\n    </tr>\n  </tbody>\n</table>\n</div>"
     },
     "execution_count": 5,
     "metadata": {},
     "output_type": "execute_result"
    }
   ],
   "source": [
    "# Create dataframe grouped by 'Province/State'\n",
    "state_df = df.groupby('State').sum().reset_index()\n",
    "state_df.head()"
   ],
   "metadata": {
    "collapsed": false,
    "ExecuteTime": {
     "end_time": "2023-10-02T08:15:59.534813Z",
     "start_time": "2023-10-02T08:15:59.524056Z"
    }
   },
   "id": "a913fc0cf7dfc218"
  },
  {
   "cell_type": "code",
   "execution_count": 6,
   "outputs": [
    {
     "data": {
      "text/plain": "           State  Total Death\n4     California        94486\n44         Texas        89964\n9        Florida        78049\n32      New York        70350\n38  Pennsylvania        46514",
      "text/html": "<div>\n<style scoped>\n    .dataframe tbody tr th:only-of-type {\n        vertical-align: middle;\n    }\n\n    .dataframe tbody tr th {\n        vertical-align: top;\n    }\n\n    .dataframe thead th {\n        text-align: right;\n    }\n</style>\n<table border=\"1\" class=\"dataframe\">\n  <thead>\n    <tr style=\"text-align: right;\">\n      <th></th>\n      <th>State</th>\n      <th>Total Death</th>\n    </tr>\n  </thead>\n  <tbody>\n    <tr>\n      <th>4</th>\n      <td>California</td>\n      <td>94486</td>\n    </tr>\n    <tr>\n      <th>44</th>\n      <td>Texas</td>\n      <td>89964</td>\n    </tr>\n    <tr>\n      <th>9</th>\n      <td>Florida</td>\n      <td>78049</td>\n    </tr>\n    <tr>\n      <th>32</th>\n      <td>New York</td>\n      <td>70350</td>\n    </tr>\n    <tr>\n      <th>38</th>\n      <td>Pennsylvania</td>\n      <td>46514</td>\n    </tr>\n  </tbody>\n</table>\n</div>"
     },
     "execution_count": 6,
     "metadata": {},
     "output_type": "execute_result"
    }
   ],
   "source": [
    "# Show the top 5 most deaths by Province/State\n",
    "header = ['State', 'Total Death']\n",
    "state_df = state_df.sort_values(by='Total Death', ascending=False)[header]\n",
    "state_df.head()\n"
   ],
   "metadata": {
    "collapsed": false,
    "ExecuteTime": {
     "end_time": "2023-10-02T08:15:59.782932Z",
     "start_time": "2023-10-02T08:15:59.778110Z"
    }
   },
   "id": "a7c1ac70dd84e974"
  },
  {
   "cell_type": "code",
   "execution_count": 7,
   "outputs": [
    {
     "data": {
      "text/plain": "0"
     },
     "execution_count": 7,
     "metadata": {},
     "output_type": "execute_result"
    }
   ],
   "source": [
    "# how many Provinces/States are not having deaths?\n",
    "state_df[state_df['Total Death'] == 0]['State'].nunique()"
   ],
   "metadata": {
    "collapsed": false,
    "ExecuteTime": {
     "end_time": "2023-10-02T08:16:00.245070Z",
     "start_time": "2023-10-02T08:16:00.241541Z"
    }
   },
   "id": "64ef2895a6d3a4d4"
  },
  {
   "cell_type": "code",
   "execution_count": 8,
   "outputs": [],
   "source": [
    "# Create a bar plot to show the states with the most deaths\n",
    "plt.figure(figsize=(10, 6))\n",
    "plt.bar(state_df['State'], state_df['Total Death'])\n",
    "plt.xlabel('State')\n",
    "plt.ylabel('Total Death')\n",
    "plt.title('Total Deaths by State')\n",
    "plt.xticks(rotation=90)\n",
    "plt.tight_layout()\n",
    "plt.show()"
   ],
   "metadata": {
    "collapsed": false,
    "ExecuteTime": {
     "end_time": "2023-10-02T08:16:04.445658Z",
     "start_time": "2023-10-02T08:16:00.633936Z"
    }
   },
   "id": "7cd5d4dc79e8738d"
  },
  {
   "cell_type": "code",
   "execution_count": 9,
   "outputs": [
    {
     "data": {
      "text/plain": "           State  Total Death  Percentage\n4     California        94486    9.211658\n44         Texas        89964    8.770798\n9        Florida        78049    7.609177\n32      New York        70350    6.858584\n38  Pennsylvania        46514    4.534757",
      "text/html": "<div>\n<style scoped>\n    .dataframe tbody tr th:only-of-type {\n        vertical-align: middle;\n    }\n\n    .dataframe tbody tr th {\n        vertical-align: top;\n    }\n\n    .dataframe thead th {\n        text-align: right;\n    }\n</style>\n<table border=\"1\" class=\"dataframe\">\n  <thead>\n    <tr style=\"text-align: right;\">\n      <th></th>\n      <th>State</th>\n      <th>Total Death</th>\n      <th>Percentage</th>\n    </tr>\n  </thead>\n  <tbody>\n    <tr>\n      <th>4</th>\n      <td>California</td>\n      <td>94486</td>\n      <td>9.211658</td>\n    </tr>\n    <tr>\n      <th>44</th>\n      <td>Texas</td>\n      <td>89964</td>\n      <td>8.770798</td>\n    </tr>\n    <tr>\n      <th>9</th>\n      <td>Florida</td>\n      <td>78049</td>\n      <td>7.609177</td>\n    </tr>\n    <tr>\n      <th>32</th>\n      <td>New York</td>\n      <td>70350</td>\n      <td>6.858584</td>\n    </tr>\n    <tr>\n      <th>38</th>\n      <td>Pennsylvania</td>\n      <td>46514</td>\n      <td>4.534757</td>\n    </tr>\n  </tbody>\n</table>\n</div>"
     },
     "execution_count": 9,
     "metadata": {},
     "output_type": "execute_result"
    }
   ],
   "source": [
    "# Calculate the percentage of deaths for each province/state\n",
    "total_deaths = state_df['Total Death'].sum()\n",
    "state_df['Percentage'] = (state_df['Total Death'] / total_deaths) * 100\n",
    "state_df.head()"
   ],
   "metadata": {
    "collapsed": false,
    "ExecuteTime": {
     "end_time": "2023-10-02T08:16:04.458057Z",
     "start_time": "2023-10-02T08:16:04.455183Z"
    }
   },
   "id": "71050a9c7c2f8a87"
  },
  {
   "cell_type": "code",
   "execution_count": 10,
   "outputs": [
    {
     "data": {
      "text/plain": "35"
     },
     "execution_count": 10,
     "metadata": {},
     "output_type": "execute_result"
    }
   ],
   "source": [
    "#  new Provinces/States with deaths is less than2% of the total deaths \n",
    "state_df[state_df['Percentage'] < 2]['State'].nunique()"
   ],
   "metadata": {
    "collapsed": false,
    "ExecuteTime": {
     "end_time": "2023-10-02T08:16:07.792014Z",
     "start_time": "2023-10-02T08:16:07.790916Z"
    }
   },
   "id": "acb26b91ea2b4e21"
  },
  {
   "cell_type": "code",
   "execution_count": 11,
   "outputs": [],
   "source": [
    "\n",
    "# Convert 'Date' column to datetime format\n",
    "df['Date'] = pd.to_datetime(df['Date'])\n",
    "\n",
    "# Group the data by 'Date' and calculate the sum of 'Total Death' for each date\n",
    "daily_death = df.groupby('Date')['Total Death'].sum().reset_index()\n",
    "\n",
    "# Create a line plot (time series plot)\n",
    "plt.figure(figsize=(10, 6))\n",
    "plt.plot(daily_death['Date'], daily_death['Total Death'], marker='o', linestyle='-')\n",
    "plt.xlabel('Date')\n",
    "plt.ylabel('Total Death')\n",
    "plt.title('Daily Total Deaths Over Time (Line Plot)')\n",
    "plt.grid(True)\n",
    "plt.xticks(rotation=45)\n",
    "plt.tight_layout()\n",
    "plt.show()"
   ],
   "metadata": {
    "collapsed": false,
    "ExecuteTime": {
     "end_time": "2023-10-02T08:16:12.336633Z",
     "start_time": "2023-10-02T08:16:09.941488Z"
    }
   },
   "id": "66106895e5e6da4f"
  },
  {
   "cell_type": "code",
   "execution_count": 12,
   "outputs": [
    {
     "name": "stdout",
     "output_type": "stream",
     "text": [
      "Most Deaths: Los Angeles Death Count: 32991\n",
      "Least Deaths: Skagway Death Count: 1\n"
     ]
    }
   ],
   "source": [
    "# Find the city with the most deaths and the fewest deaths\n",
    "\n",
    "non_zero_death = df[df['Total Death'] > 0]\n",
    "\n",
    "most_deaths_city = non_zero_death[non_zero_death['Total Death'] == non_zero_death['Total Death'].max()][\n",
    "    'City/County/Borough/Region'].values[0]\n",
    "least_deaths_city = non_zero_death[non_zero_death['Total Death'] == non_zero_death['Total Death'].min()][\n",
    "    'City/County/Borough/Region'].values[0]\n",
    "\n",
    "print(f'Most Deaths: {most_deaths_city} Death Count: {non_zero_death[\"Total Death\"].max()}')\n",
    "print(f'Least Deaths: {least_deaths_city} Death Count: {non_zero_death[\"Total Death\"].min()}')"
   ],
   "metadata": {
    "collapsed": false,
    "ExecuteTime": {
     "end_time": "2023-10-02T08:16:16.478136Z",
     "start_time": "2023-10-02T08:16:16.473175Z"
    }
   },
   "id": "18a539983d675341"
  },
  {
   "cell_type": "code",
   "execution_count": 13,
   "outputs": [
    {
     "name": "stderr",
     "output_type": "stream",
     "text": [
      "/var/folders/2b/3th3m2h118j350hwhvx48j580000gn/T/ipykernel_73555/2529066059.py:3: FutureWarning: The default value of numeric_only in DataFrameGroupBy.sum is deprecated. In a future version, numeric_only will default to False. Either specify numeric_only or select only columns which should be valid for the function.\n",
      "  city_df = non_zero_death.groupby('City/County/Borough/Region').sum().reset_index()\n"
     ]
    }
   ],
   "source": [
    "# create bar from the top 5 cities with the most deaths \n",
    "header = ['City/County/Borough/Region', 'Total Death', 'Total Confirmed']\n",
    "city_df = non_zero_death.groupby('City/County/Borough/Region').sum().reset_index()\n",
    "city_df = city_df.sort_values(by='Total Death', ascending=False)[header]\n",
    "city_df['Ratio'] = city_df['Total Death'] / city_df['Total Confirmed']\n",
    "\n",
    "# show 1 bar but have sub bar inside it between the total death and total confirmed\n",
    "top_5_cities = city_df.head(5)\n",
    "\n",
    "# Define the positions for the bars\n",
    "x = np.arange(len(top_5_cities))\n",
    "\n",
    "# Define the width of the bars\n",
    "bar_width = 0.35\n",
    "\n",
    "# Create the sub-bars for 'Total Death' and 'Total Confirmed'\n",
    "plt.bar(x, top_5_cities['Total Death'], width=bar_width, label='Total Death')\n",
    "plt.bar(x + bar_width, top_5_cities['Total Confirmed'], width=bar_width, label='Total Confirmed')\n",
    "\n",
    "# Set the x-axis labels to be the city names\n",
    "plt.xticks(x + bar_width / 2, top_5_cities['City/County/Borough/Region'], rotation=45)\n",
    "\n",
    "# Set the labels and title\n",
    "plt.xlabel('City/County/Borough/Region')\n",
    "plt.ylabel('Counts')\n",
    "plt.title('Top 5 Cities with Most Deaths and Total Confirmed Cases')\n",
    "\n",
    "# Show the legend\n",
    "plt.legend()\n",
    "\n",
    "# Show the plot\n",
    "plt.tight_layout()\n",
    "plt.show()"
   ],
   "metadata": {
    "collapsed": false,
    "ExecuteTime": {
     "end_time": "2023-10-02T08:16:21.899600Z",
     "start_time": "2023-10-02T08:16:17.383790Z"
    }
   },
   "id": "7c280b5ea8440b46"
  },
  {
   "cell_type": "code",
   "execution_count": 20,
   "outputs": [
    {
     "data": {
      "text/plain": "<Figure size 800x800 with 1 Axes>",
      "image/png": "[encoded data removed]"
     },
     "metadata": {},
     "output_type": "display_data"
    }
   ],
   "source": [
    "top_5_cities = city_df.head(5)\n",
    "\n",
    "# Create a pie chart with percentage labels\n",
    "plt.figure(figsize=(8, 8))\n",
    "plt.pie(top_5_cities['Total Death'], labels=top_5_cities['City/County/Borough/Region'], autopct='%1.1f%%',\n",
    "        startangle=140)\n",
    "\n",
    "# Set the title\n",
    "plt.title('Distribution of Deaths in Top 5 Cities')\n",
    "\n",
    "# Display the pie chart\n",
    "plt.axis('equal')  # Equal aspect ratio ensures that pie is drawn as a circle.\n",
    "\n",
    "plt.show()"
   ],
   "metadata": {
    "collapsed": false,
    "ExecuteTime": {
     "end_time": "2023-10-01T10:16:51.752007Z",
     "start_time": "2023-10-01T10:16:51.654877Z"
    }
   },
   "id": "773292fcbaaeaaf7"
  }
 ],
 "metadata": {
  "kernelspec": {
   "display_name": "Python 3",
   "language": "python",
   "name": "python3"
  },
  "language_info": {
   "codemirror_mode": {
    "name": "ipython",
    "version": 2
   },
   "file_extension": ".py",
   "mimetype": "text/x-python",
   "name": "python",
   "nbconvert_exporter": "python",
   "pygments_lexer": "ipython2",
   "version": "2.7.6"
  }
 },
 "nbformat": 4,
 "nbformat_minor": 5
}
