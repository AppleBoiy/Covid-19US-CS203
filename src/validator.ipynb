{
 "cells": [
  {
   "cell_type": "code",
   "execution_count": 428,
   "id": "initial_id",
   "metadata": {
    "collapsed": true,
    "ExecuteTime": {
     "end_time": "2023-09-22T10:37:17.270121Z",
     "start_time": "2023-09-22T10:37:17.240360Z"
    }
   },
   "outputs": [],
   "source": [
    "import pandas as pd\n"
   ]
  },
  {
   "cell_type": "code",
   "execution_count": 429,
   "outputs": [],
   "source": [
    "df = pd.read_csv('../data/validated.csv')"
   ],
   "metadata": {
    "collapsed": false,
    "ExecuteTime": {
     "end_time": "2023-09-22T10:37:19.419101Z",
     "start_time": "2023-09-22T10:37:17.252834Z"
    }
   },
   "id": "6397f6ecc53d05e1"
  },
  {
   "cell_type": "markdown",
   "source": [
    "# validation"
   ],
   "metadata": {
    "collapsed": false
   },
   "id": "60d5111b10348b00"
  },
  {
   "cell_type": "code",
   "execution_count": 430,
   "outputs": [],
   "source": [
    "df.dropna(inplace=True)\n",
    "\n",
    "# drop location column because it is not needed for the model\n",
    "df.drop(['location'], axis=1, inplace=True)\n",
    "\n",
    "# change header name\n",
    "df.rename(\n",
    "    columns={\n",
    "        'Admin 2 Level (City/County/Borough/Region)':'City/County/Borough/Region'\n",
    "    },\n",
    "    inplace=True\n",
    ")\n",
    "\n",
    "# convert datatype \n",
    "df['Date'] = pd.to_datetime(df['Date'])\n",
    "\n",
    "df.sort_values(\n",
    "    by=[\n",
    "        'Province/State',\n",
    "        'City/County/Borough/Region',\n",
    "        'Total Death', 'Total Confirmed'\n",
    "    ],\n",
    "    inplace=True\n",
    ")\n",
    "\n",
    "df.drop_duplicates(\n",
    "    subset=[\n",
    "        'Province/State',\n",
    "        'City/County/Borough/Region'\n",
    "    ],\n",
    "    keep='last',\n",
    "    inplace=True\n",
    ")\n",
    "\n"
   ],
   "metadata": {
    "collapsed": false,
    "ExecuteTime": {
     "end_time": "2023-09-22T10:37:22.820226Z",
     "start_time": "2023-09-22T10:37:19.414863Z"
    }
   },
   "id": "a785c4f948a12eed"
  },
  {
   "cell_type": "code",
   "execution_count": 431,
   "outputs": [],
   "source": [
    "\n",
    "# Drop the data that City/County/Borough/Region startswith 'out of'\n",
    "df = df[~df['City/County/Borough/Region'].str.startswith('Out of')]"
   ],
   "metadata": {
    "collapsed": false,
    "ExecuteTime": {
     "end_time": "2023-09-22T10:37:22.836177Z",
     "start_time": "2023-09-22T10:37:22.820889Z"
    }
   },
   "id": "e0d9e27123054421"
  },
  {
   "cell_type": "markdown",
   "source": [],
   "metadata": {
    "collapsed": false
   },
   "id": "47e271d6375b1901"
  },
  {
   "cell_type": "markdown",
   "source": [
    "# Skim the data"
   ],
   "metadata": {
    "collapsed": false
   },
   "id": "69c39024825d2b74"
  },
  {
   "cell_type": "code",
   "execution_count": 432,
   "outputs": [
    {
     "data": {
      "text/plain": "(3232, 5)"
     },
     "execution_count": 432,
     "metadata": {},
     "output_type": "execute_result"
    }
   ],
   "source": [
    "df.shape"
   ],
   "metadata": {
    "collapsed": false,
    "ExecuteTime": {
     "end_time": "2023-09-22T10:37:22.836952Z",
     "start_time": "2023-09-22T10:37:22.825431Z"
    }
   },
   "id": "5d53eb71f7179cad"
  },
  {
   "cell_type": "code",
   "execution_count": 433,
   "outputs": [],
   "source": [
    "# select Province/State is Alabama, City/County/Borough/Region is Autauga as an example\n",
    "sample = df[(df['Province/State'] == 'Alabama') & (df['City/County/Borough/Region'] == 'Autauga')]"
   ],
   "metadata": {
    "collapsed": false,
    "ExecuteTime": {
     "end_time": "2023-09-22T10:37:22.837051Z",
     "start_time": "2023-09-22T10:37:22.829897Z"
    }
   },
   "id": "345b936a8099bf7a"
  },
  {
   "cell_type": "code",
   "execution_count": 434,
   "outputs": [
    {
     "data": {
      "text/plain": "222"
     },
     "execution_count": 434,
     "metadata": {},
     "output_type": "execute_result"
    }
   ],
   "source": [
    "sample['Total Death'].max()"
   ],
   "metadata": {
    "collapsed": false,
    "ExecuteTime": {
     "end_time": "2023-09-22T10:37:22.837580Z",
     "start_time": "2023-09-22T10:37:22.833923Z"
    }
   },
   "id": "332bfd8aefe45437"
  },
  {
   "cell_type": "code",
   "execution_count": 435,
   "outputs": [
    {
     "data": {
      "text/plain": "17864"
     },
     "execution_count": 435,
     "metadata": {},
     "output_type": "execute_result"
    }
   ],
   "source": [
    "sample['Total Confirmed'].max()"
   ],
   "metadata": {
    "collapsed": false,
    "ExecuteTime": {
     "end_time": "2023-09-22T10:37:22.840151Z",
     "start_time": "2023-09-22T10:37:22.837654Z"
    }
   },
   "id": "3d16ad6ef8624395"
  },
  {
   "cell_type": "code",
   "execution_count": 436,
   "outputs": [],
   "source": [
    "# Sort the data by total death and total confirmed\n",
    "df.sort_values(\n",
    "    by=[\n",
    "        'Province/State',\n",
    "        'Total Death', 'Total Confirmed'\n",
    "    ],\n",
    "    inplace=True\n",
    ")\n",
    "\n",
    "df['Death Rate'] = df['Total Death'] / df['Total Confirmed']"
   ],
   "metadata": {
    "collapsed": false,
    "ExecuteTime": {
     "end_time": "2023-09-22T10:37:22.893870Z",
     "start_time": "2023-09-22T10:37:22.841585Z"
    }
   },
   "id": "4701bdb761a50457"
  },
  {
   "cell_type": "markdown",
   "source": [
    "# Data Visualization (Skim)"
   ],
   "metadata": {
    "collapsed": false
   },
   "id": "939dc38d45f49a17"
  },
  {
   "cell_type": "code",
   "execution_count": 437,
   "outputs": [
    {
     "name": "stdout",
     "output_type": "stream",
     "text": [
      "<class 'pandas.core.frame.DataFrame'>\n",
      "Int64Index: 3232 entries, 2720994 to 2720758\n",
      "Data columns (total 6 columns):\n",
      " #   Column                      Non-Null Count  Dtype         \n",
      "---  ------                      --------------  -----         \n",
      " 0   Province/State              3232 non-null   object        \n",
      " 1   City/County/Borough/Region  3232 non-null   object        \n",
      " 2   Date                        3232 non-null   datetime64[ns]\n",
      " 3   Total Death                 3232 non-null   int64         \n",
      " 4   Total Confirmed             3232 non-null   int64         \n",
      " 5   Death Rate                  3216 non-null   float64       \n",
      "dtypes: datetime64[ns](1), float64(1), int64(2), object(2)\n",
      "memory usage: 176.8+ KB\n"
     ]
    }
   ],
   "source": [
    "df.info()"
   ],
   "metadata": {
    "collapsed": false,
    "ExecuteTime": {
     "end_time": "2023-09-22T10:37:22.904878Z",
     "start_time": "2023-09-22T10:37:22.847875Z"
    }
   },
   "id": "ac578611d60653dc"
  },
  {
   "cell_type": "code",
   "execution_count": 438,
   "outputs": [
    {
     "data": {
      "text/plain": "count    3216.000000\nmean        0.014329\nstd         0.007575\nmin         0.000000\n25%         0.009995\n50%         0.013514\n75%         0.017701\nmax         0.108322\nName: Death Rate, dtype: float64"
     },
     "execution_count": 438,
     "metadata": {},
     "output_type": "execute_result"
    }
   ],
   "source": [
    "df['Death Rate'].describe()"
   ],
   "metadata": {
    "collapsed": false,
    "ExecuteTime": {
     "end_time": "2023-09-22T10:37:22.905277Z",
     "start_time": "2023-09-22T10:37:22.857042Z"
    }
   },
   "id": "f1ba6b2fc2bcc808"
  },
  {
   "cell_type": "code",
   "execution_count": 439,
   "outputs": [
    {
     "data": {
      "text/plain": "<Axes: >"
     },
     "execution_count": 439,
     "metadata": {},
     "output_type": "execute_result"
    },
    {
     "data": {
      "text/plain": "<Figure size 640x480 with 1 Axes>",
      "image/png": "[encoded data removed]"
     },
     "metadata": {},
     "output_type": "display_data"
    }
   ],
   "source": [
    "df['Death Rate'].hist()"
   ],
   "metadata": {
    "collapsed": false,
    "ExecuteTime": {
     "end_time": "2023-09-22T10:37:22.997306Z",
     "start_time": "2023-09-22T10:37:22.868265Z"
    }
   },
   "id": "eaaf277b4e6cb546"
  },
  {
   "cell_type": "code",
   "execution_count": 440,
   "outputs": [
    {
     "data": {
      "text/plain": "<Axes: >"
     },
     "execution_count": 440,
     "metadata": {},
     "output_type": "execute_result"
    },
    {
     "data": {
      "text/plain": "<Figure size 640x480 with 1 Axes>",
      "image/png": "[encoded data removed]"
     },
     "metadata": {},
     "output_type": "display_data"
    }
   ],
   "source": [
    "df['Death Rate'].plot(kind='box')"
   ],
   "metadata": {
    "collapsed": false,
    "ExecuteTime": {
     "end_time": "2023-09-22T10:37:23.133425Z",
     "start_time": "2023-09-22T10:37:22.969662Z"
    }
   },
   "id": "35e3a27a3a7ee479"
  },
  {
   "cell_type": "code",
   "execution_count": 441,
   "outputs": [
    {
     "data": {
      "text/plain": "<Axes: ylabel='Density'>"
     },
     "execution_count": 441,
     "metadata": {},
     "output_type": "execute_result"
    },
    {
     "data": {
      "text/plain": "<Figure size 640x480 with 1 Axes>",
      "image/png": "[encoded data removed]"
     },
     "metadata": {},
     "output_type": "display_data"
    }
   ],
   "source": [
    "df['Death Rate'].plot(kind='density')"
   ],
   "metadata": {
    "collapsed": false,
    "ExecuteTime": {
     "end_time": "2023-09-22T10:37:23.713212Z",
     "start_time": "2023-09-22T10:37:23.044889Z"
    }
   },
   "id": "c5c6a2f7749b0382"
  },
  {
   "cell_type": "code",
   "execution_count": 443,
   "outputs": [],
   "source": [
    "df.to_csv('../data/data.csv', index=False)"
   ],
   "metadata": {
    "collapsed": false,
    "ExecuteTime": {
     "end_time": "2023-09-22T10:37:23.714223Z",
     "start_time": "2023-09-22T10:37:23.407076Z"
    }
   },
   "id": "1f7c31a2a00908be"
  },
  {
   "cell_type": "code",
   "execution_count": 443,
   "outputs": [],
   "source": [],
   "metadata": {
    "collapsed": false,
    "ExecuteTime": {
     "end_time": "2023-09-22T10:37:23.714306Z",
     "start_time": "2023-09-22T10:37:23.410923Z"
    }
   },
   "id": "8261d77ae71839"
  }
 ],
 "metadata": {
  "kernelspec": {
   "display_name": "Python 3",
   "language": "python",
   "name": "python3"
  },
  "language_info": {
   "codemirror_mode": {
    "name": "ipython",
    "version": 2
   },
   "file_extension": ".py",
   "mimetype": "text/x-python",
   "name": "python",
   "nbconvert_exporter": "python",
   "pygments_lexer": "ipython2",
   "version": "2.7.6"
  }
 },
 "nbformat": 4,
 "nbformat_minor": 5
}
