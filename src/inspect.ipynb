{
 "cells": [
  {
   "cell_type": "code",
   "execution_count": 1,
   "id": "initial_id",
   "metadata": {
    "collapsed": true,
    "ExecuteTime": {
     "end_time": "2023-09-20T07:33:16.389527Z",
     "start_time": "2023-09-20T07:33:15.616922Z"
    }
   },
   "outputs": [],
   "source": [
    "import pandas as pd\n"
   ]
  },
  {
   "cell_type": "code",
   "execution_count": 2,
   "outputs": [
    {
     "data": {
      "text/plain": "  Province/State Admin 2 Level (City/County/Borough/Region)        Date  \\\n0        Florida                                     Sumter  2020-01-31   \n1        Georgia                                    Houston  2020-01-31   \n2        Georgia                                    Pickens  2020-01-31   \n3        Georgia                                 Washington  2020-01-31   \n4          Idaho                                      Adams  2020-01-31   \n\n   Total Death  Total Confirmed                  location  \n0            0                0   28.70181754,-82.0794267  \n1            0                0  32.45802497,-83.66879087  \n2            0                0  34.46589159,-84.46406611  \n3            0                0  32.96711864,-82.79357039  \n4            0                0  44.89333571,-116.4545247  ",
      "text/html": "<div>\n<style scoped>\n    .dataframe tbody tr th:only-of-type {\n        vertical-align: middle;\n    }\n\n    .dataframe tbody tr th {\n        vertical-align: top;\n    }\n\n    .dataframe thead th {\n        text-align: right;\n    }\n</style>\n<table border=\"1\" class=\"dataframe\">\n  <thead>\n    <tr style=\"text-align: right;\">\n      <th></th>\n      <th>Province/State</th>\n      <th>Admin 2 Level (City/County/Borough/Region)</th>\n      <th>Date</th>\n      <th>Total Death</th>\n      <th>Total Confirmed</th>\n      <th>location</th>\n    </tr>\n  </thead>\n  <tbody>\n    <tr>\n      <th>0</th>\n      <td>Florida</td>\n      <td>Sumter</td>\n      <td>2020-01-31</td>\n      <td>0</td>\n      <td>0</td>\n      <td>28.70181754,-82.0794267</td>\n    </tr>\n    <tr>\n      <th>1</th>\n      <td>Georgia</td>\n      <td>Houston</td>\n      <td>2020-01-31</td>\n      <td>0</td>\n      <td>0</td>\n      <td>32.45802497,-83.66879087</td>\n    </tr>\n    <tr>\n      <th>2</th>\n      <td>Georgia</td>\n      <td>Pickens</td>\n      <td>2020-01-31</td>\n      <td>0</td>\n      <td>0</td>\n      <td>34.46589159,-84.46406611</td>\n    </tr>\n    <tr>\n      <th>3</th>\n      <td>Georgia</td>\n      <td>Washington</td>\n      <td>2020-01-31</td>\n      <td>0</td>\n      <td>0</td>\n      <td>32.96711864,-82.79357039</td>\n    </tr>\n    <tr>\n      <th>4</th>\n      <td>Idaho</td>\n      <td>Adams</td>\n      <td>2020-01-31</td>\n      <td>0</td>\n      <td>0</td>\n      <td>44.89333571,-116.4545247</td>\n    </tr>\n  </tbody>\n</table>\n</div>"
     },
     "execution_count": 2,
     "metadata": {},
     "output_type": "execute_result"
    }
   ],
   "source": [
    "df = pd.read_csv('../data/validated.csv')\n",
    "df.head()"
   ],
   "metadata": {
    "collapsed": false,
    "ExecuteTime": {
     "end_time": "2023-09-20T07:33:36.310532Z",
     "start_time": "2023-09-20T07:33:34.219883Z"
    }
   },
   "id": "6397f6ecc53d05e1"
  },
  {
   "cell_type": "markdown",
   "source": [
    "# validation"
   ],
   "metadata": {
    "collapsed": false
   },
   "id": "60d5111b10348b00"
  },
  {
   "cell_type": "code",
   "execution_count": 4,
   "outputs": [],
   "source": [
    "df.dropna(inplace=True)"
   ],
   "metadata": {
    "collapsed": false,
    "ExecuteTime": {
     "end_time": "2023-09-20T07:34:27.742920Z",
     "start_time": "2023-09-20T07:34:26.226920Z"
    }
   },
   "id": "a785c4f948a12eed"
  },
  {
   "cell_type": "code",
   "execution_count": 6,
   "outputs": [],
   "source": [
    "# drop location\n",
    "df.drop(['location'], axis=1, inplace=True)"
   ],
   "metadata": {
    "collapsed": false,
    "ExecuteTime": {
     "end_time": "2023-09-20T07:35:07.903429Z",
     "start_time": "2023-09-20T07:35:07.701647Z"
    }
   },
   "id": "45fd1d590595b95c"
  },
  {
   "cell_type": "code",
   "execution_count": 7,
   "outputs": [
    {
     "data": {
      "text/plain": "  Province/State Admin 2 Level (City/County/Borough/Region)        Date  \\\n0        Florida                                     Sumter  2020-01-31   \n1        Georgia                                    Houston  2020-01-31   \n2        Georgia                                    Pickens  2020-01-31   \n3        Georgia                                 Washington  2020-01-31   \n4          Idaho                                      Adams  2020-01-31   \n\n   Total Death  Total Confirmed  \n0            0                0  \n1            0                0  \n2            0                0  \n3            0                0  \n4            0                0  ",
      "text/html": "<div>\n<style scoped>\n    .dataframe tbody tr th:only-of-type {\n        vertical-align: middle;\n    }\n\n    .dataframe tbody tr th {\n        vertical-align: top;\n    }\n\n    .dataframe thead th {\n        text-align: right;\n    }\n</style>\n<table border=\"1\" class=\"dataframe\">\n  <thead>\n    <tr style=\"text-align: right;\">\n      <th></th>\n      <th>Province/State</th>\n      <th>Admin 2 Level (City/County/Borough/Region)</th>\n      <th>Date</th>\n      <th>Total Death</th>\n      <th>Total Confirmed</th>\n    </tr>\n  </thead>\n  <tbody>\n    <tr>\n      <th>0</th>\n      <td>Florida</td>\n      <td>Sumter</td>\n      <td>2020-01-31</td>\n      <td>0</td>\n      <td>0</td>\n    </tr>\n    <tr>\n      <th>1</th>\n      <td>Georgia</td>\n      <td>Houston</td>\n      <td>2020-01-31</td>\n      <td>0</td>\n      <td>0</td>\n    </tr>\n    <tr>\n      <th>2</th>\n      <td>Georgia</td>\n      <td>Pickens</td>\n      <td>2020-01-31</td>\n      <td>0</td>\n      <td>0</td>\n    </tr>\n    <tr>\n      <th>3</th>\n      <td>Georgia</td>\n      <td>Washington</td>\n      <td>2020-01-31</td>\n      <td>0</td>\n      <td>0</td>\n    </tr>\n    <tr>\n      <th>4</th>\n      <td>Idaho</td>\n      <td>Adams</td>\n      <td>2020-01-31</td>\n      <td>0</td>\n      <td>0</td>\n    </tr>\n  </tbody>\n</table>\n</div>"
     },
     "execution_count": 7,
     "metadata": {},
     "output_type": "execute_result"
    }
   ],
   "source": [
    "df.head()"
   ],
   "metadata": {
    "collapsed": false,
    "ExecuteTime": {
     "end_time": "2023-09-20T07:35:13.916131Z",
     "start_time": "2023-09-20T07:35:13.907486Z"
    }
   },
   "id": "a6d765ad9c86547c"
  },
  {
   "cell_type": "code",
   "execution_count": 11,
   "outputs": [
    {
     "data": {
      "text/plain": "Province/State                                0\nAdmin 2 Level (City/County/Borough/Region)    0\nDate                                          0\nTotal Death                                   0\nTotal Confirmed                               0\ndtype: int64"
     },
     "execution_count": 11,
     "metadata": {},
     "output_type": "execute_result"
    }
   ],
   "source": [
    "df.isnull().sum()"
   ],
   "metadata": {
    "collapsed": false,
    "ExecuteTime": {
     "end_time": "2023-09-20T07:36:41.179069Z",
     "start_time": "2023-09-20T07:36:40.486250Z"
    }
   },
   "id": "1c2922f87c867746"
  },
  {
   "cell_type": "code",
   "execution_count": 13,
   "outputs": [
    {
     "data": {
      "text/plain": "Texas                   240210\nGeorgia                 150720\nVirginia                126228\nKentucky                113982\nMissouri                110214\nKansas                   99852\nIllinois                 97026\nNorth Carolina           95142\nIowa                     94200\nTennessee                90432\nNebraska                 88548\nIndiana                  87606\nOhio                     83838\nMinnesota                82896\nMichigan                 81012\nMississippi              78186\nPuerto Rico              74418\nOklahoma                 73476\nArkansas                 71592\nWisconsin                68766\nPennsylvania             64056\nFlorida                  64056\nAlabama                  64056\nSouth Dakota             63114\nLouisiana                61230\nColorado                 61230\nNew York                 59346\nCalifornia               55578\nMontana                  53694\nWest Virginia            52752\nNorth Dakota             50868\nSouth Carolina           44274\nIdaho                    42390\nWashington               37680\nOregon                   34854\nUtah                     33912\nNew Mexico               32028\nAlaska                   30144\nMaryland                 23550\nWyoming                  22608\nNew Jersey               20724\nNevada                   16956\nMaine                    16014\nArizona                  15072\nMassachusetts            15072\nVermont                  14130\nNew Hampshire            10362\nConnecticut               8478\nRhode Island              5652\nHawaii                    5652\nDelaware                  3768\nDistrict of Columbia      1884\nName: Province/State, dtype: int64"
     },
     "execution_count": 13,
     "metadata": {},
     "output_type": "execute_result"
    }
   ],
   "source": [
    "df['Province/State'].value_counts()"
   ],
   "metadata": {
    "collapsed": false,
    "ExecuteTime": {
     "end_time": "2023-09-20T07:37:53.015974Z",
     "start_time": "2023-09-20T07:37:53.014392Z"
    }
   },
   "id": "30401f0cb80ebe66"
  },
  {
   "cell_type": "markdown",
   "source": [
    "# convert datatype to match the model"
   ],
   "metadata": {
    "collapsed": false
   },
   "id": "47e271d6375b1901"
  },
  {
   "cell_type": "code",
   "execution_count": 14,
   "outputs": [],
   "source": [
    "df['Date'] = pd.to_datetime(df['Date'])"
   ],
   "metadata": {
    "collapsed": false,
    "ExecuteTime": {
     "end_time": "2023-09-20T07:37:53.768219Z",
     "start_time": "2023-09-20T07:37:53.686642Z"
    }
   },
   "id": "17fcde6aefe580a2"
  },
  {
   "cell_type": "code",
   "execution_count": 15,
   "outputs": [
    {
     "data": {
      "text/plain": "  Province/State Admin 2 Level (City/County/Borough/Region)       Date  \\\n0        Florida                                     Sumter 2020-01-31   \n1        Georgia                                    Houston 2020-01-31   \n2        Georgia                                    Pickens 2020-01-31   \n3        Georgia                                 Washington 2020-01-31   \n4          Idaho                                      Adams 2020-01-31   \n\n   Total Death  Total Confirmed  \n0            0                0  \n1            0                0  \n2            0                0  \n3            0                0  \n4            0                0  ",
      "text/html": "<div>\n<style scoped>\n    .dataframe tbody tr th:only-of-type {\n        vertical-align: middle;\n    }\n\n    .dataframe tbody tr th {\n        vertical-align: top;\n    }\n\n    .dataframe thead th {\n        text-align: right;\n    }\n</style>\n<table border=\"1\" class=\"dataframe\">\n  <thead>\n    <tr style=\"text-align: right;\">\n      <th></th>\n      <th>Province/State</th>\n      <th>Admin 2 Level (City/County/Borough/Region)</th>\n      <th>Date</th>\n      <th>Total Death</th>\n      <th>Total Confirmed</th>\n    </tr>\n  </thead>\n  <tbody>\n    <tr>\n      <th>0</th>\n      <td>Florida</td>\n      <td>Sumter</td>\n      <td>2020-01-31</td>\n      <td>0</td>\n      <td>0</td>\n    </tr>\n    <tr>\n      <th>1</th>\n      <td>Georgia</td>\n      <td>Houston</td>\n      <td>2020-01-31</td>\n      <td>0</td>\n      <td>0</td>\n    </tr>\n    <tr>\n      <th>2</th>\n      <td>Georgia</td>\n      <td>Pickens</td>\n      <td>2020-01-31</td>\n      <td>0</td>\n      <td>0</td>\n    </tr>\n    <tr>\n      <th>3</th>\n      <td>Georgia</td>\n      <td>Washington</td>\n      <td>2020-01-31</td>\n      <td>0</td>\n      <td>0</td>\n    </tr>\n    <tr>\n      <th>4</th>\n      <td>Idaho</td>\n      <td>Adams</td>\n      <td>2020-01-31</td>\n      <td>0</td>\n      <td>0</td>\n    </tr>\n  </tbody>\n</table>\n</div>"
     },
     "execution_count": 15,
     "metadata": {},
     "output_type": "execute_result"
    }
   ],
   "source": [
    "df.head()"
   ],
   "metadata": {
    "collapsed": false,
    "ExecuteTime": {
     "end_time": "2023-09-20T07:37:54.214415Z",
     "start_time": "2023-09-20T07:37:54.209161Z"
    }
   },
   "id": "b497c0d7e3eeb997"
  },
  {
   "cell_type": "code",
   "execution_count": 16,
   "outputs": [],
   "source": [
    "# change header name\n",
    "df.rename(columns={'Admin 2 Level (City/County/Borough/Region)':'City/County/Borough/Region'}, inplace=True)"
   ],
   "metadata": {
    "collapsed": false,
    "ExecuteTime": {
     "end_time": "2023-09-20T07:39:03.192492Z",
     "start_time": "2023-09-20T07:39:03.184104Z"
    }
   },
   "id": "1ecbd80cd69f073e"
  },
  {
   "cell_type": "code",
   "execution_count": 18,
   "outputs": [
    {
     "data": {
      "text/plain": "  Province/State City/County/Borough/Region       Date  Total Death  \\\n0        Florida                     Sumter 2020-01-31            0   \n1        Georgia                    Houston 2020-01-31            0   \n2        Georgia                    Pickens 2020-01-31            0   \n3        Georgia                 Washington 2020-01-31            0   \n4          Idaho                      Adams 2020-01-31            0   \n\n   Total Confirmed  \n0                0  \n1                0  \n2                0  \n3                0  \n4                0  ",
      "text/html": "<div>\n<style scoped>\n    .dataframe tbody tr th:only-of-type {\n        vertical-align: middle;\n    }\n\n    .dataframe tbody tr th {\n        vertical-align: top;\n    }\n\n    .dataframe thead th {\n        text-align: right;\n    }\n</style>\n<table border=\"1\" class=\"dataframe\">\n  <thead>\n    <tr style=\"text-align: right;\">\n      <th></th>\n      <th>Province/State</th>\n      <th>City/County/Borough/Region</th>\n      <th>Date</th>\n      <th>Total Death</th>\n      <th>Total Confirmed</th>\n    </tr>\n  </thead>\n  <tbody>\n    <tr>\n      <th>0</th>\n      <td>Florida</td>\n      <td>Sumter</td>\n      <td>2020-01-31</td>\n      <td>0</td>\n      <td>0</td>\n    </tr>\n    <tr>\n      <th>1</th>\n      <td>Georgia</td>\n      <td>Houston</td>\n      <td>2020-01-31</td>\n      <td>0</td>\n      <td>0</td>\n    </tr>\n    <tr>\n      <th>2</th>\n      <td>Georgia</td>\n      <td>Pickens</td>\n      <td>2020-01-31</td>\n      <td>0</td>\n      <td>0</td>\n    </tr>\n    <tr>\n      <th>3</th>\n      <td>Georgia</td>\n      <td>Washington</td>\n      <td>2020-01-31</td>\n      <td>0</td>\n      <td>0</td>\n    </tr>\n    <tr>\n      <th>4</th>\n      <td>Idaho</td>\n      <td>Adams</td>\n      <td>2020-01-31</td>\n      <td>0</td>\n      <td>0</td>\n    </tr>\n  </tbody>\n</table>\n</div>"
     },
     "execution_count": 18,
     "metadata": {},
     "output_type": "execute_result"
    }
   ],
   "source": [
    "df.head()"
   ],
   "metadata": {
    "collapsed": false,
    "ExecuteTime": {
     "end_time": "2023-09-20T07:39:19.921256Z",
     "start_time": "2023-09-20T07:39:19.918164Z"
    }
   },
   "id": "f25167da91bbd593"
  },
  {
   "cell_type": "markdown",
   "source": [
    "# Skim the data"
   ],
   "metadata": {
    "collapsed": false
   },
   "id": "69c39024825d2b74"
  },
  {
   "cell_type": "code",
   "execution_count": 24,
   "outputs": [
    {
     "data": {
      "text/plain": "        Total Death  Total Confirmed\ncount  3.093528e+06     3.093528e+06\nmean   1.574282e+02     1.089286e+04\nstd    6.777160e+02     5.021627e+04\nmin    0.000000e+00     0.000000e+00\n25%    2.000000e+00     2.000000e+02\n50%    2.900000e+01     1.662000e+03\n75%    1.000000e+02     6.155000e+03\nmax    3.299100e+04     3.371673e+06",
      "text/html": "<div>\n<style scoped>\n    .dataframe tbody tr th:only-of-type {\n        vertical-align: middle;\n    }\n\n    .dataframe tbody tr th {\n        vertical-align: top;\n    }\n\n    .dataframe thead th {\n        text-align: right;\n    }\n</style>\n<table border=\"1\" class=\"dataframe\">\n  <thead>\n    <tr style=\"text-align: right;\">\n      <th></th>\n      <th>Total Death</th>\n      <th>Total Confirmed</th>\n    </tr>\n  </thead>\n  <tbody>\n    <tr>\n      <th>count</th>\n      <td>3.093528e+06</td>\n      <td>3.093528e+06</td>\n    </tr>\n    <tr>\n      <th>mean</th>\n      <td>1.574282e+02</td>\n      <td>1.089286e+04</td>\n    </tr>\n    <tr>\n      <th>std</th>\n      <td>6.777160e+02</td>\n      <td>5.021627e+04</td>\n    </tr>\n    <tr>\n      <th>min</th>\n      <td>0.000000e+00</td>\n      <td>0.000000e+00</td>\n    </tr>\n    <tr>\n      <th>25%</th>\n      <td>2.000000e+00</td>\n      <td>2.000000e+02</td>\n    </tr>\n    <tr>\n      <th>50%</th>\n      <td>2.900000e+01</td>\n      <td>1.662000e+03</td>\n    </tr>\n    <tr>\n      <th>75%</th>\n      <td>1.000000e+02</td>\n      <td>6.155000e+03</td>\n    </tr>\n    <tr>\n      <th>max</th>\n      <td>3.299100e+04</td>\n      <td>3.371673e+06</td>\n    </tr>\n  </tbody>\n</table>\n</div>"
     },
     "execution_count": 24,
     "metadata": {},
     "output_type": "execute_result"
    }
   ],
   "source": [
    "# show the number of deaths and confirmed cases in the table\n",
    "df[['Total Death', 'Total Confirmed']].describe()"
   ],
   "metadata": {
    "collapsed": false,
    "ExecuteTime": {
     "end_time": "2023-09-20T07:41:27.228088Z",
     "start_time": "2023-09-20T07:41:27.032887Z"
    }
   },
   "id": "7840f8ecf4018632"
  },
  {
   "cell_type": "code",
   "execution_count": 30,
   "outputs": [
    {
     "name": "stderr",
     "output_type": "stream",
     "text": [
      "/var/folders/2b/3th3m2h118j350hwhvx48j580000gn/T/ipykernel_94327/2896786006.py:2: FutureWarning: Treating datetime data as categorical rather than numeric in `.describe` is deprecated and will be removed in a future version of pandas. Specify `datetime_is_numeric=True` to silence this warning and adopt the future behavior now.\n",
      "  df['Date'].describe()\n"
     ]
    },
    {
     "data": {
      "text/plain": "count                 3093528\nunique                    942\ntop       2020-01-31 00:00:00\nfreq                     3284\nfirst     2020-01-22 00:00:00\nlast      2022-08-20 00:00:00\nName: Date, dtype: object"
     },
     "execution_count": 30,
     "metadata": {},
     "output_type": "execute_result"
    }
   ],
   "source": [
    "# date detail\n",
    "df['Date'].describe()"
   ],
   "metadata": {
    "collapsed": false,
    "ExecuteTime": {
     "end_time": "2023-09-20T07:42:56.474062Z",
     "start_time": "2023-09-20T07:42:56.428365Z"
    }
   },
   "id": "1da90793a30393a8"
  },
  {
   "cell_type": "code",
   "execution_count": 33,
   "outputs": [],
   "source": [
    "df.to_csv(\"../data/data.csv\", index=False)"
   ],
   "metadata": {
    "collapsed": false,
    "ExecuteTime": {
     "end_time": "2023-09-20T07:48:43.261138Z",
     "start_time": "2023-09-20T07:48:36.949814Z"
    }
   },
   "id": "bfc73f6dae6f10aa"
  },
  {
   "cell_type": "code",
   "execution_count": null,
   "outputs": [],
   "source": [],
   "metadata": {
    "collapsed": false
   },
   "id": "5b5a7552c2d79ab9"
  }
 ],
 "metadata": {
  "kernelspec": {
   "display_name": "Python 3",
   "language": "python",
   "name": "python3"
  },
  "language_info": {
   "codemirror_mode": {
    "name": "ipython",
    "version": 2
   },
   "file_extension": ".py",
   "mimetype": "text/x-python",
   "name": "python",
   "nbconvert_exporter": "python",
   "pygments_lexer": "ipython2",
   "version": "2.7.6"
  }
 },
 "nbformat": 4,
 "nbformat_minor": 5
}
