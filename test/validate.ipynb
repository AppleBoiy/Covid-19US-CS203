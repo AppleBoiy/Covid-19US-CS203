{
 "cells": [
  {
   "cell_type": "code",
   "execution_count": 7,
   "id": "initial_id",
   "metadata": {
    "collapsed": true,
    "ExecuteTime": {
     "end_time": "2023-09-19T07:16:01.197065Z",
     "start_time": "2023-09-19T07:15:58.803525Z"
    }
   },
   "outputs": [],
   "source": [
    "import pandas as pd\n",
    "df = pd.read_csv('coronavirus-covid-19-pandemic-usa-counties.csv', sep=';')"
   ]
  },
  {
   "cell_type": "code",
   "execution_count": 8,
   "outputs": [
    {
     "data": {
      "text/plain": "   Admin 2 FIPS Code Province/State  \\\n0            12119.0        Florida   \n1            13153.0        Georgia   \n2            13227.0        Georgia   \n3            13303.0        Georgia   \n4            16003.0          Idaho   \n\n  Admin 2 Level (City/County/Borough/Region)        Date  Total Death  \\\n0                                     Sumter  2020-01-31            0   \n1                                    Houston  2020-01-31            0   \n2                                    Pickens  2020-01-31            0   \n3                                 Washington  2020-01-31            0   \n4                                      Adams  2020-01-31            0   \n\n   Total Confirmed                  location  \n0                0   28.70181754,-82.0794267  \n1                0  32.45802497,-83.66879087  \n2                0  34.46589159,-84.46406611  \n3                0  32.96711864,-82.79357039  \n4                0  44.89333571,-116.4545247  ",
      "text/html": "<div>\n<style scoped>\n    .dataframe tbody tr th:only-of-type {\n        vertical-align: middle;\n    }\n\n    .dataframe tbody tr th {\n        vertical-align: top;\n    }\n\n    .dataframe thead th {\n        text-align: right;\n    }\n</style>\n<table border=\"1\" class=\"dataframe\">\n  <thead>\n    <tr style=\"text-align: right;\">\n      <th></th>\n      <th>Admin 2 FIPS Code</th>\n      <th>Province/State</th>\n      <th>Admin 2 Level (City/County/Borough/Region)</th>\n      <th>Date</th>\n      <th>Total Death</th>\n      <th>Total Confirmed</th>\n      <th>location</th>\n    </tr>\n  </thead>\n  <tbody>\n    <tr>\n      <th>0</th>\n      <td>12119.0</td>\n      <td>Florida</td>\n      <td>Sumter</td>\n      <td>2020-01-31</td>\n      <td>0</td>\n      <td>0</td>\n      <td>28.70181754,-82.0794267</td>\n    </tr>\n    <tr>\n      <th>1</th>\n      <td>13153.0</td>\n      <td>Georgia</td>\n      <td>Houston</td>\n      <td>2020-01-31</td>\n      <td>0</td>\n      <td>0</td>\n      <td>32.45802497,-83.66879087</td>\n    </tr>\n    <tr>\n      <th>2</th>\n      <td>13227.0</td>\n      <td>Georgia</td>\n      <td>Pickens</td>\n      <td>2020-01-31</td>\n      <td>0</td>\n      <td>0</td>\n      <td>34.46589159,-84.46406611</td>\n    </tr>\n    <tr>\n      <th>3</th>\n      <td>13303.0</td>\n      <td>Georgia</td>\n      <td>Washington</td>\n      <td>2020-01-31</td>\n      <td>0</td>\n      <td>0</td>\n      <td>32.96711864,-82.79357039</td>\n    </tr>\n    <tr>\n      <th>4</th>\n      <td>16003.0</td>\n      <td>Idaho</td>\n      <td>Adams</td>\n      <td>2020-01-31</td>\n      <td>0</td>\n      <td>0</td>\n      <td>44.89333571,-116.4545247</td>\n    </tr>\n  </tbody>\n</table>\n</div>"
     },
     "execution_count": 8,
     "metadata": {},
     "output_type": "execute_result"
    }
   ],
   "source": [
    "df.head()"
   ],
   "metadata": {
    "collapsed": false,
    "ExecuteTime": {
     "end_time": "2023-09-19T07:16:01.206971Z",
     "start_time": "2023-09-19T07:16:01.201648Z"
    }
   },
   "id": "7d4be4be717fb05d"
  },
  {
   "cell_type": "code",
   "execution_count": 9,
   "outputs": [
    {
     "name": "stdout",
     "output_type": "stream",
     "text": [
      "<class 'pandas.core.frame.DataFrame'>\n",
      "RangeIndex: 3099180 entries, 0 to 3099179\n",
      "Data columns (total 7 columns):\n",
      " #   Column                                      Dtype  \n",
      "---  ------                                      -----  \n",
      " 0   Admin 2 FIPS Code                           float64\n",
      " 1   Province/State                              object \n",
      " 2   Admin 2 Level (City/County/Borough/Region)  object \n",
      " 3   Date                                        object \n",
      " 4   Total Death                                 int64  \n",
      " 5   Total Confirmed                             int64  \n",
      " 6   location                                    object \n",
      "dtypes: float64(1), int64(2), object(4)\n",
      "memory usage: 165.5+ MB\n"
     ]
    }
   ],
   "source": [
    "df.info()"
   ],
   "metadata": {
    "collapsed": false,
    "ExecuteTime": {
     "end_time": "2023-09-19T07:16:01.216124Z",
     "start_time": "2023-09-19T07:16:01.209202Z"
    }
   },
   "id": "b8cfded65e98df40"
  },
  {
   "cell_type": "code",
   "execution_count": 10,
   "outputs": [
    {
     "data": {
      "text/plain": "       Admin 2 FIPS Code   Total Death  Total Confirmed\ncount       3.089760e+06  3.099180e+06     3.099180e+06\nmean        3.214484e+04  1.572096e+02     1.088099e+04\nstd         1.736085e+04  6.771256e+02     5.017303e+04\nmin         6.000000e+01  0.000000e+00     0.000000e+00\n25%         1.905050e+04  2.000000e+00     1.980000e+02\n50%         3.007200e+04  2.800000e+01     1.658000e+03\n75%         4.705150e+04  9.900000e+01     6.153000e+03\nmax         9.999900e+04  3.299100e+04     3.371673e+06",
      "text/html": "<div>\n<style scoped>\n    .dataframe tbody tr th:only-of-type {\n        vertical-align: middle;\n    }\n\n    .dataframe tbody tr th {\n        vertical-align: top;\n    }\n\n    .dataframe thead th {\n        text-align: right;\n    }\n</style>\n<table border=\"1\" class=\"dataframe\">\n  <thead>\n    <tr style=\"text-align: right;\">\n      <th></th>\n      <th>Admin 2 FIPS Code</th>\n      <th>Total Death</th>\n      <th>Total Confirmed</th>\n    </tr>\n  </thead>\n  <tbody>\n    <tr>\n      <th>count</th>\n      <td>3.089760e+06</td>\n      <td>3.099180e+06</td>\n      <td>3.099180e+06</td>\n    </tr>\n    <tr>\n      <th>mean</th>\n      <td>3.214484e+04</td>\n      <td>1.572096e+02</td>\n      <td>1.088099e+04</td>\n    </tr>\n    <tr>\n      <th>std</th>\n      <td>1.736085e+04</td>\n      <td>6.771256e+02</td>\n      <td>5.017303e+04</td>\n    </tr>\n    <tr>\n      <th>min</th>\n      <td>6.000000e+01</td>\n      <td>0.000000e+00</td>\n      <td>0.000000e+00</td>\n    </tr>\n    <tr>\n      <th>25%</th>\n      <td>1.905050e+04</td>\n      <td>2.000000e+00</td>\n      <td>1.980000e+02</td>\n    </tr>\n    <tr>\n      <th>50%</th>\n      <td>3.007200e+04</td>\n      <td>2.800000e+01</td>\n      <td>1.658000e+03</td>\n    </tr>\n    <tr>\n      <th>75%</th>\n      <td>4.705150e+04</td>\n      <td>9.900000e+01</td>\n      <td>6.153000e+03</td>\n    </tr>\n    <tr>\n      <th>max</th>\n      <td>9.999900e+04</td>\n      <td>3.299100e+04</td>\n      <td>3.371673e+06</td>\n    </tr>\n  </tbody>\n</table>\n</div>"
     },
     "execution_count": 10,
     "metadata": {},
     "output_type": "execute_result"
    }
   ],
   "source": [
    "df.describe()"
   ],
   "metadata": {
    "collapsed": false,
    "ExecuteTime": {
     "end_time": "2023-09-19T07:16:01.589946Z",
     "start_time": "2023-09-19T07:16:01.219107Z"
    }
   },
   "id": "5f39cbf3d9ac1543"
  },
  {
   "cell_type": "code",
   "execution_count": 11,
   "outputs": [
    {
     "data": {
      "text/plain": "Admin 2 FIPS Code                             9420\nProvince/State                                   0\nAdmin 2 Level (City/County/Borough/Region)    5652\nDate                                             0\nTotal Death                                      0\nTotal Confirmed                                  0\nlocation                                         0\ndtype: int64"
     },
     "execution_count": 11,
     "metadata": {},
     "output_type": "execute_result"
    }
   ],
   "source": [
    "# find null values\n",
    "df.isnull().sum()"
   ],
   "metadata": {
    "collapsed": false,
    "ExecuteTime": {
     "end_time": "2023-09-19T07:16:02.879837Z",
     "start_time": "2023-09-19T07:16:01.587918Z"
    }
   },
   "id": "bff4aeb3c4f8d29a"
  },
  {
   "cell_type": "code",
   "execution_count": 13,
   "outputs": [
    {
     "data": {
      "text/plain": "     Admin 2 FIPS Code Province/State  \\\n30                 NaN       Michigan   \n89                 NaN           Utah   \n202                NaN           Utah   \n256                NaN       Missouri   \n349                NaN       Michigan   \n\n    Admin 2 Level (City/County/Borough/Region)        Date  Total Death  \\\n30   Michigan Department of Corrections (MDOC)  2020-01-31            0   \n89                              Southwest Utah  2020-01-31            0   \n202                             Southwest Utah  2020-02-01            0   \n256                                Kansas City  2020-02-21            0   \n349  Michigan Department of Corrections (MDOC)  2020-02-22            0   \n\n     Total Confirmed                  location  \n30                 0                   0.0,0.0  \n89                 0  37.85447192,-111.4418764  \n202                0  37.85447192,-111.4418764  \n256                0          39.0997,-94.5786  \n349                0                   0.0,0.0  ",
      "text/html": "<div>\n<style scoped>\n    .dataframe tbody tr th:only-of-type {\n        vertical-align: middle;\n    }\n\n    .dataframe tbody tr th {\n        vertical-align: top;\n    }\n\n    .dataframe thead th {\n        text-align: right;\n    }\n</style>\n<table border=\"1\" class=\"dataframe\">\n  <thead>\n    <tr style=\"text-align: right;\">\n      <th></th>\n      <th>Admin 2 FIPS Code</th>\n      <th>Province/State</th>\n      <th>Admin 2 Level (City/County/Borough/Region)</th>\n      <th>Date</th>\n      <th>Total Death</th>\n      <th>Total Confirmed</th>\n      <th>location</th>\n    </tr>\n  </thead>\n  <tbody>\n    <tr>\n      <th>30</th>\n      <td>NaN</td>\n      <td>Michigan</td>\n      <td>Michigan Department of Corrections (MDOC)</td>\n      <td>2020-01-31</td>\n      <td>0</td>\n      <td>0</td>\n      <td>0.0,0.0</td>\n    </tr>\n    <tr>\n      <th>89</th>\n      <td>NaN</td>\n      <td>Utah</td>\n      <td>Southwest Utah</td>\n      <td>2020-01-31</td>\n      <td>0</td>\n      <td>0</td>\n      <td>37.85447192,-111.4418764</td>\n    </tr>\n    <tr>\n      <th>202</th>\n      <td>NaN</td>\n      <td>Utah</td>\n      <td>Southwest Utah</td>\n      <td>2020-02-01</td>\n      <td>0</td>\n      <td>0</td>\n      <td>37.85447192,-111.4418764</td>\n    </tr>\n    <tr>\n      <th>256</th>\n      <td>NaN</td>\n      <td>Missouri</td>\n      <td>Kansas City</td>\n      <td>2020-02-21</td>\n      <td>0</td>\n      <td>0</td>\n      <td>39.0997,-94.5786</td>\n    </tr>\n    <tr>\n      <th>349</th>\n      <td>NaN</td>\n      <td>Michigan</td>\n      <td>Michigan Department of Corrections (MDOC)</td>\n      <td>2020-02-22</td>\n      <td>0</td>\n      <td>0</td>\n      <td>0.0,0.0</td>\n    </tr>\n  </tbody>\n</table>\n</div>"
     },
     "execution_count": 13,
     "metadata": {},
     "output_type": "execute_result"
    }
   ],
   "source": [
    "# sample null values\n",
    "df[df['Admin 2 FIPS Code'].isnull()].head()"
   ],
   "metadata": {
    "collapsed": false,
    "ExecuteTime": {
     "end_time": "2023-09-19T07:16:30.456361Z",
     "start_time": "2023-09-19T07:16:30.355452Z"
    }
   },
   "id": "f0a51b6fb40b84d5"
  },
  {
   "cell_type": "code",
   "execution_count": null,
   "outputs": [],
   "source": [],
   "metadata": {
    "collapsed": false
   },
   "id": "b6a3e9f9ec7af43c"
  }
 ],
 "metadata": {
  "kernelspec": {
   "display_name": "Python 3",
   "language": "python",
   "name": "python3"
  },
  "language_info": {
   "codemirror_mode": {
    "name": "ipython",
    "version": 2
   },
   "file_extension": ".py",
   "mimetype": "text/x-python",
   "name": "python",
   "nbconvert_exporter": "python",
   "pygments_lexer": "ipython2",
   "version": "2.7.6"
  }
 },
 "nbformat": 4,
 "nbformat_minor": 5
}
